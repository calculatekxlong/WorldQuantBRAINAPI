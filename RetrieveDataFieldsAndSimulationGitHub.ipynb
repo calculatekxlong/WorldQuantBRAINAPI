{
 "cells": [
  {
   "cell_type": "code",
   "execution_count": 1,
   "id": "b54221cc-7633-459e-b29d-4076b6818b54",
   "metadata": {
    "collapsed": true,
    "jupyter": {
     "outputs_hidden": true,
     "source_hidden": true
    }
   },
   "outputs": [],
   "source": [
    "import requests\n",
    "from dotenv import load_dotenv\n",
    "import os\n",
    "from urllib.parse import urljoin\n",
    "from time import sleep\n",
    "import json\n",
    "from datetime import datetime\n",
    "import pandas as pd\n",
    "load_dotenv()\n",
    "import time\n",
    "import ast\n",
    "import json\n",
    "import random\n",
    "import logging\n",
    "import time\n",
    "import random\n",
    "import csv\n",
    "\n",
    "# Configure logging to output to both console and a log file\n",
    "log_filename = \"simulation_log.txt\"\n",
    "logging.basicConfig(\n",
    "    level=logging.INFO,\n",
    "    format=\"%(asctime)s - %(message)s\",\n",
    "    handlers=[\n",
    "        logging.FileHandler(log_filename, mode='w'),  # Write logs to a file\n",
    "        logging.StreamHandler()  # Also print logs to the console\n",
    "    ]\n",
    ")\n",
    "\n",
    "brain_api_url = os.environ.get(\"BRAIN_API_URL\", \"https://api.worldquantbrain.com\")\n",
    "brain_url = os.environ.get(\"BRAIN_URL\", \"https://platform.worldquantbrain.com\") \n",
    "\n",
    "class RateLimitExceededError(Exception):\n",
    "    \"\"\"Custom exception for rate limit errors.\"\"\"\n",
    "    pass\n",
    "\n",
    "class BRAINAPIWRAPPER:\n",
    "    \n",
    "    def __init__(self):\n",
    "        self.session = self.get_login_session()\n",
    "        self.permissions = self.check_permissions()  # Initialize permissions here\n",
    "\n",
    "        \n",
    "    def get_login_session(self):\n",
    "        session = requests.Session()\n",
    "        username = os.getenv('wqbrain_consultant_user')\n",
    "        password = os.getenv('wqbrain_consultant_pw')\n",
    "        session.auth = (username, password)\n",
    "        response = session.post('https://api.worldquantbrain.com/authentication')\n",
    "        response.headers\n",
    "        print(username)\n",
    "\n",
    "        if response.status_code == requests.status_codes.codes.unauthorized:\n",
    "            if response.headers[\"WWW-Authenticate\"] == \"persona\":\n",
    "                biometric_url = urljoin(response.url, response.headers[\"Location\"])\n",
    "                print(biometric_url)\n",
    "                input(\"Complete bio\" + biometric_url)\n",
    "                biometric_response = session.post(biometric_url)\n",
    "        else:\n",
    "            print(\"incorrect\")\n",
    "        return session\n",
    "    \n",
    "    def check_permissions(self):\n",
    "        response = self.session.get('https://api.worldquantbrain.com/authentication')\n",
    "        \n",
    "        if response.status_code == 200:\n",
    "            data = response.json()\n",
    "            permissions = data.get('permissions', [])\n",
    "            print(\"User permissions: \", permissions)\n",
    "            return permissions\n",
    "        else:\n",
    "            print(\"Failed to retrieve permissions: \", response.status_code)\n",
    "            return []\n",
    "    \n",
    "    def has_multi_simulation_permission(self):\n",
    "        return \"MULTI_SIMULATION\" in self.permissions\n",
    "    "
   ]
  },
  {
   "cell_type": "code",
   "execution_count": 2,
   "id": "942b3b75-2064-457d-b791-457965eedb8c",
   "metadata": {
    "collapsed": true,
    "jupyter": {
     "outputs_hidden": true,
     "source_hidden": true
    }
   },
   "outputs": [
    {
     "name": "stdout",
     "output_type": "stream",
     "text": [
      "chase78@gmail.com\n",
      "https://api.worldquantbrain.com/authentication/persona?inquiry=inq_bG51fXzzZWebJkGnZCmeEtQMt9wr\n"
     ]
    },
    {
     "name": "stdin",
     "output_type": "stream",
     "text": [
      "Complete biohttps://api.worldquantbrain.com/authentication/persona?inquiry=inq_bG51fXzzZWebJkGnZCmeEtQMt9wr \n"
     ]
    },
    {
     "name": "stdout",
     "output_type": "stream",
     "text": [
      "User permissions:  ['CONSULTANT', 'MULTI_SIMULATION', 'PROD_ALPHAS', 'REFERRAL', 'VISUALIZATION', 'WORKDAY']\n"
     ]
    }
   ],
   "source": [
    "s = BRAINAPIWRAPPER()"
   ]
  },
  {
   "cell_type": "code",
   "execution_count": null,
   "id": "0afb0163-f12c-4bb7-af73-b5eb466eafc2",
   "metadata": {
    "collapsed": true,
    "jupyter": {
     "outputs_hidden": true,
     "source_hidden": true
    }
   },
   "outputs": [],
   "source": [
    "def get_data_type(self, item):\n",
    "    # Check item metadata or structure to identify type\n",
    "    # This is an example; adapt based on your data structure.\n",
    "    if hasattr(item, 'data_type'):\n",
    "        return item.data_type  # Assume each item has a 'data_type' attribute\n",
    "    # Or use other logic as needed\n",
    "    return 'unknown'\n",
    "\n",
    "BRAINAPIWRAPPER.get_data_type = get_data_type"
   ]
  },
  {
   "cell_type": "code",
   "execution_count": 46,
   "id": "b63d6171-582d-4760-90e6-8589bd3a8348",
   "metadata": {
    "collapsed": true,
    "jupyter": {
     "outputs_hidden": true,
     "source_hidden": true
    }
   },
   "outputs": [],
   "source": [
    "def load_first_column_from_csv(filename):\n",
    "    \"\"\"\n",
    "    Reads a CSV file and returns the first column as a DataFrame.\n",
    "\n",
    "    Parameters:\n",
    "    filename (str): The path to the CSV file.\n",
    "\n",
    "    Returns:\n",
    "    DataFrame: A DataFrame containing the first column of the CSV file.\n",
    "    \"\"\"\n",
    "    try:\n",
    "        print(f\"Type of filename: {type(filename)}\")  # This should print <class 'str'>\n",
    "\n",
    "        # Read the CSV file\n",
    "        df = pd.read_csv(filename)\n",
    "\n",
    "        # Load the first column into a new DataFrame\n",
    "        first_column_df = df.iloc[:, [0]]  # iloc[:, [0]] selects the first column\n",
    "\n",
    "        return first_column_df\n",
    "    except Exception as e:\n",
    "        print(f\"An error occurred: {e}\")\n",
    "        return None\n",
    "\n",
    "BRAINAPIWRAPPER.load_first_column_from_csv = load_first_column_from_csv\n"
   ]
  },
  {
   "cell_type": "code",
   "execution_count": null,
   "id": "3551be4c-159d-41e5-b716-441f5c75d478",
   "metadata": {
    "collapsed": true,
    "jupyter": {
     "outputs_hidden": true,
     "source_hidden": true
    }
   },
   "outputs": [],
   "source": [
    "def load_first_column_with_type_check(filename):\n",
    "    \"\"\"\n",
    "    Reads a CSV file and returns the first column, filtering only 'vector' entries if they exist.\n",
    "\n",
    "    Parameters:\n",
    "    filename (str): The path to the CSV file.\n",
    "\n",
    "    Returns:\n",
    "    DataFrame: A DataFrame containing only rows where the first column type is 'vector'.\n",
    "    \"\"\"\n",
    "    try:\n",
    "        # Read the entire CSV file into a DataFrame\n",
    "        df = pd.read_csv(filename)\n",
    "        \n",
    "        # Assume the second column contains type information (e.g., 'vector' or 'matrix')\n",
    "        if 'type' in df.columns:\n",
    "            # Filter for rows where 'type' is 'vector'\n",
    "            filtered_df = df[df['type'] == 'matrix'].iloc[:, [0]]\n",
    "        else:\n",
    "            print(\"No 'type' column found. Returning first column without filtering.\")\n",
    "            filtered_df = df.iloc[:, [0]]  # No filtering, only first column\n",
    "\n",
    "        return filtered_df\n",
    "    except Exception as e:\n",
    "        print(f\"An error occurred: {e}\")\n",
    "        return None\n",
    "\n",
    "BRAINAPIWRAPPER.load_first_column_with_type_check = load_first_column_with_type_check\n"
   ]
  },
  {
   "cell_type": "code",
   "execution_count": 107,
   "id": "ad655250-19d5-432f-ab68-0fe8cb712439",
   "metadata": {
    "collapsed": true,
    "jupyter": {
     "outputs_hidden": true,
     "source_hidden": true
    }
   },
   "outputs": [],
   "source": [
    "def load_and_print_first_column_with_matrix_type(filename):\n",
    "    \"\"\"\n",
    "    Reads a CSV file, prints each row's type, and returns only rows where type is 'matrix'.\n",
    "\n",
    "    Parameters:\n",
    "    filename (str): The path to the CSV file.\n",
    "\n",
    "    Returns:\n",
    "    DataFrame: A DataFrame containing the first column for rows where type is 'matrix'.\n",
    "    \"\"\"\n",
    "    try:\n",
    "        # Read the entire CSV file into a DataFrame\n",
    "        df = pd.read_csv(filename)\n",
    "\n",
    "        # Check if there's a 'type' column\n",
    "        if 'type' in df.columns:\n",
    "            # Initialize an empty list to store rows with 'matrix' type\n",
    "            matrix_rows = []\n",
    "\n",
    "            # Iterate over each row and print the type\n",
    "            for index, row in df.iterrows():\n",
    "                row_type = row['type']  # Get the type from the 'type' column\n",
    "                first_column_value = row.iloc[0]  # Get the value in the first column\n",
    "\n",
    "                # Print the row type and first column value for inspection, comment out as too long\n",
    "                # print(f\"Row {index}: Type = {row_type}, First Column Value = {first_column_value}\")\n",
    "\n",
    "                # Only add rows with 'matrix' type to the list\n",
    "                if row_type == 'MATRIX':\n",
    "                    matrix_rows.append(row)\n",
    "\n",
    "            # Create a DataFrame from the filtered rows\n",
    "            filtered_df = pd.DataFrame(matrix_rows)\n",
    "            # Return only the first column from the filtered DataFrame\n",
    "            return filtered_df.iloc[:, [0]]\n",
    "        \n",
    "        else:\n",
    "            print(\"No 'type' column found. Returning the first column without filtering.\")\n",
    "            # No filtering; return the first column as-is\n",
    "            return df.iloc[:, [0]]\n",
    "\n",
    "    except Exception as e:\n",
    "        print(f\"An error occurred: {e}\")\n",
    "        return None\n",
    "\n",
    "BRAINAPIWRAPPER.load_and_print_first_column_with_matrix_type = load_and_print_first_column_with_matrix_type\n"
   ]
  },
  {
   "cell_type": "code",
   "execution_count": 108,
   "id": "f3710bdd-0bd3-4808-8f4f-513c26a56fe4",
   "metadata": {
    "collapsed": true,
    "jupyter": {
     "outputs_hidden": true,
     "source_hidden": true
    }
   },
   "outputs": [],
   "source": [
    "\n",
    "def load_and_print_first_column_with_matrix_type2(filename):\n",
    "\n",
    "    try:\n",
    "        # Read the CSV file into a DataFrame\n",
    "        df = pd.read_csv(filename)\n",
    "        print(\"CSV File Loaded Successfully. Preview:\")\n",
    "        print(df.head())\n",
    "\n",
    "        # Ensure the 'type' column exists (case insensitive check)\n",
    "        if 'type' not in df.columns:\n",
    "            print(\"No 'type' column found. Returning the first column without filtering.\")\n",
    "            return df.iloc[:, [0]]\n",
    "\n",
    "        # Debug: Print the entire 'type' column\n",
    "        print(\"Type column values:\")\n",
    "        print(df['type'])\n",
    "\n",
    "        # Initialize an empty list to store rows with 'MATRIX' type\n",
    "        matrix_rows = []\n",
    "\n",
    "        # Iterate over each row and print its details\n",
    "        for index, row in df.iterrows():\n",
    "            # Debug: Inspect the row\n",
    "            print(f\"Debugging Row {index}: {row}\")\n",
    "\n",
    "            # Check if 'type' is valid\n",
    "            if pd.isna(row['type']) or not isinstance(row['type'], str):\n",
    "                print(f\"Skipping Row {index}: Invalid 'type' value = {row['type']}\")\n",
    "                continue\n",
    "\n",
    "            # Normalize the 'type' column value for comparison\n",
    "            row_type = str(row['type']).strip().upper()\n",
    "            first_column_value = row.iloc[0]\n",
    "\n",
    "            # Debug: Print details of the current row , commented out as too long\n",
    "            # print(f\"Row {index}: Type = {row_type}, First Column Value = {first_column_value}\")\n",
    "\n",
    "            # Add rows with 'MATRIX' type to the list\n",
    "            if row_type == 'MATRIX':\n",
    "                matrix_rows.append(row)\n",
    "\n",
    "        # Create a DataFrame from the filtered rows\n",
    "        filtered_df = pd.DataFrame(matrix_rows)\n",
    "\n",
    "        # Return only the first column from the filtered DataFrame\n",
    "        return filtered_df.iloc[:, [0]]\n",
    "\n",
    "    except Exception as e:\n",
    "        print(f\"An error occurred: {e}\")\n",
    "        return None\n",
    "\n",
    "BRAINAPIWRAPPER.load_and_print_first_column_with_matrix_type2 = load_and_print_first_column_with_matrix_type2\n"
   ]
  },
  {
   "cell_type": "code",
   "execution_count": null,
   "id": "07001d5a-d147-482d-b2a6-c2b0664d2815",
   "metadata": {
    "collapsed": true,
    "jupyter": {
     "outputs_hidden": true,
     "source_hidden": true
    }
   },
   "outputs": [],
   "source": [
    "def load_and_print_first_column_with_vector_type(filename):\n",
    "    \"\"\"\n",
    "    Reads a CSV file, prints each row's type, and returns only rows where type is 'vector'.\n",
    "\n",
    "    Parameters:\n",
    "    filename (str): The path to the CSV file.\n",
    "\n",
    "    Returns:\n",
    "    DataFrame: A DataFrame containing the first column for rows where type is 'matrix'.\n",
    "    \"\"\"\n",
    "    try:\n",
    "        # Read the entire CSV file into a DataFrame\n",
    "        df = pd.read_csv(filename)\n",
    "\n",
    "        # Check if there's a 'type' column\n",
    "        if 'type' in df.columns:\n",
    "            # Initialize an empty list to store rows with 'matrix' type\n",
    "            vector_rows = []\n",
    "\n",
    "            # Iterate over each row and print the type\n",
    "            for index, row in df.iterrows():\n",
    "                row_type = row['type']  # Get the type from the 'type' column\n",
    "                first_column_value = row.iloc[0]  # Get the value in the first column\n",
    "\n",
    "                # Print the row type and first column value for inspection, comment out as too long\n",
    "                # print(f\"Row {index}: Type = {row_type}, First Column Value = {first_column_value}\")\n",
    "\n",
    "                # Only add rows with 'matrix' type to the list\n",
    "                if row_type == 'VECTOR':\n",
    "                    matrix_rows.append(row)\n",
    "\n",
    "            # Create a DataFrame from the filtered rows\n",
    "            filtered_df = pd.DataFrame(vector_rows)\n",
    "            # Return only the first column from the filtered DataFrame\n",
    "            return filtered_df.iloc[:, [0]]\n",
    "        \n",
    "        else:\n",
    "            print(\"No 'type' column found. Returning the first column without filtering.\")\n",
    "            # No filtering; return the first column as-is\n",
    "            return df.iloc[:, [0]]\n",
    "\n",
    "    except Exception as e:\n",
    "        print(f\"An error occurred: {e}\")\n",
    "        return None\n",
    "\n",
    "BRAINAPIWRAPPER.load_and_print_first_column_with_vector_type = load_and_print_first_column_with_vector_type\n"
   ]
  },
  {
   "cell_type": "code",
   "execution_count": 109,
   "id": "39daca20-fcd9-4d12-af9b-c2752a07322c",
   "metadata": {
    "collapsed": true,
    "jupyter": {
     "outputs_hidden": true,
     "source_hidden": true
    }
   },
   "outputs": [],
   "source": [
    "#REQUIRED\n",
    "def create_simulation_data(self, first_column):\n",
    "    \"\"\"\n",
    "    Creates a simulation data dictionary with the first column.\n",
    "\n",
    "    Parameters:\n",
    "    first_column (list): The first column data.\n",
    "\n",
    "    Returns:\n",
    "    dict: A simulation data dictionary.\n",
    "    \"\"\"\n",
    "    # Convert the first column list to a string format for the 'regular' field\n",
    "    first_column_str = ', '.join(map(str, first_column))  # Convert each item to string and join\n",
    "\n",
    "    simulation_data = {\n",
    "        'type': 'REGULAR',\n",
    "        'settings': {\n",
    "            'instrumentType': 'EQUITY',\n",
    "            'region':'JPN',\n",
    "            'universe': 'TOP1600',\n",
    "            'delay': 1,\n",
    "            'decay' : 4,\n",
    "            'neutralization': 'NONE',\n",
    "            'truncation': 0.08,\n",
    "            'pasteurization': 'ON',\n",
    "            'testPeriod': 'P6Y0M0D',\n",
    "            'unitHandling': 'VERIFY',\n",
    "            'nanHandling': 'OFF',\n",
    "            'language': 'FASTEXPR',\n",
    "            'visualization': False,\n",
    "        },\n",
    "        'regular': f'ts_rank(({first_column_str}), 20)'  # Format the string\n",
    "        #'regular': f'ts_decay_linear({first_column_str}, 10) * rank(volume*close) + ts_decay_linear({first_column_str}, 50) * (1 - rank(volume*close))'\n",
    "    }\n",
    "\n",
    "    return simulation_data\n",
    "\n",
    "\n",
    "BRAINAPIWRAPPER.create_simulation_data = create_simulation_data\n"
   ]
  },
  {
   "cell_type": "code",
   "execution_count": 110,
   "id": "170a1a37-d0d6-462b-952f-8782b3340db2",
   "metadata": {
    "collapsed": true,
    "jupyter": {
     "outputs_hidden": true,
     "source_hidden": true
    }
   },
   "outputs": [],
   "source": [
    "#REQUIRED\n",
    "def send_simulation(self, simulation_settings):\n",
    "\n",
    "    # Check if simulation_settings is a dictionary\n",
    "    if not isinstance(simulation_settings, dict):\n",
    "        raise ValueError(\"simulation_settings must be a dictionary.\")\n",
    "    \n",
    "    simulation_response = self.session.post ('https://api.worldquantbrain.com/simulations',json=simulation_settings)\n",
    "#    simulation_response = self.session.post ('https://api.worldquantbrain.com/simulations',json=truncated_alpha_list2)\n",
    "\n",
    "    #Comment out as printout too long\n",
    "    #print(simulation_response.headers)\n",
    "    print(simulation_response.text)\n",
    "    \n",
    "    location = simulation_response.headers.get('Location')\n",
    "    if location is not None:\n",
    "        print(\"Location: \" + location)\n",
    "    else:\n",
    "        print(\"Warning: 'Location' header not found in the response. Continuing to the next simulation.\")\n",
    "        return None  # Return None or handle as needed, but continue processing\n",
    "    simulation_location = simulation_response.headers['Location']\n",
    "\n",
    "    return simulation_location\n",
    "\n",
    "#original code simulation_progress_url changed to simulation_location\n",
    "BRAINAPIWRAPPER.send_simulation = send_simulation"
   ]
  },
  {
   "cell_type": "code",
   "execution_count": null,
   "id": "1a152bbe-cfc6-476f-9c5c-8b47822cd9f5",
   "metadata": {
    "collapsed": true,
    "jupyter": {
     "outputs_hidden": true,
     "source_hidden": true
    }
   },
   "outputs": [],
   "source": [
    "simulation_location_response = s.send_simulation(simulation_data)\n",
    "print(\"Location Response: \" + simulation_location_response )"
   ]
  },
  {
   "cell_type": "code",
   "execution_count": null,
   "id": "16b68a6c-30b4-4fd8-907f-dbb3f20b28cd",
   "metadata": {
    "collapsed": true,
    "jupyter": {
     "outputs_hidden": true,
     "source_hidden": true
    }
   },
   "outputs": [],
   "source": [
    "#OLD\n",
    "def check_progress_return_alpha(self, simulation_location_response):\n",
    "\n",
    "    while True:\n",
    "        simulation_progress = self.session.get(simulation_location_response)\n",
    "\n",
    "        # comment out as printout too long\n",
    "        # print(\"Simulation Progress Response:\", simulation_progress.json())\n",
    "        \n",
    "        if simulation_progress.headers.get(\"Retry-After\",0) == 0:\n",
    "            break\n",
    "        #Commented as printout is too long\n",
    "        #print (\"Sleeping for \" + simulation_progress.headers[\"Retry-After\"] + \" secs.\")\n",
    "        sleep(float(simulation_progress.headers[\"Retry-After\"]))\n",
    "    json_data = simulation_progress.json()\n",
    "#    print(\"Simulation progress JSON:\", json_data)        # HERE\n",
    "\n",
    "    try:\n",
    "        alpha_id = json_data[\"alpha\"]\n",
    "    except KeyError:\n",
    "        print(\"Error: 'alpha' key not found in the response.\")\n",
    "        return None  # or handle it in another way, e.g., raise an exception\n",
    "\n",
    "BRAINAPIWRAPPER.check_progress_return_alpha = check_progress_return_alpha"
   ]
  },
  {
   "cell_type": "code",
   "execution_count": 111,
   "id": "a0ac076d-38ff-4fb6-9f2a-bf4b45069dde",
   "metadata": {
    "collapsed": true,
    "jupyter": {
     "outputs_hidden": true,
     "source_hidden": true
    }
   },
   "outputs": [],
   "source": [
    "#REVISED 20241027\n",
    "def check_progress_return_alpha(self, simulation_location_response):\n",
    "\n",
    "    while True:\n",
    "        simulation_progress = self.session.get(simulation_location_response)\n",
    "        json_data = simulation_progress.json()\n",
    "        \n",
    "        # comment out as printout too long\n",
    "        # print(\"Simulation Progress Response:\", json_data)\n",
    "\n",
    "        # Check if the simulation is complete\n",
    "        if json_data.get(\"status\") == \"COMPLETE\":\n",
    "            try:\n",
    "                alpha_id = json_data[\"alpha\"]\n",
    "                print(f\"Check Progress Returned alpha_id: {alpha_id}\")  # Debug: Confirm alpha_id retrieved\n",
    "                return alpha_id  # Return the alpha_id if the simulation is complete\n",
    "            except KeyError:\n",
    "                print(\"ERROR: 'alpha' key not found in the response.\")\n",
    "                return None\n",
    "\n",
    "        # Handle Retry-After for ongoing simulation\n",
    "        retry_after = simulation_progress.headers.get(\"Retry-After\")\n",
    "        if retry_after:\n",
    "            # Commented out as printout is too long\n",
    "            # print(f\"Sleeping for {retry_after} secs.\")\n",
    "            sleep(float(retry_after))\n",
    "        else:\n",
    "            print(\"No Retry-After header found; waiting 2 seconds by default.\")\n",
    "            sleep(2)  # Default delay if no \"Retry-After\" header is provided\n",
    "\n",
    "BRAINAPIWRAPPER.check_progress_return_alpha = check_progress_return_alpha"
   ]
  },
  {
   "cell_type": "code",
   "execution_count": null,
   "id": "a136aae6-f6fc-49f3-97ef-dadb58eac1ca",
   "metadata": {
    "collapsed": true,
    "jupyter": {
     "outputs_hidden": true,
     "source_hidden": true
    },
    "scrolled": true
   },
   "outputs": [],
   "source": [
    "alpha_response = s.check_progress_return_alpha(simulation_location_response)"
   ]
  },
  {
   "cell_type": "code",
   "execution_count": 112,
   "id": "06ae586d-7fe8-4b8b-8ec1-691f61f48879",
   "metadata": {
    "collapsed": true,
    "jupyter": {
     "outputs_hidden": true,
     "source_hidden": true
    }
   },
   "outputs": [],
   "source": [
    "#REQUIRED\n",
    "\n",
    "def simulate_alpha(self, simulation_settings):\n",
    "    simulation_location = self.send_simulation(simulation_settings)\n",
    "    alpha_id = self.check_progress_return_alpha(simulation_location)\n",
    "    simulation_results = self.get_results_dictionary(alpha_id)\n",
    "    return simulation_results\n",
    "\n",
    "BRAINAPIWRAPPER.simulate_alpha = simulate_alpha"
   ]
  },
  {
   "cell_type": "code",
   "execution_count": 113,
   "id": "931fb49c-962e-4536-8f6b-104677394bd0",
   "metadata": {
    "collapsed": true,
    "jupyter": {
     "outputs_hidden": true,
     "source_hidden": true
    }
   },
   "outputs": [],
   "source": [
    "#REQUIRED WHAT DOES THIS DO?\n",
    "\n",
    "def get_results_dictionary(self, alpha_id):\n",
    "# Check if alpha_id is valid\n",
    "    if not alpha_id:  # This checks for None, empty string, or any falsy value\n",
    "        print(\"Get results dict Error: Invalid alpha_id. Please provide a valid alpha_id.\")\n",
    "        return None  # Or raise an exception, depending on your error handling strategy\n",
    "\n",
    "    simulation_results = {\n",
    "        'summary_results aka get_results_dictionary': self.get_results(alpha_id),\n",
    "        'submission_checks aka get_results_dictionary': self.get_results(alpha_id, stats=\"/check\")\n",
    "    }\n",
    "\n",
    "    # commenting as logging too long\n",
    "    # print(simulation_results)\n",
    "\n",
    "    #print to file\n",
    "    logging.info(f\"simu_results: {simulation_results}\\n\\n\")\n",
    "    \n",
    "    return simulation_results\n",
    "\n",
    "BRAINAPIWRAPPER.get_results_dictionary = get_results_dictionary"
   ]
  },
  {
   "cell_type": "code",
   "execution_count": 54,
   "id": "41584c7a-9ef6-47be-994d-e03d0639d754",
   "metadata": {
    "collapsed": true,
    "jupyter": {
     "outputs_hidden": true,
     "source_hidden": true
    }
   },
   "outputs": [],
   "source": [
    "def save_results(self, simulation_results):\n",
    "\n",
    "    # Convert the results to a JSON string\n",
    "    dict_string2 = json.dumps(simulation_results, ensure_ascii=False)\n",
    "    \n",
    "    # Print the modified string for debugging\n",
    "    print(\"dict_string: \" + dict_string2)\n",
    "    \n",
    "    current_date = datetime.now().strftime('%Y-%m-%d')\n",
    "    filename = f'datasets_{current_date}.txt'\n",
    "    \n",
    "    # Open the file in append mode\n",
    "    with open(filename, 'a') as file:\n",
    "        file.write(dict_string2 + \"\\n\\n\")  # Append the results and add a newline for separation\n",
    "\n",
    "    return simulation_results\n",
    "\n",
    "BRAINAPIWRAPPER.save_results = save_results"
   ]
  },
  {
   "cell_type": "code",
   "execution_count": 114,
   "id": "f25a81f3-738f-4945-b628-36e062c520c3",
   "metadata": {
    "collapsed": true,
    "jupyter": {
     "outputs_hidden": true,
     "source_hidden": true
    }
   },
   "outputs": [],
   "source": [
    "#REQUIRED\n",
    "\n",
    "def get_results(self, alpha_id, stats=\"\"):\n",
    "    results = self.session.get(\"https://api.worldquantbrain.com/alphas/\" + alpha_id + stats)\n",
    "#    print(\"results: \" + results)\n",
    "    print(\"\\n\")\n",
    "\n",
    "    \n",
    "    print(\"get_results: \" + results.text, \"\\n\\n\")  # Use .text or .json() to print the response content    \n",
    "\n",
    "    #print to file\n",
    "    logging.info(f\"get_results: {results.text}\\n\\n\")\n",
    "\n",
    "    print(\"\\n\")\n",
    "    return results.json()\n",
    "BRAINAPIWRAPPER.get_results = get_results"
   ]
  },
  {
   "cell_type": "code",
   "execution_count": 89,
   "id": "be6db60a-3869-4464-bad4-61a44d8e0061",
   "metadata": {
    "collapsed": true,
    "jupyter": {
     "outputs_hidden": true,
     "source_hidden": true
    }
   },
   "outputs": [],
   "source": [
    "def get_results(self, alpha_id, stats=\"\"):\n",
    "    try:\n",
    "        # Make the API request\n",
    "        results = self.session.get(f\"https://api.worldquantbrain.com/alphas/{alpha_id}{stats}\")\n",
    "\n",
    "        # Check for rate limit error in the response\n",
    "        if \"No Retry-After header found\" in results.text or results.status_code == 429:\n",
    "            logging.error(\"Rate limit exceeded. Stopping further processing.\")\n",
    "            raise RateLimitExceededError(\"Rate limit exceeded. API requests halted.\")\n",
    "\n",
    "        # Print and log the results\n",
    "        # print(f\"get_results: {results.text}\\n\\n\")\n",
    "        logging.info(f\"get_results: {results.text}\\n\\n\")\n",
    "\n",
    "        # Return the JSON response\n",
    "        return results.json()\n",
    "    \n",
    "    except RateLimitExceededError:\n",
    "        raise  # Re-raise the custom exception for higher-level handling\n",
    "    except Exception as e:\n",
    "        logging.error(f\"An error occurred in get_results: {e}\")\n",
    "\n",
    "BRAINAPIWRAPPER.get_results = get_results"
   ]
  },
  {
   "cell_type": "code",
   "execution_count": null,
   "id": "b58468c1-383a-44f6-8b22-e92cd8b033d7",
   "metadata": {
    "collapsed": true,
    "jupyter": {
     "outputs_hidden": true,
     "source_hidden": true
    }
   },
   "outputs": [],
   "source": [
    "# from chatgpt\n",
    "# Define the main batch processing function\n",
    "def process_simulations_in_batches(filename, batch_size=3):\n",
    "\n",
    "    # Print type to confirm\n",
    "    print(f\"In process_simulations_in_batches, type of filename: {type(filename)}\")\n",
    "\n",
    "    # Verify filename is a string\n",
    "    if not isinstance(filename, str):\n",
    "        print(\"Error: filename must be a string representing the file path.\")\n",
    "        return\n",
    "    \n",
    "    # Step 1: Load the first column of data from the CSV file\n",
    "    # first_column_df = load_first_column_from_csv(filename)\n",
    "    first_column_df = load_first_column_with_type_check(filename)\n",
    "    if first_column_df is None:\n",
    "        print(\"Failed to load data from CSV.\")\n",
    "        return\n",
    "\n",
    "    first_column_list = first_column_df.iloc[:, 0].tolist()  # Convert to list\n",
    "\n",
    "    # Step 2: Process in batches\n",
    "    results = []\n",
    "    for i in range(0, len(first_column_list), batch_size):\n",
    "        batch = first_column_list[i:i + batch_size]\n",
    "        \n",
    "        for alpha in batch:\n",
    "            # Step 3: Create simulation data for each alpha\n",
    "            print(\"current expression: \" + alpha)        \n",
    "            simulation_settings = s.create_simulation_data([alpha])\n",
    "            \n",
    "            # Step 4: Send the simulation and check for progress\n",
    "            simulation_location = s.send_simulation(simulation_settings)\n",
    "            if simulation_location is None:\n",
    "                print(\"Simulation initiation failed, moving to the next item.\")\n",
    "                continue  # Skip to the next item in the batch if initiation failed\n",
    "            \n",
    "            # Step 5: Monitor progress and retrieve alpha ID\n",
    "            alpha_id = s.check_progress_return_alpha(simulation_location)\n",
    "            if alpha_id is None:\n",
    "                print(f\"Failed to retrieve alpha_id for {alpha}.\")\n",
    "                continue\n",
    "            \n",
    "            # Step 6: Get results for the completed simulation\n",
    "            simulation_result = s.get_results_dictionary(alpha_id)\n",
    "            results.append({alpha: simulation_result})\n",
    "            print(f\"Number of alphas returned so far: {len(results)}\")\n",
    "            \n",
    "            # Optional: small delay between individual simulations\n",
    "            time.sleep(random.uniform(0.5, 1.5))\n",
    "        \n",
    "        print(f\"Processed batch {(i // batch_size) + 1} of {len(first_column_list) // batch_size + 1}\")\n",
    "\n",
    "        # Step 7: Delay between batches to manage API load\n",
    "        time.sleep(random.uniform(1, 2))  # Adjust as necessary for API rate limits\n",
    "\n",
    "    return results\n",
    "\n",
    "BRAINAPIWRAPPER.process_simulations_in_batches = process_simulations_in_batches\n"
   ]
  },
  {
   "cell_type": "code",
   "execution_count": null,
   "id": "09f22811-c716-4194-b63d-53677ef711fc",
   "metadata": {
    "collapsed": true,
    "jupyter": {
     "outputs_hidden": true,
     "source_hidden": true
    }
   },
   "outputs": [],
   "source": [
    "# Define the main batch processing function\n",
    "def process_simulations_in_batches2(filename, batch_size=3):\n",
    "    print(f\"In process_simulations_in_batches, type of filename: {type(filename)}\")\n",
    "\n",
    "    if not isinstance(filename, str):\n",
    "        print(\"Error: filename must be a string representing the file path.\")\n",
    "        return\n",
    "    \n",
    "    # first_column_df = load_first_column_from_csv(filename)\n",
    "    first_column_df = load_and_print_first_column_with_matrix_type(filename)\n",
    "#    first_column_df = load_and_print_first_column_with_vector_type(filename)\n",
    "    if first_column_df is None:\n",
    "        print(\"Failed to load data from CSV.\")\n",
    "        return\n",
    "\n",
    "    first_column_list = first_column_df.iloc[:, 0].tolist()\n",
    "\n",
    "    # Store all results that meet the criteria\n",
    "    all_results = []\n",
    "    for i in range(0, len(first_column_list), batch_size):\n",
    "        batch = first_column_list[i:i + batch_size]\n",
    "        \n",
    "        current_batch_results = []\n",
    "\n",
    "        for alpha in batch:\n",
    "            print(\"Current expression: \" + alpha)        \n",
    "            simulation_settings = s.create_simulation_data([alpha])\n",
    "            \n",
    "            simulation_location = s.send_simulation(simulation_settings)\n",
    "            if simulation_location is None:\n",
    "                print(\"Simulation initiation failed, moving to the next item.\")\n",
    "                continue\n",
    "            \n",
    "            alpha_id = s.check_progress_return_alpha(simulation_location)\n",
    "            if alpha_id is None:\n",
    "                print(f\"Failed to retrieve alpha_id for {alpha}.\")\n",
    "                continue\n",
    "            \n",
    "            simulation_result = s.get_results_dictionary(alpha_id)\n",
    "\n",
    "            sharpe_ratio = simulation_result.get(\"sharpe_ratio\", None)\n",
    "            if sharpe_ratio is not None and sharpe_ratio > 0.7:\n",
    "                current_batch_results.append({\n",
    "                    \"alpha_id\": alpha_id,\n",
    "                    \"expression\": alpha,\n",
    "                    \"sharpe_ratio\": sharpe_ratio,\n",
    "                    \"universe\": simulation_result.get(\"universe\"),\n",
    "                    \"region\": simulation_result.get(\"region\"),\n",
    "                    \"turnover\": simulation_result.get(\"turnover\"),\n",
    "                    \"drawdown\": simulation_result.get(\"drawdown\"),\n",
    "                    \"fitness\": simulation_result.get(\"fitness\"),\n",
    "                })\n",
    "                # Append valid results to all_results\n",
    "                all_results.append({\n",
    "                    \"alpha_id\": alpha_id,\n",
    "                    \"expression\": alpha,\n",
    "                    \"sharpe_ratio\": sharpe_ratio,\n",
    "                    \"universe\": simulation_result.get(\"universe\"),\n",
    "                    \"region\": simulation_result.get(\"region\"),\n",
    "                    \"turnover\": simulation_result.get(\"turnover\"),\n",
    "                    \"drawdown\": simulation_result.get(\"drawdown\"),\n",
    "                    \"fitness\": simulation_result.get(\"fitness\"),\n",
    "                })\n",
    "                print(f\"Sharpe Ratio {sharpe_ratio} is greater than 1.1 for alpha: {alpha}\")\n",
    "\n",
    "            time.sleep(random.uniform(0.5, 1.5))\n",
    "        \n",
    "        if current_batch_results:\n",
    "            output_filename = f\"batch_results_{i // batch_size + 1}.csv\"  \n",
    "            with open(output_filename, mode='w', newline='') as file:\n",
    "                writer = csv.DictWriter(file, fieldnames=current_batch_results[0].keys())\n",
    "                writer.writeheader()\n",
    "                writer.writerows(current_batch_results)\n",
    "\n",
    "            print(f\"Batch results written to {output_filename}\")\n",
    "        else:\n",
    "            print(f\"No results to write for batch {i // batch_size + 1}.\")\n",
    "\n",
    "        print(f\"Processed batch {(i // batch_size) + 1} of {len(first_column_list) // batch_size + 1}\")\n",
    "\n",
    "        time.sleep(random.uniform(1, 2))\n",
    "\n",
    "    # Save all_results with the date in the filename\n",
    "    if all_results:\n",
    "        today_date = datetime.now().strftime(\"%Y%m%d\")  # Get today's date in YYYYMMDD format\n",
    "        all_results_filename = f\"{today_date}.csv\"  # Create the filename with today's date\n",
    "        with open(all_results_filename, mode='w', newline='') as file:\n",
    "            writer = csv.DictWriter(file, fieldnames=all_results[0].keys())\n",
    "            writer.writeheader()\n",
    "            writer.writerows(all_results)\n",
    "        print(f\"All valid results saved to {all_results_filename}\")\n",
    "\n",
    "BRAINAPIWRAPPER.process_simulations_in_batches2 = process_simulations_in_batches2\n"
   ]
  },
  {
   "cell_type": "code",
   "execution_count": 71,
   "id": "d8150aab-7156-4c24-b2b5-ef546e788f73",
   "metadata": {
    "collapsed": true,
    "jupyter": {
     "outputs_hidden": true,
     "source_hidden": true
    }
   },
   "outputs": [],
   "source": [
    "def process_simulations_in_batches3(filename, batch_size=3):\n",
    "    logging.info(f\"In process_simulations_in_batches, type of filename: {type(filename)}\")\n",
    "\n",
    "    if not isinstance(filename, str):\n",
    "        logging.error(\"Error: filename must be a string representing the file path.\")\n",
    "        return\n",
    "    \n",
    "    # first_column_df = load_first_column_from_csv(filename)\n",
    "    first_column_df = load_and_print_first_column_with_matrix_type(filename)\n",
    "    #    first_column_df = load_and_print_first_column_with_vector_type(filename)\n",
    "    if first_column_df is None:\n",
    "        logging.error(\"Failed to load data from CSV.\")\n",
    "        return\n",
    "\n",
    "    first_column_list = first_column_df.iloc[:, 0].tolist()\n",
    "\n",
    "    # Store all results that meet the criteria\n",
    "    all_results = []\n",
    "    for i in range(0, len(first_column_list), batch_size):\n",
    "        batch = first_column_list[i:i + batch_size]\n",
    "        \n",
    "        current_batch_results = []\n",
    "\n",
    "        for alpha in batch:\n",
    "            logging.info(f\"Current expression: {alpha}\")        \n",
    "            simulation_settings = s.create_simulation_data([alpha])\n",
    "            \n",
    "            simulation_location = s.send_simulation(simulation_settings)\n",
    "            if simulation_location is None:\n",
    "                logging.warning(\"Simulation initiation failed, moving to the next item.\")\n",
    "                continue\n",
    "            \n",
    "            alpha_id = s.check_progress_return_alpha(simulation_location)\n",
    "            if alpha_id is None:\n",
    "                logging.warning(f\"Failed to retrieve alpha_id for {alpha}.\")\n",
    "                continue\n",
    "            \n",
    "            simulation_result = s.get_results_dictionary(alpha_id)\n",
    "\n",
    "            sharpe_ratio = simulation_result.get(\"sharpe_ratio\", None)\n",
    "            if sharpe_ratio is not None and sharpe_ratio > 0.7:\n",
    "                current_batch_results.append({\n",
    "                    \"alpha_id\": alpha_id,\n",
    "                    \"expression\": alpha,\n",
    "                    \"sharpe_ratio\": sharpe_ratio,\n",
    "                    \"universe\": simulation_result.get(\"universe\"),\n",
    "                    \"region\": simulation_result.get(\"region\"),\n",
    "                    \"turnover\": simulation_result.get(\"turnover\"),\n",
    "                    \"drawdown\": simulation_result.get(\"drawdown\"),\n",
    "                    \"fitness\": simulation_result.get(\"fitness\"),\n",
    "                })\n",
    "                # Append valid results to all_results\n",
    "                all_results.append({\n",
    "                    \"alpha_id\": alpha_id,\n",
    "                    \"expression\": alpha,\n",
    "                    \"sharpe_ratio\": sharpe_ratio,\n",
    "                    \"universe\": simulation_result.get(\"universe\"),\n",
    "                    \"region\": simulation_result.get(\"region\"),\n",
    "                    \"turnover\": simulation_result.get(\"turnover\"),\n",
    "                    \"drawdown\": simulation_result.get(\"drawdown\"),\n",
    "                    \"fitness\": simulation_result.get(\"fitness\"),\n",
    "                })\n",
    "                logging.info(f\"Sharpe Ratio {sharpe_ratio} is greater than 0.7 for alpha: {alpha}\")\n",
    "\n",
    "            time.sleep(random.uniform(0.5, 1.5))\n",
    "        \n",
    "        if current_batch_results:\n",
    "            output_filename = f\"batch_results_{i // batch_size + 1}.csv\"  \n",
    "            with open(output_filename, mode='w', newline='') as file:\n",
    "                writer = csv.DictWriter(file, fieldnames=current_batch_results[0].keys())\n",
    "                writer.writeheader()\n",
    "                writer.writerows(current_batch_results)\n",
    "\n",
    "            logging.info(f\"Batch results written to {output_filename}\")\n",
    "        else:\n",
    "            logging.info(f\"No results to write for batch {i // batch_size + 1}.\")\n",
    "\n",
    "        logging.info(f\"Processed batch {(i // batch_size) + 1} of {len(first_column_list) // batch_size + 1}\")\n",
    "\n",
    "        # Save logs before hitting rate limits\n",
    "        logging.info(f\"Pausing to handle rate limit.\")\n",
    "        time.sleep(random.uniform(1, 2))\n",
    "\n",
    "    # Save all_results with the date in the filename\n",
    "    if all_results:\n",
    "        today_date = datetime.now().strftime(\"%Y%m%d\")  # Get today's date in YYYYMMDD format\n",
    "        all_results_filename = f\"{today_date}_all_results.csv\"  # Create the filename with today's date\n",
    "        with open(all_results_filename, mode='w', newline='') as file:\n",
    "            writer = csv.DictWriter(file, fieldnames=all_results[0].keys())\n",
    "            writer.writeheader()\n",
    "            writer.writerows(all_results)\n",
    "        logging.info(f\"All valid results saved to {all_results_filename}\")\n",
    "\n",
    "BRAINAPIWRAPPER.process_simulations_in_batches3 = process_simulations_in_batches3\n"
   ]
  },
  {
   "cell_type": "code",
   "execution_count": 115,
   "id": "986d9741-a324-41b1-a72c-dcfbaee81934",
   "metadata": {
    "collapsed": true,
    "jupyter": {
     "outputs_hidden": true,
     "source_hidden": true
    }
   },
   "outputs": [],
   "source": [
    "def process_simulations_in_batches4(filename, batch_size=3):\n",
    "    logging.info(f\"Processing simulations in batches. Filename type: {type(filename)}\")\n",
    "\n",
    "    if not isinstance(filename, str):\n",
    "        logging.error(\"Error: filename must be a string representing the file path.\")\n",
    "        return\n",
    "    \n",
    "    first_column_df = load_and_print_first_column_with_matrix_type(filename)\n",
    "    if first_column_df is None:\n",
    "        logging.error(\"Failed to load data from CSV.\")\n",
    "        return\n",
    "\n",
    "    first_column_list = first_column_df.iloc[:, 0].tolist()\n",
    "\n",
    "    all_results = []\n",
    "    for i in range(0, len(first_column_list), batch_size):\n",
    "        batch = first_column_list[i:i + batch_size]\n",
    "        logging.info(f\"Processing batch {i // batch_size + 1} with {len(batch)} items.\")\n",
    "\n",
    "        current_batch_results = []\n",
    "        for alpha in batch:\n",
    "            logging.info(f\"Processing expression: {alpha}\")\n",
    "            try:\n",
    "                simulation_settings = s.create_simulation_data([alpha])\n",
    "                simulation_location = s.send_simulation(simulation_settings)\n",
    "\n",
    "                if simulation_location is None:\n",
    "                    logging.warning(\"Simulation initiation failed, skipping this expression.\")\n",
    "                    continue\n",
    "                \n",
    "                alpha_id = s.check_progress_return_alpha(simulation_location)\n",
    "                if alpha_id is None:\n",
    "                    logging.warning(f\"Failed to retrieve alpha_id for expression: {alpha}.\")\n",
    "                    continue\n",
    "\n",
    "                simulation_result = s.get_results_dictionary(alpha_id)\n",
    "\n",
    "                sharpe_ratio = simulation_result.get(\"sharpe_ratio\", None)\n",
    "                if sharpe_ratio is not None and sharpe_ratio > 0.7:\n",
    "                    result = {\n",
    "                        \"alpha_id\": alpha_id,\n",
    "                        \"expression\": alpha,\n",
    "                        \"sharpe_ratio\": sharpe_ratio,\n",
    "                        \"universe\": simulation_result.get(\"universe\"),\n",
    "                        \"region\": simulation_result.get(\"region\"),\n",
    "                        \"turnover\": simulation_result.get(\"turnover\"),\n",
    "                        \"drawdown\": simulation_result.get(\"drawdown\"),\n",
    "                        \"fitness\": simulation_result.get(\"fitness\"),\n",
    "                    }\n",
    "                    current_batch_results.append(result)\n",
    "                    all_results.append(result)\n",
    "                    logging.info(f\"Sharpe Ratio {sharpe_ratio} exceeds threshold for alpha: {alpha}\")\n",
    "                else:\n",
    "                    logging.info(f\"Sharpe Ratio {sharpe_ratio} is below threshold for alpha: {alpha}\")\n",
    "\n",
    "            except RateLimitExceededError as e:\n",
    "                logging.error(f\"Rate limit exceeded. Stopping processing: {e}\")\n",
    "                return\n",
    "            except Exception as e:\n",
    "                logging.error(f\"An error occurred while processing {alpha}: {e}\")\n",
    "                continue\n",
    "\n",
    "            time.sleep(random.uniform(0.5, 1.5))\n",
    "\n",
    "        # Write batch results to a file\n",
    "        if current_batch_results:\n",
    "            output_filename = f\"batch_results_{i // batch_size + 1}.csv\"\n",
    "            try:\n",
    "                with open(output_filename, mode='w', newline='') as file:\n",
    "                    writer = csv.DictWriter(file, fieldnames=current_batch_results[0].keys())\n",
    "                    writer.writeheader()\n",
    "                    writer.writerows(current_batch_results)\n",
    "                logging.info(f\"Batch results saved to {output_filename}\")\n",
    "            except Exception as e:\n",
    "                logging.error(f\"Failed to write batch results to {output_filename}: {e}\")\n",
    "\n",
    "        logging.info(f\"Finished processing batch {i // batch_size + 1}.\")\n",
    "        time.sleep(random.uniform(1, 2))  # Pause to handle rate limits\n",
    "\n",
    "    # Save all results to a consolidated file\n",
    "    if all_results:\n",
    "        all_results_filename = f\"{datetime.now().strftime('%Y%m%d')}_all_results.csv\"\n",
    "        try:\n",
    "            with open(all_results_filename, mode='w', newline='') as file:\n",
    "                writer = csv.DictWriter(file, fieldnames=all_results[0].keys())\n",
    "                writer.writeheader()\n",
    "                writer.writerows(all_results)\n",
    "            logging.info(f\"All valid results saved to {all_results_filename}\")\n",
    "        except Exception as e:\n",
    "            logging.error(f\"Failed to save all results to {all_results_filename}: {e}\")\n",
    "\n",
    "BRAINAPIWRAPPER.process_simulations_in_batches4 = process_simulations_in_batches4\n"
   ]
  },
  {
   "cell_type": "code",
   "execution_count": 116,
   "id": "fa63dda9-54f7-405f-b57f-10da9ce58980",
   "metadata": {
    "collapsed": true,
    "jupyter": {
     "outputs_hidden": true,
     "source_hidden": true
    }
   },
   "outputs": [
    {
     "name": "stderr",
     "output_type": "stream",
     "text": [
      "2024-11-25 20:18:29,326 - Processing simulations in batches. Filename type: <class 'str'>\n",
      "2024-11-25 20:18:29,836 - Processing batch 1 with 3 items.\n",
      "2024-11-25 20:18:29,836 - Processing expression: fnd17_arevchg\n"
     ]
    },
    {
     "name": "stdout",
     "output_type": "stream",
     "text": [
      "\n",
      "Location: https://api.worldquantbrain.com/simulations/16In0f6mk4hccmA131lffRi\n",
      "Check Progress Returned alpha_id: R19poG0\n"
     ]
    },
    {
     "name": "stderr",
     "output_type": "stream",
     "text": [
      "2024-11-25 20:20:24,763 - get_results: {\"id\":\"R19poG0\",\"type\":\"REGULAR\",\"author\":\"KC72812\",\"settings\":{\"instrumentType\":\"EQUITY\",\"region\":\"JPN\",\"universe\":\"TOP1600\",\"delay\":1,\"decay\":4,\"neutralization\":\"NONE\",\"truncation\":0.08,\"pasteurization\":\"ON\",\"unitHandling\":\"VERIFY\",\"nanHandling\":\"OFF\",\"language\":\"FASTEXPR\",\"visualization\":false,\"testPeriod\":\"P6Y0M0D\"},\"regular\":{\"code\":\"ts_rank((fnd17_arevchg), 20)\",\"description\":null,\"operatorCount\":1},\"dateCreated\":\"2024-11-23T16:02:22-05:00\",\"dateSubmitted\":null,\"dateModified\":\"2024-11-23T16:02:22-05:00\",\"name\":null,\"favorite\":false,\"hidden\":false,\"color\":null,\"category\":null,\"tags\":[],\"classifications\":[{\"id\":\"DATA_USAGE:SINGLE_DATA_SET\",\"name\":\"Single Data Set Alpha\"}],\"grade\":null,\"stage\":\"IS\",\"status\":\"UNSUBMITTED\",\"is\":{\"pnl\":16776392,\"bookSize\":20000000,\"longCount\":1519,\"shortCount\":0,\"turnover\":0.0131,\"returns\":0.1621,\"drawdown\":0.7681,\"margin\":0.024677,\"fitness\":0.52,\"sharpe\":0.46,\"startDate\":\"2012-07-15\",\"checks\":[{\"name\":\"LOW_SHARPE\",\"result\":\"FAIL\",\"limit\":1.58,\"value\":0.46},{\"name\":\"LOW_FITNESS\",\"result\":\"FAIL\",\"limit\":1.0,\"value\":0.52},{\"name\":\"LOW_TURNOVER\",\"result\":\"PASS\",\"limit\":0.01,\"value\":0.0131},{\"name\":\"HIGH_TURNOVER\",\"result\":\"PASS\",\"limit\":0.7,\"value\":0.0131},{\"name\":\"CONCENTRATED_WEIGHT\",\"result\":\"PASS\"},{\"name\":\"LOW_SUB_UNIVERSE_SHARPE\",\"result\":\"PASS\",\"limit\":0.3,\"value\":1.23},{\"name\":\"SELF_CORRELATION\",\"result\":\"PENDING\"},{\"name\":\"DATA_DIVERSITY\",\"result\":\"PENDING\"},{\"name\":\"PROD_CORRELATION\",\"result\":\"PENDING\"},{\"name\":\"REGULAR_SUBMISSION\",\"result\":\"PENDING\"},{\"name\":\"LOW_2Y_SHARPE\",\"result\":\"FAIL\",\"value\":-0.22,\"limit\":1.58},{\"result\":\"PASS\",\"name\":\"MATCHES_PYRAMID\",\"multiplier\":1.7,\"pyramids\":[{\"name\":\"JPN/D1/Fundamental\",\"multiplier\":1.7}]}]},\"os\":null,\"train\":{\"pnl\":10434199,\"bookSize\":20000000,\"longCount\":1483,\"shortCount\":0,\"turnover\":0.0133,\"returns\":0.2499,\"drawdown\":0.3204,\"margin\":0.037511,\"fitness\":0.92,\"sharpe\":0.65,\"startDate\":\"2012-07-15\"},\"test\":{\"pnl\":6105502,\"bookSize\":20000000,\"longCount\":1542,\"shortCount\":0,\"turnover\":0.013,\"returns\":0.0989,\"drawdown\":0.7681,\"margin\":0.015195,\"fitness\":0.27,\"sharpe\":0.3,\"startDate\":\"2016-07-15\"},\"prod\":null,\"competitions\":null,\"themes\":null,\"pyramids\":null,\"team\":null}\n",
      "\n",
      "\n"
     ]
    },
    {
     "name": "stdout",
     "output_type": "stream",
     "text": [
      "\n",
      "\n",
      "get_results: {\"id\":\"R19poG0\",\"type\":\"REGULAR\",\"author\":\"KC72812\",\"settings\":{\"instrumentType\":\"EQUITY\",\"region\":\"JPN\",\"universe\":\"TOP1600\",\"delay\":1,\"decay\":4,\"neutralization\":\"NONE\",\"truncation\":0.08,\"pasteurization\":\"ON\",\"unitHandling\":\"VERIFY\",\"nanHandling\":\"OFF\",\"language\":\"FASTEXPR\",\"visualization\":false,\"testPeriod\":\"P6Y0M0D\"},\"regular\":{\"code\":\"ts_rank((fnd17_arevchg), 20)\",\"description\":null,\"operatorCount\":1},\"dateCreated\":\"2024-11-23T16:02:22-05:00\",\"dateSubmitted\":null,\"dateModified\":\"2024-11-23T16:02:22-05:00\",\"name\":null,\"favorite\":false,\"hidden\":false,\"color\":null,\"category\":null,\"tags\":[],\"classifications\":[{\"id\":\"DATA_USAGE:SINGLE_DATA_SET\",\"name\":\"Single Data Set Alpha\"}],\"grade\":null,\"stage\":\"IS\",\"status\":\"UNSUBMITTED\",\"is\":{\"pnl\":16776392,\"bookSize\":20000000,\"longCount\":1519,\"shortCount\":0,\"turnover\":0.0131,\"returns\":0.1621,\"drawdown\":0.7681,\"margin\":0.024677,\"fitness\":0.52,\"sharpe\":0.46,\"startDate\":\"2012-07-15\",\"checks\":[{\"name\":\"LOW_SHARPE\",\"result\":\"FAIL\",\"limit\":1.58,\"value\":0.46},{\"name\":\"LOW_FITNESS\",\"result\":\"FAIL\",\"limit\":1.0,\"value\":0.52},{\"name\":\"LOW_TURNOVER\",\"result\":\"PASS\",\"limit\":0.01,\"value\":0.0131},{\"name\":\"HIGH_TURNOVER\",\"result\":\"PASS\",\"limit\":0.7,\"value\":0.0131},{\"name\":\"CONCENTRATED_WEIGHT\",\"result\":\"PASS\"},{\"name\":\"LOW_SUB_UNIVERSE_SHARPE\",\"result\":\"PASS\",\"limit\":0.3,\"value\":1.23},{\"name\":\"SELF_CORRELATION\",\"result\":\"PENDING\"},{\"name\":\"DATA_DIVERSITY\",\"result\":\"PENDING\"},{\"name\":\"PROD_CORRELATION\",\"result\":\"PENDING\"},{\"name\":\"REGULAR_SUBMISSION\",\"result\":\"PENDING\"},{\"name\":\"LOW_2Y_SHARPE\",\"result\":\"FAIL\",\"value\":-0.22,\"limit\":1.58},{\"result\":\"PASS\",\"name\":\"MATCHES_PYRAMID\",\"multiplier\":1.7,\"pyramids\":[{\"name\":\"JPN/D1/Fundamental\",\"multiplier\":1.7}]}]},\"os\":null,\"train\":{\"pnl\":10434199,\"bookSize\":20000000,\"longCount\":1483,\"shortCount\":0,\"turnover\":0.0133,\"returns\":0.2499,\"drawdown\":0.3204,\"margin\":0.037511,\"fitness\":0.92,\"sharpe\":0.65,\"startDate\":\"2012-07-15\"},\"test\":{\"pnl\":6105502,\"bookSize\":20000000,\"longCount\":1542,\"shortCount\":0,\"turnover\":0.013,\"returns\":0.0989,\"drawdown\":0.7681,\"margin\":0.015195,\"fitness\":0.27,\"sharpe\":0.3,\"startDate\":\"2016-07-15\"},\"prod\":null,\"competitions\":null,\"themes\":null,\"pyramids\":null,\"team\":null} \n",
      "\n",
      "\n",
      "\n",
      "\n"
     ]
    },
    {
     "name": "stderr",
     "output_type": "stream",
     "text": [
      "2024-11-25 20:20:25,151 - get_results: {\"is\":{\"checks\":[{\"name\":\"LOW_SHARPE\",\"result\":\"FAIL\",\"limit\":1.58,\"value\":0.46},{\"name\":\"LOW_FITNESS\",\"result\":\"FAIL\",\"limit\":1.0,\"value\":0.52},{\"name\":\"LOW_TURNOVER\",\"result\":\"PASS\",\"limit\":0.01,\"value\":0.0131},{\"name\":\"HIGH_TURNOVER\",\"result\":\"PASS\",\"limit\":0.7,\"value\":0.0131},{\"name\":\"CONCENTRATED_WEIGHT\",\"result\":\"PASS\"},{\"name\":\"LOW_SUB_UNIVERSE_SHARPE\",\"result\":\"PASS\",\"limit\":0.3,\"value\":1.23},{\"name\":\"SELF_CORRELATION\",\"result\":\"PENDING\"},{\"name\":\"DATA_DIVERSITY\",\"result\":\"PASS\"},{\"name\":\"PROD_CORRELATION\",\"result\":\"PENDING\"},{\"name\":\"REGULAR_SUBMISSION\",\"result\":\"PASS\",\"limit\":4,\"value\":0},{\"name\":\"LOW_2Y_SHARPE\",\"result\":\"FAIL\",\"value\":-0.22,\"limit\":1.58},{\"result\":\"PASS\",\"name\":\"MATCHES_PYRAMID\",\"multiplier\":1.7,\"pyramids\":[{\"name\":\"JPN/D1/Fundamental\",\"multiplier\":1.7}]}]}}\n",
      "\n",
      "\n",
      "2024-11-25 20:20:25,155 - simu_results: {'summary_results aka get_results_dictionary': {'id': 'R19poG0', 'type': 'REGULAR', 'author': 'KC72812', 'settings': {'instrumentType': 'EQUITY', 'region': 'JPN', 'universe': 'TOP1600', 'delay': 1, 'decay': 4, 'neutralization': 'NONE', 'truncation': 0.08, 'pasteurization': 'ON', 'unitHandling': 'VERIFY', 'nanHandling': 'OFF', 'language': 'FASTEXPR', 'visualization': False, 'testPeriod': 'P6Y0M0D'}, 'regular': {'code': 'ts_rank((fnd17_arevchg), 20)', 'description': None, 'operatorCount': 1}, 'dateCreated': '2024-11-23T16:02:22-05:00', 'dateSubmitted': None, 'dateModified': '2024-11-23T16:02:22-05:00', 'name': None, 'favorite': False, 'hidden': False, 'color': None, 'category': None, 'tags': [], 'classifications': [{'id': 'DATA_USAGE:SINGLE_DATA_SET', 'name': 'Single Data Set Alpha'}], 'grade': None, 'stage': 'IS', 'status': 'UNSUBMITTED', 'is': {'pnl': 16776392, 'bookSize': 20000000, 'longCount': 1519, 'shortCount': 0, 'turnover': 0.0131, 'returns': 0.1621, 'drawdown': 0.7681, 'margin': 0.024677, 'fitness': 0.52, 'sharpe': 0.46, 'startDate': '2012-07-15', 'checks': [{'name': 'LOW_SHARPE', 'result': 'FAIL', 'limit': 1.58, 'value': 0.46}, {'name': 'LOW_FITNESS', 'result': 'FAIL', 'limit': 1.0, 'value': 0.52}, {'name': 'LOW_TURNOVER', 'result': 'PASS', 'limit': 0.01, 'value': 0.0131}, {'name': 'HIGH_TURNOVER', 'result': 'PASS', 'limit': 0.7, 'value': 0.0131}, {'name': 'CONCENTRATED_WEIGHT', 'result': 'PASS'}, {'name': 'LOW_SUB_UNIVERSE_SHARPE', 'result': 'PASS', 'limit': 0.3, 'value': 1.23}, {'name': 'SELF_CORRELATION', 'result': 'PENDING'}, {'name': 'DATA_DIVERSITY', 'result': 'PENDING'}, {'name': 'PROD_CORRELATION', 'result': 'PENDING'}, {'name': 'REGULAR_SUBMISSION', 'result': 'PENDING'}, {'name': 'LOW_2Y_SHARPE', 'result': 'FAIL', 'value': -0.22, 'limit': 1.58}, {'result': 'PASS', 'name': 'MATCHES_PYRAMID', 'multiplier': 1.7, 'pyramids': [{'name': 'JPN/D1/Fundamental', 'multiplier': 1.7}]}]}, 'os': None, 'train': {'pnl': 10434199, 'bookSize': 20000000, 'longCount': 1483, 'shortCount': 0, 'turnover': 0.0133, 'returns': 0.2499, 'drawdown': 0.3204, 'margin': 0.037511, 'fitness': 0.92, 'sharpe': 0.65, 'startDate': '2012-07-15'}, 'test': {'pnl': 6105502, 'bookSize': 20000000, 'longCount': 1542, 'shortCount': 0, 'turnover': 0.013, 'returns': 0.0989, 'drawdown': 0.7681, 'margin': 0.015195, 'fitness': 0.27, 'sharpe': 0.3, 'startDate': '2016-07-15'}, 'prod': None, 'competitions': None, 'themes': None, 'pyramids': None, 'team': None}, 'submission_checks aka get_results_dictionary': {'is': {'checks': [{'name': 'LOW_SHARPE', 'result': 'FAIL', 'limit': 1.58, 'value': 0.46}, {'name': 'LOW_FITNESS', 'result': 'FAIL', 'limit': 1.0, 'value': 0.52}, {'name': 'LOW_TURNOVER', 'result': 'PASS', 'limit': 0.01, 'value': 0.0131}, {'name': 'HIGH_TURNOVER', 'result': 'PASS', 'limit': 0.7, 'value': 0.0131}, {'name': 'CONCENTRATED_WEIGHT', 'result': 'PASS'}, {'name': 'LOW_SUB_UNIVERSE_SHARPE', 'result': 'PASS', 'limit': 0.3, 'value': 1.23}, {'name': 'SELF_CORRELATION', 'result': 'PENDING'}, {'name': 'DATA_DIVERSITY', 'result': 'PASS'}, {'name': 'PROD_CORRELATION', 'result': 'PENDING'}, {'name': 'REGULAR_SUBMISSION', 'result': 'PASS', 'limit': 4, 'value': 0}, {'name': 'LOW_2Y_SHARPE', 'result': 'FAIL', 'value': -0.22, 'limit': 1.58}, {'result': 'PASS', 'name': 'MATCHES_PYRAMID', 'multiplier': 1.7, 'pyramids': [{'name': 'JPN/D1/Fundamental', 'multiplier': 1.7}]}]}}}\n",
      "\n",
      "\n",
      "2024-11-25 20:20:25,157 - Sharpe Ratio None is below threshold for alpha: fnd17_arevchg\n"
     ]
    },
    {
     "name": "stdout",
     "output_type": "stream",
     "text": [
      "\n",
      "\n",
      "get_results: {\"is\":{\"checks\":[{\"name\":\"LOW_SHARPE\",\"result\":\"FAIL\",\"limit\":1.58,\"value\":0.46},{\"name\":\"LOW_FITNESS\",\"result\":\"FAIL\",\"limit\":1.0,\"value\":0.52},{\"name\":\"LOW_TURNOVER\",\"result\":\"PASS\",\"limit\":0.01,\"value\":0.0131},{\"name\":\"HIGH_TURNOVER\",\"result\":\"PASS\",\"limit\":0.7,\"value\":0.0131},{\"name\":\"CONCENTRATED_WEIGHT\",\"result\":\"PASS\"},{\"name\":\"LOW_SUB_UNIVERSE_SHARPE\",\"result\":\"PASS\",\"limit\":0.3,\"value\":1.23},{\"name\":\"SELF_CORRELATION\",\"result\":\"PENDING\"},{\"name\":\"DATA_DIVERSITY\",\"result\":\"PASS\"},{\"name\":\"PROD_CORRELATION\",\"result\":\"PENDING\"},{\"name\":\"REGULAR_SUBMISSION\",\"result\":\"PASS\",\"limit\":4,\"value\":0},{\"name\":\"LOW_2Y_SHARPE\",\"result\":\"FAIL\",\"value\":-0.22,\"limit\":1.58},{\"result\":\"PASS\",\"name\":\"MATCHES_PYRAMID\",\"multiplier\":1.7,\"pyramids\":[{\"name\":\"JPN/D1/Fundamental\",\"multiplier\":1.7}]}]}} \n",
      "\n",
      "\n",
      "\n",
      "\n"
     ]
    },
    {
     "name": "stderr",
     "output_type": "stream",
     "text": [
      "2024-11-25 20:20:26,465 - Processing expression: fnd17_arevperemp\n"
     ]
    },
    {
     "name": "stdout",
     "output_type": "stream",
     "text": [
      "\n",
      "Location: https://api.worldquantbrain.com/simulations/3FnlSy4TK4GxaDXRQ1LY2AC\n",
      "Check Progress Returned alpha_id: vvZL7VA\n"
     ]
    },
    {
     "name": "stderr",
     "output_type": "stream",
     "text": [
      "2024-11-25 20:22:24,675 - get_results: {\"id\":\"vvZL7VA\",\"type\":\"REGULAR\",\"author\":\"KC72812\",\"settings\":{\"instrumentType\":\"EQUITY\",\"region\":\"JPN\",\"universe\":\"TOP1600\",\"delay\":1,\"decay\":4,\"neutralization\":\"NONE\",\"truncation\":0.08,\"pasteurization\":\"ON\",\"unitHandling\":\"VERIFY\",\"nanHandling\":\"OFF\",\"language\":\"FASTEXPR\",\"visualization\":false,\"testPeriod\":\"P6Y0M0D\"},\"regular\":{\"code\":\"ts_rank((fnd17_arevperemp), 20)\",\"description\":null,\"operatorCount\":1},\"dateCreated\":\"2024-11-23T16:03:08-05:00\",\"dateSubmitted\":null,\"dateModified\":\"2024-11-23T16:03:09-05:00\",\"name\":null,\"favorite\":false,\"hidden\":false,\"color\":null,\"category\":null,\"tags\":[],\"classifications\":[{\"id\":\"DATA_USAGE:SINGLE_DATA_SET\",\"name\":\"Single Data Set Alpha\"}],\"grade\":null,\"stage\":\"IS\",\"status\":\"UNSUBMITTED\",\"is\":{\"pnl\":17221882,\"bookSize\":20000000,\"longCount\":1242,\"shortCount\":0,\"turnover\":0.0296,\"returns\":0.1664,\"drawdown\":0.8252,\"margin\":0.011241,\"fitness\":0.53,\"sharpe\":0.46,\"startDate\":\"2012-07-15\",\"checks\":[{\"name\":\"LOW_SHARPE\",\"result\":\"FAIL\",\"limit\":1.58,\"value\":0.46},{\"name\":\"LOW_FITNESS\",\"result\":\"FAIL\",\"limit\":1.0,\"value\":0.53},{\"name\":\"LOW_TURNOVER\",\"result\":\"PASS\",\"limit\":0.01,\"value\":0.0296},{\"name\":\"HIGH_TURNOVER\",\"result\":\"PASS\",\"limit\":0.7,\"value\":0.0296},{\"name\":\"CONCENTRATED_WEIGHT\",\"result\":\"PASS\"},{\"name\":\"LOW_SUB_UNIVERSE_SHARPE\",\"result\":\"PASS\",\"limit\":0.3,\"value\":0.51},{\"name\":\"SELF_CORRELATION\",\"result\":\"PENDING\"},{\"name\":\"DATA_DIVERSITY\",\"result\":\"PENDING\"},{\"name\":\"PROD_CORRELATION\",\"result\":\"PENDING\"},{\"name\":\"REGULAR_SUBMISSION\",\"result\":\"PENDING\"},{\"name\":\"LOW_2Y_SHARPE\",\"result\":\"FAIL\",\"value\":-0.22,\"limit\":1.58},{\"result\":\"PASS\",\"name\":\"MATCHES_PYRAMID\",\"multiplier\":1.7,\"pyramids\":[{\"name\":\"JPN/D1/Fundamental\",\"multiplier\":1.7}]}]},\"os\":null,\"train\":{\"pnl\":10327174,\"bookSize\":20000000,\"longCount\":1185,\"shortCount\":0,\"turnover\":0.0315,\"returns\":0.2473,\"drawdown\":0.3343,\"margin\":0.015722,\"fitness\":0.89,\"sharpe\":0.63,\"startDate\":\"2012-07-15\"},\"test\":{\"pnl\":6646529,\"bookSize\":20000000,\"longCount\":1281,\"shortCount\":0,\"turnover\":0.0284,\"returns\":0.1076,\"drawdown\":0.8252,\"margin\":0.00758,\"fitness\":0.29,\"sharpe\":0.31,\"startDate\":\"2016-07-15\"},\"prod\":null,\"competitions\":null,\"themes\":null,\"pyramids\":null,\"team\":null}\n",
      "\n",
      "\n"
     ]
    },
    {
     "name": "stdout",
     "output_type": "stream",
     "text": [
      "\n",
      "\n",
      "get_results: {\"id\":\"vvZL7VA\",\"type\":\"REGULAR\",\"author\":\"KC72812\",\"settings\":{\"instrumentType\":\"EQUITY\",\"region\":\"JPN\",\"universe\":\"TOP1600\",\"delay\":1,\"decay\":4,\"neutralization\":\"NONE\",\"truncation\":0.08,\"pasteurization\":\"ON\",\"unitHandling\":\"VERIFY\",\"nanHandling\":\"OFF\",\"language\":\"FASTEXPR\",\"visualization\":false,\"testPeriod\":\"P6Y0M0D\"},\"regular\":{\"code\":\"ts_rank((fnd17_arevperemp), 20)\",\"description\":null,\"operatorCount\":1},\"dateCreated\":\"2024-11-23T16:03:08-05:00\",\"dateSubmitted\":null,\"dateModified\":\"2024-11-23T16:03:09-05:00\",\"name\":null,\"favorite\":false,\"hidden\":false,\"color\":null,\"category\":null,\"tags\":[],\"classifications\":[{\"id\":\"DATA_USAGE:SINGLE_DATA_SET\",\"name\":\"Single Data Set Alpha\"}],\"grade\":null,\"stage\":\"IS\",\"status\":\"UNSUBMITTED\",\"is\":{\"pnl\":17221882,\"bookSize\":20000000,\"longCount\":1242,\"shortCount\":0,\"turnover\":0.0296,\"returns\":0.1664,\"drawdown\":0.8252,\"margin\":0.011241,\"fitness\":0.53,\"sharpe\":0.46,\"startDate\":\"2012-07-15\",\"checks\":[{\"name\":\"LOW_SHARPE\",\"result\":\"FAIL\",\"limit\":1.58,\"value\":0.46},{\"name\":\"LOW_FITNESS\",\"result\":\"FAIL\",\"limit\":1.0,\"value\":0.53},{\"name\":\"LOW_TURNOVER\",\"result\":\"PASS\",\"limit\":0.01,\"value\":0.0296},{\"name\":\"HIGH_TURNOVER\",\"result\":\"PASS\",\"limit\":0.7,\"value\":0.0296},{\"name\":\"CONCENTRATED_WEIGHT\",\"result\":\"PASS\"},{\"name\":\"LOW_SUB_UNIVERSE_SHARPE\",\"result\":\"PASS\",\"limit\":0.3,\"value\":0.51},{\"name\":\"SELF_CORRELATION\",\"result\":\"PENDING\"},{\"name\":\"DATA_DIVERSITY\",\"result\":\"PENDING\"},{\"name\":\"PROD_CORRELATION\",\"result\":\"PENDING\"},{\"name\":\"REGULAR_SUBMISSION\",\"result\":\"PENDING\"},{\"name\":\"LOW_2Y_SHARPE\",\"result\":\"FAIL\",\"value\":-0.22,\"limit\":1.58},{\"result\":\"PASS\",\"name\":\"MATCHES_PYRAMID\",\"multiplier\":1.7,\"pyramids\":[{\"name\":\"JPN/D1/Fundamental\",\"multiplier\":1.7}]}]},\"os\":null,\"train\":{\"pnl\":10327174,\"bookSize\":20000000,\"longCount\":1185,\"shortCount\":0,\"turnover\":0.0315,\"returns\":0.2473,\"drawdown\":0.3343,\"margin\":0.015722,\"fitness\":0.89,\"sharpe\":0.63,\"startDate\":\"2012-07-15\"},\"test\":{\"pnl\":6646529,\"bookSize\":20000000,\"longCount\":1281,\"shortCount\":0,\"turnover\":0.0284,\"returns\":0.1076,\"drawdown\":0.8252,\"margin\":0.00758,\"fitness\":0.29,\"sharpe\":0.31,\"startDate\":\"2016-07-15\"},\"prod\":null,\"competitions\":null,\"themes\":null,\"pyramids\":null,\"team\":null} \n",
      "\n",
      "\n",
      "\n",
      "\n"
     ]
    },
    {
     "name": "stderr",
     "output_type": "stream",
     "text": [
      "2024-11-25 20:22:25,112 - get_results: {\"is\":{\"checks\":[{\"name\":\"LOW_SHARPE\",\"result\":\"FAIL\",\"limit\":1.58,\"value\":0.46},{\"name\":\"LOW_FITNESS\",\"result\":\"FAIL\",\"limit\":1.0,\"value\":0.53},{\"name\":\"LOW_TURNOVER\",\"result\":\"PASS\",\"limit\":0.01,\"value\":0.0296},{\"name\":\"HIGH_TURNOVER\",\"result\":\"PASS\",\"limit\":0.7,\"value\":0.0296},{\"name\":\"CONCENTRATED_WEIGHT\",\"result\":\"PASS\"},{\"name\":\"LOW_SUB_UNIVERSE_SHARPE\",\"result\":\"PASS\",\"limit\":0.3,\"value\":0.51},{\"name\":\"SELF_CORRELATION\",\"result\":\"PENDING\"},{\"name\":\"DATA_DIVERSITY\",\"result\":\"PASS\"},{\"name\":\"PROD_CORRELATION\",\"result\":\"PENDING\"},{\"name\":\"REGULAR_SUBMISSION\",\"result\":\"PASS\",\"limit\":4,\"value\":0},{\"name\":\"LOW_2Y_SHARPE\",\"result\":\"FAIL\",\"value\":-0.22,\"limit\":1.58},{\"result\":\"PASS\",\"name\":\"MATCHES_PYRAMID\",\"multiplier\":1.7,\"pyramids\":[{\"name\":\"JPN/D1/Fundamental\",\"multiplier\":1.7}]}]}}\n",
      "\n",
      "\n",
      "2024-11-25 20:22:25,114 - simu_results: {'summary_results aka get_results_dictionary': {'id': 'vvZL7VA', 'type': 'REGULAR', 'author': 'KC72812', 'settings': {'instrumentType': 'EQUITY', 'region': 'JPN', 'universe': 'TOP1600', 'delay': 1, 'decay': 4, 'neutralization': 'NONE', 'truncation': 0.08, 'pasteurization': 'ON', 'unitHandling': 'VERIFY', 'nanHandling': 'OFF', 'language': 'FASTEXPR', 'visualization': False, 'testPeriod': 'P6Y0M0D'}, 'regular': {'code': 'ts_rank((fnd17_arevperemp), 20)', 'description': None, 'operatorCount': 1}, 'dateCreated': '2024-11-23T16:03:08-05:00', 'dateSubmitted': None, 'dateModified': '2024-11-23T16:03:09-05:00', 'name': None, 'favorite': False, 'hidden': False, 'color': None, 'category': None, 'tags': [], 'classifications': [{'id': 'DATA_USAGE:SINGLE_DATA_SET', 'name': 'Single Data Set Alpha'}], 'grade': None, 'stage': 'IS', 'status': 'UNSUBMITTED', 'is': {'pnl': 17221882, 'bookSize': 20000000, 'longCount': 1242, 'shortCount': 0, 'turnover': 0.0296, 'returns': 0.1664, 'drawdown': 0.8252, 'margin': 0.011241, 'fitness': 0.53, 'sharpe': 0.46, 'startDate': '2012-07-15', 'checks': [{'name': 'LOW_SHARPE', 'result': 'FAIL', 'limit': 1.58, 'value': 0.46}, {'name': 'LOW_FITNESS', 'result': 'FAIL', 'limit': 1.0, 'value': 0.53}, {'name': 'LOW_TURNOVER', 'result': 'PASS', 'limit': 0.01, 'value': 0.0296}, {'name': 'HIGH_TURNOVER', 'result': 'PASS', 'limit': 0.7, 'value': 0.0296}, {'name': 'CONCENTRATED_WEIGHT', 'result': 'PASS'}, {'name': 'LOW_SUB_UNIVERSE_SHARPE', 'result': 'PASS', 'limit': 0.3, 'value': 0.51}, {'name': 'SELF_CORRELATION', 'result': 'PENDING'}, {'name': 'DATA_DIVERSITY', 'result': 'PENDING'}, {'name': 'PROD_CORRELATION', 'result': 'PENDING'}, {'name': 'REGULAR_SUBMISSION', 'result': 'PENDING'}, {'name': 'LOW_2Y_SHARPE', 'result': 'FAIL', 'value': -0.22, 'limit': 1.58}, {'result': 'PASS', 'name': 'MATCHES_PYRAMID', 'multiplier': 1.7, 'pyramids': [{'name': 'JPN/D1/Fundamental', 'multiplier': 1.7}]}]}, 'os': None, 'train': {'pnl': 10327174, 'bookSize': 20000000, 'longCount': 1185, 'shortCount': 0, 'turnover': 0.0315, 'returns': 0.2473, 'drawdown': 0.3343, 'margin': 0.015722, 'fitness': 0.89, 'sharpe': 0.63, 'startDate': '2012-07-15'}, 'test': {'pnl': 6646529, 'bookSize': 20000000, 'longCount': 1281, 'shortCount': 0, 'turnover': 0.0284, 'returns': 0.1076, 'drawdown': 0.8252, 'margin': 0.00758, 'fitness': 0.29, 'sharpe': 0.31, 'startDate': '2016-07-15'}, 'prod': None, 'competitions': None, 'themes': None, 'pyramids': None, 'team': None}, 'submission_checks aka get_results_dictionary': {'is': {'checks': [{'name': 'LOW_SHARPE', 'result': 'FAIL', 'limit': 1.58, 'value': 0.46}, {'name': 'LOW_FITNESS', 'result': 'FAIL', 'limit': 1.0, 'value': 0.53}, {'name': 'LOW_TURNOVER', 'result': 'PASS', 'limit': 0.01, 'value': 0.0296}, {'name': 'HIGH_TURNOVER', 'result': 'PASS', 'limit': 0.7, 'value': 0.0296}, {'name': 'CONCENTRATED_WEIGHT', 'result': 'PASS'}, {'name': 'LOW_SUB_UNIVERSE_SHARPE', 'result': 'PASS', 'limit': 0.3, 'value': 0.51}, {'name': 'SELF_CORRELATION', 'result': 'PENDING'}, {'name': 'DATA_DIVERSITY', 'result': 'PASS'}, {'name': 'PROD_CORRELATION', 'result': 'PENDING'}, {'name': 'REGULAR_SUBMISSION', 'result': 'PASS', 'limit': 4, 'value': 0}, {'name': 'LOW_2Y_SHARPE', 'result': 'FAIL', 'value': -0.22, 'limit': 1.58}, {'result': 'PASS', 'name': 'MATCHES_PYRAMID', 'multiplier': 1.7, 'pyramids': [{'name': 'JPN/D1/Fundamental', 'multiplier': 1.7}]}]}}}\n",
      "\n",
      "\n",
      "2024-11-25 20:22:25,116 - Sharpe Ratio None is below threshold for alpha: fnd17_arevperemp\n"
     ]
    },
    {
     "name": "stdout",
     "output_type": "stream",
     "text": [
      "\n",
      "\n",
      "get_results: {\"is\":{\"checks\":[{\"name\":\"LOW_SHARPE\",\"result\":\"FAIL\",\"limit\":1.58,\"value\":0.46},{\"name\":\"LOW_FITNESS\",\"result\":\"FAIL\",\"limit\":1.0,\"value\":0.53},{\"name\":\"LOW_TURNOVER\",\"result\":\"PASS\",\"limit\":0.01,\"value\":0.0296},{\"name\":\"HIGH_TURNOVER\",\"result\":\"PASS\",\"limit\":0.7,\"value\":0.0296},{\"name\":\"CONCENTRATED_WEIGHT\",\"result\":\"PASS\"},{\"name\":\"LOW_SUB_UNIVERSE_SHARPE\",\"result\":\"PASS\",\"limit\":0.3,\"value\":0.51},{\"name\":\"SELF_CORRELATION\",\"result\":\"PENDING\"},{\"name\":\"DATA_DIVERSITY\",\"result\":\"PASS\"},{\"name\":\"PROD_CORRELATION\",\"result\":\"PENDING\"},{\"name\":\"REGULAR_SUBMISSION\",\"result\":\"PASS\",\"limit\":4,\"value\":0},{\"name\":\"LOW_2Y_SHARPE\",\"result\":\"FAIL\",\"value\":-0.22,\"limit\":1.58},{\"result\":\"PASS\",\"name\":\"MATCHES_PYRAMID\",\"multiplier\":1.7,\"pyramids\":[{\"name\":\"JPN/D1/Fundamental\",\"multiplier\":1.7}]}]}} \n",
      "\n",
      "\n",
      "\n",
      "\n"
     ]
    },
    {
     "name": "stderr",
     "output_type": "stream",
     "text": [
      "2024-11-25 20:22:25,693 - Processing expression: fnd17_arevps\n"
     ]
    },
    {
     "name": "stdout",
     "output_type": "stream",
     "text": [
      "\n",
      "Location: https://api.worldquantbrain.com/simulations/4gf8I61ku5eeb5E14iczAqj8\n",
      "Check Progress Returned alpha_id: bdJKWOl\n"
     ]
    },
    {
     "name": "stderr",
     "output_type": "stream",
     "text": [
      "2024-11-25 20:24:34,660 - get_results: {\"id\":\"bdJKWOl\",\"type\":\"REGULAR\",\"author\":\"KC72812\",\"settings\":{\"instrumentType\":\"EQUITY\",\"region\":\"JPN\",\"universe\":\"TOP1600\",\"delay\":1,\"decay\":4,\"neutralization\":\"NONE\",\"truncation\":0.08,\"pasteurization\":\"ON\",\"unitHandling\":\"VERIFY\",\"nanHandling\":\"OFF\",\"language\":\"FASTEXPR\",\"visualization\":false,\"testPeriod\":\"P6Y0M0D\"},\"regular\":{\"code\":\"ts_rank((fnd17_arevps), 20)\",\"description\":null,\"operatorCount\":1},\"dateCreated\":\"2024-11-23T23:17:35-05:00\",\"dateSubmitted\":null,\"dateModified\":\"2024-11-23T23:17:35-05:00\",\"name\":null,\"favorite\":false,\"hidden\":false,\"color\":null,\"category\":null,\"tags\":[],\"classifications\":[{\"id\":\"DATA_USAGE:SINGLE_DATA_SET\",\"name\":\"Single Data Set Alpha\"}],\"grade\":null,\"stage\":\"IS\",\"status\":\"UNSUBMITTED\",\"is\":{\"pnl\":16840040,\"bookSize\":20000000,\"longCount\":1533,\"shortCount\":0,\"turnover\":0.0163,\"returns\":0.1627,\"drawdown\":0.77,\"margin\":0.020002,\"fitness\":0.52,\"sharpe\":0.46,\"startDate\":\"2012-07-15\",\"checks\":[{\"name\":\"LOW_SHARPE\",\"result\":\"FAIL\",\"limit\":1.58,\"value\":0.46},{\"name\":\"LOW_FITNESS\",\"result\":\"FAIL\",\"limit\":1.0,\"value\":0.52},{\"name\":\"LOW_TURNOVER\",\"result\":\"PASS\",\"limit\":0.01,\"value\":0.0163},{\"name\":\"HIGH_TURNOVER\",\"result\":\"PASS\",\"limit\":0.7,\"value\":0.0163},{\"name\":\"CONCENTRATED_WEIGHT\",\"result\":\"PASS\"},{\"name\":\"LOW_SUB_UNIVERSE_SHARPE\",\"result\":\"PASS\",\"limit\":0.3,\"value\":1.03},{\"name\":\"SELF_CORRELATION\",\"result\":\"PENDING\"},{\"name\":\"DATA_DIVERSITY\",\"result\":\"PENDING\"},{\"name\":\"PROD_CORRELATION\",\"result\":\"PENDING\"},{\"name\":\"REGULAR_SUBMISSION\",\"result\":\"PENDING\"},{\"name\":\"LOW_2Y_SHARPE\",\"result\":\"FAIL\",\"value\":-0.24,\"limit\":1.58},{\"result\":\"PASS\",\"name\":\"MATCHES_PYRAMID\",\"multiplier\":1.7,\"pyramids\":[{\"name\":\"JPN/D1/Fundamental\",\"multiplier\":1.7}]}]},\"os\":null,\"train\":{\"pnl\":10516174,\"bookSize\":20000000,\"longCount\":1497,\"shortCount\":0,\"turnover\":0.0163,\"returns\":0.2518,\"drawdown\":0.3205,\"margin\":0.030879,\"fitness\":0.94,\"sharpe\":0.66,\"startDate\":\"2012-07-15\"},\"test\":{\"pnl\":6093146,\"bookSize\":20000000,\"longCount\":1558,\"shortCount\":0,\"turnover\":0.0163,\"returns\":0.0987,\"drawdown\":0.77,\"margin\":0.012136,\"fitness\":0.27,\"sharpe\":0.3,\"startDate\":\"2016-07-15\"},\"prod\":null,\"competitions\":null,\"themes\":null,\"pyramids\":null,\"team\":null}\n",
      "\n",
      "\n"
     ]
    },
    {
     "name": "stdout",
     "output_type": "stream",
     "text": [
      "\n",
      "\n",
      "get_results: {\"id\":\"bdJKWOl\",\"type\":\"REGULAR\",\"author\":\"KC72812\",\"settings\":{\"instrumentType\":\"EQUITY\",\"region\":\"JPN\",\"universe\":\"TOP1600\",\"delay\":1,\"decay\":4,\"neutralization\":\"NONE\",\"truncation\":0.08,\"pasteurization\":\"ON\",\"unitHandling\":\"VERIFY\",\"nanHandling\":\"OFF\",\"language\":\"FASTEXPR\",\"visualization\":false,\"testPeriod\":\"P6Y0M0D\"},\"regular\":{\"code\":\"ts_rank((fnd17_arevps), 20)\",\"description\":null,\"operatorCount\":1},\"dateCreated\":\"2024-11-23T23:17:35-05:00\",\"dateSubmitted\":null,\"dateModified\":\"2024-11-23T23:17:35-05:00\",\"name\":null,\"favorite\":false,\"hidden\":false,\"color\":null,\"category\":null,\"tags\":[],\"classifications\":[{\"id\":\"DATA_USAGE:SINGLE_DATA_SET\",\"name\":\"Single Data Set Alpha\"}],\"grade\":null,\"stage\":\"IS\",\"status\":\"UNSUBMITTED\",\"is\":{\"pnl\":16840040,\"bookSize\":20000000,\"longCount\":1533,\"shortCount\":0,\"turnover\":0.0163,\"returns\":0.1627,\"drawdown\":0.77,\"margin\":0.020002,\"fitness\":0.52,\"sharpe\":0.46,\"startDate\":\"2012-07-15\",\"checks\":[{\"name\":\"LOW_SHARPE\",\"result\":\"FAIL\",\"limit\":1.58,\"value\":0.46},{\"name\":\"LOW_FITNESS\",\"result\":\"FAIL\",\"limit\":1.0,\"value\":0.52},{\"name\":\"LOW_TURNOVER\",\"result\":\"PASS\",\"limit\":0.01,\"value\":0.0163},{\"name\":\"HIGH_TURNOVER\",\"result\":\"PASS\",\"limit\":0.7,\"value\":0.0163},{\"name\":\"CONCENTRATED_WEIGHT\",\"result\":\"PASS\"},{\"name\":\"LOW_SUB_UNIVERSE_SHARPE\",\"result\":\"PASS\",\"limit\":0.3,\"value\":1.03},{\"name\":\"SELF_CORRELATION\",\"result\":\"PENDING\"},{\"name\":\"DATA_DIVERSITY\",\"result\":\"PENDING\"},{\"name\":\"PROD_CORRELATION\",\"result\":\"PENDING\"},{\"name\":\"REGULAR_SUBMISSION\",\"result\":\"PENDING\"},{\"name\":\"LOW_2Y_SHARPE\",\"result\":\"FAIL\",\"value\":-0.24,\"limit\":1.58},{\"result\":\"PASS\",\"name\":\"MATCHES_PYRAMID\",\"multiplier\":1.7,\"pyramids\":[{\"name\":\"JPN/D1/Fundamental\",\"multiplier\":1.7}]}]},\"os\":null,\"train\":{\"pnl\":10516174,\"bookSize\":20000000,\"longCount\":1497,\"shortCount\":0,\"turnover\":0.0163,\"returns\":0.2518,\"drawdown\":0.3205,\"margin\":0.030879,\"fitness\":0.94,\"sharpe\":0.66,\"startDate\":\"2012-07-15\"},\"test\":{\"pnl\":6093146,\"bookSize\":20000000,\"longCount\":1558,\"shortCount\":0,\"turnover\":0.0163,\"returns\":0.0987,\"drawdown\":0.77,\"margin\":0.012136,\"fitness\":0.27,\"sharpe\":0.3,\"startDate\":\"2016-07-15\"},\"prod\":null,\"competitions\":null,\"themes\":null,\"pyramids\":null,\"team\":null} \n",
      "\n",
      "\n",
      "\n",
      "\n"
     ]
    },
    {
     "name": "stderr",
     "output_type": "stream",
     "text": [
      "2024-11-25 20:24:35,241 - get_results: {\"is\":{\"checks\":[{\"name\":\"LOW_SHARPE\",\"result\":\"FAIL\",\"limit\":1.58,\"value\":0.46},{\"name\":\"LOW_FITNESS\",\"result\":\"FAIL\",\"limit\":1.0,\"value\":0.52},{\"name\":\"LOW_TURNOVER\",\"result\":\"PASS\",\"limit\":0.01,\"value\":0.0163},{\"name\":\"HIGH_TURNOVER\",\"result\":\"PASS\",\"limit\":0.7,\"value\":0.0163},{\"name\":\"CONCENTRATED_WEIGHT\",\"result\":\"PASS\"},{\"name\":\"LOW_SUB_UNIVERSE_SHARPE\",\"result\":\"PASS\",\"limit\":0.3,\"value\":1.03},{\"name\":\"SELF_CORRELATION\",\"result\":\"PENDING\"},{\"name\":\"DATA_DIVERSITY\",\"result\":\"PASS\"},{\"name\":\"PROD_CORRELATION\",\"result\":\"PENDING\"},{\"name\":\"REGULAR_SUBMISSION\",\"result\":\"PASS\",\"limit\":4,\"value\":0},{\"name\":\"LOW_2Y_SHARPE\",\"result\":\"FAIL\",\"value\":-0.24,\"limit\":1.58},{\"result\":\"PASS\",\"name\":\"MATCHES_PYRAMID\",\"multiplier\":1.7,\"pyramids\":[{\"name\":\"JPN/D1/Fundamental\",\"multiplier\":1.7}]}]}}\n",
      "\n",
      "\n",
      "2024-11-25 20:24:35,245 - simu_results: {'summary_results aka get_results_dictionary': {'id': 'bdJKWOl', 'type': 'REGULAR', 'author': 'KC72812', 'settings': {'instrumentType': 'EQUITY', 'region': 'JPN', 'universe': 'TOP1600', 'delay': 1, 'decay': 4, 'neutralization': 'NONE', 'truncation': 0.08, 'pasteurization': 'ON', 'unitHandling': 'VERIFY', 'nanHandling': 'OFF', 'language': 'FASTEXPR', 'visualization': False, 'testPeriod': 'P6Y0M0D'}, 'regular': {'code': 'ts_rank((fnd17_arevps), 20)', 'description': None, 'operatorCount': 1}, 'dateCreated': '2024-11-23T23:17:35-05:00', 'dateSubmitted': None, 'dateModified': '2024-11-23T23:17:35-05:00', 'name': None, 'favorite': False, 'hidden': False, 'color': None, 'category': None, 'tags': [], 'classifications': [{'id': 'DATA_USAGE:SINGLE_DATA_SET', 'name': 'Single Data Set Alpha'}], 'grade': None, 'stage': 'IS', 'status': 'UNSUBMITTED', 'is': {'pnl': 16840040, 'bookSize': 20000000, 'longCount': 1533, 'shortCount': 0, 'turnover': 0.0163, 'returns': 0.1627, 'drawdown': 0.77, 'margin': 0.020002, 'fitness': 0.52, 'sharpe': 0.46, 'startDate': '2012-07-15', 'checks': [{'name': 'LOW_SHARPE', 'result': 'FAIL', 'limit': 1.58, 'value': 0.46}, {'name': 'LOW_FITNESS', 'result': 'FAIL', 'limit': 1.0, 'value': 0.52}, {'name': 'LOW_TURNOVER', 'result': 'PASS', 'limit': 0.01, 'value': 0.0163}, {'name': 'HIGH_TURNOVER', 'result': 'PASS', 'limit': 0.7, 'value': 0.0163}, {'name': 'CONCENTRATED_WEIGHT', 'result': 'PASS'}, {'name': 'LOW_SUB_UNIVERSE_SHARPE', 'result': 'PASS', 'limit': 0.3, 'value': 1.03}, {'name': 'SELF_CORRELATION', 'result': 'PENDING'}, {'name': 'DATA_DIVERSITY', 'result': 'PENDING'}, {'name': 'PROD_CORRELATION', 'result': 'PENDING'}, {'name': 'REGULAR_SUBMISSION', 'result': 'PENDING'}, {'name': 'LOW_2Y_SHARPE', 'result': 'FAIL', 'value': -0.24, 'limit': 1.58}, {'result': 'PASS', 'name': 'MATCHES_PYRAMID', 'multiplier': 1.7, 'pyramids': [{'name': 'JPN/D1/Fundamental', 'multiplier': 1.7}]}]}, 'os': None, 'train': {'pnl': 10516174, 'bookSize': 20000000, 'longCount': 1497, 'shortCount': 0, 'turnover': 0.0163, 'returns': 0.2518, 'drawdown': 0.3205, 'margin': 0.030879, 'fitness': 0.94, 'sharpe': 0.66, 'startDate': '2012-07-15'}, 'test': {'pnl': 6093146, 'bookSize': 20000000, 'longCount': 1558, 'shortCount': 0, 'turnover': 0.0163, 'returns': 0.0987, 'drawdown': 0.77, 'margin': 0.012136, 'fitness': 0.27, 'sharpe': 0.3, 'startDate': '2016-07-15'}, 'prod': None, 'competitions': None, 'themes': None, 'pyramids': None, 'team': None}, 'submission_checks aka get_results_dictionary': {'is': {'checks': [{'name': 'LOW_SHARPE', 'result': 'FAIL', 'limit': 1.58, 'value': 0.46}, {'name': 'LOW_FITNESS', 'result': 'FAIL', 'limit': 1.0, 'value': 0.52}, {'name': 'LOW_TURNOVER', 'result': 'PASS', 'limit': 0.01, 'value': 0.0163}, {'name': 'HIGH_TURNOVER', 'result': 'PASS', 'limit': 0.7, 'value': 0.0163}, {'name': 'CONCENTRATED_WEIGHT', 'result': 'PASS'}, {'name': 'LOW_SUB_UNIVERSE_SHARPE', 'result': 'PASS', 'limit': 0.3, 'value': 1.03}, {'name': 'SELF_CORRELATION', 'result': 'PENDING'}, {'name': 'DATA_DIVERSITY', 'result': 'PASS'}, {'name': 'PROD_CORRELATION', 'result': 'PENDING'}, {'name': 'REGULAR_SUBMISSION', 'result': 'PASS', 'limit': 4, 'value': 0}, {'name': 'LOW_2Y_SHARPE', 'result': 'FAIL', 'value': -0.24, 'limit': 1.58}, {'result': 'PASS', 'name': 'MATCHES_PYRAMID', 'multiplier': 1.7, 'pyramids': [{'name': 'JPN/D1/Fundamental', 'multiplier': 1.7}]}]}}}\n",
      "\n",
      "\n",
      "2024-11-25 20:24:35,248 - Sharpe Ratio None is below threshold for alpha: fnd17_arevps\n"
     ]
    },
    {
     "name": "stdout",
     "output_type": "stream",
     "text": [
      "\n",
      "\n",
      "get_results: {\"is\":{\"checks\":[{\"name\":\"LOW_SHARPE\",\"result\":\"FAIL\",\"limit\":1.58,\"value\":0.46},{\"name\":\"LOW_FITNESS\",\"result\":\"FAIL\",\"limit\":1.0,\"value\":0.52},{\"name\":\"LOW_TURNOVER\",\"result\":\"PASS\",\"limit\":0.01,\"value\":0.0163},{\"name\":\"HIGH_TURNOVER\",\"result\":\"PASS\",\"limit\":0.7,\"value\":0.0163},{\"name\":\"CONCENTRATED_WEIGHT\",\"result\":\"PASS\"},{\"name\":\"LOW_SUB_UNIVERSE_SHARPE\",\"result\":\"PASS\",\"limit\":0.3,\"value\":1.03},{\"name\":\"SELF_CORRELATION\",\"result\":\"PENDING\"},{\"name\":\"DATA_DIVERSITY\",\"result\":\"PASS\"},{\"name\":\"PROD_CORRELATION\",\"result\":\"PENDING\"},{\"name\":\"REGULAR_SUBMISSION\",\"result\":\"PASS\",\"limit\":4,\"value\":0},{\"name\":\"LOW_2Y_SHARPE\",\"result\":\"FAIL\",\"value\":-0.24,\"limit\":1.58},{\"result\":\"PASS\",\"name\":\"MATCHES_PYRAMID\",\"multiplier\":1.7,\"pyramids\":[{\"name\":\"JPN/D1/Fundamental\",\"multiplier\":1.7}]}]}} \n",
      "\n",
      "\n",
      "\n",
      "\n"
     ]
    },
    {
     "name": "stderr",
     "output_type": "stream",
     "text": [
      "2024-11-25 20:24:36,439 - Finished processing batch 1.\n",
      "2024-11-25 20:24:37,993 - Processing batch 2 with 3 items.\n",
      "2024-11-25 20:24:37,996 - Processing expression: fnd17_arevstrt\n"
     ]
    },
    {
     "name": "stdout",
     "output_type": "stream",
     "text": [
      "\n",
      "Location: https://api.worldquantbrain.com/simulations/eN9ip2Uv4otaWHhJNloj04\n",
      "Check Progress Returned alpha_id: dRYPn9x\n"
     ]
    },
    {
     "name": "stderr",
     "output_type": "stream",
     "text": [
      "2024-11-25 20:25:46,293 - get_results: {\"id\":\"dRYPn9x\",\"type\":\"REGULAR\",\"author\":\"KC72812\",\"settings\":{\"instrumentType\":\"EQUITY\",\"region\":\"JPN\",\"universe\":\"TOP1600\",\"delay\":1,\"decay\":4,\"neutralization\":\"NONE\",\"truncation\":0.08,\"pasteurization\":\"ON\",\"unitHandling\":\"VERIFY\",\"nanHandling\":\"OFF\",\"language\":\"FASTEXPR\",\"visualization\":false,\"testPeriod\":\"P6Y0M0D\"},\"regular\":{\"code\":\"ts_rank((fnd17_arevstrt), 20)\",\"description\":null,\"operatorCount\":1},\"dateCreated\":\"2024-11-23T23:18:25-05:00\",\"dateSubmitted\":null,\"dateModified\":\"2024-11-23T23:18:25-05:00\",\"name\":null,\"favorite\":false,\"hidden\":false,\"color\":null,\"category\":null,\"tags\":[],\"classifications\":[{\"id\":\"DATA_USAGE:SINGLE_DATA_SET\",\"name\":\"Single Data Set Alpha\"}],\"grade\":null,\"stage\":\"IS\",\"status\":\"UNSUBMITTED\",\"is\":{\"pnl\":16543703,\"bookSize\":20000000,\"longCount\":1428,\"shortCount\":0,\"turnover\":0.0184,\"returns\":0.1599,\"drawdown\":0.7738,\"margin\":0.017392,\"fitness\":0.52,\"sharpe\":0.46,\"startDate\":\"2012-07-15\",\"checks\":[{\"name\":\"LOW_SHARPE\",\"result\":\"FAIL\",\"limit\":1.58,\"value\":0.46},{\"name\":\"LOW_FITNESS\",\"result\":\"FAIL\",\"limit\":1.0,\"value\":0.52},{\"name\":\"LOW_TURNOVER\",\"result\":\"PASS\",\"limit\":0.01,\"value\":0.0184},{\"name\":\"HIGH_TURNOVER\",\"result\":\"PASS\",\"limit\":0.7,\"value\":0.0184},{\"name\":\"CONCENTRATED_WEIGHT\",\"result\":\"PASS\"},{\"name\":\"LOW_SUB_UNIVERSE_SHARPE\",\"result\":\"FAIL\",\"limit\":0.3,\"value\":0.25},{\"name\":\"SELF_CORRELATION\",\"result\":\"PENDING\"},{\"name\":\"DATA_DIVERSITY\",\"result\":\"PENDING\"},{\"name\":\"PROD_CORRELATION\",\"result\":\"PENDING\"},{\"name\":\"REGULAR_SUBMISSION\",\"result\":\"PENDING\"},{\"name\":\"LOW_2Y_SHARPE\",\"result\":\"FAIL\",\"value\":-0.25,\"limit\":1.58},{\"result\":\"PASS\",\"name\":\"MATCHES_PYRAMID\",\"multiplier\":1.7,\"pyramids\":[{\"name\":\"JPN/D1/Fundamental\",\"multiplier\":1.7}]}]},\"os\":null,\"train\":{\"pnl\":10399081,\"bookSize\":20000000,\"longCount\":1405,\"shortCount\":0,\"turnover\":0.0177,\"returns\":0.249,\"drawdown\":0.3207,\"margin\":0.02814,\"fitness\":0.93,\"sharpe\":0.66,\"startDate\":\"2012-07-15\"},\"test\":{\"pnl\":5923540,\"bookSize\":20000000,\"longCount\":1444,\"shortCount\":0,\"turnover\":0.0189,\"returns\":0.0959,\"drawdown\":0.7738,\"margin\":0.010165,\"fitness\":0.25,\"sharpe\":0.29,\"startDate\":\"2016-07-15\"},\"prod\":null,\"competitions\":null,\"themes\":null,\"pyramids\":null,\"team\":null}\n",
      "\n",
      "\n"
     ]
    },
    {
     "name": "stdout",
     "output_type": "stream",
     "text": [
      "\n",
      "\n",
      "get_results: {\"id\":\"dRYPn9x\",\"type\":\"REGULAR\",\"author\":\"KC72812\",\"settings\":{\"instrumentType\":\"EQUITY\",\"region\":\"JPN\",\"universe\":\"TOP1600\",\"delay\":1,\"decay\":4,\"neutralization\":\"NONE\",\"truncation\":0.08,\"pasteurization\":\"ON\",\"unitHandling\":\"VERIFY\",\"nanHandling\":\"OFF\",\"language\":\"FASTEXPR\",\"visualization\":false,\"testPeriod\":\"P6Y0M0D\"},\"regular\":{\"code\":\"ts_rank((fnd17_arevstrt), 20)\",\"description\":null,\"operatorCount\":1},\"dateCreated\":\"2024-11-23T23:18:25-05:00\",\"dateSubmitted\":null,\"dateModified\":\"2024-11-23T23:18:25-05:00\",\"name\":null,\"favorite\":false,\"hidden\":false,\"color\":null,\"category\":null,\"tags\":[],\"classifications\":[{\"id\":\"DATA_USAGE:SINGLE_DATA_SET\",\"name\":\"Single Data Set Alpha\"}],\"grade\":null,\"stage\":\"IS\",\"status\":\"UNSUBMITTED\",\"is\":{\"pnl\":16543703,\"bookSize\":20000000,\"longCount\":1428,\"shortCount\":0,\"turnover\":0.0184,\"returns\":0.1599,\"drawdown\":0.7738,\"margin\":0.017392,\"fitness\":0.52,\"sharpe\":0.46,\"startDate\":\"2012-07-15\",\"checks\":[{\"name\":\"LOW_SHARPE\",\"result\":\"FAIL\",\"limit\":1.58,\"value\":0.46},{\"name\":\"LOW_FITNESS\",\"result\":\"FAIL\",\"limit\":1.0,\"value\":0.52},{\"name\":\"LOW_TURNOVER\",\"result\":\"PASS\",\"limit\":0.01,\"value\":0.0184},{\"name\":\"HIGH_TURNOVER\",\"result\":\"PASS\",\"limit\":0.7,\"value\":0.0184},{\"name\":\"CONCENTRATED_WEIGHT\",\"result\":\"PASS\"},{\"name\":\"LOW_SUB_UNIVERSE_SHARPE\",\"result\":\"FAIL\",\"limit\":0.3,\"value\":0.25},{\"name\":\"SELF_CORRELATION\",\"result\":\"PENDING\"},{\"name\":\"DATA_DIVERSITY\",\"result\":\"PENDING\"},{\"name\":\"PROD_CORRELATION\",\"result\":\"PENDING\"},{\"name\":\"REGULAR_SUBMISSION\",\"result\":\"PENDING\"},{\"name\":\"LOW_2Y_SHARPE\",\"result\":\"FAIL\",\"value\":-0.25,\"limit\":1.58},{\"result\":\"PASS\",\"name\":\"MATCHES_PYRAMID\",\"multiplier\":1.7,\"pyramids\":[{\"name\":\"JPN/D1/Fundamental\",\"multiplier\":1.7}]}]},\"os\":null,\"train\":{\"pnl\":10399081,\"bookSize\":20000000,\"longCount\":1405,\"shortCount\":0,\"turnover\":0.0177,\"returns\":0.249,\"drawdown\":0.3207,\"margin\":0.02814,\"fitness\":0.93,\"sharpe\":0.66,\"startDate\":\"2012-07-15\"},\"test\":{\"pnl\":5923540,\"bookSize\":20000000,\"longCount\":1444,\"shortCount\":0,\"turnover\":0.0189,\"returns\":0.0959,\"drawdown\":0.7738,\"margin\":0.010165,\"fitness\":0.25,\"sharpe\":0.29,\"startDate\":\"2016-07-15\"},\"prod\":null,\"competitions\":null,\"themes\":null,\"pyramids\":null,\"team\":null} \n",
      "\n",
      "\n",
      "\n",
      "\n"
     ]
    },
    {
     "name": "stderr",
     "output_type": "stream",
     "text": [
      "2024-11-25 20:25:46,663 - get_results: {\"is\":{\"checks\":[{\"name\":\"LOW_SHARPE\",\"result\":\"FAIL\",\"limit\":1.58,\"value\":0.46},{\"name\":\"LOW_FITNESS\",\"result\":\"FAIL\",\"limit\":1.0,\"value\":0.52},{\"name\":\"LOW_TURNOVER\",\"result\":\"PASS\",\"limit\":0.01,\"value\":0.0184},{\"name\":\"HIGH_TURNOVER\",\"result\":\"PASS\",\"limit\":0.7,\"value\":0.0184},{\"name\":\"CONCENTRATED_WEIGHT\",\"result\":\"PASS\"},{\"name\":\"LOW_SUB_UNIVERSE_SHARPE\",\"result\":\"FAIL\",\"limit\":0.3,\"value\":0.25},{\"name\":\"SELF_CORRELATION\",\"result\":\"PENDING\"},{\"name\":\"DATA_DIVERSITY\",\"result\":\"PASS\"},{\"name\":\"PROD_CORRELATION\",\"result\":\"PENDING\"},{\"name\":\"REGULAR_SUBMISSION\",\"result\":\"PASS\",\"limit\":4,\"value\":0},{\"name\":\"LOW_2Y_SHARPE\",\"result\":\"FAIL\",\"value\":-0.25,\"limit\":1.58},{\"result\":\"PASS\",\"name\":\"MATCHES_PYRAMID\",\"multiplier\":1.7,\"pyramids\":[{\"name\":\"JPN/D1/Fundamental\",\"multiplier\":1.7}]}]}}\n",
      "\n",
      "\n",
      "2024-11-25 20:25:46,667 - simu_results: {'summary_results aka get_results_dictionary': {'id': 'dRYPn9x', 'type': 'REGULAR', 'author': 'KC72812', 'settings': {'instrumentType': 'EQUITY', 'region': 'JPN', 'universe': 'TOP1600', 'delay': 1, 'decay': 4, 'neutralization': 'NONE', 'truncation': 0.08, 'pasteurization': 'ON', 'unitHandling': 'VERIFY', 'nanHandling': 'OFF', 'language': 'FASTEXPR', 'visualization': False, 'testPeriod': 'P6Y0M0D'}, 'regular': {'code': 'ts_rank((fnd17_arevstrt), 20)', 'description': None, 'operatorCount': 1}, 'dateCreated': '2024-11-23T23:18:25-05:00', 'dateSubmitted': None, 'dateModified': '2024-11-23T23:18:25-05:00', 'name': None, 'favorite': False, 'hidden': False, 'color': None, 'category': None, 'tags': [], 'classifications': [{'id': 'DATA_USAGE:SINGLE_DATA_SET', 'name': 'Single Data Set Alpha'}], 'grade': None, 'stage': 'IS', 'status': 'UNSUBMITTED', 'is': {'pnl': 16543703, 'bookSize': 20000000, 'longCount': 1428, 'shortCount': 0, 'turnover': 0.0184, 'returns': 0.1599, 'drawdown': 0.7738, 'margin': 0.017392, 'fitness': 0.52, 'sharpe': 0.46, 'startDate': '2012-07-15', 'checks': [{'name': 'LOW_SHARPE', 'result': 'FAIL', 'limit': 1.58, 'value': 0.46}, {'name': 'LOW_FITNESS', 'result': 'FAIL', 'limit': 1.0, 'value': 0.52}, {'name': 'LOW_TURNOVER', 'result': 'PASS', 'limit': 0.01, 'value': 0.0184}, {'name': 'HIGH_TURNOVER', 'result': 'PASS', 'limit': 0.7, 'value': 0.0184}, {'name': 'CONCENTRATED_WEIGHT', 'result': 'PASS'}, {'name': 'LOW_SUB_UNIVERSE_SHARPE', 'result': 'FAIL', 'limit': 0.3, 'value': 0.25}, {'name': 'SELF_CORRELATION', 'result': 'PENDING'}, {'name': 'DATA_DIVERSITY', 'result': 'PENDING'}, {'name': 'PROD_CORRELATION', 'result': 'PENDING'}, {'name': 'REGULAR_SUBMISSION', 'result': 'PENDING'}, {'name': 'LOW_2Y_SHARPE', 'result': 'FAIL', 'value': -0.25, 'limit': 1.58}, {'result': 'PASS', 'name': 'MATCHES_PYRAMID', 'multiplier': 1.7, 'pyramids': [{'name': 'JPN/D1/Fundamental', 'multiplier': 1.7}]}]}, 'os': None, 'train': {'pnl': 10399081, 'bookSize': 20000000, 'longCount': 1405, 'shortCount': 0, 'turnover': 0.0177, 'returns': 0.249, 'drawdown': 0.3207, 'margin': 0.02814, 'fitness': 0.93, 'sharpe': 0.66, 'startDate': '2012-07-15'}, 'test': {'pnl': 5923540, 'bookSize': 20000000, 'longCount': 1444, 'shortCount': 0, 'turnover': 0.0189, 'returns': 0.0959, 'drawdown': 0.7738, 'margin': 0.010165, 'fitness': 0.25, 'sharpe': 0.29, 'startDate': '2016-07-15'}, 'prod': None, 'competitions': None, 'themes': None, 'pyramids': None, 'team': None}, 'submission_checks aka get_results_dictionary': {'is': {'checks': [{'name': 'LOW_SHARPE', 'result': 'FAIL', 'limit': 1.58, 'value': 0.46}, {'name': 'LOW_FITNESS', 'result': 'FAIL', 'limit': 1.0, 'value': 0.52}, {'name': 'LOW_TURNOVER', 'result': 'PASS', 'limit': 0.01, 'value': 0.0184}, {'name': 'HIGH_TURNOVER', 'result': 'PASS', 'limit': 0.7, 'value': 0.0184}, {'name': 'CONCENTRATED_WEIGHT', 'result': 'PASS'}, {'name': 'LOW_SUB_UNIVERSE_SHARPE', 'result': 'FAIL', 'limit': 0.3, 'value': 0.25}, {'name': 'SELF_CORRELATION', 'result': 'PENDING'}, {'name': 'DATA_DIVERSITY', 'result': 'PASS'}, {'name': 'PROD_CORRELATION', 'result': 'PENDING'}, {'name': 'REGULAR_SUBMISSION', 'result': 'PASS', 'limit': 4, 'value': 0}, {'name': 'LOW_2Y_SHARPE', 'result': 'FAIL', 'value': -0.25, 'limit': 1.58}, {'result': 'PASS', 'name': 'MATCHES_PYRAMID', 'multiplier': 1.7, 'pyramids': [{'name': 'JPN/D1/Fundamental', 'multiplier': 1.7}]}]}}}\n",
      "\n",
      "\n",
      "2024-11-25 20:25:46,670 - Sharpe Ratio None is below threshold for alpha: fnd17_arevstrt\n"
     ]
    },
    {
     "name": "stdout",
     "output_type": "stream",
     "text": [
      "\n",
      "\n",
      "get_results: {\"is\":{\"checks\":[{\"name\":\"LOW_SHARPE\",\"result\":\"FAIL\",\"limit\":1.58,\"value\":0.46},{\"name\":\"LOW_FITNESS\",\"result\":\"FAIL\",\"limit\":1.0,\"value\":0.52},{\"name\":\"LOW_TURNOVER\",\"result\":\"PASS\",\"limit\":0.01,\"value\":0.0184},{\"name\":\"HIGH_TURNOVER\",\"result\":\"PASS\",\"limit\":0.7,\"value\":0.0184},{\"name\":\"CONCENTRATED_WEIGHT\",\"result\":\"PASS\"},{\"name\":\"LOW_SUB_UNIVERSE_SHARPE\",\"result\":\"FAIL\",\"limit\":0.3,\"value\":0.25},{\"name\":\"SELF_CORRELATION\",\"result\":\"PENDING\"},{\"name\":\"DATA_DIVERSITY\",\"result\":\"PASS\"},{\"name\":\"PROD_CORRELATION\",\"result\":\"PENDING\"},{\"name\":\"REGULAR_SUBMISSION\",\"result\":\"PASS\",\"limit\":4,\"value\":0},{\"name\":\"LOW_2Y_SHARPE\",\"result\":\"FAIL\",\"value\":-0.25,\"limit\":1.58},{\"result\":\"PASS\",\"name\":\"MATCHES_PYRAMID\",\"multiplier\":1.7,\"pyramids\":[{\"name\":\"JPN/D1/Fundamental\",\"multiplier\":1.7}]}]}} \n",
      "\n",
      "\n",
      "\n",
      "\n"
     ]
    },
    {
     "name": "stderr",
     "output_type": "stream",
     "text": [
      "2024-11-25 20:25:47,860 - Processing expression: fnd17_aroa5yavg\n"
     ]
    },
    {
     "name": "stdout",
     "output_type": "stream",
     "text": [
      "\n",
      "Location: https://api.worldquantbrain.com/simulations/1BGnnV1fT50OburorcEug3n\n",
      "Check Progress Returned alpha_id: g9X03Ll\n"
     ]
    },
    {
     "name": "stderr",
     "output_type": "stream",
     "text": [
      "2024-11-25 20:27:15,190 - get_results: {\"id\":\"g9X03Ll\",\"type\":\"REGULAR\",\"author\":\"KC72812\",\"settings\":{\"instrumentType\":\"EQUITY\",\"region\":\"JPN\",\"universe\":\"TOP1600\",\"delay\":1,\"decay\":4,\"neutralization\":\"NONE\",\"truncation\":0.08,\"pasteurization\":\"ON\",\"unitHandling\":\"VERIFY\",\"nanHandling\":\"OFF\",\"language\":\"FASTEXPR\",\"visualization\":false,\"testPeriod\":\"P6Y0M0D\"},\"regular\":{\"code\":\"ts_rank((fnd17_aroa5yavg), 20)\",\"description\":null,\"operatorCount\":1},\"dateCreated\":\"2024-11-23T23:19:17-05:00\",\"dateSubmitted\":null,\"dateModified\":\"2024-11-23T23:19:18-05:00\",\"name\":null,\"favorite\":false,\"hidden\":false,\"color\":null,\"category\":null,\"tags\":[],\"classifications\":[{\"id\":\"DATA_USAGE:SINGLE_DATA_SET\",\"name\":\"Single Data Set Alpha\"}],\"grade\":null,\"stage\":\"IS\",\"status\":\"UNSUBMITTED\",\"is\":{\"pnl\":16684455,\"bookSize\":20000000,\"longCount\":1412,\"shortCount\":0,\"turnover\":0.0133,\"returns\":0.1612,\"drawdown\":0.7166,\"margin\":0.02421,\"fitness\":0.52,\"sharpe\":0.46,\"startDate\":\"2012-07-15\",\"checks\":[{\"name\":\"LOW_SHARPE\",\"result\":\"FAIL\",\"limit\":1.58,\"value\":0.46},{\"name\":\"LOW_FITNESS\",\"result\":\"FAIL\",\"limit\":1.0,\"value\":0.52},{\"name\":\"LOW_TURNOVER\",\"result\":\"PASS\",\"limit\":0.01,\"value\":0.0133},{\"name\":\"HIGH_TURNOVER\",\"result\":\"PASS\",\"limit\":0.7,\"value\":0.0133},{\"name\":\"CONCENTRATED_WEIGHT\",\"result\":\"PASS\"},{\"name\":\"LOW_SUB_UNIVERSE_SHARPE\",\"result\":\"FAIL\",\"limit\":0.3,\"value\":0.15},{\"name\":\"SELF_CORRELATION\",\"result\":\"PENDING\"},{\"name\":\"DATA_DIVERSITY\",\"result\":\"PENDING\"},{\"name\":\"PROD_CORRELATION\",\"result\":\"PENDING\"},{\"name\":\"REGULAR_SUBMISSION\",\"result\":\"PENDING\"},{\"name\":\"LOW_2Y_SHARPE\",\"result\":\"FAIL\",\"value\":-0.15,\"limit\":1.58},{\"result\":\"PASS\",\"name\":\"MATCHES_PYRAMID\",\"multiplier\":1.7,\"pyramids\":[{\"name\":\"JPN/D1/Fundamental\",\"multiplier\":1.7}]}]},\"os\":null,\"train\":{\"pnl\":10352178,\"bookSize\":20000000,\"longCount\":1421,\"shortCount\":0,\"turnover\":0.0135,\"returns\":0.2479,\"drawdown\":0.3248,\"margin\":0.036591,\"fitness\":0.92,\"sharpe\":0.65,\"startDate\":\"2012-07-15\"},\"test\":{\"pnl\":6112283,\"bookSize\":20000000,\"longCount\":1406,\"shortCount\":0,\"turnover\":0.0132,\"returns\":0.099,\"drawdown\":0.7166,\"margin\":0.015041,\"fitness\":0.27,\"sharpe\":0.3,\"startDate\":\"2016-07-15\"},\"prod\":null,\"competitions\":null,\"themes\":null,\"pyramids\":null,\"team\":null}\n",
      "\n",
      "\n"
     ]
    },
    {
     "name": "stdout",
     "output_type": "stream",
     "text": [
      "\n",
      "\n",
      "get_results: {\"id\":\"g9X03Ll\",\"type\":\"REGULAR\",\"author\":\"KC72812\",\"settings\":{\"instrumentType\":\"EQUITY\",\"region\":\"JPN\",\"universe\":\"TOP1600\",\"delay\":1,\"decay\":4,\"neutralization\":\"NONE\",\"truncation\":0.08,\"pasteurization\":\"ON\",\"unitHandling\":\"VERIFY\",\"nanHandling\":\"OFF\",\"language\":\"FASTEXPR\",\"visualization\":false,\"testPeriod\":\"P6Y0M0D\"},\"regular\":{\"code\":\"ts_rank((fnd17_aroa5yavg), 20)\",\"description\":null,\"operatorCount\":1},\"dateCreated\":\"2024-11-23T23:19:17-05:00\",\"dateSubmitted\":null,\"dateModified\":\"2024-11-23T23:19:18-05:00\",\"name\":null,\"favorite\":false,\"hidden\":false,\"color\":null,\"category\":null,\"tags\":[],\"classifications\":[{\"id\":\"DATA_USAGE:SINGLE_DATA_SET\",\"name\":\"Single Data Set Alpha\"}],\"grade\":null,\"stage\":\"IS\",\"status\":\"UNSUBMITTED\",\"is\":{\"pnl\":16684455,\"bookSize\":20000000,\"longCount\":1412,\"shortCount\":0,\"turnover\":0.0133,\"returns\":0.1612,\"drawdown\":0.7166,\"margin\":0.02421,\"fitness\":0.52,\"sharpe\":0.46,\"startDate\":\"2012-07-15\",\"checks\":[{\"name\":\"LOW_SHARPE\",\"result\":\"FAIL\",\"limit\":1.58,\"value\":0.46},{\"name\":\"LOW_FITNESS\",\"result\":\"FAIL\",\"limit\":1.0,\"value\":0.52},{\"name\":\"LOW_TURNOVER\",\"result\":\"PASS\",\"limit\":0.01,\"value\":0.0133},{\"name\":\"HIGH_TURNOVER\",\"result\":\"PASS\",\"limit\":0.7,\"value\":0.0133},{\"name\":\"CONCENTRATED_WEIGHT\",\"result\":\"PASS\"},{\"name\":\"LOW_SUB_UNIVERSE_SHARPE\",\"result\":\"FAIL\",\"limit\":0.3,\"value\":0.15},{\"name\":\"SELF_CORRELATION\",\"result\":\"PENDING\"},{\"name\":\"DATA_DIVERSITY\",\"result\":\"PENDING\"},{\"name\":\"PROD_CORRELATION\",\"result\":\"PENDING\"},{\"name\":\"REGULAR_SUBMISSION\",\"result\":\"PENDING\"},{\"name\":\"LOW_2Y_SHARPE\",\"result\":\"FAIL\",\"value\":-0.15,\"limit\":1.58},{\"result\":\"PASS\",\"name\":\"MATCHES_PYRAMID\",\"multiplier\":1.7,\"pyramids\":[{\"name\":\"JPN/D1/Fundamental\",\"multiplier\":1.7}]}]},\"os\":null,\"train\":{\"pnl\":10352178,\"bookSize\":20000000,\"longCount\":1421,\"shortCount\":0,\"turnover\":0.0135,\"returns\":0.2479,\"drawdown\":0.3248,\"margin\":0.036591,\"fitness\":0.92,\"sharpe\":0.65,\"startDate\":\"2012-07-15\"},\"test\":{\"pnl\":6112283,\"bookSize\":20000000,\"longCount\":1406,\"shortCount\":0,\"turnover\":0.0132,\"returns\":0.099,\"drawdown\":0.7166,\"margin\":0.015041,\"fitness\":0.27,\"sharpe\":0.3,\"startDate\":\"2016-07-15\"},\"prod\":null,\"competitions\":null,\"themes\":null,\"pyramids\":null,\"team\":null} \n",
      "\n",
      "\n",
      "\n",
      "\n"
     ]
    },
    {
     "name": "stderr",
     "output_type": "stream",
     "text": [
      "2024-11-25 20:27:15,586 - get_results: {\"is\":{\"checks\":[{\"name\":\"LOW_SHARPE\",\"result\":\"FAIL\",\"limit\":1.58,\"value\":0.46},{\"name\":\"LOW_FITNESS\",\"result\":\"FAIL\",\"limit\":1.0,\"value\":0.52},{\"name\":\"LOW_TURNOVER\",\"result\":\"PASS\",\"limit\":0.01,\"value\":0.0133},{\"name\":\"HIGH_TURNOVER\",\"result\":\"PASS\",\"limit\":0.7,\"value\":0.0133},{\"name\":\"CONCENTRATED_WEIGHT\",\"result\":\"PASS\"},{\"name\":\"LOW_SUB_UNIVERSE_SHARPE\",\"result\":\"FAIL\",\"limit\":0.3,\"value\":0.15},{\"name\":\"SELF_CORRELATION\",\"result\":\"PENDING\"},{\"name\":\"DATA_DIVERSITY\",\"result\":\"PASS\"},{\"name\":\"PROD_CORRELATION\",\"result\":\"PENDING\"},{\"name\":\"REGULAR_SUBMISSION\",\"result\":\"PASS\",\"limit\":4,\"value\":0},{\"name\":\"LOW_2Y_SHARPE\",\"result\":\"FAIL\",\"value\":-0.15,\"limit\":1.58},{\"result\":\"PASS\",\"name\":\"MATCHES_PYRAMID\",\"multiplier\":1.7,\"pyramids\":[{\"name\":\"JPN/D1/Fundamental\",\"multiplier\":1.7}]}]}}\n",
      "\n",
      "\n",
      "2024-11-25 20:27:15,590 - simu_results: {'summary_results aka get_results_dictionary': {'id': 'g9X03Ll', 'type': 'REGULAR', 'author': 'KC72812', 'settings': {'instrumentType': 'EQUITY', 'region': 'JPN', 'universe': 'TOP1600', 'delay': 1, 'decay': 4, 'neutralization': 'NONE', 'truncation': 0.08, 'pasteurization': 'ON', 'unitHandling': 'VERIFY', 'nanHandling': 'OFF', 'language': 'FASTEXPR', 'visualization': False, 'testPeriod': 'P6Y0M0D'}, 'regular': {'code': 'ts_rank((fnd17_aroa5yavg), 20)', 'description': None, 'operatorCount': 1}, 'dateCreated': '2024-11-23T23:19:17-05:00', 'dateSubmitted': None, 'dateModified': '2024-11-23T23:19:18-05:00', 'name': None, 'favorite': False, 'hidden': False, 'color': None, 'category': None, 'tags': [], 'classifications': [{'id': 'DATA_USAGE:SINGLE_DATA_SET', 'name': 'Single Data Set Alpha'}], 'grade': None, 'stage': 'IS', 'status': 'UNSUBMITTED', 'is': {'pnl': 16684455, 'bookSize': 20000000, 'longCount': 1412, 'shortCount': 0, 'turnover': 0.0133, 'returns': 0.1612, 'drawdown': 0.7166, 'margin': 0.02421, 'fitness': 0.52, 'sharpe': 0.46, 'startDate': '2012-07-15', 'checks': [{'name': 'LOW_SHARPE', 'result': 'FAIL', 'limit': 1.58, 'value': 0.46}, {'name': 'LOW_FITNESS', 'result': 'FAIL', 'limit': 1.0, 'value': 0.52}, {'name': 'LOW_TURNOVER', 'result': 'PASS', 'limit': 0.01, 'value': 0.0133}, {'name': 'HIGH_TURNOVER', 'result': 'PASS', 'limit': 0.7, 'value': 0.0133}, {'name': 'CONCENTRATED_WEIGHT', 'result': 'PASS'}, {'name': 'LOW_SUB_UNIVERSE_SHARPE', 'result': 'FAIL', 'limit': 0.3, 'value': 0.15}, {'name': 'SELF_CORRELATION', 'result': 'PENDING'}, {'name': 'DATA_DIVERSITY', 'result': 'PENDING'}, {'name': 'PROD_CORRELATION', 'result': 'PENDING'}, {'name': 'REGULAR_SUBMISSION', 'result': 'PENDING'}, {'name': 'LOW_2Y_SHARPE', 'result': 'FAIL', 'value': -0.15, 'limit': 1.58}, {'result': 'PASS', 'name': 'MATCHES_PYRAMID', 'multiplier': 1.7, 'pyramids': [{'name': 'JPN/D1/Fundamental', 'multiplier': 1.7}]}]}, 'os': None, 'train': {'pnl': 10352178, 'bookSize': 20000000, 'longCount': 1421, 'shortCount': 0, 'turnover': 0.0135, 'returns': 0.2479, 'drawdown': 0.3248, 'margin': 0.036591, 'fitness': 0.92, 'sharpe': 0.65, 'startDate': '2012-07-15'}, 'test': {'pnl': 6112283, 'bookSize': 20000000, 'longCount': 1406, 'shortCount': 0, 'turnover': 0.0132, 'returns': 0.099, 'drawdown': 0.7166, 'margin': 0.015041, 'fitness': 0.27, 'sharpe': 0.3, 'startDate': '2016-07-15'}, 'prod': None, 'competitions': None, 'themes': None, 'pyramids': None, 'team': None}, 'submission_checks aka get_results_dictionary': {'is': {'checks': [{'name': 'LOW_SHARPE', 'result': 'FAIL', 'limit': 1.58, 'value': 0.46}, {'name': 'LOW_FITNESS', 'result': 'FAIL', 'limit': 1.0, 'value': 0.52}, {'name': 'LOW_TURNOVER', 'result': 'PASS', 'limit': 0.01, 'value': 0.0133}, {'name': 'HIGH_TURNOVER', 'result': 'PASS', 'limit': 0.7, 'value': 0.0133}, {'name': 'CONCENTRATED_WEIGHT', 'result': 'PASS'}, {'name': 'LOW_SUB_UNIVERSE_SHARPE', 'result': 'FAIL', 'limit': 0.3, 'value': 0.15}, {'name': 'SELF_CORRELATION', 'result': 'PENDING'}, {'name': 'DATA_DIVERSITY', 'result': 'PASS'}, {'name': 'PROD_CORRELATION', 'result': 'PENDING'}, {'name': 'REGULAR_SUBMISSION', 'result': 'PASS', 'limit': 4, 'value': 0}, {'name': 'LOW_2Y_SHARPE', 'result': 'FAIL', 'value': -0.15, 'limit': 1.58}, {'result': 'PASS', 'name': 'MATCHES_PYRAMID', 'multiplier': 1.7, 'pyramids': [{'name': 'JPN/D1/Fundamental', 'multiplier': 1.7}]}]}}}\n",
      "\n",
      "\n",
      "2024-11-25 20:27:15,593 - Sharpe Ratio None is below threshold for alpha: fnd17_aroa5yavg\n"
     ]
    },
    {
     "name": "stdout",
     "output_type": "stream",
     "text": [
      "\n",
      "\n",
      "get_results: {\"is\":{\"checks\":[{\"name\":\"LOW_SHARPE\",\"result\":\"FAIL\",\"limit\":1.58,\"value\":0.46},{\"name\":\"LOW_FITNESS\",\"result\":\"FAIL\",\"limit\":1.0,\"value\":0.52},{\"name\":\"LOW_TURNOVER\",\"result\":\"PASS\",\"limit\":0.01,\"value\":0.0133},{\"name\":\"HIGH_TURNOVER\",\"result\":\"PASS\",\"limit\":0.7,\"value\":0.0133},{\"name\":\"CONCENTRATED_WEIGHT\",\"result\":\"PASS\"},{\"name\":\"LOW_SUB_UNIVERSE_SHARPE\",\"result\":\"FAIL\",\"limit\":0.3,\"value\":0.15},{\"name\":\"SELF_CORRELATION\",\"result\":\"PENDING\"},{\"name\":\"DATA_DIVERSITY\",\"result\":\"PASS\"},{\"name\":\"PROD_CORRELATION\",\"result\":\"PENDING\"},{\"name\":\"REGULAR_SUBMISSION\",\"result\":\"PASS\",\"limit\":4,\"value\":0},{\"name\":\"LOW_2Y_SHARPE\",\"result\":\"FAIL\",\"value\":-0.15,\"limit\":1.58},{\"result\":\"PASS\",\"name\":\"MATCHES_PYRAMID\",\"multiplier\":1.7,\"pyramids\":[{\"name\":\"JPN/D1/Fundamental\",\"multiplier\":1.7}]}]}} \n",
      "\n",
      "\n",
      "\n",
      "\n"
     ]
    },
    {
     "name": "stderr",
     "output_type": "stream",
     "text": [
      "2024-11-25 20:27:16,543 - Processing expression: fnd17_aroapct\n"
     ]
    },
    {
     "name": "stdout",
     "output_type": "stream",
     "text": [
      "\n",
      "Location: https://api.worldquantbrain.com/simulations/3S5L3340m4sq9TFCQdVzPpS\n",
      "Check Progress Returned alpha_id: NRL2RxE\n"
     ]
    },
    {
     "name": "stderr",
     "output_type": "stream",
     "text": [
      "2024-11-25 20:28:39,661 - get_results: {\"id\":\"NRL2RxE\",\"type\":\"REGULAR\",\"author\":\"KC72812\",\"settings\":{\"instrumentType\":\"EQUITY\",\"region\":\"JPN\",\"universe\":\"TOP1600\",\"delay\":1,\"decay\":4,\"neutralization\":\"NONE\",\"truncation\":0.08,\"pasteurization\":\"ON\",\"unitHandling\":\"VERIFY\",\"nanHandling\":\"OFF\",\"language\":\"FASTEXPR\",\"visualization\":false,\"testPeriod\":\"P6Y0M0D\"},\"regular\":{\"code\":\"ts_rank((fnd17_aroapct), 20)\",\"description\":null,\"operatorCount\":1},\"dateCreated\":\"2024-11-23T23:20:12-05:00\",\"dateSubmitted\":null,\"dateModified\":\"2024-11-23T23:20:13-05:00\",\"name\":null,\"favorite\":false,\"hidden\":false,\"color\":null,\"category\":null,\"tags\":[],\"classifications\":[{\"id\":\"DATA_USAGE:SINGLE_DATA_SET\",\"name\":\"Single Data Set Alpha\"}],\"grade\":null,\"stage\":\"IS\",\"status\":\"UNSUBMITTED\",\"is\":{\"pnl\":16711330,\"bookSize\":20000000,\"longCount\":1530,\"shortCount\":0,\"turnover\":0.0135,\"returns\":0.1615,\"drawdown\":0.7661,\"margin\":0.023908,\"fitness\":0.52,\"sharpe\":0.46,\"startDate\":\"2012-07-15\",\"checks\":[{\"name\":\"LOW_SHARPE\",\"result\":\"FAIL\",\"limit\":1.58,\"value\":0.46},{\"name\":\"LOW_FITNESS\",\"result\":\"FAIL\",\"limit\":1.0,\"value\":0.52},{\"name\":\"LOW_TURNOVER\",\"result\":\"PASS\",\"limit\":0.01,\"value\":0.0135},{\"name\":\"HIGH_TURNOVER\",\"result\":\"PASS\",\"limit\":0.7,\"value\":0.0135},{\"name\":\"CONCENTRATED_WEIGHT\",\"result\":\"PASS\"},{\"name\":\"LOW_SUB_UNIVERSE_SHARPE\",\"result\":\"PASS\",\"limit\":0.3,\"value\":0.69},{\"name\":\"SELF_CORRELATION\",\"result\":\"PENDING\"},{\"name\":\"DATA_DIVERSITY\",\"result\":\"PENDING\"},{\"name\":\"PROD_CORRELATION\",\"result\":\"PENDING\"},{\"name\":\"REGULAR_SUBMISSION\",\"result\":\"PENDING\"},{\"name\":\"LOW_2Y_SHARPE\",\"result\":\"FAIL\",\"value\":-0.23,\"limit\":1.58},{\"result\":\"PASS\",\"name\":\"MATCHES_PYRAMID\",\"multiplier\":1.7,\"pyramids\":[{\"name\":\"JPN/D1/Fundamental\",\"multiplier\":1.7}]}]},\"os\":null,\"train\":{\"pnl\":10505419,\"bookSize\":20000000,\"longCount\":1493,\"shortCount\":0,\"turnover\":0.0136,\"returns\":0.2516,\"drawdown\":0.3229,\"margin\":0.036917,\"fitness\":0.94,\"sharpe\":0.66,\"startDate\":\"2012-07-15\"},\"test\":{\"pnl\":5965855,\"bookSize\":20000000,\"longCount\":1554,\"shortCount\":0,\"turnover\":0.0134,\"returns\":0.0966,\"drawdown\":0.7661,\"margin\":0.01439,\"fitness\":0.25,\"sharpe\":0.29,\"startDate\":\"2016-07-15\"},\"prod\":null,\"competitions\":null,\"themes\":null,\"pyramids\":null,\"team\":null}\n",
      "\n",
      "\n"
     ]
    },
    {
     "name": "stdout",
     "output_type": "stream",
     "text": [
      "\n",
      "\n",
      "get_results: {\"id\":\"NRL2RxE\",\"type\":\"REGULAR\",\"author\":\"KC72812\",\"settings\":{\"instrumentType\":\"EQUITY\",\"region\":\"JPN\",\"universe\":\"TOP1600\",\"delay\":1,\"decay\":4,\"neutralization\":\"NONE\",\"truncation\":0.08,\"pasteurization\":\"ON\",\"unitHandling\":\"VERIFY\",\"nanHandling\":\"OFF\",\"language\":\"FASTEXPR\",\"visualization\":false,\"testPeriod\":\"P6Y0M0D\"},\"regular\":{\"code\":\"ts_rank((fnd17_aroapct), 20)\",\"description\":null,\"operatorCount\":1},\"dateCreated\":\"2024-11-23T23:20:12-05:00\",\"dateSubmitted\":null,\"dateModified\":\"2024-11-23T23:20:13-05:00\",\"name\":null,\"favorite\":false,\"hidden\":false,\"color\":null,\"category\":null,\"tags\":[],\"classifications\":[{\"id\":\"DATA_USAGE:SINGLE_DATA_SET\",\"name\":\"Single Data Set Alpha\"}],\"grade\":null,\"stage\":\"IS\",\"status\":\"UNSUBMITTED\",\"is\":{\"pnl\":16711330,\"bookSize\":20000000,\"longCount\":1530,\"shortCount\":0,\"turnover\":0.0135,\"returns\":0.1615,\"drawdown\":0.7661,\"margin\":0.023908,\"fitness\":0.52,\"sharpe\":0.46,\"startDate\":\"2012-07-15\",\"checks\":[{\"name\":\"LOW_SHARPE\",\"result\":\"FAIL\",\"limit\":1.58,\"value\":0.46},{\"name\":\"LOW_FITNESS\",\"result\":\"FAIL\",\"limit\":1.0,\"value\":0.52},{\"name\":\"LOW_TURNOVER\",\"result\":\"PASS\",\"limit\":0.01,\"value\":0.0135},{\"name\":\"HIGH_TURNOVER\",\"result\":\"PASS\",\"limit\":0.7,\"value\":0.0135},{\"name\":\"CONCENTRATED_WEIGHT\",\"result\":\"PASS\"},{\"name\":\"LOW_SUB_UNIVERSE_SHARPE\",\"result\":\"PASS\",\"limit\":0.3,\"value\":0.69},{\"name\":\"SELF_CORRELATION\",\"result\":\"PENDING\"},{\"name\":\"DATA_DIVERSITY\",\"result\":\"PENDING\"},{\"name\":\"PROD_CORRELATION\",\"result\":\"PENDING\"},{\"name\":\"REGULAR_SUBMISSION\",\"result\":\"PENDING\"},{\"name\":\"LOW_2Y_SHARPE\",\"result\":\"FAIL\",\"value\":-0.23,\"limit\":1.58},{\"result\":\"PASS\",\"name\":\"MATCHES_PYRAMID\",\"multiplier\":1.7,\"pyramids\":[{\"name\":\"JPN/D1/Fundamental\",\"multiplier\":1.7}]}]},\"os\":null,\"train\":{\"pnl\":10505419,\"bookSize\":20000000,\"longCount\":1493,\"shortCount\":0,\"turnover\":0.0136,\"returns\":0.2516,\"drawdown\":0.3229,\"margin\":0.036917,\"fitness\":0.94,\"sharpe\":0.66,\"startDate\":\"2012-07-15\"},\"test\":{\"pnl\":5965855,\"bookSize\":20000000,\"longCount\":1554,\"shortCount\":0,\"turnover\":0.0134,\"returns\":0.0966,\"drawdown\":0.7661,\"margin\":0.01439,\"fitness\":0.25,\"sharpe\":0.29,\"startDate\":\"2016-07-15\"},\"prod\":null,\"competitions\":null,\"themes\":null,\"pyramids\":null,\"team\":null} \n",
      "\n",
      "\n",
      "\n",
      "\n"
     ]
    },
    {
     "name": "stderr",
     "output_type": "stream",
     "text": [
      "2024-11-25 20:28:40,051 - get_results: {\"is\":{\"checks\":[{\"name\":\"LOW_SHARPE\",\"result\":\"FAIL\",\"limit\":1.58,\"value\":0.46},{\"name\":\"LOW_FITNESS\",\"result\":\"FAIL\",\"limit\":1.0,\"value\":0.52},{\"name\":\"LOW_TURNOVER\",\"result\":\"PASS\",\"limit\":0.01,\"value\":0.0135},{\"name\":\"HIGH_TURNOVER\",\"result\":\"PASS\",\"limit\":0.7,\"value\":0.0135},{\"name\":\"CONCENTRATED_WEIGHT\",\"result\":\"PASS\"},{\"name\":\"LOW_SUB_UNIVERSE_SHARPE\",\"result\":\"PASS\",\"limit\":0.3,\"value\":0.69},{\"name\":\"SELF_CORRELATION\",\"result\":\"PENDING\"},{\"name\":\"DATA_DIVERSITY\",\"result\":\"PASS\"},{\"name\":\"PROD_CORRELATION\",\"result\":\"PENDING\"},{\"name\":\"REGULAR_SUBMISSION\",\"result\":\"PASS\",\"limit\":4,\"value\":0},{\"name\":\"LOW_2Y_SHARPE\",\"result\":\"FAIL\",\"value\":-0.23,\"limit\":1.58},{\"result\":\"PASS\",\"name\":\"MATCHES_PYRAMID\",\"multiplier\":1.7,\"pyramids\":[{\"name\":\"JPN/D1/Fundamental\",\"multiplier\":1.7}]}]}}\n",
      "\n",
      "\n",
      "2024-11-25 20:28:40,052 - simu_results: {'summary_results aka get_results_dictionary': {'id': 'NRL2RxE', 'type': 'REGULAR', 'author': 'KC72812', 'settings': {'instrumentType': 'EQUITY', 'region': 'JPN', 'universe': 'TOP1600', 'delay': 1, 'decay': 4, 'neutralization': 'NONE', 'truncation': 0.08, 'pasteurization': 'ON', 'unitHandling': 'VERIFY', 'nanHandling': 'OFF', 'language': 'FASTEXPR', 'visualization': False, 'testPeriod': 'P6Y0M0D'}, 'regular': {'code': 'ts_rank((fnd17_aroapct), 20)', 'description': None, 'operatorCount': 1}, 'dateCreated': '2024-11-23T23:20:12-05:00', 'dateSubmitted': None, 'dateModified': '2024-11-23T23:20:13-05:00', 'name': None, 'favorite': False, 'hidden': False, 'color': None, 'category': None, 'tags': [], 'classifications': [{'id': 'DATA_USAGE:SINGLE_DATA_SET', 'name': 'Single Data Set Alpha'}], 'grade': None, 'stage': 'IS', 'status': 'UNSUBMITTED', 'is': {'pnl': 16711330, 'bookSize': 20000000, 'longCount': 1530, 'shortCount': 0, 'turnover': 0.0135, 'returns': 0.1615, 'drawdown': 0.7661, 'margin': 0.023908, 'fitness': 0.52, 'sharpe': 0.46, 'startDate': '2012-07-15', 'checks': [{'name': 'LOW_SHARPE', 'result': 'FAIL', 'limit': 1.58, 'value': 0.46}, {'name': 'LOW_FITNESS', 'result': 'FAIL', 'limit': 1.0, 'value': 0.52}, {'name': 'LOW_TURNOVER', 'result': 'PASS', 'limit': 0.01, 'value': 0.0135}, {'name': 'HIGH_TURNOVER', 'result': 'PASS', 'limit': 0.7, 'value': 0.0135}, {'name': 'CONCENTRATED_WEIGHT', 'result': 'PASS'}, {'name': 'LOW_SUB_UNIVERSE_SHARPE', 'result': 'PASS', 'limit': 0.3, 'value': 0.69}, {'name': 'SELF_CORRELATION', 'result': 'PENDING'}, {'name': 'DATA_DIVERSITY', 'result': 'PENDING'}, {'name': 'PROD_CORRELATION', 'result': 'PENDING'}, {'name': 'REGULAR_SUBMISSION', 'result': 'PENDING'}, {'name': 'LOW_2Y_SHARPE', 'result': 'FAIL', 'value': -0.23, 'limit': 1.58}, {'result': 'PASS', 'name': 'MATCHES_PYRAMID', 'multiplier': 1.7, 'pyramids': [{'name': 'JPN/D1/Fundamental', 'multiplier': 1.7}]}]}, 'os': None, 'train': {'pnl': 10505419, 'bookSize': 20000000, 'longCount': 1493, 'shortCount': 0, 'turnover': 0.0136, 'returns': 0.2516, 'drawdown': 0.3229, 'margin': 0.036917, 'fitness': 0.94, 'sharpe': 0.66, 'startDate': '2012-07-15'}, 'test': {'pnl': 5965855, 'bookSize': 20000000, 'longCount': 1554, 'shortCount': 0, 'turnover': 0.0134, 'returns': 0.0966, 'drawdown': 0.7661, 'margin': 0.01439, 'fitness': 0.25, 'sharpe': 0.29, 'startDate': '2016-07-15'}, 'prod': None, 'competitions': None, 'themes': None, 'pyramids': None, 'team': None}, 'submission_checks aka get_results_dictionary': {'is': {'checks': [{'name': 'LOW_SHARPE', 'result': 'FAIL', 'limit': 1.58, 'value': 0.46}, {'name': 'LOW_FITNESS', 'result': 'FAIL', 'limit': 1.0, 'value': 0.52}, {'name': 'LOW_TURNOVER', 'result': 'PASS', 'limit': 0.01, 'value': 0.0135}, {'name': 'HIGH_TURNOVER', 'result': 'PASS', 'limit': 0.7, 'value': 0.0135}, {'name': 'CONCENTRATED_WEIGHT', 'result': 'PASS'}, {'name': 'LOW_SUB_UNIVERSE_SHARPE', 'result': 'PASS', 'limit': 0.3, 'value': 0.69}, {'name': 'SELF_CORRELATION', 'result': 'PENDING'}, {'name': 'DATA_DIVERSITY', 'result': 'PASS'}, {'name': 'PROD_CORRELATION', 'result': 'PENDING'}, {'name': 'REGULAR_SUBMISSION', 'result': 'PASS', 'limit': 4, 'value': 0}, {'name': 'LOW_2Y_SHARPE', 'result': 'FAIL', 'value': -0.23, 'limit': 1.58}, {'result': 'PASS', 'name': 'MATCHES_PYRAMID', 'multiplier': 1.7, 'pyramids': [{'name': 'JPN/D1/Fundamental', 'multiplier': 1.7}]}]}}}\n",
      "\n",
      "\n",
      "2024-11-25 20:28:40,053 - Sharpe Ratio None is below threshold for alpha: fnd17_aroapct\n"
     ]
    },
    {
     "name": "stdout",
     "output_type": "stream",
     "text": [
      "\n",
      "\n",
      "get_results: {\"is\":{\"checks\":[{\"name\":\"LOW_SHARPE\",\"result\":\"FAIL\",\"limit\":1.58,\"value\":0.46},{\"name\":\"LOW_FITNESS\",\"result\":\"FAIL\",\"limit\":1.0,\"value\":0.52},{\"name\":\"LOW_TURNOVER\",\"result\":\"PASS\",\"limit\":0.01,\"value\":0.0135},{\"name\":\"HIGH_TURNOVER\",\"result\":\"PASS\",\"limit\":0.7,\"value\":0.0135},{\"name\":\"CONCENTRATED_WEIGHT\",\"result\":\"PASS\"},{\"name\":\"LOW_SUB_UNIVERSE_SHARPE\",\"result\":\"PASS\",\"limit\":0.3,\"value\":0.69},{\"name\":\"SELF_CORRELATION\",\"result\":\"PENDING\"},{\"name\":\"DATA_DIVERSITY\",\"result\":\"PASS\"},{\"name\":\"PROD_CORRELATION\",\"result\":\"PENDING\"},{\"name\":\"REGULAR_SUBMISSION\",\"result\":\"PASS\",\"limit\":4,\"value\":0},{\"name\":\"LOW_2Y_SHARPE\",\"result\":\"FAIL\",\"value\":-0.23,\"limit\":1.58},{\"result\":\"PASS\",\"name\":\"MATCHES_PYRAMID\",\"multiplier\":1.7,\"pyramids\":[{\"name\":\"JPN/D1/Fundamental\",\"multiplier\":1.7}]}]}} \n",
      "\n",
      "\n",
      "\n",
      "\n"
     ]
    },
    {
     "name": "stderr",
     "output_type": "stream",
     "text": [
      "2024-11-25 20:28:41,116 - Finished processing batch 2.\n",
      "2024-11-25 20:28:42,690 - Processing batch 3 with 3 items.\n",
      "2024-11-25 20:28:42,692 - Processing expression: fnd17_aroe5yavg\n"
     ]
    },
    {
     "name": "stdout",
     "output_type": "stream",
     "text": [
      "\n",
      "Location: https://api.worldquantbrain.com/simulations/27Pjsd7uj4xLcEiO9xDr04C\n",
      "Check Progress Returned alpha_id: g9X0jMM\n"
     ]
    },
    {
     "name": "stderr",
     "output_type": "stream",
     "text": [
      "2024-11-25 20:30:32,227 - get_results: {\"id\":\"g9X0jMM\",\"type\":\"REGULAR\",\"author\":\"KC72812\",\"settings\":{\"instrumentType\":\"EQUITY\",\"region\":\"JPN\",\"universe\":\"TOP1600\",\"delay\":1,\"decay\":4,\"neutralization\":\"NONE\",\"truncation\":0.08,\"pasteurization\":\"ON\",\"unitHandling\":\"VERIFY\",\"nanHandling\":\"OFF\",\"language\":\"FASTEXPR\",\"visualization\":false,\"testPeriod\":\"P6Y0M0D\"},\"regular\":{\"code\":\"ts_rank((fnd17_aroe5yavg), 20)\",\"description\":null,\"operatorCount\":1},\"dateCreated\":\"2024-11-23T23:21:30-05:00\",\"dateSubmitted\":null,\"dateModified\":\"2024-11-23T23:21:30-05:00\",\"name\":null,\"favorite\":false,\"hidden\":false,\"color\":null,\"category\":null,\"tags\":[],\"classifications\":[{\"id\":\"DATA_USAGE:SINGLE_DATA_SET\",\"name\":\"Single Data Set Alpha\"}],\"grade\":null,\"stage\":\"IS\",\"status\":\"UNSUBMITTED\",\"is\":{\"pnl\":16825608,\"bookSize\":20000000,\"longCount\":1409,\"shortCount\":0,\"turnover\":0.013,\"returns\":0.1626,\"drawdown\":0.7162,\"margin\":0.025078,\"fitness\":0.52,\"sharpe\":0.46,\"startDate\":\"2012-07-15\",\"checks\":[{\"name\":\"LOW_SHARPE\",\"result\":\"FAIL\",\"limit\":1.58,\"value\":0.46},{\"name\":\"LOW_FITNESS\",\"result\":\"FAIL\",\"limit\":1.0,\"value\":0.52},{\"name\":\"LOW_TURNOVER\",\"result\":\"PASS\",\"limit\":0.01,\"value\":0.013},{\"name\":\"HIGH_TURNOVER\",\"result\":\"PASS\",\"limit\":0.7,\"value\":0.013},{\"name\":\"CONCENTRATED_WEIGHT\",\"result\":\"PASS\"},{\"name\":\"LOW_SUB_UNIVERSE_SHARPE\",\"result\":\"FAIL\",\"limit\":0.3,\"value\":0.28},{\"name\":\"SELF_CORRELATION\",\"result\":\"PENDING\"},{\"name\":\"DATA_DIVERSITY\",\"result\":\"PENDING\"},{\"name\":\"PROD_CORRELATION\",\"result\":\"PENDING\"},{\"name\":\"REGULAR_SUBMISSION\",\"result\":\"PENDING\"},{\"name\":\"LOW_2Y_SHARPE\",\"result\":\"FAIL\",\"value\":-0.14,\"limit\":1.58},{\"result\":\"PASS\",\"name\":\"MATCHES_PYRAMID\",\"multiplier\":1.7,\"pyramids\":[{\"name\":\"JPN/D1/Fundamental\",\"multiplier\":1.7}]}]},\"os\":null,\"train\":{\"pnl\":10417354,\"bookSize\":20000000,\"longCount\":1415,\"shortCount\":0,\"turnover\":0.0134,\"returns\":0.2495,\"drawdown\":0.3245,\"margin\":0.037173,\"fitness\":0.92,\"sharpe\":0.65,\"startDate\":\"2012-07-15\"},\"test\":{\"pnl\":6188332,\"bookSize\":20000000,\"longCount\":1405,\"shortCount\":0,\"turnover\":0.0127,\"returns\":0.1002,\"drawdown\":0.7162,\"margin\":0.015833,\"fitness\":0.27,\"sharpe\":0.3,\"startDate\":\"2016-07-15\"},\"prod\":null,\"competitions\":null,\"themes\":null,\"pyramids\":null,\"team\":null}\n",
      "\n",
      "\n"
     ]
    },
    {
     "name": "stdout",
     "output_type": "stream",
     "text": [
      "\n",
      "\n",
      "get_results: {\"id\":\"g9X0jMM\",\"type\":\"REGULAR\",\"author\":\"KC72812\",\"settings\":{\"instrumentType\":\"EQUITY\",\"region\":\"JPN\",\"universe\":\"TOP1600\",\"delay\":1,\"decay\":4,\"neutralization\":\"NONE\",\"truncation\":0.08,\"pasteurization\":\"ON\",\"unitHandling\":\"VERIFY\",\"nanHandling\":\"OFF\",\"language\":\"FASTEXPR\",\"visualization\":false,\"testPeriod\":\"P6Y0M0D\"},\"regular\":{\"code\":\"ts_rank((fnd17_aroe5yavg), 20)\",\"description\":null,\"operatorCount\":1},\"dateCreated\":\"2024-11-23T23:21:30-05:00\",\"dateSubmitted\":null,\"dateModified\":\"2024-11-23T23:21:30-05:00\",\"name\":null,\"favorite\":false,\"hidden\":false,\"color\":null,\"category\":null,\"tags\":[],\"classifications\":[{\"id\":\"DATA_USAGE:SINGLE_DATA_SET\",\"name\":\"Single Data Set Alpha\"}],\"grade\":null,\"stage\":\"IS\",\"status\":\"UNSUBMITTED\",\"is\":{\"pnl\":16825608,\"bookSize\":20000000,\"longCount\":1409,\"shortCount\":0,\"turnover\":0.013,\"returns\":0.1626,\"drawdown\":0.7162,\"margin\":0.025078,\"fitness\":0.52,\"sharpe\":0.46,\"startDate\":\"2012-07-15\",\"checks\":[{\"name\":\"LOW_SHARPE\",\"result\":\"FAIL\",\"limit\":1.58,\"value\":0.46},{\"name\":\"LOW_FITNESS\",\"result\":\"FAIL\",\"limit\":1.0,\"value\":0.52},{\"name\":\"LOW_TURNOVER\",\"result\":\"PASS\",\"limit\":0.01,\"value\":0.013},{\"name\":\"HIGH_TURNOVER\",\"result\":\"PASS\",\"limit\":0.7,\"value\":0.013},{\"name\":\"CONCENTRATED_WEIGHT\",\"result\":\"PASS\"},{\"name\":\"LOW_SUB_UNIVERSE_SHARPE\",\"result\":\"FAIL\",\"limit\":0.3,\"value\":0.28},{\"name\":\"SELF_CORRELATION\",\"result\":\"PENDING\"},{\"name\":\"DATA_DIVERSITY\",\"result\":\"PENDING\"},{\"name\":\"PROD_CORRELATION\",\"result\":\"PENDING\"},{\"name\":\"REGULAR_SUBMISSION\",\"result\":\"PENDING\"},{\"name\":\"LOW_2Y_SHARPE\",\"result\":\"FAIL\",\"value\":-0.14,\"limit\":1.58},{\"result\":\"PASS\",\"name\":\"MATCHES_PYRAMID\",\"multiplier\":1.7,\"pyramids\":[{\"name\":\"JPN/D1/Fundamental\",\"multiplier\":1.7}]}]},\"os\":null,\"train\":{\"pnl\":10417354,\"bookSize\":20000000,\"longCount\":1415,\"shortCount\":0,\"turnover\":0.0134,\"returns\":0.2495,\"drawdown\":0.3245,\"margin\":0.037173,\"fitness\":0.92,\"sharpe\":0.65,\"startDate\":\"2012-07-15\"},\"test\":{\"pnl\":6188332,\"bookSize\":20000000,\"longCount\":1405,\"shortCount\":0,\"turnover\":0.0127,\"returns\":0.1002,\"drawdown\":0.7162,\"margin\":0.015833,\"fitness\":0.27,\"sharpe\":0.3,\"startDate\":\"2016-07-15\"},\"prod\":null,\"competitions\":null,\"themes\":null,\"pyramids\":null,\"team\":null} \n",
      "\n",
      "\n",
      "\n",
      "\n"
     ]
    },
    {
     "name": "stderr",
     "output_type": "stream",
     "text": [
      "2024-11-25 20:30:32,724 - get_results: {\"is\":{\"checks\":[{\"name\":\"LOW_SHARPE\",\"result\":\"FAIL\",\"limit\":1.58,\"value\":0.46},{\"name\":\"LOW_FITNESS\",\"result\":\"FAIL\",\"limit\":1.0,\"value\":0.52},{\"name\":\"LOW_TURNOVER\",\"result\":\"PASS\",\"limit\":0.01,\"value\":0.013},{\"name\":\"HIGH_TURNOVER\",\"result\":\"PASS\",\"limit\":0.7,\"value\":0.013},{\"name\":\"CONCENTRATED_WEIGHT\",\"result\":\"PASS\"},{\"name\":\"LOW_SUB_UNIVERSE_SHARPE\",\"result\":\"FAIL\",\"limit\":0.3,\"value\":0.28},{\"name\":\"SELF_CORRELATION\",\"result\":\"PENDING\"},{\"name\":\"DATA_DIVERSITY\",\"result\":\"PASS\"},{\"name\":\"PROD_CORRELATION\",\"result\":\"PENDING\"},{\"name\":\"REGULAR_SUBMISSION\",\"result\":\"PASS\",\"limit\":4,\"value\":0},{\"name\":\"LOW_2Y_SHARPE\",\"result\":\"FAIL\",\"value\":-0.14,\"limit\":1.58},{\"result\":\"PASS\",\"name\":\"MATCHES_PYRAMID\",\"multiplier\":1.7,\"pyramids\":[{\"name\":\"JPN/D1/Fundamental\",\"multiplier\":1.7}]}]}}\n",
      "\n",
      "\n",
      "2024-11-25 20:30:32,724 - simu_results: {'summary_results aka get_results_dictionary': {'id': 'g9X0jMM', 'type': 'REGULAR', 'author': 'KC72812', 'settings': {'instrumentType': 'EQUITY', 'region': 'JPN', 'universe': 'TOP1600', 'delay': 1, 'decay': 4, 'neutralization': 'NONE', 'truncation': 0.08, 'pasteurization': 'ON', 'unitHandling': 'VERIFY', 'nanHandling': 'OFF', 'language': 'FASTEXPR', 'visualization': False, 'testPeriod': 'P6Y0M0D'}, 'regular': {'code': 'ts_rank((fnd17_aroe5yavg), 20)', 'description': None, 'operatorCount': 1}, 'dateCreated': '2024-11-23T23:21:30-05:00', 'dateSubmitted': None, 'dateModified': '2024-11-23T23:21:30-05:00', 'name': None, 'favorite': False, 'hidden': False, 'color': None, 'category': None, 'tags': [], 'classifications': [{'id': 'DATA_USAGE:SINGLE_DATA_SET', 'name': 'Single Data Set Alpha'}], 'grade': None, 'stage': 'IS', 'status': 'UNSUBMITTED', 'is': {'pnl': 16825608, 'bookSize': 20000000, 'longCount': 1409, 'shortCount': 0, 'turnover': 0.013, 'returns': 0.1626, 'drawdown': 0.7162, 'margin': 0.025078, 'fitness': 0.52, 'sharpe': 0.46, 'startDate': '2012-07-15', 'checks': [{'name': 'LOW_SHARPE', 'result': 'FAIL', 'limit': 1.58, 'value': 0.46}, {'name': 'LOW_FITNESS', 'result': 'FAIL', 'limit': 1.0, 'value': 0.52}, {'name': 'LOW_TURNOVER', 'result': 'PASS', 'limit': 0.01, 'value': 0.013}, {'name': 'HIGH_TURNOVER', 'result': 'PASS', 'limit': 0.7, 'value': 0.013}, {'name': 'CONCENTRATED_WEIGHT', 'result': 'PASS'}, {'name': 'LOW_SUB_UNIVERSE_SHARPE', 'result': 'FAIL', 'limit': 0.3, 'value': 0.28}, {'name': 'SELF_CORRELATION', 'result': 'PENDING'}, {'name': 'DATA_DIVERSITY', 'result': 'PENDING'}, {'name': 'PROD_CORRELATION', 'result': 'PENDING'}, {'name': 'REGULAR_SUBMISSION', 'result': 'PENDING'}, {'name': 'LOW_2Y_SHARPE', 'result': 'FAIL', 'value': -0.14, 'limit': 1.58}, {'result': 'PASS', 'name': 'MATCHES_PYRAMID', 'multiplier': 1.7, 'pyramids': [{'name': 'JPN/D1/Fundamental', 'multiplier': 1.7}]}]}, 'os': None, 'train': {'pnl': 10417354, 'bookSize': 20000000, 'longCount': 1415, 'shortCount': 0, 'turnover': 0.0134, 'returns': 0.2495, 'drawdown': 0.3245, 'margin': 0.037173, 'fitness': 0.92, 'sharpe': 0.65, 'startDate': '2012-07-15'}, 'test': {'pnl': 6188332, 'bookSize': 20000000, 'longCount': 1405, 'shortCount': 0, 'turnover': 0.0127, 'returns': 0.1002, 'drawdown': 0.7162, 'margin': 0.015833, 'fitness': 0.27, 'sharpe': 0.3, 'startDate': '2016-07-15'}, 'prod': None, 'competitions': None, 'themes': None, 'pyramids': None, 'team': None}, 'submission_checks aka get_results_dictionary': {'is': {'checks': [{'name': 'LOW_SHARPE', 'result': 'FAIL', 'limit': 1.58, 'value': 0.46}, {'name': 'LOW_FITNESS', 'result': 'FAIL', 'limit': 1.0, 'value': 0.52}, {'name': 'LOW_TURNOVER', 'result': 'PASS', 'limit': 0.01, 'value': 0.013}, {'name': 'HIGH_TURNOVER', 'result': 'PASS', 'limit': 0.7, 'value': 0.013}, {'name': 'CONCENTRATED_WEIGHT', 'result': 'PASS'}, {'name': 'LOW_SUB_UNIVERSE_SHARPE', 'result': 'FAIL', 'limit': 0.3, 'value': 0.28}, {'name': 'SELF_CORRELATION', 'result': 'PENDING'}, {'name': 'DATA_DIVERSITY', 'result': 'PASS'}, {'name': 'PROD_CORRELATION', 'result': 'PENDING'}, {'name': 'REGULAR_SUBMISSION', 'result': 'PASS', 'limit': 4, 'value': 0}, {'name': 'LOW_2Y_SHARPE', 'result': 'FAIL', 'value': -0.14, 'limit': 1.58}, {'result': 'PASS', 'name': 'MATCHES_PYRAMID', 'multiplier': 1.7, 'pyramids': [{'name': 'JPN/D1/Fundamental', 'multiplier': 1.7}]}]}}}\n",
      "\n",
      "\n",
      "2024-11-25 20:30:32,725 - Sharpe Ratio None is below threshold for alpha: fnd17_aroe5yavg\n"
     ]
    },
    {
     "name": "stdout",
     "output_type": "stream",
     "text": [
      "\n",
      "\n",
      "get_results: {\"is\":{\"checks\":[{\"name\":\"LOW_SHARPE\",\"result\":\"FAIL\",\"limit\":1.58,\"value\":0.46},{\"name\":\"LOW_FITNESS\",\"result\":\"FAIL\",\"limit\":1.0,\"value\":0.52},{\"name\":\"LOW_TURNOVER\",\"result\":\"PASS\",\"limit\":0.01,\"value\":0.013},{\"name\":\"HIGH_TURNOVER\",\"result\":\"PASS\",\"limit\":0.7,\"value\":0.013},{\"name\":\"CONCENTRATED_WEIGHT\",\"result\":\"PASS\"},{\"name\":\"LOW_SUB_UNIVERSE_SHARPE\",\"result\":\"FAIL\",\"limit\":0.3,\"value\":0.28},{\"name\":\"SELF_CORRELATION\",\"result\":\"PENDING\"},{\"name\":\"DATA_DIVERSITY\",\"result\":\"PASS\"},{\"name\":\"PROD_CORRELATION\",\"result\":\"PENDING\"},{\"name\":\"REGULAR_SUBMISSION\",\"result\":\"PASS\",\"limit\":4,\"value\":0},{\"name\":\"LOW_2Y_SHARPE\",\"result\":\"FAIL\",\"value\":-0.14,\"limit\":1.58},{\"result\":\"PASS\",\"name\":\"MATCHES_PYRAMID\",\"multiplier\":1.7,\"pyramids\":[{\"name\":\"JPN/D1/Fundamental\",\"multiplier\":1.7}]}]}} \n",
      "\n",
      "\n",
      "\n",
      "\n"
     ]
    },
    {
     "name": "stderr",
     "output_type": "stream",
     "text": [
      "2024-11-25 20:30:33,975 - Processing expression: fnd17_aroepct\n"
     ]
    },
    {
     "name": "stdout",
     "output_type": "stream",
     "text": [
      "\n",
      "Location: https://api.worldquantbrain.com/simulations/1t2gt5dI4OVcdXnwqZRbI5\n",
      "Check Progress Returned alpha_id: 0M6vLlq\n"
     ]
    },
    {
     "name": "stderr",
     "output_type": "stream",
     "text": [
      "2024-11-25 20:32:49,204 - get_results: {\"id\":\"0M6vLlq\",\"type\":\"REGULAR\",\"author\":\"KC72812\",\"settings\":{\"instrumentType\":\"EQUITY\",\"region\":\"JPN\",\"universe\":\"TOP1600\",\"delay\":1,\"decay\":4,\"neutralization\":\"NONE\",\"truncation\":0.08,\"pasteurization\":\"ON\",\"unitHandling\":\"VERIFY\",\"nanHandling\":\"OFF\",\"language\":\"FASTEXPR\",\"visualization\":false,\"testPeriod\":\"P6Y0M0D\"},\"regular\":{\"code\":\"ts_rank((fnd17_aroepct), 20)\",\"description\":null,\"operatorCount\":1},\"dateCreated\":\"2024-11-25T07:32:46-05:00\",\"dateSubmitted\":null,\"dateModified\":\"2024-11-25T07:32:46-05:00\",\"name\":null,\"favorite\":false,\"hidden\":false,\"color\":null,\"category\":null,\"tags\":[],\"classifications\":[{\"id\":\"DATA_USAGE:SINGLE_DATA_SET\",\"name\":\"Single Data Set Alpha\"}],\"grade\":null,\"stage\":\"IS\",\"status\":\"UNSUBMITTED\",\"is\":{\"pnl\":16844709,\"bookSize\":20000000,\"longCount\":1527,\"shortCount\":0,\"turnover\":0.0131,\"returns\":0.1628,\"drawdown\":0.7688,\"margin\":0.024784,\"fitness\":0.52,\"sharpe\":0.46,\"startDate\":\"2012-07-15\",\"checks\":[{\"name\":\"LOW_SHARPE\",\"result\":\"FAIL\",\"limit\":1.58,\"value\":0.46},{\"name\":\"LOW_FITNESS\",\"result\":\"FAIL\",\"limit\":1.0,\"value\":0.52},{\"name\":\"LOW_TURNOVER\",\"result\":\"PASS\",\"limit\":0.01,\"value\":0.0131},{\"name\":\"HIGH_TURNOVER\",\"result\":\"PASS\",\"limit\":0.7,\"value\":0.0131},{\"name\":\"CONCENTRATED_WEIGHT\",\"result\":\"PASS\"},{\"name\":\"LOW_SUB_UNIVERSE_SHARPE\",\"result\":\"PASS\",\"limit\":0.3,\"value\":0.69},{\"name\":\"SELF_CORRELATION\",\"result\":\"PENDING\"},{\"name\":\"DATA_DIVERSITY\",\"result\":\"PENDING\"},{\"name\":\"PROD_CORRELATION\",\"result\":\"PENDING\"},{\"name\":\"REGULAR_SUBMISSION\",\"result\":\"PENDING\"},{\"name\":\"LOW_2Y_SHARPE\",\"result\":\"FAIL\",\"value\":-0.23,\"limit\":1.58},{\"result\":\"PASS\",\"name\":\"MATCHES_PYRAMID\",\"multiplier\":1.7,\"pyramids\":[{\"name\":\"JPN/D1/Fundamental\",\"multiplier\":1.7}]}]},\"os\":null,\"train\":{\"pnl\":10598839,\"bookSize\":20000000,\"longCount\":1489,\"shortCount\":0,\"turnover\":0.0136,\"returns\":0.2538,\"drawdown\":0.3222,\"margin\":0.037456,\"fitness\":0.94,\"sharpe\":0.66,\"startDate\":\"2012-07-15\"},\"test\":{\"pnl\":6006918,\"bookSize\":20000000,\"longCount\":1553,\"shortCount\":0,\"turnover\":0.0129,\"returns\":0.0973,\"drawdown\":0.7688,\"margin\":0.015136,\"fitness\":0.26,\"sharpe\":0.29,\"startDate\":\"2016-07-15\"},\"prod\":null,\"competitions\":null,\"themes\":null,\"pyramids\":null,\"team\":null}\n",
      "\n",
      "\n"
     ]
    },
    {
     "name": "stdout",
     "output_type": "stream",
     "text": [
      "\n",
      "\n",
      "get_results: {\"id\":\"0M6vLlq\",\"type\":\"REGULAR\",\"author\":\"KC72812\",\"settings\":{\"instrumentType\":\"EQUITY\",\"region\":\"JPN\",\"universe\":\"TOP1600\",\"delay\":1,\"decay\":4,\"neutralization\":\"NONE\",\"truncation\":0.08,\"pasteurization\":\"ON\",\"unitHandling\":\"VERIFY\",\"nanHandling\":\"OFF\",\"language\":\"FASTEXPR\",\"visualization\":false,\"testPeriod\":\"P6Y0M0D\"},\"regular\":{\"code\":\"ts_rank((fnd17_aroepct), 20)\",\"description\":null,\"operatorCount\":1},\"dateCreated\":\"2024-11-25T07:32:46-05:00\",\"dateSubmitted\":null,\"dateModified\":\"2024-11-25T07:32:46-05:00\",\"name\":null,\"favorite\":false,\"hidden\":false,\"color\":null,\"category\":null,\"tags\":[],\"classifications\":[{\"id\":\"DATA_USAGE:SINGLE_DATA_SET\",\"name\":\"Single Data Set Alpha\"}],\"grade\":null,\"stage\":\"IS\",\"status\":\"UNSUBMITTED\",\"is\":{\"pnl\":16844709,\"bookSize\":20000000,\"longCount\":1527,\"shortCount\":0,\"turnover\":0.0131,\"returns\":0.1628,\"drawdown\":0.7688,\"margin\":0.024784,\"fitness\":0.52,\"sharpe\":0.46,\"startDate\":\"2012-07-15\",\"checks\":[{\"name\":\"LOW_SHARPE\",\"result\":\"FAIL\",\"limit\":1.58,\"value\":0.46},{\"name\":\"LOW_FITNESS\",\"result\":\"FAIL\",\"limit\":1.0,\"value\":0.52},{\"name\":\"LOW_TURNOVER\",\"result\":\"PASS\",\"limit\":0.01,\"value\":0.0131},{\"name\":\"HIGH_TURNOVER\",\"result\":\"PASS\",\"limit\":0.7,\"value\":0.0131},{\"name\":\"CONCENTRATED_WEIGHT\",\"result\":\"PASS\"},{\"name\":\"LOW_SUB_UNIVERSE_SHARPE\",\"result\":\"PASS\",\"limit\":0.3,\"value\":0.69},{\"name\":\"SELF_CORRELATION\",\"result\":\"PENDING\"},{\"name\":\"DATA_DIVERSITY\",\"result\":\"PENDING\"},{\"name\":\"PROD_CORRELATION\",\"result\":\"PENDING\"},{\"name\":\"REGULAR_SUBMISSION\",\"result\":\"PENDING\"},{\"name\":\"LOW_2Y_SHARPE\",\"result\":\"FAIL\",\"value\":-0.23,\"limit\":1.58},{\"result\":\"PASS\",\"name\":\"MATCHES_PYRAMID\",\"multiplier\":1.7,\"pyramids\":[{\"name\":\"JPN/D1/Fundamental\",\"multiplier\":1.7}]}]},\"os\":null,\"train\":{\"pnl\":10598839,\"bookSize\":20000000,\"longCount\":1489,\"shortCount\":0,\"turnover\":0.0136,\"returns\":0.2538,\"drawdown\":0.3222,\"margin\":0.037456,\"fitness\":0.94,\"sharpe\":0.66,\"startDate\":\"2012-07-15\"},\"test\":{\"pnl\":6006918,\"bookSize\":20000000,\"longCount\":1553,\"shortCount\":0,\"turnover\":0.0129,\"returns\":0.0973,\"drawdown\":0.7688,\"margin\":0.015136,\"fitness\":0.26,\"sharpe\":0.29,\"startDate\":\"2016-07-15\"},\"prod\":null,\"competitions\":null,\"themes\":null,\"pyramids\":null,\"team\":null} \n",
      "\n",
      "\n",
      "\n",
      "\n"
     ]
    },
    {
     "name": "stderr",
     "output_type": "stream",
     "text": [
      "2024-11-25 20:32:49,973 - get_results: {\"is\":{\"checks\":[{\"name\":\"LOW_SHARPE\",\"result\":\"FAIL\",\"limit\":1.58,\"value\":0.46},{\"name\":\"LOW_FITNESS\",\"result\":\"FAIL\",\"limit\":1.0,\"value\":0.52},{\"name\":\"LOW_TURNOVER\",\"result\":\"PASS\",\"limit\":0.01,\"value\":0.0131},{\"name\":\"HIGH_TURNOVER\",\"result\":\"PASS\",\"limit\":0.7,\"value\":0.0131},{\"name\":\"CONCENTRATED_WEIGHT\",\"result\":\"PASS\"},{\"name\":\"LOW_SUB_UNIVERSE_SHARPE\",\"result\":\"PASS\",\"limit\":0.3,\"value\":0.69},{\"name\":\"SELF_CORRELATION\",\"result\":\"PENDING\"},{\"name\":\"DATA_DIVERSITY\",\"result\":\"PASS\"},{\"name\":\"PROD_CORRELATION\",\"result\":\"PENDING\"},{\"name\":\"REGULAR_SUBMISSION\",\"result\":\"PASS\",\"limit\":4,\"value\":0},{\"name\":\"LOW_2Y_SHARPE\",\"result\":\"FAIL\",\"value\":-0.23,\"limit\":1.58},{\"result\":\"PASS\",\"name\":\"MATCHES_PYRAMID\",\"multiplier\":1.7,\"pyramids\":[{\"name\":\"JPN/D1/Fundamental\",\"multiplier\":1.7}]}]}}\n",
      "\n",
      "\n",
      "2024-11-25 20:32:49,974 - simu_results: {'summary_results aka get_results_dictionary': {'id': '0M6vLlq', 'type': 'REGULAR', 'author': 'KC72812', 'settings': {'instrumentType': 'EQUITY', 'region': 'JPN', 'universe': 'TOP1600', 'delay': 1, 'decay': 4, 'neutralization': 'NONE', 'truncation': 0.08, 'pasteurization': 'ON', 'unitHandling': 'VERIFY', 'nanHandling': 'OFF', 'language': 'FASTEXPR', 'visualization': False, 'testPeriod': 'P6Y0M0D'}, 'regular': {'code': 'ts_rank((fnd17_aroepct), 20)', 'description': None, 'operatorCount': 1}, 'dateCreated': '2024-11-25T07:32:46-05:00', 'dateSubmitted': None, 'dateModified': '2024-11-25T07:32:46-05:00', 'name': None, 'favorite': False, 'hidden': False, 'color': None, 'category': None, 'tags': [], 'classifications': [{'id': 'DATA_USAGE:SINGLE_DATA_SET', 'name': 'Single Data Set Alpha'}], 'grade': None, 'stage': 'IS', 'status': 'UNSUBMITTED', 'is': {'pnl': 16844709, 'bookSize': 20000000, 'longCount': 1527, 'shortCount': 0, 'turnover': 0.0131, 'returns': 0.1628, 'drawdown': 0.7688, 'margin': 0.024784, 'fitness': 0.52, 'sharpe': 0.46, 'startDate': '2012-07-15', 'checks': [{'name': 'LOW_SHARPE', 'result': 'FAIL', 'limit': 1.58, 'value': 0.46}, {'name': 'LOW_FITNESS', 'result': 'FAIL', 'limit': 1.0, 'value': 0.52}, {'name': 'LOW_TURNOVER', 'result': 'PASS', 'limit': 0.01, 'value': 0.0131}, {'name': 'HIGH_TURNOVER', 'result': 'PASS', 'limit': 0.7, 'value': 0.0131}, {'name': 'CONCENTRATED_WEIGHT', 'result': 'PASS'}, {'name': 'LOW_SUB_UNIVERSE_SHARPE', 'result': 'PASS', 'limit': 0.3, 'value': 0.69}, {'name': 'SELF_CORRELATION', 'result': 'PENDING'}, {'name': 'DATA_DIVERSITY', 'result': 'PENDING'}, {'name': 'PROD_CORRELATION', 'result': 'PENDING'}, {'name': 'REGULAR_SUBMISSION', 'result': 'PENDING'}, {'name': 'LOW_2Y_SHARPE', 'result': 'FAIL', 'value': -0.23, 'limit': 1.58}, {'result': 'PASS', 'name': 'MATCHES_PYRAMID', 'multiplier': 1.7, 'pyramids': [{'name': 'JPN/D1/Fundamental', 'multiplier': 1.7}]}]}, 'os': None, 'train': {'pnl': 10598839, 'bookSize': 20000000, 'longCount': 1489, 'shortCount': 0, 'turnover': 0.0136, 'returns': 0.2538, 'drawdown': 0.3222, 'margin': 0.037456, 'fitness': 0.94, 'sharpe': 0.66, 'startDate': '2012-07-15'}, 'test': {'pnl': 6006918, 'bookSize': 20000000, 'longCount': 1553, 'shortCount': 0, 'turnover': 0.0129, 'returns': 0.0973, 'drawdown': 0.7688, 'margin': 0.015136, 'fitness': 0.26, 'sharpe': 0.29, 'startDate': '2016-07-15'}, 'prod': None, 'competitions': None, 'themes': None, 'pyramids': None, 'team': None}, 'submission_checks aka get_results_dictionary': {'is': {'checks': [{'name': 'LOW_SHARPE', 'result': 'FAIL', 'limit': 1.58, 'value': 0.46}, {'name': 'LOW_FITNESS', 'result': 'FAIL', 'limit': 1.0, 'value': 0.52}, {'name': 'LOW_TURNOVER', 'result': 'PASS', 'limit': 0.01, 'value': 0.0131}, {'name': 'HIGH_TURNOVER', 'result': 'PASS', 'limit': 0.7, 'value': 0.0131}, {'name': 'CONCENTRATED_WEIGHT', 'result': 'PASS'}, {'name': 'LOW_SUB_UNIVERSE_SHARPE', 'result': 'PASS', 'limit': 0.3, 'value': 0.69}, {'name': 'SELF_CORRELATION', 'result': 'PENDING'}, {'name': 'DATA_DIVERSITY', 'result': 'PASS'}, {'name': 'PROD_CORRELATION', 'result': 'PENDING'}, {'name': 'REGULAR_SUBMISSION', 'result': 'PASS', 'limit': 4, 'value': 0}, {'name': 'LOW_2Y_SHARPE', 'result': 'FAIL', 'value': -0.23, 'limit': 1.58}, {'result': 'PASS', 'name': 'MATCHES_PYRAMID', 'multiplier': 1.7, 'pyramids': [{'name': 'JPN/D1/Fundamental', 'multiplier': 1.7}]}]}}}\n",
      "\n",
      "\n",
      "2024-11-25 20:32:49,975 - Sharpe Ratio None is below threshold for alpha: fnd17_aroepct\n"
     ]
    },
    {
     "name": "stdout",
     "output_type": "stream",
     "text": [
      "\n",
      "\n",
      "get_results: {\"is\":{\"checks\":[{\"name\":\"LOW_SHARPE\",\"result\":\"FAIL\",\"limit\":1.58,\"value\":0.46},{\"name\":\"LOW_FITNESS\",\"result\":\"FAIL\",\"limit\":1.0,\"value\":0.52},{\"name\":\"LOW_TURNOVER\",\"result\":\"PASS\",\"limit\":0.01,\"value\":0.0131},{\"name\":\"HIGH_TURNOVER\",\"result\":\"PASS\",\"limit\":0.7,\"value\":0.0131},{\"name\":\"CONCENTRATED_WEIGHT\",\"result\":\"PASS\"},{\"name\":\"LOW_SUB_UNIVERSE_SHARPE\",\"result\":\"PASS\",\"limit\":0.3,\"value\":0.69},{\"name\":\"SELF_CORRELATION\",\"result\":\"PENDING\"},{\"name\":\"DATA_DIVERSITY\",\"result\":\"PASS\"},{\"name\":\"PROD_CORRELATION\",\"result\":\"PENDING\"},{\"name\":\"REGULAR_SUBMISSION\",\"result\":\"PASS\",\"limit\":4,\"value\":0},{\"name\":\"LOW_2Y_SHARPE\",\"result\":\"FAIL\",\"value\":-0.23,\"limit\":1.58},{\"result\":\"PASS\",\"name\":\"MATCHES_PYRAMID\",\"multiplier\":1.7,\"pyramids\":[{\"name\":\"JPN/D1/Fundamental\",\"multiplier\":1.7}]}]}} \n",
      "\n",
      "\n",
      "\n",
      "\n"
     ]
    },
    {
     "name": "stderr",
     "output_type": "stream",
     "text": [
      "2024-11-25 20:32:51,040 - Processing expression: fnd17_aroi5yravg\n"
     ]
    },
    {
     "name": "stdout",
     "output_type": "stream",
     "text": [
      "\n",
      "Location: https://api.worldquantbrain.com/simulations/3u3Oba2oi4vWaAmkDeAE0s6\n",
      "Check Progress Returned alpha_id: 5keWmWo\n"
     ]
    },
    {
     "name": "stderr",
     "output_type": "stream",
     "text": [
      "2024-11-25 20:36:01,046 - get_results: {\"id\":\"5keWmWo\",\"type\":\"REGULAR\",\"author\":\"KC72812\",\"settings\":{\"instrumentType\":\"EQUITY\",\"region\":\"JPN\",\"universe\":\"TOP1600\",\"delay\":1,\"decay\":4,\"neutralization\":\"NONE\",\"truncation\":0.08,\"pasteurization\":\"ON\",\"unitHandling\":\"VERIFY\",\"nanHandling\":\"OFF\",\"language\":\"FASTEXPR\",\"visualization\":false,\"testPeriod\":\"P6Y0M0D\"},\"regular\":{\"code\":\"ts_rank((fnd17_aroi5yravg), 20)\",\"description\":null,\"operatorCount\":1},\"dateCreated\":\"2024-11-25T07:35:59-05:00\",\"dateSubmitted\":null,\"dateModified\":\"2024-11-25T07:36:00-05:00\",\"name\":null,\"favorite\":false,\"hidden\":false,\"color\":null,\"category\":null,\"tags\":[],\"classifications\":[{\"id\":\"DATA_USAGE:SINGLE_DATA_SET\",\"name\":\"Single Data Set Alpha\"}],\"grade\":null,\"stage\":\"IS\",\"status\":\"UNSUBMITTED\",\"is\":{\"pnl\":17477327,\"bookSize\":20000000,\"longCount\":1342,\"shortCount\":0,\"turnover\":0.0136,\"returns\":0.1689,\"drawdown\":0.7352,\"margin\":0.024917,\"fitness\":0.56,\"sharpe\":0.48,\"startDate\":\"2012-07-15\",\"checks\":[{\"name\":\"LOW_SHARPE\",\"result\":\"FAIL\",\"limit\":1.58,\"value\":0.48},{\"name\":\"LOW_FITNESS\",\"result\":\"FAIL\",\"limit\":1.0,\"value\":0.56},{\"name\":\"LOW_TURNOVER\",\"result\":\"PASS\",\"limit\":0.01,\"value\":0.0136},{\"name\":\"HIGH_TURNOVER\",\"result\":\"PASS\",\"limit\":0.7,\"value\":0.0136},{\"name\":\"CONCENTRATED_WEIGHT\",\"result\":\"PASS\"},{\"name\":\"LOW_SUB_UNIVERSE_SHARPE\",\"result\":\"FAIL\",\"limit\":0.31,\"value\":0.04},{\"name\":\"SELF_CORRELATION\",\"result\":\"PENDING\"},{\"name\":\"DATA_DIVERSITY\",\"result\":\"PENDING\"},{\"name\":\"PROD_CORRELATION\",\"result\":\"PENDING\"},{\"name\":\"REGULAR_SUBMISSION\",\"result\":\"PENDING\"},{\"name\":\"LOW_2Y_SHARPE\",\"result\":\"FAIL\",\"value\":-0.15,\"limit\":1.58},{\"result\":\"PASS\",\"name\":\"MATCHES_PYRAMID\",\"multiplier\":1.7,\"pyramids\":[{\"name\":\"JPN/D1/Fundamental\",\"multiplier\":1.7}]}]},\"os\":null,\"train\":{\"pnl\":10707390,\"bookSize\":20000000,\"longCount\":1344,\"shortCount\":0,\"turnover\":0.0139,\"returns\":0.2564,\"drawdown\":0.3074,\"margin\":0.037004,\"fitness\":0.96,\"sharpe\":0.67,\"startDate\":\"2012-07-15\"},\"test\":{\"pnl\":6518928,\"bookSize\":20000000,\"longCount\":1341,\"shortCount\":0,\"turnover\":0.0133,\"returns\":0.1056,\"drawdown\":0.7352,\"margin\":0.015815,\"fitness\":0.29,\"sharpe\":0.32,\"startDate\":\"2016-07-15\"},\"prod\":null,\"competitions\":null,\"themes\":null,\"pyramids\":null,\"team\":null}\n",
      "\n",
      "\n"
     ]
    },
    {
     "name": "stdout",
     "output_type": "stream",
     "text": [
      "\n",
      "\n",
      "get_results: {\"id\":\"5keWmWo\",\"type\":\"REGULAR\",\"author\":\"KC72812\",\"settings\":{\"instrumentType\":\"EQUITY\",\"region\":\"JPN\",\"universe\":\"TOP1600\",\"delay\":1,\"decay\":4,\"neutralization\":\"NONE\",\"truncation\":0.08,\"pasteurization\":\"ON\",\"unitHandling\":\"VERIFY\",\"nanHandling\":\"OFF\",\"language\":\"FASTEXPR\",\"visualization\":false,\"testPeriod\":\"P6Y0M0D\"},\"regular\":{\"code\":\"ts_rank((fnd17_aroi5yravg), 20)\",\"description\":null,\"operatorCount\":1},\"dateCreated\":\"2024-11-25T07:35:59-05:00\",\"dateSubmitted\":null,\"dateModified\":\"2024-11-25T07:36:00-05:00\",\"name\":null,\"favorite\":false,\"hidden\":false,\"color\":null,\"category\":null,\"tags\":[],\"classifications\":[{\"id\":\"DATA_USAGE:SINGLE_DATA_SET\",\"name\":\"Single Data Set Alpha\"}],\"grade\":null,\"stage\":\"IS\",\"status\":\"UNSUBMITTED\",\"is\":{\"pnl\":17477327,\"bookSize\":20000000,\"longCount\":1342,\"shortCount\":0,\"turnover\":0.0136,\"returns\":0.1689,\"drawdown\":0.7352,\"margin\":0.024917,\"fitness\":0.56,\"sharpe\":0.48,\"startDate\":\"2012-07-15\",\"checks\":[{\"name\":\"LOW_SHARPE\",\"result\":\"FAIL\",\"limit\":1.58,\"value\":0.48},{\"name\":\"LOW_FITNESS\",\"result\":\"FAIL\",\"limit\":1.0,\"value\":0.56},{\"name\":\"LOW_TURNOVER\",\"result\":\"PASS\",\"limit\":0.01,\"value\":0.0136},{\"name\":\"HIGH_TURNOVER\",\"result\":\"PASS\",\"limit\":0.7,\"value\":0.0136},{\"name\":\"CONCENTRATED_WEIGHT\",\"result\":\"PASS\"},{\"name\":\"LOW_SUB_UNIVERSE_SHARPE\",\"result\":\"FAIL\",\"limit\":0.31,\"value\":0.04},{\"name\":\"SELF_CORRELATION\",\"result\":\"PENDING\"},{\"name\":\"DATA_DIVERSITY\",\"result\":\"PENDING\"},{\"name\":\"PROD_CORRELATION\",\"result\":\"PENDING\"},{\"name\":\"REGULAR_SUBMISSION\",\"result\":\"PENDING\"},{\"name\":\"LOW_2Y_SHARPE\",\"result\":\"FAIL\",\"value\":-0.15,\"limit\":1.58},{\"result\":\"PASS\",\"name\":\"MATCHES_PYRAMID\",\"multiplier\":1.7,\"pyramids\":[{\"name\":\"JPN/D1/Fundamental\",\"multiplier\":1.7}]}]},\"os\":null,\"train\":{\"pnl\":10707390,\"bookSize\":20000000,\"longCount\":1344,\"shortCount\":0,\"turnover\":0.0139,\"returns\":0.2564,\"drawdown\":0.3074,\"margin\":0.037004,\"fitness\":0.96,\"sharpe\":0.67,\"startDate\":\"2012-07-15\"},\"test\":{\"pnl\":6518928,\"bookSize\":20000000,\"longCount\":1341,\"shortCount\":0,\"turnover\":0.0133,\"returns\":0.1056,\"drawdown\":0.7352,\"margin\":0.015815,\"fitness\":0.29,\"sharpe\":0.32,\"startDate\":\"2016-07-15\"},\"prod\":null,\"competitions\":null,\"themes\":null,\"pyramids\":null,\"team\":null} \n",
      "\n",
      "\n",
      "\n",
      "\n"
     ]
    },
    {
     "name": "stderr",
     "output_type": "stream",
     "text": [
      "2024-11-25 20:36:01,471 - get_results: {\"is\":{\"checks\":[{\"name\":\"LOW_SHARPE\",\"result\":\"FAIL\",\"limit\":1.58,\"value\":0.48},{\"name\":\"LOW_FITNESS\",\"result\":\"FAIL\",\"limit\":1.0,\"value\":0.56},{\"name\":\"LOW_TURNOVER\",\"result\":\"PASS\",\"limit\":0.01,\"value\":0.0136},{\"name\":\"HIGH_TURNOVER\",\"result\":\"PASS\",\"limit\":0.7,\"value\":0.0136},{\"name\":\"CONCENTRATED_WEIGHT\",\"result\":\"PASS\"},{\"name\":\"LOW_SUB_UNIVERSE_SHARPE\",\"result\":\"FAIL\",\"limit\":0.31,\"value\":0.04},{\"name\":\"SELF_CORRELATION\",\"result\":\"PENDING\"},{\"name\":\"DATA_DIVERSITY\",\"result\":\"PASS\"},{\"name\":\"PROD_CORRELATION\",\"result\":\"PENDING\"},{\"name\":\"REGULAR_SUBMISSION\",\"result\":\"PASS\",\"limit\":4,\"value\":0},{\"name\":\"LOW_2Y_SHARPE\",\"result\":\"FAIL\",\"value\":-0.15,\"limit\":1.58},{\"result\":\"PASS\",\"name\":\"MATCHES_PYRAMID\",\"multiplier\":1.7,\"pyramids\":[{\"name\":\"JPN/D1/Fundamental\",\"multiplier\":1.7}]}]}}\n",
      "\n",
      "\n",
      "2024-11-25 20:36:01,472 - simu_results: {'summary_results aka get_results_dictionary': {'id': '5keWmWo', 'type': 'REGULAR', 'author': 'KC72812', 'settings': {'instrumentType': 'EQUITY', 'region': 'JPN', 'universe': 'TOP1600', 'delay': 1, 'decay': 4, 'neutralization': 'NONE', 'truncation': 0.08, 'pasteurization': 'ON', 'unitHandling': 'VERIFY', 'nanHandling': 'OFF', 'language': 'FASTEXPR', 'visualization': False, 'testPeriod': 'P6Y0M0D'}, 'regular': {'code': 'ts_rank((fnd17_aroi5yravg), 20)', 'description': None, 'operatorCount': 1}, 'dateCreated': '2024-11-25T07:35:59-05:00', 'dateSubmitted': None, 'dateModified': '2024-11-25T07:36:00-05:00', 'name': None, 'favorite': False, 'hidden': False, 'color': None, 'category': None, 'tags': [], 'classifications': [{'id': 'DATA_USAGE:SINGLE_DATA_SET', 'name': 'Single Data Set Alpha'}], 'grade': None, 'stage': 'IS', 'status': 'UNSUBMITTED', 'is': {'pnl': 17477327, 'bookSize': 20000000, 'longCount': 1342, 'shortCount': 0, 'turnover': 0.0136, 'returns': 0.1689, 'drawdown': 0.7352, 'margin': 0.024917, 'fitness': 0.56, 'sharpe': 0.48, 'startDate': '2012-07-15', 'checks': [{'name': 'LOW_SHARPE', 'result': 'FAIL', 'limit': 1.58, 'value': 0.48}, {'name': 'LOW_FITNESS', 'result': 'FAIL', 'limit': 1.0, 'value': 0.56}, {'name': 'LOW_TURNOVER', 'result': 'PASS', 'limit': 0.01, 'value': 0.0136}, {'name': 'HIGH_TURNOVER', 'result': 'PASS', 'limit': 0.7, 'value': 0.0136}, {'name': 'CONCENTRATED_WEIGHT', 'result': 'PASS'}, {'name': 'LOW_SUB_UNIVERSE_SHARPE', 'result': 'FAIL', 'limit': 0.31, 'value': 0.04}, {'name': 'SELF_CORRELATION', 'result': 'PENDING'}, {'name': 'DATA_DIVERSITY', 'result': 'PENDING'}, {'name': 'PROD_CORRELATION', 'result': 'PENDING'}, {'name': 'REGULAR_SUBMISSION', 'result': 'PENDING'}, {'name': 'LOW_2Y_SHARPE', 'result': 'FAIL', 'value': -0.15, 'limit': 1.58}, {'result': 'PASS', 'name': 'MATCHES_PYRAMID', 'multiplier': 1.7, 'pyramids': [{'name': 'JPN/D1/Fundamental', 'multiplier': 1.7}]}]}, 'os': None, 'train': {'pnl': 10707390, 'bookSize': 20000000, 'longCount': 1344, 'shortCount': 0, 'turnover': 0.0139, 'returns': 0.2564, 'drawdown': 0.3074, 'margin': 0.037004, 'fitness': 0.96, 'sharpe': 0.67, 'startDate': '2012-07-15'}, 'test': {'pnl': 6518928, 'bookSize': 20000000, 'longCount': 1341, 'shortCount': 0, 'turnover': 0.0133, 'returns': 0.1056, 'drawdown': 0.7352, 'margin': 0.015815, 'fitness': 0.29, 'sharpe': 0.32, 'startDate': '2016-07-15'}, 'prod': None, 'competitions': None, 'themes': None, 'pyramids': None, 'team': None}, 'submission_checks aka get_results_dictionary': {'is': {'checks': [{'name': 'LOW_SHARPE', 'result': 'FAIL', 'limit': 1.58, 'value': 0.48}, {'name': 'LOW_FITNESS', 'result': 'FAIL', 'limit': 1.0, 'value': 0.56}, {'name': 'LOW_TURNOVER', 'result': 'PASS', 'limit': 0.01, 'value': 0.0136}, {'name': 'HIGH_TURNOVER', 'result': 'PASS', 'limit': 0.7, 'value': 0.0136}, {'name': 'CONCENTRATED_WEIGHT', 'result': 'PASS'}, {'name': 'LOW_SUB_UNIVERSE_SHARPE', 'result': 'FAIL', 'limit': 0.31, 'value': 0.04}, {'name': 'SELF_CORRELATION', 'result': 'PENDING'}, {'name': 'DATA_DIVERSITY', 'result': 'PASS'}, {'name': 'PROD_CORRELATION', 'result': 'PENDING'}, {'name': 'REGULAR_SUBMISSION', 'result': 'PASS', 'limit': 4, 'value': 0}, {'name': 'LOW_2Y_SHARPE', 'result': 'FAIL', 'value': -0.15, 'limit': 1.58}, {'result': 'PASS', 'name': 'MATCHES_PYRAMID', 'multiplier': 1.7, 'pyramids': [{'name': 'JPN/D1/Fundamental', 'multiplier': 1.7}]}]}}}\n",
      "\n",
      "\n",
      "2024-11-25 20:36:01,473 - Sharpe Ratio None is below threshold for alpha: fnd17_aroi5yravg\n"
     ]
    },
    {
     "name": "stdout",
     "output_type": "stream",
     "text": [
      "\n",
      "\n",
      "get_results: {\"is\":{\"checks\":[{\"name\":\"LOW_SHARPE\",\"result\":\"FAIL\",\"limit\":1.58,\"value\":0.48},{\"name\":\"LOW_FITNESS\",\"result\":\"FAIL\",\"limit\":1.0,\"value\":0.56},{\"name\":\"LOW_TURNOVER\",\"result\":\"PASS\",\"limit\":0.01,\"value\":0.0136},{\"name\":\"HIGH_TURNOVER\",\"result\":\"PASS\",\"limit\":0.7,\"value\":0.0136},{\"name\":\"CONCENTRATED_WEIGHT\",\"result\":\"PASS\"},{\"name\":\"LOW_SUB_UNIVERSE_SHARPE\",\"result\":\"FAIL\",\"limit\":0.31,\"value\":0.04},{\"name\":\"SELF_CORRELATION\",\"result\":\"PENDING\"},{\"name\":\"DATA_DIVERSITY\",\"result\":\"PASS\"},{\"name\":\"PROD_CORRELATION\",\"result\":\"PENDING\"},{\"name\":\"REGULAR_SUBMISSION\",\"result\":\"PASS\",\"limit\":4,\"value\":0},{\"name\":\"LOW_2Y_SHARPE\",\"result\":\"FAIL\",\"value\":-0.15,\"limit\":1.58},{\"result\":\"PASS\",\"name\":\"MATCHES_PYRAMID\",\"multiplier\":1.7,\"pyramids\":[{\"name\":\"JPN/D1/Fundamental\",\"multiplier\":1.7}]}]}} \n",
      "\n",
      "\n",
      "\n",
      "\n"
     ]
    },
    {
     "name": "stderr",
     "output_type": "stream",
     "text": [
      "2024-11-25 20:36:01,976 - Finished processing batch 3.\n",
      "2024-11-25 20:36:03,945 - Processing batch 4 with 3 items.\n",
      "2024-11-25 20:36:03,946 - Processing expression: fnd17_aroipct\n"
     ]
    },
    {
     "name": "stdout",
     "output_type": "stream",
     "text": [
      "\n",
      "Location: https://api.worldquantbrain.com/simulations/1QWtCc2ln4U9b6P13oqQh8t4\n"
     ]
    },
    {
     "name": "stderr",
     "output_type": "stream",
     "text": [
      "2024-11-25 21:14:48,633 - An error occurred while processing fnd17_aroipct: ('Connection aborted.', RemoteDisconnected('Remote end closed connection without response'))\n",
      "2024-11-25 21:14:48,636 - Processing expression: fnd17_asga2rev\n"
     ]
    },
    {
     "name": "stdout",
     "output_type": "stream",
     "text": [
      "\n",
      "Location: https://api.worldquantbrain.com/simulations/Vagr48G4o3clUyodSGQCC\n",
      "Check Progress Returned alpha_id: wEP6eav\n"
     ]
    },
    {
     "name": "stderr",
     "output_type": "stream",
     "text": [
      "2024-11-25 21:16:40,027 - get_results: {\"id\":\"wEP6eav\",\"type\":\"REGULAR\",\"author\":\"KC72812\",\"settings\":{\"instrumentType\":\"EQUITY\",\"region\":\"JPN\",\"universe\":\"TOP1600\",\"delay\":1,\"decay\":4,\"neutralization\":\"NONE\",\"truncation\":0.08,\"pasteurization\":\"ON\",\"unitHandling\":\"VERIFY\",\"nanHandling\":\"OFF\",\"language\":\"FASTEXPR\",\"visualization\":false,\"testPeriod\":\"P6Y0M0D\"},\"regular\":{\"code\":\"ts_rank((fnd17_asga2rev), 20)\",\"description\":null,\"operatorCount\":1},\"dateCreated\":\"2024-11-25T08:16:37-05:00\",\"dateSubmitted\":null,\"dateModified\":\"2024-11-25T08:16:38-05:00\",\"name\":null,\"favorite\":false,\"hidden\":false,\"color\":null,\"category\":null,\"tags\":[],\"classifications\":[{\"id\":\"DATA_USAGE:SINGLE_DATA_SET\",\"name\":\"Single Data Set Alpha\"}],\"grade\":null,\"stage\":\"IS\",\"status\":\"UNSUBMITTED\",\"is\":{\"pnl\":17186474,\"bookSize\":20000000,\"longCount\":1460,\"shortCount\":0,\"turnover\":0.0171,\"returns\":0.1661,\"drawdown\":0.7924,\"margin\":0.019469,\"fitness\":0.54,\"sharpe\":0.47,\"startDate\":\"2012-07-15\",\"checks\":[{\"name\":\"LOW_SHARPE\",\"result\":\"FAIL\",\"limit\":1.58,\"value\":0.47},{\"name\":\"LOW_FITNESS\",\"result\":\"FAIL\",\"limit\":1.0,\"value\":0.54},{\"name\":\"LOW_TURNOVER\",\"result\":\"PASS\",\"limit\":0.01,\"value\":0.0171},{\"name\":\"HIGH_TURNOVER\",\"result\":\"PASS\",\"limit\":0.7,\"value\":0.0171},{\"name\":\"CONCENTRATED_WEIGHT\",\"result\":\"PASS\"},{\"name\":\"LOW_SUB_UNIVERSE_SHARPE\",\"result\":\"FAIL\",\"limit\":0.31,\"value\":-0.28},{\"name\":\"SELF_CORRELATION\",\"result\":\"PENDING\"},{\"name\":\"DATA_DIVERSITY\",\"result\":\"PENDING\"},{\"name\":\"PROD_CORRELATION\",\"result\":\"PENDING\"},{\"name\":\"REGULAR_SUBMISSION\",\"result\":\"PENDING\"},{\"name\":\"LOW_2Y_SHARPE\",\"result\":\"FAIL\",\"value\":-0.23,\"limit\":1.58},{\"result\":\"PASS\",\"name\":\"MATCHES_PYRAMID\",\"multiplier\":1.7,\"pyramids\":[{\"name\":\"JPN/D1/Fundamental\",\"multiplier\":1.7}]}]},\"os\":null,\"train\":{\"pnl\":10675725,\"bookSize\":20000000,\"longCount\":1414,\"shortCount\":0,\"turnover\":0.0164,\"returns\":0.2556,\"drawdown\":0.3077,\"margin\":0.031263,\"fitness\":0.96,\"sharpe\":0.67,\"startDate\":\"2012-07-15\"},\"test\":{\"pnl\":6220266,\"bookSize\":20000000,\"longCount\":1491,\"shortCount\":0,\"turnover\":0.0175,\"returns\":0.1007,\"drawdown\":0.7924,\"margin\":0.011478,\"fitness\":0.27,\"sharpe\":0.3,\"startDate\":\"2016-07-15\"},\"prod\":null,\"competitions\":null,\"themes\":null,\"pyramids\":null,\"team\":null}\n",
      "\n",
      "\n"
     ]
    },
    {
     "name": "stdout",
     "output_type": "stream",
     "text": [
      "\n",
      "\n",
      "get_results: {\"id\":\"wEP6eav\",\"type\":\"REGULAR\",\"author\":\"KC72812\",\"settings\":{\"instrumentType\":\"EQUITY\",\"region\":\"JPN\",\"universe\":\"TOP1600\",\"delay\":1,\"decay\":4,\"neutralization\":\"NONE\",\"truncation\":0.08,\"pasteurization\":\"ON\",\"unitHandling\":\"VERIFY\",\"nanHandling\":\"OFF\",\"language\":\"FASTEXPR\",\"visualization\":false,\"testPeriod\":\"P6Y0M0D\"},\"regular\":{\"code\":\"ts_rank((fnd17_asga2rev), 20)\",\"description\":null,\"operatorCount\":1},\"dateCreated\":\"2024-11-25T08:16:37-05:00\",\"dateSubmitted\":null,\"dateModified\":\"2024-11-25T08:16:38-05:00\",\"name\":null,\"favorite\":false,\"hidden\":false,\"color\":null,\"category\":null,\"tags\":[],\"classifications\":[{\"id\":\"DATA_USAGE:SINGLE_DATA_SET\",\"name\":\"Single Data Set Alpha\"}],\"grade\":null,\"stage\":\"IS\",\"status\":\"UNSUBMITTED\",\"is\":{\"pnl\":17186474,\"bookSize\":20000000,\"longCount\":1460,\"shortCount\":0,\"turnover\":0.0171,\"returns\":0.1661,\"drawdown\":0.7924,\"margin\":0.019469,\"fitness\":0.54,\"sharpe\":0.47,\"startDate\":\"2012-07-15\",\"checks\":[{\"name\":\"LOW_SHARPE\",\"result\":\"FAIL\",\"limit\":1.58,\"value\":0.47},{\"name\":\"LOW_FITNESS\",\"result\":\"FAIL\",\"limit\":1.0,\"value\":0.54},{\"name\":\"LOW_TURNOVER\",\"result\":\"PASS\",\"limit\":0.01,\"value\":0.0171},{\"name\":\"HIGH_TURNOVER\",\"result\":\"PASS\",\"limit\":0.7,\"value\":0.0171},{\"name\":\"CONCENTRATED_WEIGHT\",\"result\":\"PASS\"},{\"name\":\"LOW_SUB_UNIVERSE_SHARPE\",\"result\":\"FAIL\",\"limit\":0.31,\"value\":-0.28},{\"name\":\"SELF_CORRELATION\",\"result\":\"PENDING\"},{\"name\":\"DATA_DIVERSITY\",\"result\":\"PENDING\"},{\"name\":\"PROD_CORRELATION\",\"result\":\"PENDING\"},{\"name\":\"REGULAR_SUBMISSION\",\"result\":\"PENDING\"},{\"name\":\"LOW_2Y_SHARPE\",\"result\":\"FAIL\",\"value\":-0.23,\"limit\":1.58},{\"result\":\"PASS\",\"name\":\"MATCHES_PYRAMID\",\"multiplier\":1.7,\"pyramids\":[{\"name\":\"JPN/D1/Fundamental\",\"multiplier\":1.7}]}]},\"os\":null,\"train\":{\"pnl\":10675725,\"bookSize\":20000000,\"longCount\":1414,\"shortCount\":0,\"turnover\":0.0164,\"returns\":0.2556,\"drawdown\":0.3077,\"margin\":0.031263,\"fitness\":0.96,\"sharpe\":0.67,\"startDate\":\"2012-07-15\"},\"test\":{\"pnl\":6220266,\"bookSize\":20000000,\"longCount\":1491,\"shortCount\":0,\"turnover\":0.0175,\"returns\":0.1007,\"drawdown\":0.7924,\"margin\":0.011478,\"fitness\":0.27,\"sharpe\":0.3,\"startDate\":\"2016-07-15\"},\"prod\":null,\"competitions\":null,\"themes\":null,\"pyramids\":null,\"team\":null} \n",
      "\n",
      "\n",
      "\n",
      "\n"
     ]
    },
    {
     "name": "stderr",
     "output_type": "stream",
     "text": [
      "2024-11-25 21:16:40,464 - get_results: {\"is\":{\"checks\":[{\"name\":\"LOW_SHARPE\",\"result\":\"FAIL\",\"limit\":1.58,\"value\":0.47},{\"name\":\"LOW_FITNESS\",\"result\":\"FAIL\",\"limit\":1.0,\"value\":0.54},{\"name\":\"LOW_TURNOVER\",\"result\":\"PASS\",\"limit\":0.01,\"value\":0.0171},{\"name\":\"HIGH_TURNOVER\",\"result\":\"PASS\",\"limit\":0.7,\"value\":0.0171},{\"name\":\"CONCENTRATED_WEIGHT\",\"result\":\"PASS\"},{\"name\":\"LOW_SUB_UNIVERSE_SHARPE\",\"result\":\"FAIL\",\"limit\":0.31,\"value\":-0.28},{\"name\":\"SELF_CORRELATION\",\"result\":\"PENDING\"},{\"name\":\"DATA_DIVERSITY\",\"result\":\"PASS\"},{\"name\":\"PROD_CORRELATION\",\"result\":\"PENDING\"},{\"name\":\"REGULAR_SUBMISSION\",\"result\":\"PASS\",\"limit\":4,\"value\":0},{\"name\":\"LOW_2Y_SHARPE\",\"result\":\"FAIL\",\"value\":-0.23,\"limit\":1.58},{\"result\":\"PASS\",\"name\":\"MATCHES_PYRAMID\",\"multiplier\":1.7,\"pyramids\":[{\"name\":\"JPN/D1/Fundamental\",\"multiplier\":1.7}]}]}}\n",
      "\n",
      "\n",
      "2024-11-25 21:16:40,465 - simu_results: {'summary_results aka get_results_dictionary': {'id': 'wEP6eav', 'type': 'REGULAR', 'author': 'KC72812', 'settings': {'instrumentType': 'EQUITY', 'region': 'JPN', 'universe': 'TOP1600', 'delay': 1, 'decay': 4, 'neutralization': 'NONE', 'truncation': 0.08, 'pasteurization': 'ON', 'unitHandling': 'VERIFY', 'nanHandling': 'OFF', 'language': 'FASTEXPR', 'visualization': False, 'testPeriod': 'P6Y0M0D'}, 'regular': {'code': 'ts_rank((fnd17_asga2rev), 20)', 'description': None, 'operatorCount': 1}, 'dateCreated': '2024-11-25T08:16:37-05:00', 'dateSubmitted': None, 'dateModified': '2024-11-25T08:16:38-05:00', 'name': None, 'favorite': False, 'hidden': False, 'color': None, 'category': None, 'tags': [], 'classifications': [{'id': 'DATA_USAGE:SINGLE_DATA_SET', 'name': 'Single Data Set Alpha'}], 'grade': None, 'stage': 'IS', 'status': 'UNSUBMITTED', 'is': {'pnl': 17186474, 'bookSize': 20000000, 'longCount': 1460, 'shortCount': 0, 'turnover': 0.0171, 'returns': 0.1661, 'drawdown': 0.7924, 'margin': 0.019469, 'fitness': 0.54, 'sharpe': 0.47, 'startDate': '2012-07-15', 'checks': [{'name': 'LOW_SHARPE', 'result': 'FAIL', 'limit': 1.58, 'value': 0.47}, {'name': 'LOW_FITNESS', 'result': 'FAIL', 'limit': 1.0, 'value': 0.54}, {'name': 'LOW_TURNOVER', 'result': 'PASS', 'limit': 0.01, 'value': 0.0171}, {'name': 'HIGH_TURNOVER', 'result': 'PASS', 'limit': 0.7, 'value': 0.0171}, {'name': 'CONCENTRATED_WEIGHT', 'result': 'PASS'}, {'name': 'LOW_SUB_UNIVERSE_SHARPE', 'result': 'FAIL', 'limit': 0.31, 'value': -0.28}, {'name': 'SELF_CORRELATION', 'result': 'PENDING'}, {'name': 'DATA_DIVERSITY', 'result': 'PENDING'}, {'name': 'PROD_CORRELATION', 'result': 'PENDING'}, {'name': 'REGULAR_SUBMISSION', 'result': 'PENDING'}, {'name': 'LOW_2Y_SHARPE', 'result': 'FAIL', 'value': -0.23, 'limit': 1.58}, {'result': 'PASS', 'name': 'MATCHES_PYRAMID', 'multiplier': 1.7, 'pyramids': [{'name': 'JPN/D1/Fundamental', 'multiplier': 1.7}]}]}, 'os': None, 'train': {'pnl': 10675725, 'bookSize': 20000000, 'longCount': 1414, 'shortCount': 0, 'turnover': 0.0164, 'returns': 0.2556, 'drawdown': 0.3077, 'margin': 0.031263, 'fitness': 0.96, 'sharpe': 0.67, 'startDate': '2012-07-15'}, 'test': {'pnl': 6220266, 'bookSize': 20000000, 'longCount': 1491, 'shortCount': 0, 'turnover': 0.0175, 'returns': 0.1007, 'drawdown': 0.7924, 'margin': 0.011478, 'fitness': 0.27, 'sharpe': 0.3, 'startDate': '2016-07-15'}, 'prod': None, 'competitions': None, 'themes': None, 'pyramids': None, 'team': None}, 'submission_checks aka get_results_dictionary': {'is': {'checks': [{'name': 'LOW_SHARPE', 'result': 'FAIL', 'limit': 1.58, 'value': 0.47}, {'name': 'LOW_FITNESS', 'result': 'FAIL', 'limit': 1.0, 'value': 0.54}, {'name': 'LOW_TURNOVER', 'result': 'PASS', 'limit': 0.01, 'value': 0.0171}, {'name': 'HIGH_TURNOVER', 'result': 'PASS', 'limit': 0.7, 'value': 0.0171}, {'name': 'CONCENTRATED_WEIGHT', 'result': 'PASS'}, {'name': 'LOW_SUB_UNIVERSE_SHARPE', 'result': 'FAIL', 'limit': 0.31, 'value': -0.28}, {'name': 'SELF_CORRELATION', 'result': 'PENDING'}, {'name': 'DATA_DIVERSITY', 'result': 'PASS'}, {'name': 'PROD_CORRELATION', 'result': 'PENDING'}, {'name': 'REGULAR_SUBMISSION', 'result': 'PASS', 'limit': 4, 'value': 0}, {'name': 'LOW_2Y_SHARPE', 'result': 'FAIL', 'value': -0.23, 'limit': 1.58}, {'result': 'PASS', 'name': 'MATCHES_PYRAMID', 'multiplier': 1.7, 'pyramids': [{'name': 'JPN/D1/Fundamental', 'multiplier': 1.7}]}]}}}\n",
      "\n",
      "\n",
      "2024-11-25 21:16:40,465 - Sharpe Ratio None is below threshold for alpha: fnd17_asga2rev\n"
     ]
    },
    {
     "name": "stdout",
     "output_type": "stream",
     "text": [
      "\n",
      "\n",
      "get_results: {\"is\":{\"checks\":[{\"name\":\"LOW_SHARPE\",\"result\":\"FAIL\",\"limit\":1.58,\"value\":0.47},{\"name\":\"LOW_FITNESS\",\"result\":\"FAIL\",\"limit\":1.0,\"value\":0.54},{\"name\":\"LOW_TURNOVER\",\"result\":\"PASS\",\"limit\":0.01,\"value\":0.0171},{\"name\":\"HIGH_TURNOVER\",\"result\":\"PASS\",\"limit\":0.7,\"value\":0.0171},{\"name\":\"CONCENTRATED_WEIGHT\",\"result\":\"PASS\"},{\"name\":\"LOW_SUB_UNIVERSE_SHARPE\",\"result\":\"FAIL\",\"limit\":0.31,\"value\":-0.28},{\"name\":\"SELF_CORRELATION\",\"result\":\"PENDING\"},{\"name\":\"DATA_DIVERSITY\",\"result\":\"PASS\"},{\"name\":\"PROD_CORRELATION\",\"result\":\"PENDING\"},{\"name\":\"REGULAR_SUBMISSION\",\"result\":\"PASS\",\"limit\":4,\"value\":0},{\"name\":\"LOW_2Y_SHARPE\",\"result\":\"FAIL\",\"value\":-0.23,\"limit\":1.58},{\"result\":\"PASS\",\"name\":\"MATCHES_PYRAMID\",\"multiplier\":1.7,\"pyramids\":[{\"name\":\"JPN/D1/Fundamental\",\"multiplier\":1.7}]}]}} \n",
      "\n",
      "\n",
      "\n",
      "\n"
     ]
    },
    {
     "name": "stderr",
     "output_type": "stream",
     "text": [
      "2024-11-25 21:16:41,308 - Processing expression: fnd17_ata\n"
     ]
    },
    {
     "name": "stdout",
     "output_type": "stream",
     "text": [
      "\n",
      "Location: https://api.worldquantbrain.com/simulations/2UOLOv5US4GS9kIMGdSbgfp\n",
      "Check Progress Returned alpha_id: 7nMOz5O\n"
     ]
    },
    {
     "name": "stderr",
     "output_type": "stream",
     "text": [
      "2024-11-25 21:18:45,962 - get_results: {\"id\":\"7nMOz5O\",\"type\":\"REGULAR\",\"author\":\"KC72812\",\"settings\":{\"instrumentType\":\"EQUITY\",\"region\":\"JPN\",\"universe\":\"TOP1600\",\"delay\":1,\"decay\":4,\"neutralization\":\"NONE\",\"truncation\":0.08,\"pasteurization\":\"ON\",\"unitHandling\":\"VERIFY\",\"nanHandling\":\"OFF\",\"language\":\"FASTEXPR\",\"visualization\":false,\"testPeriod\":\"P6Y0M0D\"},\"regular\":{\"code\":\"ts_rank((fnd17_ata), 20)\",\"description\":null,\"operatorCount\":1},\"dateCreated\":\"2024-11-25T08:18:42-05:00\",\"dateSubmitted\":null,\"dateModified\":\"2024-11-25T08:18:43-05:00\",\"name\":null,\"favorite\":false,\"hidden\":false,\"color\":null,\"category\":null,\"tags\":[],\"classifications\":[{\"id\":\"DATA_USAGE:SINGLE_DATA_SET\",\"name\":\"Single Data Set Alpha\"}],\"grade\":null,\"stage\":\"IS\",\"status\":\"UNSUBMITTED\",\"is\":{\"pnl\":16508532,\"bookSize\":20000000,\"longCount\":1543,\"shortCount\":0,\"turnover\":0.0132,\"returns\":0.1595,\"drawdown\":0.7713,\"margin\":0.024206,\"fitness\":0.51,\"sharpe\":0.45,\"startDate\":\"2012-07-15\",\"checks\":[{\"name\":\"LOW_SHARPE\",\"result\":\"FAIL\",\"limit\":1.58,\"value\":0.45},{\"name\":\"LOW_FITNESS\",\"result\":\"FAIL\",\"limit\":1.0,\"value\":0.51},{\"name\":\"LOW_TURNOVER\",\"result\":\"PASS\",\"limit\":0.01,\"value\":0.0132},{\"name\":\"HIGH_TURNOVER\",\"result\":\"PASS\",\"limit\":0.7,\"value\":0.0132},{\"name\":\"CONCENTRATED_WEIGHT\",\"result\":\"PASS\"},{\"name\":\"LOW_SUB_UNIVERSE_SHARPE\",\"result\":\"PASS\",\"limit\":0.29,\"value\":0.59},{\"name\":\"SELF_CORRELATION\",\"result\":\"PENDING\"},{\"name\":\"DATA_DIVERSITY\",\"result\":\"PENDING\"},{\"name\":\"PROD_CORRELATION\",\"result\":\"PENDING\"},{\"name\":\"REGULAR_SUBMISSION\",\"result\":\"PENDING\"},{\"name\":\"LOW_2Y_SHARPE\",\"result\":\"FAIL\",\"value\":-0.25,\"limit\":1.58},{\"result\":\"PASS\",\"name\":\"MATCHES_PYRAMID\",\"multiplier\":1.7,\"pyramids\":[{\"name\":\"JPN/D1/Fundamental\",\"multiplier\":1.7}]}]},\"os\":null,\"train\":{\"pnl\":10455278,\"bookSize\":20000000,\"longCount\":1508,\"shortCount\":0,\"turnover\":0.0131,\"returns\":0.2504,\"drawdown\":0.3211,\"margin\":0.038193,\"fitness\":0.93,\"sharpe\":0.66,\"startDate\":\"2012-07-15\"},\"test\":{\"pnl\":5816480,\"bookSize\":20000000,\"longCount\":1568,\"shortCount\":0,\"turnover\":0.0132,\"returns\":0.0942,\"drawdown\":0.7713,\"margin\":0.014241,\"fitness\":0.24,\"sharpe\":0.28,\"startDate\":\"2016-07-15\"},\"prod\":null,\"competitions\":null,\"themes\":null,\"pyramids\":null,\"team\":null}\n",
      "\n",
      "\n"
     ]
    },
    {
     "name": "stdout",
     "output_type": "stream",
     "text": [
      "\n",
      "\n",
      "get_results: {\"id\":\"7nMOz5O\",\"type\":\"REGULAR\",\"author\":\"KC72812\",\"settings\":{\"instrumentType\":\"EQUITY\",\"region\":\"JPN\",\"universe\":\"TOP1600\",\"delay\":1,\"decay\":4,\"neutralization\":\"NONE\",\"truncation\":0.08,\"pasteurization\":\"ON\",\"unitHandling\":\"VERIFY\",\"nanHandling\":\"OFF\",\"language\":\"FASTEXPR\",\"visualization\":false,\"testPeriod\":\"P6Y0M0D\"},\"regular\":{\"code\":\"ts_rank((fnd17_ata), 20)\",\"description\":null,\"operatorCount\":1},\"dateCreated\":\"2024-11-25T08:18:42-05:00\",\"dateSubmitted\":null,\"dateModified\":\"2024-11-25T08:18:43-05:00\",\"name\":null,\"favorite\":false,\"hidden\":false,\"color\":null,\"category\":null,\"tags\":[],\"classifications\":[{\"id\":\"DATA_USAGE:SINGLE_DATA_SET\",\"name\":\"Single Data Set Alpha\"}],\"grade\":null,\"stage\":\"IS\",\"status\":\"UNSUBMITTED\",\"is\":{\"pnl\":16508532,\"bookSize\":20000000,\"longCount\":1543,\"shortCount\":0,\"turnover\":0.0132,\"returns\":0.1595,\"drawdown\":0.7713,\"margin\":0.024206,\"fitness\":0.51,\"sharpe\":0.45,\"startDate\":\"2012-07-15\",\"checks\":[{\"name\":\"LOW_SHARPE\",\"result\":\"FAIL\",\"limit\":1.58,\"value\":0.45},{\"name\":\"LOW_FITNESS\",\"result\":\"FAIL\",\"limit\":1.0,\"value\":0.51},{\"name\":\"LOW_TURNOVER\",\"result\":\"PASS\",\"limit\":0.01,\"value\":0.0132},{\"name\":\"HIGH_TURNOVER\",\"result\":\"PASS\",\"limit\":0.7,\"value\":0.0132},{\"name\":\"CONCENTRATED_WEIGHT\",\"result\":\"PASS\"},{\"name\":\"LOW_SUB_UNIVERSE_SHARPE\",\"result\":\"PASS\",\"limit\":0.29,\"value\":0.59},{\"name\":\"SELF_CORRELATION\",\"result\":\"PENDING\"},{\"name\":\"DATA_DIVERSITY\",\"result\":\"PENDING\"},{\"name\":\"PROD_CORRELATION\",\"result\":\"PENDING\"},{\"name\":\"REGULAR_SUBMISSION\",\"result\":\"PENDING\"},{\"name\":\"LOW_2Y_SHARPE\",\"result\":\"FAIL\",\"value\":-0.25,\"limit\":1.58},{\"result\":\"PASS\",\"name\":\"MATCHES_PYRAMID\",\"multiplier\":1.7,\"pyramids\":[{\"name\":\"JPN/D1/Fundamental\",\"multiplier\":1.7}]}]},\"os\":null,\"train\":{\"pnl\":10455278,\"bookSize\":20000000,\"longCount\":1508,\"shortCount\":0,\"turnover\":0.0131,\"returns\":0.2504,\"drawdown\":0.3211,\"margin\":0.038193,\"fitness\":0.93,\"sharpe\":0.66,\"startDate\":\"2012-07-15\"},\"test\":{\"pnl\":5816480,\"bookSize\":20000000,\"longCount\":1568,\"shortCount\":0,\"turnover\":0.0132,\"returns\":0.0942,\"drawdown\":0.7713,\"margin\":0.014241,\"fitness\":0.24,\"sharpe\":0.28,\"startDate\":\"2016-07-15\"},\"prod\":null,\"competitions\":null,\"themes\":null,\"pyramids\":null,\"team\":null} \n",
      "\n",
      "\n",
      "\n",
      "\n"
     ]
    },
    {
     "name": "stderr",
     "output_type": "stream",
     "text": [
      "2024-11-25 21:18:46,943 - get_results: {\"is\":{\"checks\":[{\"name\":\"LOW_SHARPE\",\"result\":\"FAIL\",\"limit\":1.58,\"value\":0.45},{\"name\":\"LOW_FITNESS\",\"result\":\"FAIL\",\"limit\":1.0,\"value\":0.51},{\"name\":\"LOW_TURNOVER\",\"result\":\"PASS\",\"limit\":0.01,\"value\":0.0132},{\"name\":\"HIGH_TURNOVER\",\"result\":\"PASS\",\"limit\":0.7,\"value\":0.0132},{\"name\":\"CONCENTRATED_WEIGHT\",\"result\":\"PASS\"},{\"name\":\"LOW_SUB_UNIVERSE_SHARPE\",\"result\":\"PASS\",\"limit\":0.29,\"value\":0.59},{\"name\":\"SELF_CORRELATION\",\"result\":\"PENDING\"},{\"name\":\"DATA_DIVERSITY\",\"result\":\"PASS\"},{\"name\":\"PROD_CORRELATION\",\"result\":\"PENDING\"},{\"name\":\"REGULAR_SUBMISSION\",\"result\":\"PASS\",\"limit\":4,\"value\":0},{\"name\":\"LOW_2Y_SHARPE\",\"result\":\"FAIL\",\"value\":-0.25,\"limit\":1.58},{\"result\":\"PASS\",\"name\":\"MATCHES_PYRAMID\",\"multiplier\":1.7,\"pyramids\":[{\"name\":\"JPN/D1/Fundamental\",\"multiplier\":1.7}]}]}}\n",
      "\n",
      "\n",
      "2024-11-25 21:18:46,944 - simu_results: {'summary_results aka get_results_dictionary': {'id': '7nMOz5O', 'type': 'REGULAR', 'author': 'KC72812', 'settings': {'instrumentType': 'EQUITY', 'region': 'JPN', 'universe': 'TOP1600', 'delay': 1, 'decay': 4, 'neutralization': 'NONE', 'truncation': 0.08, 'pasteurization': 'ON', 'unitHandling': 'VERIFY', 'nanHandling': 'OFF', 'language': 'FASTEXPR', 'visualization': False, 'testPeriod': 'P6Y0M0D'}, 'regular': {'code': 'ts_rank((fnd17_ata), 20)', 'description': None, 'operatorCount': 1}, 'dateCreated': '2024-11-25T08:18:42-05:00', 'dateSubmitted': None, 'dateModified': '2024-11-25T08:18:43-05:00', 'name': None, 'favorite': False, 'hidden': False, 'color': None, 'category': None, 'tags': [], 'classifications': [{'id': 'DATA_USAGE:SINGLE_DATA_SET', 'name': 'Single Data Set Alpha'}], 'grade': None, 'stage': 'IS', 'status': 'UNSUBMITTED', 'is': {'pnl': 16508532, 'bookSize': 20000000, 'longCount': 1543, 'shortCount': 0, 'turnover': 0.0132, 'returns': 0.1595, 'drawdown': 0.7713, 'margin': 0.024206, 'fitness': 0.51, 'sharpe': 0.45, 'startDate': '2012-07-15', 'checks': [{'name': 'LOW_SHARPE', 'result': 'FAIL', 'limit': 1.58, 'value': 0.45}, {'name': 'LOW_FITNESS', 'result': 'FAIL', 'limit': 1.0, 'value': 0.51}, {'name': 'LOW_TURNOVER', 'result': 'PASS', 'limit': 0.01, 'value': 0.0132}, {'name': 'HIGH_TURNOVER', 'result': 'PASS', 'limit': 0.7, 'value': 0.0132}, {'name': 'CONCENTRATED_WEIGHT', 'result': 'PASS'}, {'name': 'LOW_SUB_UNIVERSE_SHARPE', 'result': 'PASS', 'limit': 0.29, 'value': 0.59}, {'name': 'SELF_CORRELATION', 'result': 'PENDING'}, {'name': 'DATA_DIVERSITY', 'result': 'PENDING'}, {'name': 'PROD_CORRELATION', 'result': 'PENDING'}, {'name': 'REGULAR_SUBMISSION', 'result': 'PENDING'}, {'name': 'LOW_2Y_SHARPE', 'result': 'FAIL', 'value': -0.25, 'limit': 1.58}, {'result': 'PASS', 'name': 'MATCHES_PYRAMID', 'multiplier': 1.7, 'pyramids': [{'name': 'JPN/D1/Fundamental', 'multiplier': 1.7}]}]}, 'os': None, 'train': {'pnl': 10455278, 'bookSize': 20000000, 'longCount': 1508, 'shortCount': 0, 'turnover': 0.0131, 'returns': 0.2504, 'drawdown': 0.3211, 'margin': 0.038193, 'fitness': 0.93, 'sharpe': 0.66, 'startDate': '2012-07-15'}, 'test': {'pnl': 5816480, 'bookSize': 20000000, 'longCount': 1568, 'shortCount': 0, 'turnover': 0.0132, 'returns': 0.0942, 'drawdown': 0.7713, 'margin': 0.014241, 'fitness': 0.24, 'sharpe': 0.28, 'startDate': '2016-07-15'}, 'prod': None, 'competitions': None, 'themes': None, 'pyramids': None, 'team': None}, 'submission_checks aka get_results_dictionary': {'is': {'checks': [{'name': 'LOW_SHARPE', 'result': 'FAIL', 'limit': 1.58, 'value': 0.45}, {'name': 'LOW_FITNESS', 'result': 'FAIL', 'limit': 1.0, 'value': 0.51}, {'name': 'LOW_TURNOVER', 'result': 'PASS', 'limit': 0.01, 'value': 0.0132}, {'name': 'HIGH_TURNOVER', 'result': 'PASS', 'limit': 0.7, 'value': 0.0132}, {'name': 'CONCENTRATED_WEIGHT', 'result': 'PASS'}, {'name': 'LOW_SUB_UNIVERSE_SHARPE', 'result': 'PASS', 'limit': 0.29, 'value': 0.59}, {'name': 'SELF_CORRELATION', 'result': 'PENDING'}, {'name': 'DATA_DIVERSITY', 'result': 'PASS'}, {'name': 'PROD_CORRELATION', 'result': 'PENDING'}, {'name': 'REGULAR_SUBMISSION', 'result': 'PASS', 'limit': 4, 'value': 0}, {'name': 'LOW_2Y_SHARPE', 'result': 'FAIL', 'value': -0.25, 'limit': 1.58}, {'result': 'PASS', 'name': 'MATCHES_PYRAMID', 'multiplier': 1.7, 'pyramids': [{'name': 'JPN/D1/Fundamental', 'multiplier': 1.7}]}]}}}\n",
      "\n",
      "\n",
      "2024-11-25 21:18:46,945 - Sharpe Ratio None is below threshold for alpha: fnd17_ata\n"
     ]
    },
    {
     "name": "stdout",
     "output_type": "stream",
     "text": [
      "\n",
      "\n",
      "get_results: {\"is\":{\"checks\":[{\"name\":\"LOW_SHARPE\",\"result\":\"FAIL\",\"limit\":1.58,\"value\":0.45},{\"name\":\"LOW_FITNESS\",\"result\":\"FAIL\",\"limit\":1.0,\"value\":0.51},{\"name\":\"LOW_TURNOVER\",\"result\":\"PASS\",\"limit\":0.01,\"value\":0.0132},{\"name\":\"HIGH_TURNOVER\",\"result\":\"PASS\",\"limit\":0.7,\"value\":0.0132},{\"name\":\"CONCENTRATED_WEIGHT\",\"result\":\"PASS\"},{\"name\":\"LOW_SUB_UNIVERSE_SHARPE\",\"result\":\"PASS\",\"limit\":0.29,\"value\":0.59},{\"name\":\"SELF_CORRELATION\",\"result\":\"PENDING\"},{\"name\":\"DATA_DIVERSITY\",\"result\":\"PASS\"},{\"name\":\"PROD_CORRELATION\",\"result\":\"PENDING\"},{\"name\":\"REGULAR_SUBMISSION\",\"result\":\"PASS\",\"limit\":4,\"value\":0},{\"name\":\"LOW_2Y_SHARPE\",\"result\":\"FAIL\",\"value\":-0.25,\"limit\":1.58},{\"result\":\"PASS\",\"name\":\"MATCHES_PYRAMID\",\"multiplier\":1.7,\"pyramids\":[{\"name\":\"JPN/D1/Fundamental\",\"multiplier\":1.7}]}]}} \n",
      "\n",
      "\n",
      "\n",
      "\n"
     ]
    },
    {
     "name": "stderr",
     "output_type": "stream",
     "text": [
      "2024-11-25 21:18:47,984 - Finished processing batch 4.\n",
      "2024-11-25 21:18:49,447 - Processing batch 5 with 3 items.\n",
      "2024-11-25 21:18:49,447 - Processing expression: fnd17_atachg\n"
     ]
    },
    {
     "name": "stdout",
     "output_type": "stream",
     "text": [
      "\n",
      "Location: https://api.worldquantbrain.com/simulations/1MdmNR2vV4rdbH33DkWdq38\n",
      "Check Progress Returned alpha_id: ogr2Wzv\n"
     ]
    },
    {
     "name": "stderr",
     "output_type": "stream",
     "text": [
      "2024-11-25 21:20:36,831 - get_results: {\"id\":\"ogr2Wzv\",\"type\":\"REGULAR\",\"author\":\"KC72812\",\"settings\":{\"instrumentType\":\"EQUITY\",\"region\":\"JPN\",\"universe\":\"TOP1600\",\"delay\":1,\"decay\":4,\"neutralization\":\"NONE\",\"truncation\":0.08,\"pasteurization\":\"ON\",\"unitHandling\":\"VERIFY\",\"nanHandling\":\"OFF\",\"language\":\"FASTEXPR\",\"visualization\":false,\"testPeriod\":\"P6Y0M0D\"},\"regular\":{\"code\":\"ts_rank((fnd17_atachg), 20)\",\"description\":null,\"operatorCount\":1},\"dateCreated\":\"2024-11-25T08:20:33-05:00\",\"dateSubmitted\":null,\"dateModified\":\"2024-11-25T08:20:33-05:00\",\"name\":null,\"favorite\":false,\"hidden\":false,\"color\":null,\"category\":null,\"tags\":[],\"classifications\":[{\"id\":\"DATA_USAGE:SINGLE_DATA_SET\",\"name\":\"Single Data Set Alpha\"}],\"grade\":null,\"stage\":\"IS\",\"status\":\"UNSUBMITTED\",\"is\":{\"pnl\":16499492,\"bookSize\":20000000,\"longCount\":1530,\"shortCount\":0,\"turnover\":0.0137,\"returns\":0.1594,\"drawdown\":0.7706,\"margin\":0.023287,\"fitness\":0.51,\"sharpe\":0.45,\"startDate\":\"2012-07-15\",\"checks\":[{\"name\":\"LOW_SHARPE\",\"result\":\"FAIL\",\"limit\":1.58,\"value\":0.45},{\"name\":\"LOW_FITNESS\",\"result\":\"FAIL\",\"limit\":1.0,\"value\":0.51},{\"name\":\"LOW_TURNOVER\",\"result\":\"PASS\",\"limit\":0.01,\"value\":0.0137},{\"name\":\"HIGH_TURNOVER\",\"result\":\"PASS\",\"limit\":0.7,\"value\":0.0137},{\"name\":\"CONCENTRATED_WEIGHT\",\"result\":\"PASS\"},{\"name\":\"LOW_SUB_UNIVERSE_SHARPE\",\"result\":\"PASS\",\"limit\":0.29,\"value\":0.37},{\"name\":\"SELF_CORRELATION\",\"result\":\"PENDING\"},{\"name\":\"DATA_DIVERSITY\",\"result\":\"PENDING\"},{\"name\":\"PROD_CORRELATION\",\"result\":\"PENDING\"},{\"name\":\"REGULAR_SUBMISSION\",\"result\":\"PENDING\"},{\"name\":\"LOW_2Y_SHARPE\",\"result\":\"FAIL\",\"value\":-0.24,\"limit\":1.58},{\"result\":\"PASS\",\"name\":\"MATCHES_PYRAMID\",\"multiplier\":1.7,\"pyramids\":[{\"name\":\"JPN/D1/Fundamental\",\"multiplier\":1.7}]}]},\"os\":null,\"train\":{\"pnl\":10407558,\"bookSize\":20000000,\"longCount\":1493,\"shortCount\":0,\"turnover\":0.0139,\"returns\":0.2492,\"drawdown\":0.3236,\"margin\":0.035879,\"fitness\":0.92,\"sharpe\":0.65,\"startDate\":\"2012-07-15\"},\"test\":{\"pnl\":5857021,\"bookSize\":20000000,\"longCount\":1554,\"shortCount\":0,\"turnover\":0.0136,\"returns\":0.0948,\"drawdown\":0.7706,\"margin\":0.013991,\"fitness\":0.24,\"sharpe\":0.28,\"startDate\":\"2016-07-15\"},\"prod\":null,\"competitions\":null,\"themes\":null,\"pyramids\":null,\"team\":null}\n",
      "\n",
      "\n"
     ]
    },
    {
     "name": "stdout",
     "output_type": "stream",
     "text": [
      "\n",
      "\n",
      "get_results: {\"id\":\"ogr2Wzv\",\"type\":\"REGULAR\",\"author\":\"KC72812\",\"settings\":{\"instrumentType\":\"EQUITY\",\"region\":\"JPN\",\"universe\":\"TOP1600\",\"delay\":1,\"decay\":4,\"neutralization\":\"NONE\",\"truncation\":0.08,\"pasteurization\":\"ON\",\"unitHandling\":\"VERIFY\",\"nanHandling\":\"OFF\",\"language\":\"FASTEXPR\",\"visualization\":false,\"testPeriod\":\"P6Y0M0D\"},\"regular\":{\"code\":\"ts_rank((fnd17_atachg), 20)\",\"description\":null,\"operatorCount\":1},\"dateCreated\":\"2024-11-25T08:20:33-05:00\",\"dateSubmitted\":null,\"dateModified\":\"2024-11-25T08:20:33-05:00\",\"name\":null,\"favorite\":false,\"hidden\":false,\"color\":null,\"category\":null,\"tags\":[],\"classifications\":[{\"id\":\"DATA_USAGE:SINGLE_DATA_SET\",\"name\":\"Single Data Set Alpha\"}],\"grade\":null,\"stage\":\"IS\",\"status\":\"UNSUBMITTED\",\"is\":{\"pnl\":16499492,\"bookSize\":20000000,\"longCount\":1530,\"shortCount\":0,\"turnover\":0.0137,\"returns\":0.1594,\"drawdown\":0.7706,\"margin\":0.023287,\"fitness\":0.51,\"sharpe\":0.45,\"startDate\":\"2012-07-15\",\"checks\":[{\"name\":\"LOW_SHARPE\",\"result\":\"FAIL\",\"limit\":1.58,\"value\":0.45},{\"name\":\"LOW_FITNESS\",\"result\":\"FAIL\",\"limit\":1.0,\"value\":0.51},{\"name\":\"LOW_TURNOVER\",\"result\":\"PASS\",\"limit\":0.01,\"value\":0.0137},{\"name\":\"HIGH_TURNOVER\",\"result\":\"PASS\",\"limit\":0.7,\"value\":0.0137},{\"name\":\"CONCENTRATED_WEIGHT\",\"result\":\"PASS\"},{\"name\":\"LOW_SUB_UNIVERSE_SHARPE\",\"result\":\"PASS\",\"limit\":0.29,\"value\":0.37},{\"name\":\"SELF_CORRELATION\",\"result\":\"PENDING\"},{\"name\":\"DATA_DIVERSITY\",\"result\":\"PENDING\"},{\"name\":\"PROD_CORRELATION\",\"result\":\"PENDING\"},{\"name\":\"REGULAR_SUBMISSION\",\"result\":\"PENDING\"},{\"name\":\"LOW_2Y_SHARPE\",\"result\":\"FAIL\",\"value\":-0.24,\"limit\":1.58},{\"result\":\"PASS\",\"name\":\"MATCHES_PYRAMID\",\"multiplier\":1.7,\"pyramids\":[{\"name\":\"JPN/D1/Fundamental\",\"multiplier\":1.7}]}]},\"os\":null,\"train\":{\"pnl\":10407558,\"bookSize\":20000000,\"longCount\":1493,\"shortCount\":0,\"turnover\":0.0139,\"returns\":0.2492,\"drawdown\":0.3236,\"margin\":0.035879,\"fitness\":0.92,\"sharpe\":0.65,\"startDate\":\"2012-07-15\"},\"test\":{\"pnl\":5857021,\"bookSize\":20000000,\"longCount\":1554,\"shortCount\":0,\"turnover\":0.0136,\"returns\":0.0948,\"drawdown\":0.7706,\"margin\":0.013991,\"fitness\":0.24,\"sharpe\":0.28,\"startDate\":\"2016-07-15\"},\"prod\":null,\"competitions\":null,\"themes\":null,\"pyramids\":null,\"team\":null} \n",
      "\n",
      "\n",
      "\n",
      "\n"
     ]
    },
    {
     "name": "stderr",
     "output_type": "stream",
     "text": [
      "2024-11-25 21:20:37,247 - get_results: {\"is\":{\"checks\":[{\"name\":\"LOW_SHARPE\",\"result\":\"FAIL\",\"limit\":1.58,\"value\":0.45},{\"name\":\"LOW_FITNESS\",\"result\":\"FAIL\",\"limit\":1.0,\"value\":0.51},{\"name\":\"LOW_TURNOVER\",\"result\":\"PASS\",\"limit\":0.01,\"value\":0.0137},{\"name\":\"HIGH_TURNOVER\",\"result\":\"PASS\",\"limit\":0.7,\"value\":0.0137},{\"name\":\"CONCENTRATED_WEIGHT\",\"result\":\"PASS\"},{\"name\":\"LOW_SUB_UNIVERSE_SHARPE\",\"result\":\"PASS\",\"limit\":0.29,\"value\":0.37},{\"name\":\"SELF_CORRELATION\",\"result\":\"PENDING\"},{\"name\":\"DATA_DIVERSITY\",\"result\":\"PASS\"},{\"name\":\"PROD_CORRELATION\",\"result\":\"PENDING\"},{\"name\":\"REGULAR_SUBMISSION\",\"result\":\"PASS\",\"limit\":4,\"value\":0},{\"name\":\"LOW_2Y_SHARPE\",\"result\":\"FAIL\",\"value\":-0.24,\"limit\":1.58},{\"result\":\"PASS\",\"name\":\"MATCHES_PYRAMID\",\"multiplier\":1.7,\"pyramids\":[{\"name\":\"JPN/D1/Fundamental\",\"multiplier\":1.7}]}]}}\n",
      "\n",
      "\n",
      "2024-11-25 21:20:37,248 - simu_results: {'summary_results aka get_results_dictionary': {'id': 'ogr2Wzv', 'type': 'REGULAR', 'author': 'KC72812', 'settings': {'instrumentType': 'EQUITY', 'region': 'JPN', 'universe': 'TOP1600', 'delay': 1, 'decay': 4, 'neutralization': 'NONE', 'truncation': 0.08, 'pasteurization': 'ON', 'unitHandling': 'VERIFY', 'nanHandling': 'OFF', 'language': 'FASTEXPR', 'visualization': False, 'testPeriod': 'P6Y0M0D'}, 'regular': {'code': 'ts_rank((fnd17_atachg), 20)', 'description': None, 'operatorCount': 1}, 'dateCreated': '2024-11-25T08:20:33-05:00', 'dateSubmitted': None, 'dateModified': '2024-11-25T08:20:33-05:00', 'name': None, 'favorite': False, 'hidden': False, 'color': None, 'category': None, 'tags': [], 'classifications': [{'id': 'DATA_USAGE:SINGLE_DATA_SET', 'name': 'Single Data Set Alpha'}], 'grade': None, 'stage': 'IS', 'status': 'UNSUBMITTED', 'is': {'pnl': 16499492, 'bookSize': 20000000, 'longCount': 1530, 'shortCount': 0, 'turnover': 0.0137, 'returns': 0.1594, 'drawdown': 0.7706, 'margin': 0.023287, 'fitness': 0.51, 'sharpe': 0.45, 'startDate': '2012-07-15', 'checks': [{'name': 'LOW_SHARPE', 'result': 'FAIL', 'limit': 1.58, 'value': 0.45}, {'name': 'LOW_FITNESS', 'result': 'FAIL', 'limit': 1.0, 'value': 0.51}, {'name': 'LOW_TURNOVER', 'result': 'PASS', 'limit': 0.01, 'value': 0.0137}, {'name': 'HIGH_TURNOVER', 'result': 'PASS', 'limit': 0.7, 'value': 0.0137}, {'name': 'CONCENTRATED_WEIGHT', 'result': 'PASS'}, {'name': 'LOW_SUB_UNIVERSE_SHARPE', 'result': 'PASS', 'limit': 0.29, 'value': 0.37}, {'name': 'SELF_CORRELATION', 'result': 'PENDING'}, {'name': 'DATA_DIVERSITY', 'result': 'PENDING'}, {'name': 'PROD_CORRELATION', 'result': 'PENDING'}, {'name': 'REGULAR_SUBMISSION', 'result': 'PENDING'}, {'name': 'LOW_2Y_SHARPE', 'result': 'FAIL', 'value': -0.24, 'limit': 1.58}, {'result': 'PASS', 'name': 'MATCHES_PYRAMID', 'multiplier': 1.7, 'pyramids': [{'name': 'JPN/D1/Fundamental', 'multiplier': 1.7}]}]}, 'os': None, 'train': {'pnl': 10407558, 'bookSize': 20000000, 'longCount': 1493, 'shortCount': 0, 'turnover': 0.0139, 'returns': 0.2492, 'drawdown': 0.3236, 'margin': 0.035879, 'fitness': 0.92, 'sharpe': 0.65, 'startDate': '2012-07-15'}, 'test': {'pnl': 5857021, 'bookSize': 20000000, 'longCount': 1554, 'shortCount': 0, 'turnover': 0.0136, 'returns': 0.0948, 'drawdown': 0.7706, 'margin': 0.013991, 'fitness': 0.24, 'sharpe': 0.28, 'startDate': '2016-07-15'}, 'prod': None, 'competitions': None, 'themes': None, 'pyramids': None, 'team': None}, 'submission_checks aka get_results_dictionary': {'is': {'checks': [{'name': 'LOW_SHARPE', 'result': 'FAIL', 'limit': 1.58, 'value': 0.45}, {'name': 'LOW_FITNESS', 'result': 'FAIL', 'limit': 1.0, 'value': 0.51}, {'name': 'LOW_TURNOVER', 'result': 'PASS', 'limit': 0.01, 'value': 0.0137}, {'name': 'HIGH_TURNOVER', 'result': 'PASS', 'limit': 0.7, 'value': 0.0137}, {'name': 'CONCENTRATED_WEIGHT', 'result': 'PASS'}, {'name': 'LOW_SUB_UNIVERSE_SHARPE', 'result': 'PASS', 'limit': 0.29, 'value': 0.37}, {'name': 'SELF_CORRELATION', 'result': 'PENDING'}, {'name': 'DATA_DIVERSITY', 'result': 'PASS'}, {'name': 'PROD_CORRELATION', 'result': 'PENDING'}, {'name': 'REGULAR_SUBMISSION', 'result': 'PASS', 'limit': 4, 'value': 0}, {'name': 'LOW_2Y_SHARPE', 'result': 'FAIL', 'value': -0.24, 'limit': 1.58}, {'result': 'PASS', 'name': 'MATCHES_PYRAMID', 'multiplier': 1.7, 'pyramids': [{'name': 'JPN/D1/Fundamental', 'multiplier': 1.7}]}]}}}\n",
      "\n",
      "\n",
      "2024-11-25 21:20:37,248 - Sharpe Ratio None is below threshold for alpha: fnd17_atachg\n"
     ]
    },
    {
     "name": "stdout",
     "output_type": "stream",
     "text": [
      "\n",
      "\n",
      "get_results: {\"is\":{\"checks\":[{\"name\":\"LOW_SHARPE\",\"result\":\"FAIL\",\"limit\":1.58,\"value\":0.45},{\"name\":\"LOW_FITNESS\",\"result\":\"FAIL\",\"limit\":1.0,\"value\":0.51},{\"name\":\"LOW_TURNOVER\",\"result\":\"PASS\",\"limit\":0.01,\"value\":0.0137},{\"name\":\"HIGH_TURNOVER\",\"result\":\"PASS\",\"limit\":0.7,\"value\":0.0137},{\"name\":\"CONCENTRATED_WEIGHT\",\"result\":\"PASS\"},{\"name\":\"LOW_SUB_UNIVERSE_SHARPE\",\"result\":\"PASS\",\"limit\":0.29,\"value\":0.37},{\"name\":\"SELF_CORRELATION\",\"result\":\"PENDING\"},{\"name\":\"DATA_DIVERSITY\",\"result\":\"PASS\"},{\"name\":\"PROD_CORRELATION\",\"result\":\"PENDING\"},{\"name\":\"REGULAR_SUBMISSION\",\"result\":\"PASS\",\"limit\":4,\"value\":0},{\"name\":\"LOW_2Y_SHARPE\",\"result\":\"FAIL\",\"value\":-0.24,\"limit\":1.58},{\"result\":\"PASS\",\"name\":\"MATCHES_PYRAMID\",\"multiplier\":1.7,\"pyramids\":[{\"name\":\"JPN/D1/Fundamental\",\"multiplier\":1.7}]}]}} \n",
      "\n",
      "\n",
      "\n",
      "\n"
     ]
    },
    {
     "name": "stderr",
     "output_type": "stream",
     "text": [
      "2024-11-25 21:20:37,969 - Processing expression: fnd17_atanbvdolr\n"
     ]
    },
    {
     "name": "stdout",
     "output_type": "stream",
     "text": [
      "\n",
      "Location: https://api.worldquantbrain.com/simulations/4Dl7oC5pt57abJjlYn216zq\n",
      "Check Progress Returned alpha_id: 8eYAGQV\n"
     ]
    },
    {
     "name": "stderr",
     "output_type": "stream",
     "text": [
      "2024-11-25 21:22:31,204 - get_results: {\"id\":\"8eYAGQV\",\"type\":\"REGULAR\",\"author\":\"KC72812\",\"settings\":{\"instrumentType\":\"EQUITY\",\"region\":\"JPN\",\"universe\":\"TOP1600\",\"delay\":1,\"decay\":4,\"neutralization\":\"NONE\",\"truncation\":0.08,\"pasteurization\":\"ON\",\"unitHandling\":\"VERIFY\",\"nanHandling\":\"OFF\",\"language\":\"FASTEXPR\",\"visualization\":false,\"testPeriod\":\"P6Y0M0D\"},\"regular\":{\"code\":\"ts_rank((fnd17_atanbvdolr), 20)\",\"description\":null,\"operatorCount\":1},\"dateCreated\":\"2024-11-25T08:22:28-05:00\",\"dateSubmitted\":null,\"dateModified\":\"2024-11-25T08:22:28-05:00\",\"name\":null,\"favorite\":false,\"hidden\":false,\"color\":null,\"category\":null,\"tags\":[],\"classifications\":[{\"id\":\"DATA_USAGE:SINGLE_DATA_SET\",\"name\":\"Single Data Set Alpha\"}],\"grade\":null,\"stage\":\"IS\",\"status\":\"UNSUBMITTED\",\"is\":{\"pnl\":16456147,\"bookSize\":20000000,\"longCount\":1543,\"shortCount\":0,\"turnover\":0.0128,\"returns\":0.159,\"drawdown\":0.7733,\"margin\":0.024942,\"fitness\":0.51,\"sharpe\":0.45,\"startDate\":\"2012-07-15\",\"checks\":[{\"name\":\"LOW_SHARPE\",\"result\":\"FAIL\",\"limit\":1.58,\"value\":0.45},{\"name\":\"LOW_FITNESS\",\"result\":\"FAIL\",\"limit\":1.0,\"value\":0.51},{\"name\":\"LOW_TURNOVER\",\"result\":\"PASS\",\"limit\":0.01,\"value\":0.0128},{\"name\":\"HIGH_TURNOVER\",\"result\":\"PASS\",\"limit\":0.7,\"value\":0.0128},{\"name\":\"CONCENTRATED_WEIGHT\",\"result\":\"PASS\"},{\"name\":\"LOW_SUB_UNIVERSE_SHARPE\",\"result\":\"PASS\",\"limit\":0.29,\"value\":0.48},{\"name\":\"SELF_CORRELATION\",\"result\":\"PENDING\"},{\"name\":\"DATA_DIVERSITY\",\"result\":\"PENDING\"},{\"name\":\"PROD_CORRELATION\",\"result\":\"PENDING\"},{\"name\":\"REGULAR_SUBMISSION\",\"result\":\"PENDING\"},{\"name\":\"LOW_2Y_SHARPE\",\"result\":\"FAIL\",\"value\":-0.26,\"limit\":1.58},{\"result\":\"PASS\",\"name\":\"MATCHES_PYRAMID\",\"multiplier\":1.7,\"pyramids\":[{\"name\":\"JPN/D1/Fundamental\",\"multiplier\":1.7}]}]},\"os\":null,\"train\":{\"pnl\":10543781,\"bookSize\":20000000,\"longCount\":1508,\"shortCount\":0,\"turnover\":0.0131,\"returns\":0.2525,\"drawdown\":0.3204,\"margin\":0.038672,\"fitness\":0.94,\"sharpe\":0.66,\"startDate\":\"2012-07-15\"},\"test\":{\"pnl\":5672571,\"bookSize\":20000000,\"longCount\":1568,\"shortCount\":0,\"turnover\":0.0125,\"returns\":0.0918,\"drawdown\":0.7733,\"margin\":0.014646,\"fitness\":0.24,\"sharpe\":0.28,\"startDate\":\"2016-07-15\"},\"prod\":null,\"competitions\":null,\"themes\":null,\"pyramids\":null,\"team\":null}\n",
      "\n",
      "\n"
     ]
    },
    {
     "name": "stdout",
     "output_type": "stream",
     "text": [
      "\n",
      "\n",
      "get_results: {\"id\":\"8eYAGQV\",\"type\":\"REGULAR\",\"author\":\"KC72812\",\"settings\":{\"instrumentType\":\"EQUITY\",\"region\":\"JPN\",\"universe\":\"TOP1600\",\"delay\":1,\"decay\":4,\"neutralization\":\"NONE\",\"truncation\":0.08,\"pasteurization\":\"ON\",\"unitHandling\":\"VERIFY\",\"nanHandling\":\"OFF\",\"language\":\"FASTEXPR\",\"visualization\":false,\"testPeriod\":\"P6Y0M0D\"},\"regular\":{\"code\":\"ts_rank((fnd17_atanbvdolr), 20)\",\"description\":null,\"operatorCount\":1},\"dateCreated\":\"2024-11-25T08:22:28-05:00\",\"dateSubmitted\":null,\"dateModified\":\"2024-11-25T08:22:28-05:00\",\"name\":null,\"favorite\":false,\"hidden\":false,\"color\":null,\"category\":null,\"tags\":[],\"classifications\":[{\"id\":\"DATA_USAGE:SINGLE_DATA_SET\",\"name\":\"Single Data Set Alpha\"}],\"grade\":null,\"stage\":\"IS\",\"status\":\"UNSUBMITTED\",\"is\":{\"pnl\":16456147,\"bookSize\":20000000,\"longCount\":1543,\"shortCount\":0,\"turnover\":0.0128,\"returns\":0.159,\"drawdown\":0.7733,\"margin\":0.024942,\"fitness\":0.51,\"sharpe\":0.45,\"startDate\":\"2012-07-15\",\"checks\":[{\"name\":\"LOW_SHARPE\",\"result\":\"FAIL\",\"limit\":1.58,\"value\":0.45},{\"name\":\"LOW_FITNESS\",\"result\":\"FAIL\",\"limit\":1.0,\"value\":0.51},{\"name\":\"LOW_TURNOVER\",\"result\":\"PASS\",\"limit\":0.01,\"value\":0.0128},{\"name\":\"HIGH_TURNOVER\",\"result\":\"PASS\",\"limit\":0.7,\"value\":0.0128},{\"name\":\"CONCENTRATED_WEIGHT\",\"result\":\"PASS\"},{\"name\":\"LOW_SUB_UNIVERSE_SHARPE\",\"result\":\"PASS\",\"limit\":0.29,\"value\":0.48},{\"name\":\"SELF_CORRELATION\",\"result\":\"PENDING\"},{\"name\":\"DATA_DIVERSITY\",\"result\":\"PENDING\"},{\"name\":\"PROD_CORRELATION\",\"result\":\"PENDING\"},{\"name\":\"REGULAR_SUBMISSION\",\"result\":\"PENDING\"},{\"name\":\"LOW_2Y_SHARPE\",\"result\":\"FAIL\",\"value\":-0.26,\"limit\":1.58},{\"result\":\"PASS\",\"name\":\"MATCHES_PYRAMID\",\"multiplier\":1.7,\"pyramids\":[{\"name\":\"JPN/D1/Fundamental\",\"multiplier\":1.7}]}]},\"os\":null,\"train\":{\"pnl\":10543781,\"bookSize\":20000000,\"longCount\":1508,\"shortCount\":0,\"turnover\":0.0131,\"returns\":0.2525,\"drawdown\":0.3204,\"margin\":0.038672,\"fitness\":0.94,\"sharpe\":0.66,\"startDate\":\"2012-07-15\"},\"test\":{\"pnl\":5672571,\"bookSize\":20000000,\"longCount\":1568,\"shortCount\":0,\"turnover\":0.0125,\"returns\":0.0918,\"drawdown\":0.7733,\"margin\":0.014646,\"fitness\":0.24,\"sharpe\":0.28,\"startDate\":\"2016-07-15\"},\"prod\":null,\"competitions\":null,\"themes\":null,\"pyramids\":null,\"team\":null} \n",
      "\n",
      "\n",
      "\n",
      "\n"
     ]
    },
    {
     "name": "stderr",
     "output_type": "stream",
     "text": [
      "2024-11-25 21:22:31,614 - get_results: {\"is\":{\"checks\":[{\"name\":\"LOW_SHARPE\",\"result\":\"FAIL\",\"limit\":1.58,\"value\":0.45},{\"name\":\"LOW_FITNESS\",\"result\":\"FAIL\",\"limit\":1.0,\"value\":0.51},{\"name\":\"LOW_TURNOVER\",\"result\":\"PASS\",\"limit\":0.01,\"value\":0.0128},{\"name\":\"HIGH_TURNOVER\",\"result\":\"PASS\",\"limit\":0.7,\"value\":0.0128},{\"name\":\"CONCENTRATED_WEIGHT\",\"result\":\"PASS\"},{\"name\":\"LOW_SUB_UNIVERSE_SHARPE\",\"result\":\"PASS\",\"limit\":0.29,\"value\":0.48},{\"name\":\"SELF_CORRELATION\",\"result\":\"PENDING\"},{\"name\":\"DATA_DIVERSITY\",\"result\":\"PASS\"},{\"name\":\"PROD_CORRELATION\",\"result\":\"PENDING\"},{\"name\":\"REGULAR_SUBMISSION\",\"result\":\"PASS\",\"limit\":4,\"value\":0},{\"name\":\"LOW_2Y_SHARPE\",\"result\":\"FAIL\",\"value\":-0.26,\"limit\":1.58},{\"result\":\"PASS\",\"name\":\"MATCHES_PYRAMID\",\"multiplier\":1.7,\"pyramids\":[{\"name\":\"JPN/D1/Fundamental\",\"multiplier\":1.7}]}]}}\n",
      "\n",
      "\n",
      "2024-11-25 21:22:31,619 - simu_results: {'summary_results aka get_results_dictionary': {'id': '8eYAGQV', 'type': 'REGULAR', 'author': 'KC72812', 'settings': {'instrumentType': 'EQUITY', 'region': 'JPN', 'universe': 'TOP1600', 'delay': 1, 'decay': 4, 'neutralization': 'NONE', 'truncation': 0.08, 'pasteurization': 'ON', 'unitHandling': 'VERIFY', 'nanHandling': 'OFF', 'language': 'FASTEXPR', 'visualization': False, 'testPeriod': 'P6Y0M0D'}, 'regular': {'code': 'ts_rank((fnd17_atanbvdolr), 20)', 'description': None, 'operatorCount': 1}, 'dateCreated': '2024-11-25T08:22:28-05:00', 'dateSubmitted': None, 'dateModified': '2024-11-25T08:22:28-05:00', 'name': None, 'favorite': False, 'hidden': False, 'color': None, 'category': None, 'tags': [], 'classifications': [{'id': 'DATA_USAGE:SINGLE_DATA_SET', 'name': 'Single Data Set Alpha'}], 'grade': None, 'stage': 'IS', 'status': 'UNSUBMITTED', 'is': {'pnl': 16456147, 'bookSize': 20000000, 'longCount': 1543, 'shortCount': 0, 'turnover': 0.0128, 'returns': 0.159, 'drawdown': 0.7733, 'margin': 0.024942, 'fitness': 0.51, 'sharpe': 0.45, 'startDate': '2012-07-15', 'checks': [{'name': 'LOW_SHARPE', 'result': 'FAIL', 'limit': 1.58, 'value': 0.45}, {'name': 'LOW_FITNESS', 'result': 'FAIL', 'limit': 1.0, 'value': 0.51}, {'name': 'LOW_TURNOVER', 'result': 'PASS', 'limit': 0.01, 'value': 0.0128}, {'name': 'HIGH_TURNOVER', 'result': 'PASS', 'limit': 0.7, 'value': 0.0128}, {'name': 'CONCENTRATED_WEIGHT', 'result': 'PASS'}, {'name': 'LOW_SUB_UNIVERSE_SHARPE', 'result': 'PASS', 'limit': 0.29, 'value': 0.48}, {'name': 'SELF_CORRELATION', 'result': 'PENDING'}, {'name': 'DATA_DIVERSITY', 'result': 'PENDING'}, {'name': 'PROD_CORRELATION', 'result': 'PENDING'}, {'name': 'REGULAR_SUBMISSION', 'result': 'PENDING'}, {'name': 'LOW_2Y_SHARPE', 'result': 'FAIL', 'value': -0.26, 'limit': 1.58}, {'result': 'PASS', 'name': 'MATCHES_PYRAMID', 'multiplier': 1.7, 'pyramids': [{'name': 'JPN/D1/Fundamental', 'multiplier': 1.7}]}]}, 'os': None, 'train': {'pnl': 10543781, 'bookSize': 20000000, 'longCount': 1508, 'shortCount': 0, 'turnover': 0.0131, 'returns': 0.2525, 'drawdown': 0.3204, 'margin': 0.038672, 'fitness': 0.94, 'sharpe': 0.66, 'startDate': '2012-07-15'}, 'test': {'pnl': 5672571, 'bookSize': 20000000, 'longCount': 1568, 'shortCount': 0, 'turnover': 0.0125, 'returns': 0.0918, 'drawdown': 0.7733, 'margin': 0.014646, 'fitness': 0.24, 'sharpe': 0.28, 'startDate': '2016-07-15'}, 'prod': None, 'competitions': None, 'themes': None, 'pyramids': None, 'team': None}, 'submission_checks aka get_results_dictionary': {'is': {'checks': [{'name': 'LOW_SHARPE', 'result': 'FAIL', 'limit': 1.58, 'value': 0.45}, {'name': 'LOW_FITNESS', 'result': 'FAIL', 'limit': 1.0, 'value': 0.51}, {'name': 'LOW_TURNOVER', 'result': 'PASS', 'limit': 0.01, 'value': 0.0128}, {'name': 'HIGH_TURNOVER', 'result': 'PASS', 'limit': 0.7, 'value': 0.0128}, {'name': 'CONCENTRATED_WEIGHT', 'result': 'PASS'}, {'name': 'LOW_SUB_UNIVERSE_SHARPE', 'result': 'PASS', 'limit': 0.29, 'value': 0.48}, {'name': 'SELF_CORRELATION', 'result': 'PENDING'}, {'name': 'DATA_DIVERSITY', 'result': 'PASS'}, {'name': 'PROD_CORRELATION', 'result': 'PENDING'}, {'name': 'REGULAR_SUBMISSION', 'result': 'PASS', 'limit': 4, 'value': 0}, {'name': 'LOW_2Y_SHARPE', 'result': 'FAIL', 'value': -0.26, 'limit': 1.58}, {'result': 'PASS', 'name': 'MATCHES_PYRAMID', 'multiplier': 1.7, 'pyramids': [{'name': 'JPN/D1/Fundamental', 'multiplier': 1.7}]}]}}}\n",
      "\n",
      "\n",
      "2024-11-25 21:22:31,621 - Sharpe Ratio None is below threshold for alpha: fnd17_atanbvdolr\n"
     ]
    },
    {
     "name": "stdout",
     "output_type": "stream",
     "text": [
      "\n",
      "\n",
      "get_results: {\"is\":{\"checks\":[{\"name\":\"LOW_SHARPE\",\"result\":\"FAIL\",\"limit\":1.58,\"value\":0.45},{\"name\":\"LOW_FITNESS\",\"result\":\"FAIL\",\"limit\":1.0,\"value\":0.51},{\"name\":\"LOW_TURNOVER\",\"result\":\"PASS\",\"limit\":0.01,\"value\":0.0128},{\"name\":\"HIGH_TURNOVER\",\"result\":\"PASS\",\"limit\":0.7,\"value\":0.0128},{\"name\":\"CONCENTRATED_WEIGHT\",\"result\":\"PASS\"},{\"name\":\"LOW_SUB_UNIVERSE_SHARPE\",\"result\":\"PASS\",\"limit\":0.29,\"value\":0.48},{\"name\":\"SELF_CORRELATION\",\"result\":\"PENDING\"},{\"name\":\"DATA_DIVERSITY\",\"result\":\"PASS\"},{\"name\":\"PROD_CORRELATION\",\"result\":\"PENDING\"},{\"name\":\"REGULAR_SUBMISSION\",\"result\":\"PASS\",\"limit\":4,\"value\":0},{\"name\":\"LOW_2Y_SHARPE\",\"result\":\"FAIL\",\"value\":-0.26,\"limit\":1.58},{\"result\":\"PASS\",\"name\":\"MATCHES_PYRAMID\",\"multiplier\":1.7,\"pyramids\":[{\"name\":\"JPN/D1/Fundamental\",\"multiplier\":1.7}]}]}} \n",
      "\n",
      "\n",
      "\n",
      "\n"
     ]
    },
    {
     "name": "stderr",
     "output_type": "stream",
     "text": [
      "2024-11-25 21:22:33,081 - Processing expression: fnd17_atanbvps\n"
     ]
    },
    {
     "name": "stdout",
     "output_type": "stream",
     "text": [
      "\n",
      "Location: https://api.worldquantbrain.com/simulations/3wK2lE6wt52zbUljNNgGe6c\n",
      "Check Progress Returned alpha_id: Q9gezLG\n"
     ]
    },
    {
     "name": "stderr",
     "output_type": "stream",
     "text": [
      "2024-11-25 21:23:38,660 - get_results: {\"id\":\"Q9gezLG\",\"type\":\"REGULAR\",\"author\":\"KC72812\",\"settings\":{\"instrumentType\":\"EQUITY\",\"region\":\"JPN\",\"universe\":\"TOP1600\",\"delay\":1,\"decay\":4,\"neutralization\":\"NONE\",\"truncation\":0.08,\"pasteurization\":\"ON\",\"unitHandling\":\"VERIFY\",\"nanHandling\":\"OFF\",\"language\":\"FASTEXPR\",\"visualization\":false,\"testPeriod\":\"P6Y0M0D\"},\"regular\":{\"code\":\"ts_rank((fnd17_atanbvps), 20)\",\"description\":null,\"operatorCount\":1},\"dateCreated\":\"2024-11-25T08:23:35-05:00\",\"dateSubmitted\":null,\"dateModified\":\"2024-11-25T08:23:35-05:00\",\"name\":null,\"favorite\":false,\"hidden\":false,\"color\":null,\"category\":null,\"tags\":[],\"classifications\":[{\"id\":\"DATA_USAGE:SINGLE_DATA_SET\",\"name\":\"Single Data Set Alpha\"}],\"grade\":null,\"stage\":\"IS\",\"status\":\"UNSUBMITTED\",\"is\":{\"pnl\":16503315,\"bookSize\":20000000,\"longCount\":1543,\"shortCount\":0,\"turnover\":0.0145,\"returns\":0.1595,\"drawdown\":0.7733,\"margin\":0.021994,\"fitness\":0.51,\"sharpe\":0.45,\"startDate\":\"2012-07-15\",\"checks\":[{\"name\":\"LOW_SHARPE\",\"result\":\"FAIL\",\"limit\":1.58,\"value\":0.45},{\"name\":\"LOW_FITNESS\",\"result\":\"FAIL\",\"limit\":1.0,\"value\":0.51},{\"name\":\"LOW_TURNOVER\",\"result\":\"PASS\",\"limit\":0.01,\"value\":0.0145},{\"name\":\"HIGH_TURNOVER\",\"result\":\"PASS\",\"limit\":0.7,\"value\":0.0145},{\"name\":\"CONCENTRATED_WEIGHT\",\"result\":\"PASS\"},{\"name\":\"LOW_SUB_UNIVERSE_SHARPE\",\"result\":\"PASS\",\"limit\":0.29,\"value\":0.67},{\"name\":\"SELF_CORRELATION\",\"result\":\"PENDING\"},{\"name\":\"DATA_DIVERSITY\",\"result\":\"PENDING\"},{\"name\":\"PROD_CORRELATION\",\"result\":\"PENDING\"},{\"name\":\"REGULAR_SUBMISSION\",\"result\":\"PENDING\"},{\"name\":\"LOW_2Y_SHARPE\",\"result\":\"FAIL\",\"value\":-0.26,\"limit\":1.58},{\"result\":\"PASS\",\"name\":\"MATCHES_PYRAMID\",\"multiplier\":1.7,\"pyramids\":[{\"name\":\"JPN/D1/Fundamental\",\"multiplier\":1.7}]}]},\"os\":null,\"train\":{\"pnl\":10565829,\"bookSize\":20000000,\"longCount\":1507,\"shortCount\":0,\"turnover\":0.0146,\"returns\":0.253,\"drawdown\":0.3205,\"margin\":0.034635,\"fitness\":0.94,\"sharpe\":0.66,\"startDate\":\"2012-07-15\"},\"test\":{\"pnl\":5695286,\"bookSize\":20000000,\"longCount\":1568,\"shortCount\":0,\"turnover\":0.0144,\"returns\":0.0922,\"drawdown\":0.7733,\"margin\":0.01278,\"fitness\":0.24,\"sharpe\":0.28,\"startDate\":\"2016-07-15\"},\"prod\":null,\"competitions\":null,\"themes\":null,\"pyramids\":null,\"team\":null}\n",
      "\n",
      "\n"
     ]
    },
    {
     "name": "stdout",
     "output_type": "stream",
     "text": [
      "\n",
      "\n",
      "get_results: {\"id\":\"Q9gezLG\",\"type\":\"REGULAR\",\"author\":\"KC72812\",\"settings\":{\"instrumentType\":\"EQUITY\",\"region\":\"JPN\",\"universe\":\"TOP1600\",\"delay\":1,\"decay\":4,\"neutralization\":\"NONE\",\"truncation\":0.08,\"pasteurization\":\"ON\",\"unitHandling\":\"VERIFY\",\"nanHandling\":\"OFF\",\"language\":\"FASTEXPR\",\"visualization\":false,\"testPeriod\":\"P6Y0M0D\"},\"regular\":{\"code\":\"ts_rank((fnd17_atanbvps), 20)\",\"description\":null,\"operatorCount\":1},\"dateCreated\":\"2024-11-25T08:23:35-05:00\",\"dateSubmitted\":null,\"dateModified\":\"2024-11-25T08:23:35-05:00\",\"name\":null,\"favorite\":false,\"hidden\":false,\"color\":null,\"category\":null,\"tags\":[],\"classifications\":[{\"id\":\"DATA_USAGE:SINGLE_DATA_SET\",\"name\":\"Single Data Set Alpha\"}],\"grade\":null,\"stage\":\"IS\",\"status\":\"UNSUBMITTED\",\"is\":{\"pnl\":16503315,\"bookSize\":20000000,\"longCount\":1543,\"shortCount\":0,\"turnover\":0.0145,\"returns\":0.1595,\"drawdown\":0.7733,\"margin\":0.021994,\"fitness\":0.51,\"sharpe\":0.45,\"startDate\":\"2012-07-15\",\"checks\":[{\"name\":\"LOW_SHARPE\",\"result\":\"FAIL\",\"limit\":1.58,\"value\":0.45},{\"name\":\"LOW_FITNESS\",\"result\":\"FAIL\",\"limit\":1.0,\"value\":0.51},{\"name\":\"LOW_TURNOVER\",\"result\":\"PASS\",\"limit\":0.01,\"value\":0.0145},{\"name\":\"HIGH_TURNOVER\",\"result\":\"PASS\",\"limit\":0.7,\"value\":0.0145},{\"name\":\"CONCENTRATED_WEIGHT\",\"result\":\"PASS\"},{\"name\":\"LOW_SUB_UNIVERSE_SHARPE\",\"result\":\"PASS\",\"limit\":0.29,\"value\":0.67},{\"name\":\"SELF_CORRELATION\",\"result\":\"PENDING\"},{\"name\":\"DATA_DIVERSITY\",\"result\":\"PENDING\"},{\"name\":\"PROD_CORRELATION\",\"result\":\"PENDING\"},{\"name\":\"REGULAR_SUBMISSION\",\"result\":\"PENDING\"},{\"name\":\"LOW_2Y_SHARPE\",\"result\":\"FAIL\",\"value\":-0.26,\"limit\":1.58},{\"result\":\"PASS\",\"name\":\"MATCHES_PYRAMID\",\"multiplier\":1.7,\"pyramids\":[{\"name\":\"JPN/D1/Fundamental\",\"multiplier\":1.7}]}]},\"os\":null,\"train\":{\"pnl\":10565829,\"bookSize\":20000000,\"longCount\":1507,\"shortCount\":0,\"turnover\":0.0146,\"returns\":0.253,\"drawdown\":0.3205,\"margin\":0.034635,\"fitness\":0.94,\"sharpe\":0.66,\"startDate\":\"2012-07-15\"},\"test\":{\"pnl\":5695286,\"bookSize\":20000000,\"longCount\":1568,\"shortCount\":0,\"turnover\":0.0144,\"returns\":0.0922,\"drawdown\":0.7733,\"margin\":0.01278,\"fitness\":0.24,\"sharpe\":0.28,\"startDate\":\"2016-07-15\"},\"prod\":null,\"competitions\":null,\"themes\":null,\"pyramids\":null,\"team\":null} \n",
      "\n",
      "\n",
      "\n",
      "\n"
     ]
    },
    {
     "name": "stderr",
     "output_type": "stream",
     "text": [
      "2024-11-25 21:23:39,849 - get_results: {\"is\":{\"checks\":[{\"name\":\"LOW_SHARPE\",\"result\":\"FAIL\",\"limit\":1.58,\"value\":0.45},{\"name\":\"LOW_FITNESS\",\"result\":\"FAIL\",\"limit\":1.0,\"value\":0.51},{\"name\":\"LOW_TURNOVER\",\"result\":\"PASS\",\"limit\":0.01,\"value\":0.0145},{\"name\":\"HIGH_TURNOVER\",\"result\":\"PASS\",\"limit\":0.7,\"value\":0.0145},{\"name\":\"CONCENTRATED_WEIGHT\",\"result\":\"PASS\"},{\"name\":\"LOW_SUB_UNIVERSE_SHARPE\",\"result\":\"PASS\",\"limit\":0.29,\"value\":0.67},{\"name\":\"SELF_CORRELATION\",\"result\":\"PENDING\"},{\"name\":\"DATA_DIVERSITY\",\"result\":\"PASS\"},{\"name\":\"PROD_CORRELATION\",\"result\":\"PENDING\"},{\"name\":\"REGULAR_SUBMISSION\",\"result\":\"PASS\",\"limit\":4,\"value\":0},{\"name\":\"LOW_2Y_SHARPE\",\"result\":\"FAIL\",\"value\":-0.26,\"limit\":1.58},{\"result\":\"PASS\",\"name\":\"MATCHES_PYRAMID\",\"multiplier\":1.7,\"pyramids\":[{\"name\":\"JPN/D1/Fundamental\",\"multiplier\":1.7}]}]}}\n",
      "\n",
      "\n",
      "2024-11-25 21:23:39,853 - simu_results: {'summary_results aka get_results_dictionary': {'id': 'Q9gezLG', 'type': 'REGULAR', 'author': 'KC72812', 'settings': {'instrumentType': 'EQUITY', 'region': 'JPN', 'universe': 'TOP1600', 'delay': 1, 'decay': 4, 'neutralization': 'NONE', 'truncation': 0.08, 'pasteurization': 'ON', 'unitHandling': 'VERIFY', 'nanHandling': 'OFF', 'language': 'FASTEXPR', 'visualization': False, 'testPeriod': 'P6Y0M0D'}, 'regular': {'code': 'ts_rank((fnd17_atanbvps), 20)', 'description': None, 'operatorCount': 1}, 'dateCreated': '2024-11-25T08:23:35-05:00', 'dateSubmitted': None, 'dateModified': '2024-11-25T08:23:35-05:00', 'name': None, 'favorite': False, 'hidden': False, 'color': None, 'category': None, 'tags': [], 'classifications': [{'id': 'DATA_USAGE:SINGLE_DATA_SET', 'name': 'Single Data Set Alpha'}], 'grade': None, 'stage': 'IS', 'status': 'UNSUBMITTED', 'is': {'pnl': 16503315, 'bookSize': 20000000, 'longCount': 1543, 'shortCount': 0, 'turnover': 0.0145, 'returns': 0.1595, 'drawdown': 0.7733, 'margin': 0.021994, 'fitness': 0.51, 'sharpe': 0.45, 'startDate': '2012-07-15', 'checks': [{'name': 'LOW_SHARPE', 'result': 'FAIL', 'limit': 1.58, 'value': 0.45}, {'name': 'LOW_FITNESS', 'result': 'FAIL', 'limit': 1.0, 'value': 0.51}, {'name': 'LOW_TURNOVER', 'result': 'PASS', 'limit': 0.01, 'value': 0.0145}, {'name': 'HIGH_TURNOVER', 'result': 'PASS', 'limit': 0.7, 'value': 0.0145}, {'name': 'CONCENTRATED_WEIGHT', 'result': 'PASS'}, {'name': 'LOW_SUB_UNIVERSE_SHARPE', 'result': 'PASS', 'limit': 0.29, 'value': 0.67}, {'name': 'SELF_CORRELATION', 'result': 'PENDING'}, {'name': 'DATA_DIVERSITY', 'result': 'PENDING'}, {'name': 'PROD_CORRELATION', 'result': 'PENDING'}, {'name': 'REGULAR_SUBMISSION', 'result': 'PENDING'}, {'name': 'LOW_2Y_SHARPE', 'result': 'FAIL', 'value': -0.26, 'limit': 1.58}, {'result': 'PASS', 'name': 'MATCHES_PYRAMID', 'multiplier': 1.7, 'pyramids': [{'name': 'JPN/D1/Fundamental', 'multiplier': 1.7}]}]}, 'os': None, 'train': {'pnl': 10565829, 'bookSize': 20000000, 'longCount': 1507, 'shortCount': 0, 'turnover': 0.0146, 'returns': 0.253, 'drawdown': 0.3205, 'margin': 0.034635, 'fitness': 0.94, 'sharpe': 0.66, 'startDate': '2012-07-15'}, 'test': {'pnl': 5695286, 'bookSize': 20000000, 'longCount': 1568, 'shortCount': 0, 'turnover': 0.0144, 'returns': 0.0922, 'drawdown': 0.7733, 'margin': 0.01278, 'fitness': 0.24, 'sharpe': 0.28, 'startDate': '2016-07-15'}, 'prod': None, 'competitions': None, 'themes': None, 'pyramids': None, 'team': None}, 'submission_checks aka get_results_dictionary': {'is': {'checks': [{'name': 'LOW_SHARPE', 'result': 'FAIL', 'limit': 1.58, 'value': 0.45}, {'name': 'LOW_FITNESS', 'result': 'FAIL', 'limit': 1.0, 'value': 0.51}, {'name': 'LOW_TURNOVER', 'result': 'PASS', 'limit': 0.01, 'value': 0.0145}, {'name': 'HIGH_TURNOVER', 'result': 'PASS', 'limit': 0.7, 'value': 0.0145}, {'name': 'CONCENTRATED_WEIGHT', 'result': 'PASS'}, {'name': 'LOW_SUB_UNIVERSE_SHARPE', 'result': 'PASS', 'limit': 0.29, 'value': 0.67}, {'name': 'SELF_CORRELATION', 'result': 'PENDING'}, {'name': 'DATA_DIVERSITY', 'result': 'PASS'}, {'name': 'PROD_CORRELATION', 'result': 'PENDING'}, {'name': 'REGULAR_SUBMISSION', 'result': 'PASS', 'limit': 4, 'value': 0}, {'name': 'LOW_2Y_SHARPE', 'result': 'FAIL', 'value': -0.26, 'limit': 1.58}, {'result': 'PASS', 'name': 'MATCHES_PYRAMID', 'multiplier': 1.7, 'pyramids': [{'name': 'JPN/D1/Fundamental', 'multiplier': 1.7}]}]}}}\n",
      "\n",
      "\n",
      "2024-11-25 21:23:39,856 - Sharpe Ratio None is below threshold for alpha: fnd17_atanbvps\n"
     ]
    },
    {
     "name": "stdout",
     "output_type": "stream",
     "text": [
      "\n",
      "\n",
      "get_results: {\"is\":{\"checks\":[{\"name\":\"LOW_SHARPE\",\"result\":\"FAIL\",\"limit\":1.58,\"value\":0.45},{\"name\":\"LOW_FITNESS\",\"result\":\"FAIL\",\"limit\":1.0,\"value\":0.51},{\"name\":\"LOW_TURNOVER\",\"result\":\"PASS\",\"limit\":0.01,\"value\":0.0145},{\"name\":\"HIGH_TURNOVER\",\"result\":\"PASS\",\"limit\":0.7,\"value\":0.0145},{\"name\":\"CONCENTRATED_WEIGHT\",\"result\":\"PASS\"},{\"name\":\"LOW_SUB_UNIVERSE_SHARPE\",\"result\":\"PASS\",\"limit\":0.29,\"value\":0.67},{\"name\":\"SELF_CORRELATION\",\"result\":\"PENDING\"},{\"name\":\"DATA_DIVERSITY\",\"result\":\"PASS\"},{\"name\":\"PROD_CORRELATION\",\"result\":\"PENDING\"},{\"name\":\"REGULAR_SUBMISSION\",\"result\":\"PASS\",\"limit\":4,\"value\":0},{\"name\":\"LOW_2Y_SHARPE\",\"result\":\"FAIL\",\"value\":-0.26,\"limit\":1.58},{\"result\":\"PASS\",\"name\":\"MATCHES_PYRAMID\",\"multiplier\":1.7,\"pyramids\":[{\"name\":\"JPN/D1/Fundamental\",\"multiplier\":1.7}]}]}} \n",
      "\n",
      "\n",
      "\n",
      "\n"
     ]
    },
    {
     "name": "stderr",
     "output_type": "stream",
     "text": [
      "2024-11-25 21:23:40,818 - Finished processing batch 5.\n",
      "2024-11-25 21:23:42,581 - Processing batch 6 with 3 items.\n",
      "2024-11-25 21:23:42,582 - Processing expression: fnd17_ataxpd\n"
     ]
    },
    {
     "name": "stdout",
     "output_type": "stream",
     "text": [
      "\n",
      "Location: https://api.worldquantbrain.com/simulations/38ENhp7Y34UWb12V6Svmeq0\n",
      "Check Progress Returned alpha_id: 2NWEx1w\n"
     ]
    },
    {
     "name": "stderr",
     "output_type": "stream",
     "text": [
      "2024-11-25 21:25:52,973 - get_results: {\"id\":\"2NWEx1w\",\"type\":\"REGULAR\",\"author\":\"KC72812\",\"settings\":{\"instrumentType\":\"EQUITY\",\"region\":\"JPN\",\"universe\":\"TOP1600\",\"delay\":1,\"decay\":4,\"neutralization\":\"NONE\",\"truncation\":0.08,\"pasteurization\":\"ON\",\"unitHandling\":\"VERIFY\",\"nanHandling\":\"OFF\",\"language\":\"FASTEXPR\",\"visualization\":false,\"testPeriod\":\"P6Y0M0D\"},\"regular\":{\"code\":\"ts_rank((fnd17_ataxpd), 20)\",\"description\":null,\"operatorCount\":1},\"dateCreated\":\"2024-11-25T08:25:50-05:00\",\"dateSubmitted\":null,\"dateModified\":\"2024-11-25T08:25:50-05:00\",\"name\":null,\"favorite\":false,\"hidden\":false,\"color\":null,\"category\":null,\"tags\":[],\"classifications\":[{\"id\":\"DATA_USAGE:SINGLE_DATA_SET\",\"name\":\"Single Data Set Alpha\"}],\"grade\":null,\"stage\":\"IS\",\"status\":\"UNSUBMITTED\",\"is\":{\"pnl\":16756202,\"bookSize\":20000000,\"longCount\":1534,\"shortCount\":0,\"turnover\":0.0125,\"returns\":0.1619,\"drawdown\":0.7682,\"margin\":0.025886,\"fitness\":0.52,\"sharpe\":0.46,\"startDate\":\"2012-07-15\",\"checks\":[{\"name\":\"LOW_SHARPE\",\"result\":\"FAIL\",\"limit\":1.58,\"value\":0.46},{\"name\":\"LOW_FITNESS\",\"result\":\"FAIL\",\"limit\":1.0,\"value\":0.52},{\"name\":\"LOW_TURNOVER\",\"result\":\"PASS\",\"limit\":0.01,\"value\":0.0125},{\"name\":\"HIGH_TURNOVER\",\"result\":\"PASS\",\"limit\":0.7,\"value\":0.0125},{\"name\":\"CONCENTRATED_WEIGHT\",\"result\":\"PASS\"},{\"name\":\"LOW_SUB_UNIVERSE_SHARPE\",\"result\":\"PASS\",\"limit\":0.3,\"value\":1.2},{\"name\":\"SELF_CORRELATION\",\"result\":\"PENDING\"},{\"name\":\"DATA_DIVERSITY\",\"result\":\"PENDING\"},{\"name\":\"PROD_CORRELATION\",\"result\":\"PENDING\"},{\"name\":\"REGULAR_SUBMISSION\",\"result\":\"PENDING\"},{\"name\":\"LOW_2Y_SHARPE\",\"result\":\"FAIL\",\"value\":-0.23,\"limit\":1.58},{\"result\":\"PASS\",\"name\":\"MATCHES_PYRAMID\",\"multiplier\":1.7,\"pyramids\":[{\"name\":\"JPN/D1/Fundamental\",\"multiplier\":1.7}]}]},\"os\":null,\"train\":{\"pnl\":10470685,\"bookSize\":20000000,\"longCount\":1497,\"shortCount\":0,\"turnover\":0.0128,\"returns\":0.2507,\"drawdown\":0.3215,\"margin\":0.039183,\"fitness\":0.92,\"sharpe\":0.65,\"startDate\":\"2012-07-15\"},\"test\":{\"pnl\":6047184,\"bookSize\":20000000,\"longCount\":1558,\"shortCount\":0,\"turnover\":0.0123,\"returns\":0.0979,\"drawdown\":0.7682,\"margin\":0.015903,\"fitness\":0.26,\"sharpe\":0.29,\"startDate\":\"2016-07-15\"},\"prod\":null,\"competitions\":null,\"themes\":null,\"pyramids\":null,\"team\":null}\n",
      "\n",
      "\n"
     ]
    },
    {
     "name": "stdout",
     "output_type": "stream",
     "text": [
      "\n",
      "\n",
      "get_results: {\"id\":\"2NWEx1w\",\"type\":\"REGULAR\",\"author\":\"KC72812\",\"settings\":{\"instrumentType\":\"EQUITY\",\"region\":\"JPN\",\"universe\":\"TOP1600\",\"delay\":1,\"decay\":4,\"neutralization\":\"NONE\",\"truncation\":0.08,\"pasteurization\":\"ON\",\"unitHandling\":\"VERIFY\",\"nanHandling\":\"OFF\",\"language\":\"FASTEXPR\",\"visualization\":false,\"testPeriod\":\"P6Y0M0D\"},\"regular\":{\"code\":\"ts_rank((fnd17_ataxpd), 20)\",\"description\":null,\"operatorCount\":1},\"dateCreated\":\"2024-11-25T08:25:50-05:00\",\"dateSubmitted\":null,\"dateModified\":\"2024-11-25T08:25:50-05:00\",\"name\":null,\"favorite\":false,\"hidden\":false,\"color\":null,\"category\":null,\"tags\":[],\"classifications\":[{\"id\":\"DATA_USAGE:SINGLE_DATA_SET\",\"name\":\"Single Data Set Alpha\"}],\"grade\":null,\"stage\":\"IS\",\"status\":\"UNSUBMITTED\",\"is\":{\"pnl\":16756202,\"bookSize\":20000000,\"longCount\":1534,\"shortCount\":0,\"turnover\":0.0125,\"returns\":0.1619,\"drawdown\":0.7682,\"margin\":0.025886,\"fitness\":0.52,\"sharpe\":0.46,\"startDate\":\"2012-07-15\",\"checks\":[{\"name\":\"LOW_SHARPE\",\"result\":\"FAIL\",\"limit\":1.58,\"value\":0.46},{\"name\":\"LOW_FITNESS\",\"result\":\"FAIL\",\"limit\":1.0,\"value\":0.52},{\"name\":\"LOW_TURNOVER\",\"result\":\"PASS\",\"limit\":0.01,\"value\":0.0125},{\"name\":\"HIGH_TURNOVER\",\"result\":\"PASS\",\"limit\":0.7,\"value\":0.0125},{\"name\":\"CONCENTRATED_WEIGHT\",\"result\":\"PASS\"},{\"name\":\"LOW_SUB_UNIVERSE_SHARPE\",\"result\":\"PASS\",\"limit\":0.3,\"value\":1.2},{\"name\":\"SELF_CORRELATION\",\"result\":\"PENDING\"},{\"name\":\"DATA_DIVERSITY\",\"result\":\"PENDING\"},{\"name\":\"PROD_CORRELATION\",\"result\":\"PENDING\"},{\"name\":\"REGULAR_SUBMISSION\",\"result\":\"PENDING\"},{\"name\":\"LOW_2Y_SHARPE\",\"result\":\"FAIL\",\"value\":-0.23,\"limit\":1.58},{\"result\":\"PASS\",\"name\":\"MATCHES_PYRAMID\",\"multiplier\":1.7,\"pyramids\":[{\"name\":\"JPN/D1/Fundamental\",\"multiplier\":1.7}]}]},\"os\":null,\"train\":{\"pnl\":10470685,\"bookSize\":20000000,\"longCount\":1497,\"shortCount\":0,\"turnover\":0.0128,\"returns\":0.2507,\"drawdown\":0.3215,\"margin\":0.039183,\"fitness\":0.92,\"sharpe\":0.65,\"startDate\":\"2012-07-15\"},\"test\":{\"pnl\":6047184,\"bookSize\":20000000,\"longCount\":1558,\"shortCount\":0,\"turnover\":0.0123,\"returns\":0.0979,\"drawdown\":0.7682,\"margin\":0.015903,\"fitness\":0.26,\"sharpe\":0.29,\"startDate\":\"2016-07-15\"},\"prod\":null,\"competitions\":null,\"themes\":null,\"pyramids\":null,\"team\":null} \n",
      "\n",
      "\n",
      "\n",
      "\n"
     ]
    },
    {
     "name": "stderr",
     "output_type": "stream",
     "text": [
      "2024-11-25 21:25:53,394 - get_results: {\"is\":{\"checks\":[{\"name\":\"LOW_SHARPE\",\"result\":\"FAIL\",\"limit\":1.58,\"value\":0.46},{\"name\":\"LOW_FITNESS\",\"result\":\"FAIL\",\"limit\":1.0,\"value\":0.52},{\"name\":\"LOW_TURNOVER\",\"result\":\"PASS\",\"limit\":0.01,\"value\":0.0125},{\"name\":\"HIGH_TURNOVER\",\"result\":\"PASS\",\"limit\":0.7,\"value\":0.0125},{\"name\":\"CONCENTRATED_WEIGHT\",\"result\":\"PASS\"},{\"name\":\"LOW_SUB_UNIVERSE_SHARPE\",\"result\":\"PASS\",\"limit\":0.3,\"value\":1.2},{\"name\":\"SELF_CORRELATION\",\"result\":\"PENDING\"},{\"name\":\"DATA_DIVERSITY\",\"result\":\"PASS\"},{\"name\":\"PROD_CORRELATION\",\"result\":\"PENDING\"},{\"name\":\"REGULAR_SUBMISSION\",\"result\":\"PASS\",\"limit\":4,\"value\":0},{\"name\":\"LOW_2Y_SHARPE\",\"result\":\"FAIL\",\"value\":-0.23,\"limit\":1.58},{\"result\":\"PASS\",\"name\":\"MATCHES_PYRAMID\",\"multiplier\":1.7,\"pyramids\":[{\"name\":\"JPN/D1/Fundamental\",\"multiplier\":1.7}]}]}}\n",
      "\n",
      "\n",
      "2024-11-25 21:25:53,397 - simu_results: {'summary_results aka get_results_dictionary': {'id': '2NWEx1w', 'type': 'REGULAR', 'author': 'KC72812', 'settings': {'instrumentType': 'EQUITY', 'region': 'JPN', 'universe': 'TOP1600', 'delay': 1, 'decay': 4, 'neutralization': 'NONE', 'truncation': 0.08, 'pasteurization': 'ON', 'unitHandling': 'VERIFY', 'nanHandling': 'OFF', 'language': 'FASTEXPR', 'visualization': False, 'testPeriod': 'P6Y0M0D'}, 'regular': {'code': 'ts_rank((fnd17_ataxpd), 20)', 'description': None, 'operatorCount': 1}, 'dateCreated': '2024-11-25T08:25:50-05:00', 'dateSubmitted': None, 'dateModified': '2024-11-25T08:25:50-05:00', 'name': None, 'favorite': False, 'hidden': False, 'color': None, 'category': None, 'tags': [], 'classifications': [{'id': 'DATA_USAGE:SINGLE_DATA_SET', 'name': 'Single Data Set Alpha'}], 'grade': None, 'stage': 'IS', 'status': 'UNSUBMITTED', 'is': {'pnl': 16756202, 'bookSize': 20000000, 'longCount': 1534, 'shortCount': 0, 'turnover': 0.0125, 'returns': 0.1619, 'drawdown': 0.7682, 'margin': 0.025886, 'fitness': 0.52, 'sharpe': 0.46, 'startDate': '2012-07-15', 'checks': [{'name': 'LOW_SHARPE', 'result': 'FAIL', 'limit': 1.58, 'value': 0.46}, {'name': 'LOW_FITNESS', 'result': 'FAIL', 'limit': 1.0, 'value': 0.52}, {'name': 'LOW_TURNOVER', 'result': 'PASS', 'limit': 0.01, 'value': 0.0125}, {'name': 'HIGH_TURNOVER', 'result': 'PASS', 'limit': 0.7, 'value': 0.0125}, {'name': 'CONCENTRATED_WEIGHT', 'result': 'PASS'}, {'name': 'LOW_SUB_UNIVERSE_SHARPE', 'result': 'PASS', 'limit': 0.3, 'value': 1.2}, {'name': 'SELF_CORRELATION', 'result': 'PENDING'}, {'name': 'DATA_DIVERSITY', 'result': 'PENDING'}, {'name': 'PROD_CORRELATION', 'result': 'PENDING'}, {'name': 'REGULAR_SUBMISSION', 'result': 'PENDING'}, {'name': 'LOW_2Y_SHARPE', 'result': 'FAIL', 'value': -0.23, 'limit': 1.58}, {'result': 'PASS', 'name': 'MATCHES_PYRAMID', 'multiplier': 1.7, 'pyramids': [{'name': 'JPN/D1/Fundamental', 'multiplier': 1.7}]}]}, 'os': None, 'train': {'pnl': 10470685, 'bookSize': 20000000, 'longCount': 1497, 'shortCount': 0, 'turnover': 0.0128, 'returns': 0.2507, 'drawdown': 0.3215, 'margin': 0.039183, 'fitness': 0.92, 'sharpe': 0.65, 'startDate': '2012-07-15'}, 'test': {'pnl': 6047184, 'bookSize': 20000000, 'longCount': 1558, 'shortCount': 0, 'turnover': 0.0123, 'returns': 0.0979, 'drawdown': 0.7682, 'margin': 0.015903, 'fitness': 0.26, 'sharpe': 0.29, 'startDate': '2016-07-15'}, 'prod': None, 'competitions': None, 'themes': None, 'pyramids': None, 'team': None}, 'submission_checks aka get_results_dictionary': {'is': {'checks': [{'name': 'LOW_SHARPE', 'result': 'FAIL', 'limit': 1.58, 'value': 0.46}, {'name': 'LOW_FITNESS', 'result': 'FAIL', 'limit': 1.0, 'value': 0.52}, {'name': 'LOW_TURNOVER', 'result': 'PASS', 'limit': 0.01, 'value': 0.0125}, {'name': 'HIGH_TURNOVER', 'result': 'PASS', 'limit': 0.7, 'value': 0.0125}, {'name': 'CONCENTRATED_WEIGHT', 'result': 'PASS'}, {'name': 'LOW_SUB_UNIVERSE_SHARPE', 'result': 'PASS', 'limit': 0.3, 'value': 1.2}, {'name': 'SELF_CORRELATION', 'result': 'PENDING'}, {'name': 'DATA_DIVERSITY', 'result': 'PASS'}, {'name': 'PROD_CORRELATION', 'result': 'PENDING'}, {'name': 'REGULAR_SUBMISSION', 'result': 'PASS', 'limit': 4, 'value': 0}, {'name': 'LOW_2Y_SHARPE', 'result': 'FAIL', 'value': -0.23, 'limit': 1.58}, {'result': 'PASS', 'name': 'MATCHES_PYRAMID', 'multiplier': 1.7, 'pyramids': [{'name': 'JPN/D1/Fundamental', 'multiplier': 1.7}]}]}}}\n",
      "\n",
      "\n",
      "2024-11-25 21:25:53,399 - Sharpe Ratio None is below threshold for alpha: fnd17_ataxpd\n"
     ]
    },
    {
     "name": "stdout",
     "output_type": "stream",
     "text": [
      "\n",
      "\n",
      "get_results: {\"is\":{\"checks\":[{\"name\":\"LOW_SHARPE\",\"result\":\"FAIL\",\"limit\":1.58,\"value\":0.46},{\"name\":\"LOW_FITNESS\",\"result\":\"FAIL\",\"limit\":1.0,\"value\":0.52},{\"name\":\"LOW_TURNOVER\",\"result\":\"PASS\",\"limit\":0.01,\"value\":0.0125},{\"name\":\"HIGH_TURNOVER\",\"result\":\"PASS\",\"limit\":0.7,\"value\":0.0125},{\"name\":\"CONCENTRATED_WEIGHT\",\"result\":\"PASS\"},{\"name\":\"LOW_SUB_UNIVERSE_SHARPE\",\"result\":\"PASS\",\"limit\":0.3,\"value\":1.2},{\"name\":\"SELF_CORRELATION\",\"result\":\"PENDING\"},{\"name\":\"DATA_DIVERSITY\",\"result\":\"PASS\"},{\"name\":\"PROD_CORRELATION\",\"result\":\"PENDING\"},{\"name\":\"REGULAR_SUBMISSION\",\"result\":\"PASS\",\"limit\":4,\"value\":0},{\"name\":\"LOW_2Y_SHARPE\",\"result\":\"FAIL\",\"value\":-0.23,\"limit\":1.58},{\"result\":\"PASS\",\"name\":\"MATCHES_PYRAMID\",\"multiplier\":1.7,\"pyramids\":[{\"name\":\"JPN/D1/Fundamental\",\"multiplier\":1.7}]}]}} \n",
      "\n",
      "\n",
      "\n",
      "\n"
     ]
    },
    {
     "name": "stderr",
     "output_type": "stream",
     "text": [
      "2024-11-25 21:25:54,528 - Processing expression: fnd17_ataxrat5yr\n"
     ]
    },
    {
     "name": "stdout",
     "output_type": "stream",
     "text": [
      "\n",
      "Location: https://api.worldquantbrain.com/simulations/1jjm2r4uh4TsamPzCuRuBcT\n",
      "Check Progress Returned alpha_id: 1zPv3ZR\n"
     ]
    },
    {
     "name": "stderr",
     "output_type": "stream",
     "text": [
      "2024-11-25 21:27:08,603 - get_results: {\"id\":\"1zPv3ZR\",\"type\":\"REGULAR\",\"author\":\"KC72812\",\"settings\":{\"instrumentType\":\"EQUITY\",\"region\":\"JPN\",\"universe\":\"TOP1600\",\"delay\":1,\"decay\":4,\"neutralization\":\"NONE\",\"truncation\":0.08,\"pasteurization\":\"ON\",\"unitHandling\":\"VERIFY\",\"nanHandling\":\"OFF\",\"language\":\"FASTEXPR\",\"visualization\":false,\"testPeriod\":\"P6Y0M0D\"},\"regular\":{\"code\":\"ts_rank((fnd17_ataxrat5yr), 20)\",\"description\":null,\"operatorCount\":1},\"dateCreated\":\"2024-11-25T08:27:06-05:00\",\"dateSubmitted\":null,\"dateModified\":\"2024-11-25T08:27:06-05:00\",\"name\":null,\"favorite\":false,\"hidden\":false,\"color\":null,\"category\":null,\"tags\":[],\"classifications\":[{\"id\":\"DATA_USAGE:SINGLE_DATA_SET\",\"name\":\"Single Data Set Alpha\"}],\"grade\":null,\"stage\":\"IS\",\"status\":\"UNSUBMITTED\",\"is\":{\"pnl\":17071868,\"bookSize\":20000000,\"longCount\":1338,\"shortCount\":0,\"turnover\":0.0135,\"returns\":0.165,\"drawdown\":0.7108,\"margin\":0.024402,\"fitness\":0.54,\"sharpe\":0.47,\"startDate\":\"2012-07-15\",\"checks\":[{\"name\":\"LOW_SHARPE\",\"result\":\"FAIL\",\"limit\":1.58,\"value\":0.47},{\"name\":\"LOW_FITNESS\",\"result\":\"FAIL\",\"limit\":1.0,\"value\":0.54},{\"name\":\"LOW_TURNOVER\",\"result\":\"PASS\",\"limit\":0.01,\"value\":0.0135},{\"name\":\"HIGH_TURNOVER\",\"result\":\"PASS\",\"limit\":0.7,\"value\":0.0135},{\"name\":\"CONCENTRATED_WEIGHT\",\"result\":\"PASS\"},{\"name\":\"LOW_SUB_UNIVERSE_SHARPE\",\"result\":\"FAIL\",\"limit\":0.31,\"value\":-0.74},{\"name\":\"SELF_CORRELATION\",\"result\":\"PENDING\"},{\"name\":\"DATA_DIVERSITY\",\"result\":\"PENDING\"},{\"name\":\"PROD_CORRELATION\",\"result\":\"PENDING\"},{\"name\":\"REGULAR_SUBMISSION\",\"result\":\"PENDING\"},{\"name\":\"LOW_2Y_SHARPE\",\"result\":\"FAIL\",\"value\":-0.14,\"limit\":1.58},{\"result\":\"PASS\",\"name\":\"MATCHES_PYRAMID\",\"multiplier\":1.7,\"pyramids\":[{\"name\":\"JPN/D1/Fundamental\",\"multiplier\":1.7}]}]},\"os\":null,\"train\":{\"pnl\":10383187,\"bookSize\":20000000,\"longCount\":1326,\"shortCount\":0,\"turnover\":0.014,\"returns\":0.2486,\"drawdown\":0.321,\"margin\":0.035464,\"fitness\":0.93,\"sharpe\":0.66,\"startDate\":\"2012-07-15\"},\"test\":{\"pnl\":6473279,\"bookSize\":20000000,\"longCount\":1346,\"shortCount\":0,\"turnover\":0.0132,\"returns\":0.1048,\"drawdown\":0.7108,\"margin\":0.015907,\"fitness\":0.29,\"sharpe\":0.32,\"startDate\":\"2016-07-15\"},\"prod\":null,\"competitions\":null,\"themes\":null,\"pyramids\":null,\"team\":null}\n",
      "\n",
      "\n"
     ]
    },
    {
     "name": "stdout",
     "output_type": "stream",
     "text": [
      "\n",
      "\n",
      "get_results: {\"id\":\"1zPv3ZR\",\"type\":\"REGULAR\",\"author\":\"KC72812\",\"settings\":{\"instrumentType\":\"EQUITY\",\"region\":\"JPN\",\"universe\":\"TOP1600\",\"delay\":1,\"decay\":4,\"neutralization\":\"NONE\",\"truncation\":0.08,\"pasteurization\":\"ON\",\"unitHandling\":\"VERIFY\",\"nanHandling\":\"OFF\",\"language\":\"FASTEXPR\",\"visualization\":false,\"testPeriod\":\"P6Y0M0D\"},\"regular\":{\"code\":\"ts_rank((fnd17_ataxrat5yr), 20)\",\"description\":null,\"operatorCount\":1},\"dateCreated\":\"2024-11-25T08:27:06-05:00\",\"dateSubmitted\":null,\"dateModified\":\"2024-11-25T08:27:06-05:00\",\"name\":null,\"favorite\":false,\"hidden\":false,\"color\":null,\"category\":null,\"tags\":[],\"classifications\":[{\"id\":\"DATA_USAGE:SINGLE_DATA_SET\",\"name\":\"Single Data Set Alpha\"}],\"grade\":null,\"stage\":\"IS\",\"status\":\"UNSUBMITTED\",\"is\":{\"pnl\":17071868,\"bookSize\":20000000,\"longCount\":1338,\"shortCount\":0,\"turnover\":0.0135,\"returns\":0.165,\"drawdown\":0.7108,\"margin\":0.024402,\"fitness\":0.54,\"sharpe\":0.47,\"startDate\":\"2012-07-15\",\"checks\":[{\"name\":\"LOW_SHARPE\",\"result\":\"FAIL\",\"limit\":1.58,\"value\":0.47},{\"name\":\"LOW_FITNESS\",\"result\":\"FAIL\",\"limit\":1.0,\"value\":0.54},{\"name\":\"LOW_TURNOVER\",\"result\":\"PASS\",\"limit\":0.01,\"value\":0.0135},{\"name\":\"HIGH_TURNOVER\",\"result\":\"PASS\",\"limit\":0.7,\"value\":0.0135},{\"name\":\"CONCENTRATED_WEIGHT\",\"result\":\"PASS\"},{\"name\":\"LOW_SUB_UNIVERSE_SHARPE\",\"result\":\"FAIL\",\"limit\":0.31,\"value\":-0.74},{\"name\":\"SELF_CORRELATION\",\"result\":\"PENDING\"},{\"name\":\"DATA_DIVERSITY\",\"result\":\"PENDING\"},{\"name\":\"PROD_CORRELATION\",\"result\":\"PENDING\"},{\"name\":\"REGULAR_SUBMISSION\",\"result\":\"PENDING\"},{\"name\":\"LOW_2Y_SHARPE\",\"result\":\"FAIL\",\"value\":-0.14,\"limit\":1.58},{\"result\":\"PASS\",\"name\":\"MATCHES_PYRAMID\",\"multiplier\":1.7,\"pyramids\":[{\"name\":\"JPN/D1/Fundamental\",\"multiplier\":1.7}]}]},\"os\":null,\"train\":{\"pnl\":10383187,\"bookSize\":20000000,\"longCount\":1326,\"shortCount\":0,\"turnover\":0.014,\"returns\":0.2486,\"drawdown\":0.321,\"margin\":0.035464,\"fitness\":0.93,\"sharpe\":0.66,\"startDate\":\"2012-07-15\"},\"test\":{\"pnl\":6473279,\"bookSize\":20000000,\"longCount\":1346,\"shortCount\":0,\"turnover\":0.0132,\"returns\":0.1048,\"drawdown\":0.7108,\"margin\":0.015907,\"fitness\":0.29,\"sharpe\":0.32,\"startDate\":\"2016-07-15\"},\"prod\":null,\"competitions\":null,\"themes\":null,\"pyramids\":null,\"team\":null} \n",
      "\n",
      "\n",
      "\n",
      "\n"
     ]
    },
    {
     "name": "stderr",
     "output_type": "stream",
     "text": [
      "2024-11-25 21:27:09,037 - get_results: {\"is\":{\"checks\":[{\"name\":\"LOW_SHARPE\",\"result\":\"FAIL\",\"limit\":1.58,\"value\":0.47},{\"name\":\"LOW_FITNESS\",\"result\":\"FAIL\",\"limit\":1.0,\"value\":0.54},{\"name\":\"LOW_TURNOVER\",\"result\":\"PASS\",\"limit\":0.01,\"value\":0.0135},{\"name\":\"HIGH_TURNOVER\",\"result\":\"PASS\",\"limit\":0.7,\"value\":0.0135},{\"name\":\"CONCENTRATED_WEIGHT\",\"result\":\"PASS\"},{\"name\":\"LOW_SUB_UNIVERSE_SHARPE\",\"result\":\"FAIL\",\"limit\":0.31,\"value\":-0.74},{\"name\":\"SELF_CORRELATION\",\"result\":\"PENDING\"},{\"name\":\"DATA_DIVERSITY\",\"result\":\"PASS\"},{\"name\":\"PROD_CORRELATION\",\"result\":\"PENDING\"},{\"name\":\"REGULAR_SUBMISSION\",\"result\":\"PASS\",\"limit\":4,\"value\":0},{\"name\":\"LOW_2Y_SHARPE\",\"result\":\"FAIL\",\"value\":-0.14,\"limit\":1.58},{\"result\":\"PASS\",\"name\":\"MATCHES_PYRAMID\",\"multiplier\":1.7,\"pyramids\":[{\"name\":\"JPN/D1/Fundamental\",\"multiplier\":1.7}]}]}}\n",
      "\n",
      "\n",
      "2024-11-25 21:27:09,041 - simu_results: {'summary_results aka get_results_dictionary': {'id': '1zPv3ZR', 'type': 'REGULAR', 'author': 'KC72812', 'settings': {'instrumentType': 'EQUITY', 'region': 'JPN', 'universe': 'TOP1600', 'delay': 1, 'decay': 4, 'neutralization': 'NONE', 'truncation': 0.08, 'pasteurization': 'ON', 'unitHandling': 'VERIFY', 'nanHandling': 'OFF', 'language': 'FASTEXPR', 'visualization': False, 'testPeriod': 'P6Y0M0D'}, 'regular': {'code': 'ts_rank((fnd17_ataxrat5yr), 20)', 'description': None, 'operatorCount': 1}, 'dateCreated': '2024-11-25T08:27:06-05:00', 'dateSubmitted': None, 'dateModified': '2024-11-25T08:27:06-05:00', 'name': None, 'favorite': False, 'hidden': False, 'color': None, 'category': None, 'tags': [], 'classifications': [{'id': 'DATA_USAGE:SINGLE_DATA_SET', 'name': 'Single Data Set Alpha'}], 'grade': None, 'stage': 'IS', 'status': 'UNSUBMITTED', 'is': {'pnl': 17071868, 'bookSize': 20000000, 'longCount': 1338, 'shortCount': 0, 'turnover': 0.0135, 'returns': 0.165, 'drawdown': 0.7108, 'margin': 0.024402, 'fitness': 0.54, 'sharpe': 0.47, 'startDate': '2012-07-15', 'checks': [{'name': 'LOW_SHARPE', 'result': 'FAIL', 'limit': 1.58, 'value': 0.47}, {'name': 'LOW_FITNESS', 'result': 'FAIL', 'limit': 1.0, 'value': 0.54}, {'name': 'LOW_TURNOVER', 'result': 'PASS', 'limit': 0.01, 'value': 0.0135}, {'name': 'HIGH_TURNOVER', 'result': 'PASS', 'limit': 0.7, 'value': 0.0135}, {'name': 'CONCENTRATED_WEIGHT', 'result': 'PASS'}, {'name': 'LOW_SUB_UNIVERSE_SHARPE', 'result': 'FAIL', 'limit': 0.31, 'value': -0.74}, {'name': 'SELF_CORRELATION', 'result': 'PENDING'}, {'name': 'DATA_DIVERSITY', 'result': 'PENDING'}, {'name': 'PROD_CORRELATION', 'result': 'PENDING'}, {'name': 'REGULAR_SUBMISSION', 'result': 'PENDING'}, {'name': 'LOW_2Y_SHARPE', 'result': 'FAIL', 'value': -0.14, 'limit': 1.58}, {'result': 'PASS', 'name': 'MATCHES_PYRAMID', 'multiplier': 1.7, 'pyramids': [{'name': 'JPN/D1/Fundamental', 'multiplier': 1.7}]}]}, 'os': None, 'train': {'pnl': 10383187, 'bookSize': 20000000, 'longCount': 1326, 'shortCount': 0, 'turnover': 0.014, 'returns': 0.2486, 'drawdown': 0.321, 'margin': 0.035464, 'fitness': 0.93, 'sharpe': 0.66, 'startDate': '2012-07-15'}, 'test': {'pnl': 6473279, 'bookSize': 20000000, 'longCount': 1346, 'shortCount': 0, 'turnover': 0.0132, 'returns': 0.1048, 'drawdown': 0.7108, 'margin': 0.015907, 'fitness': 0.29, 'sharpe': 0.32, 'startDate': '2016-07-15'}, 'prod': None, 'competitions': None, 'themes': None, 'pyramids': None, 'team': None}, 'submission_checks aka get_results_dictionary': {'is': {'checks': [{'name': 'LOW_SHARPE', 'result': 'FAIL', 'limit': 1.58, 'value': 0.47}, {'name': 'LOW_FITNESS', 'result': 'FAIL', 'limit': 1.0, 'value': 0.54}, {'name': 'LOW_TURNOVER', 'result': 'PASS', 'limit': 0.01, 'value': 0.0135}, {'name': 'HIGH_TURNOVER', 'result': 'PASS', 'limit': 0.7, 'value': 0.0135}, {'name': 'CONCENTRATED_WEIGHT', 'result': 'PASS'}, {'name': 'LOW_SUB_UNIVERSE_SHARPE', 'result': 'FAIL', 'limit': 0.31, 'value': -0.74}, {'name': 'SELF_CORRELATION', 'result': 'PENDING'}, {'name': 'DATA_DIVERSITY', 'result': 'PASS'}, {'name': 'PROD_CORRELATION', 'result': 'PENDING'}, {'name': 'REGULAR_SUBMISSION', 'result': 'PASS', 'limit': 4, 'value': 0}, {'name': 'LOW_2Y_SHARPE', 'result': 'FAIL', 'value': -0.14, 'limit': 1.58}, {'result': 'PASS', 'name': 'MATCHES_PYRAMID', 'multiplier': 1.7, 'pyramids': [{'name': 'JPN/D1/Fundamental', 'multiplier': 1.7}]}]}}}\n",
      "\n",
      "\n",
      "2024-11-25 21:27:09,044 - Sharpe Ratio None is below threshold for alpha: fnd17_ataxrat5yr\n"
     ]
    },
    {
     "name": "stdout",
     "output_type": "stream",
     "text": [
      "\n",
      "\n",
      "get_results: {\"is\":{\"checks\":[{\"name\":\"LOW_SHARPE\",\"result\":\"FAIL\",\"limit\":1.58,\"value\":0.47},{\"name\":\"LOW_FITNESS\",\"result\":\"FAIL\",\"limit\":1.0,\"value\":0.54},{\"name\":\"LOW_TURNOVER\",\"result\":\"PASS\",\"limit\":0.01,\"value\":0.0135},{\"name\":\"HIGH_TURNOVER\",\"result\":\"PASS\",\"limit\":0.7,\"value\":0.0135},{\"name\":\"CONCENTRATED_WEIGHT\",\"result\":\"PASS\"},{\"name\":\"LOW_SUB_UNIVERSE_SHARPE\",\"result\":\"FAIL\",\"limit\":0.31,\"value\":-0.74},{\"name\":\"SELF_CORRELATION\",\"result\":\"PENDING\"},{\"name\":\"DATA_DIVERSITY\",\"result\":\"PASS\"},{\"name\":\"PROD_CORRELATION\",\"result\":\"PENDING\"},{\"name\":\"REGULAR_SUBMISSION\",\"result\":\"PASS\",\"limit\":4,\"value\":0},{\"name\":\"LOW_2Y_SHARPE\",\"result\":\"FAIL\",\"value\":-0.14,\"limit\":1.58},{\"result\":\"PASS\",\"name\":\"MATCHES_PYRAMID\",\"multiplier\":1.7,\"pyramids\":[{\"name\":\"JPN/D1/Fundamental\",\"multiplier\":1.7}]}]}} \n",
      "\n",
      "\n",
      "\n",
      "\n"
     ]
    },
    {
     "name": "stderr",
     "output_type": "stream",
     "text": [
      "2024-11-25 21:27:09,960 - Processing expression: fnd17_ataxrate\n"
     ]
    },
    {
     "name": "stdout",
     "output_type": "stream",
     "text": [
      "\n",
      "Location: https://api.worldquantbrain.com/simulations/36i5156vz4FVc8XYjikqjCx\n",
      "Check Progress Returned alpha_id: xdWXKel\n"
     ]
    },
    {
     "name": "stderr",
     "output_type": "stream",
     "text": [
      "2024-11-25 21:28:57,361 - get_results: {\"id\":\"xdWXKel\",\"type\":\"REGULAR\",\"author\":\"KC72812\",\"settings\":{\"instrumentType\":\"EQUITY\",\"region\":\"JPN\",\"universe\":\"TOP1600\",\"delay\":1,\"decay\":4,\"neutralization\":\"NONE\",\"truncation\":0.08,\"pasteurization\":\"ON\",\"unitHandling\":\"VERIFY\",\"nanHandling\":\"OFF\",\"language\":\"FASTEXPR\",\"visualization\":false,\"testPeriod\":\"P6Y0M0D\"},\"regular\":{\"code\":\"ts_rank((fnd17_ataxrate), 20)\",\"description\":null,\"operatorCount\":1},\"dateCreated\":\"2024-11-25T08:28:54-05:00\",\"dateSubmitted\":null,\"dateModified\":\"2024-11-25T08:28:54-05:00\",\"name\":null,\"favorite\":false,\"hidden\":false,\"color\":null,\"category\":null,\"tags\":[],\"classifications\":[{\"id\":\"DATA_USAGE:SINGLE_DATA_SET\",\"name\":\"Single Data Set Alpha\"}],\"grade\":null,\"stage\":\"IS\",\"status\":\"UNSUBMITTED\",\"is\":{\"pnl\":16310262,\"bookSize\":20000000,\"longCount\":1446,\"shortCount\":0,\"turnover\":0.0131,\"returns\":0.1576,\"drawdown\":0.7737,\"margin\":0.024018,\"fitness\":0.51,\"sharpe\":0.45,\"startDate\":\"2012-07-15\",\"checks\":[{\"name\":\"LOW_SHARPE\",\"result\":\"FAIL\",\"limit\":1.58,\"value\":0.45},{\"name\":\"LOW_FITNESS\",\"result\":\"FAIL\",\"limit\":1.0,\"value\":0.51},{\"name\":\"LOW_TURNOVER\",\"result\":\"PASS\",\"limit\":0.01,\"value\":0.0131},{\"name\":\"HIGH_TURNOVER\",\"result\":\"PASS\",\"limit\":0.7,\"value\":0.0131},{\"name\":\"CONCENTRATED_WEIGHT\",\"result\":\"PASS\"},{\"name\":\"LOW_SUB_UNIVERSE_SHARPE\",\"result\":\"FAIL\",\"limit\":0.29,\"value\":-0.3},{\"name\":\"SELF_CORRELATION\",\"result\":\"PENDING\"},{\"name\":\"DATA_DIVERSITY\",\"result\":\"PENDING\"},{\"name\":\"PROD_CORRELATION\",\"result\":\"PENDING\"},{\"name\":\"REGULAR_SUBMISSION\",\"result\":\"PENDING\"},{\"name\":\"LOW_2Y_SHARPE\",\"result\":\"FAIL\",\"value\":-0.24,\"limit\":1.58},{\"result\":\"PASS\",\"name\":\"MATCHES_PYRAMID\",\"multiplier\":1.7,\"pyramids\":[{\"name\":\"JPN/D1/Fundamental\",\"multiplier\":1.7}]}]},\"os\":null,\"train\":{\"pnl\":10262642,\"bookSize\":20000000,\"longCount\":1422,\"shortCount\":0,\"turnover\":0.0139,\"returns\":0.2458,\"drawdown\":0.32,\"margin\":0.035257,\"fitness\":0.91,\"sharpe\":0.65,\"startDate\":\"2012-07-15\"},\"test\":{\"pnl\":5818137,\"bookSize\":20000000,\"longCount\":1463,\"shortCount\":0,\"turnover\":0.0126,\"returns\":0.0942,\"drawdown\":0.7737,\"margin\":0.01499,\"fitness\":0.24,\"sharpe\":0.28,\"startDate\":\"2016-07-15\"},\"prod\":null,\"competitions\":null,\"themes\":null,\"pyramids\":null,\"team\":null}\n",
      "\n",
      "\n"
     ]
    },
    {
     "name": "stdout",
     "output_type": "stream",
     "text": [
      "\n",
      "\n",
      "get_results: {\"id\":\"xdWXKel\",\"type\":\"REGULAR\",\"author\":\"KC72812\",\"settings\":{\"instrumentType\":\"EQUITY\",\"region\":\"JPN\",\"universe\":\"TOP1600\",\"delay\":1,\"decay\":4,\"neutralization\":\"NONE\",\"truncation\":0.08,\"pasteurization\":\"ON\",\"unitHandling\":\"VERIFY\",\"nanHandling\":\"OFF\",\"language\":\"FASTEXPR\",\"visualization\":false,\"testPeriod\":\"P6Y0M0D\"},\"regular\":{\"code\":\"ts_rank((fnd17_ataxrate), 20)\",\"description\":null,\"operatorCount\":1},\"dateCreated\":\"2024-11-25T08:28:54-05:00\",\"dateSubmitted\":null,\"dateModified\":\"2024-11-25T08:28:54-05:00\",\"name\":null,\"favorite\":false,\"hidden\":false,\"color\":null,\"category\":null,\"tags\":[],\"classifications\":[{\"id\":\"DATA_USAGE:SINGLE_DATA_SET\",\"name\":\"Single Data Set Alpha\"}],\"grade\":null,\"stage\":\"IS\",\"status\":\"UNSUBMITTED\",\"is\":{\"pnl\":16310262,\"bookSize\":20000000,\"longCount\":1446,\"shortCount\":0,\"turnover\":0.0131,\"returns\":0.1576,\"drawdown\":0.7737,\"margin\":0.024018,\"fitness\":0.51,\"sharpe\":0.45,\"startDate\":\"2012-07-15\",\"checks\":[{\"name\":\"LOW_SHARPE\",\"result\":\"FAIL\",\"limit\":1.58,\"value\":0.45},{\"name\":\"LOW_FITNESS\",\"result\":\"FAIL\",\"limit\":1.0,\"value\":0.51},{\"name\":\"LOW_TURNOVER\",\"result\":\"PASS\",\"limit\":0.01,\"value\":0.0131},{\"name\":\"HIGH_TURNOVER\",\"result\":\"PASS\",\"limit\":0.7,\"value\":0.0131},{\"name\":\"CONCENTRATED_WEIGHT\",\"result\":\"PASS\"},{\"name\":\"LOW_SUB_UNIVERSE_SHARPE\",\"result\":\"FAIL\",\"limit\":0.29,\"value\":-0.3},{\"name\":\"SELF_CORRELATION\",\"result\":\"PENDING\"},{\"name\":\"DATA_DIVERSITY\",\"result\":\"PENDING\"},{\"name\":\"PROD_CORRELATION\",\"result\":\"PENDING\"},{\"name\":\"REGULAR_SUBMISSION\",\"result\":\"PENDING\"},{\"name\":\"LOW_2Y_SHARPE\",\"result\":\"FAIL\",\"value\":-0.24,\"limit\":1.58},{\"result\":\"PASS\",\"name\":\"MATCHES_PYRAMID\",\"multiplier\":1.7,\"pyramids\":[{\"name\":\"JPN/D1/Fundamental\",\"multiplier\":1.7}]}]},\"os\":null,\"train\":{\"pnl\":10262642,\"bookSize\":20000000,\"longCount\":1422,\"shortCount\":0,\"turnover\":0.0139,\"returns\":0.2458,\"drawdown\":0.32,\"margin\":0.035257,\"fitness\":0.91,\"sharpe\":0.65,\"startDate\":\"2012-07-15\"},\"test\":{\"pnl\":5818137,\"bookSize\":20000000,\"longCount\":1463,\"shortCount\":0,\"turnover\":0.0126,\"returns\":0.0942,\"drawdown\":0.7737,\"margin\":0.01499,\"fitness\":0.24,\"sharpe\":0.28,\"startDate\":\"2016-07-15\"},\"prod\":null,\"competitions\":null,\"themes\":null,\"pyramids\":null,\"team\":null} \n",
      "\n",
      "\n",
      "\n",
      "\n"
     ]
    },
    {
     "name": "stderr",
     "output_type": "stream",
     "text": [
      "2024-11-25 21:28:57,783 - get_results: {\"is\":{\"checks\":[{\"name\":\"LOW_SHARPE\",\"result\":\"FAIL\",\"limit\":1.58,\"value\":0.45},{\"name\":\"LOW_FITNESS\",\"result\":\"FAIL\",\"limit\":1.0,\"value\":0.51},{\"name\":\"LOW_TURNOVER\",\"result\":\"PASS\",\"limit\":0.01,\"value\":0.0131},{\"name\":\"HIGH_TURNOVER\",\"result\":\"PASS\",\"limit\":0.7,\"value\":0.0131},{\"name\":\"CONCENTRATED_WEIGHT\",\"result\":\"PASS\"},{\"name\":\"LOW_SUB_UNIVERSE_SHARPE\",\"result\":\"FAIL\",\"limit\":0.29,\"value\":-0.3},{\"name\":\"SELF_CORRELATION\",\"result\":\"PENDING\"},{\"name\":\"DATA_DIVERSITY\",\"result\":\"PASS\"},{\"name\":\"PROD_CORRELATION\",\"result\":\"PENDING\"},{\"name\":\"REGULAR_SUBMISSION\",\"result\":\"PASS\",\"limit\":4,\"value\":0},{\"name\":\"LOW_2Y_SHARPE\",\"result\":\"FAIL\",\"value\":-0.24,\"limit\":1.58},{\"result\":\"PASS\",\"name\":\"MATCHES_PYRAMID\",\"multiplier\":1.7,\"pyramids\":[{\"name\":\"JPN/D1/Fundamental\",\"multiplier\":1.7}]}]}}\n",
      "\n",
      "\n",
      "2024-11-25 21:28:57,783 - simu_results: {'summary_results aka get_results_dictionary': {'id': 'xdWXKel', 'type': 'REGULAR', 'author': 'KC72812', 'settings': {'instrumentType': 'EQUITY', 'region': 'JPN', 'universe': 'TOP1600', 'delay': 1, 'decay': 4, 'neutralization': 'NONE', 'truncation': 0.08, 'pasteurization': 'ON', 'unitHandling': 'VERIFY', 'nanHandling': 'OFF', 'language': 'FASTEXPR', 'visualization': False, 'testPeriod': 'P6Y0M0D'}, 'regular': {'code': 'ts_rank((fnd17_ataxrate), 20)', 'description': None, 'operatorCount': 1}, 'dateCreated': '2024-11-25T08:28:54-05:00', 'dateSubmitted': None, 'dateModified': '2024-11-25T08:28:54-05:00', 'name': None, 'favorite': False, 'hidden': False, 'color': None, 'category': None, 'tags': [], 'classifications': [{'id': 'DATA_USAGE:SINGLE_DATA_SET', 'name': 'Single Data Set Alpha'}], 'grade': None, 'stage': 'IS', 'status': 'UNSUBMITTED', 'is': {'pnl': 16310262, 'bookSize': 20000000, 'longCount': 1446, 'shortCount': 0, 'turnover': 0.0131, 'returns': 0.1576, 'drawdown': 0.7737, 'margin': 0.024018, 'fitness': 0.51, 'sharpe': 0.45, 'startDate': '2012-07-15', 'checks': [{'name': 'LOW_SHARPE', 'result': 'FAIL', 'limit': 1.58, 'value': 0.45}, {'name': 'LOW_FITNESS', 'result': 'FAIL', 'limit': 1.0, 'value': 0.51}, {'name': 'LOW_TURNOVER', 'result': 'PASS', 'limit': 0.01, 'value': 0.0131}, {'name': 'HIGH_TURNOVER', 'result': 'PASS', 'limit': 0.7, 'value': 0.0131}, {'name': 'CONCENTRATED_WEIGHT', 'result': 'PASS'}, {'name': 'LOW_SUB_UNIVERSE_SHARPE', 'result': 'FAIL', 'limit': 0.29, 'value': -0.3}, {'name': 'SELF_CORRELATION', 'result': 'PENDING'}, {'name': 'DATA_DIVERSITY', 'result': 'PENDING'}, {'name': 'PROD_CORRELATION', 'result': 'PENDING'}, {'name': 'REGULAR_SUBMISSION', 'result': 'PENDING'}, {'name': 'LOW_2Y_SHARPE', 'result': 'FAIL', 'value': -0.24, 'limit': 1.58}, {'result': 'PASS', 'name': 'MATCHES_PYRAMID', 'multiplier': 1.7, 'pyramids': [{'name': 'JPN/D1/Fundamental', 'multiplier': 1.7}]}]}, 'os': None, 'train': {'pnl': 10262642, 'bookSize': 20000000, 'longCount': 1422, 'shortCount': 0, 'turnover': 0.0139, 'returns': 0.2458, 'drawdown': 0.32, 'margin': 0.035257, 'fitness': 0.91, 'sharpe': 0.65, 'startDate': '2012-07-15'}, 'test': {'pnl': 5818137, 'bookSize': 20000000, 'longCount': 1463, 'shortCount': 0, 'turnover': 0.0126, 'returns': 0.0942, 'drawdown': 0.7737, 'margin': 0.01499, 'fitness': 0.24, 'sharpe': 0.28, 'startDate': '2016-07-15'}, 'prod': None, 'competitions': None, 'themes': None, 'pyramids': None, 'team': None}, 'submission_checks aka get_results_dictionary': {'is': {'checks': [{'name': 'LOW_SHARPE', 'result': 'FAIL', 'limit': 1.58, 'value': 0.45}, {'name': 'LOW_FITNESS', 'result': 'FAIL', 'limit': 1.0, 'value': 0.51}, {'name': 'LOW_TURNOVER', 'result': 'PASS', 'limit': 0.01, 'value': 0.0131}, {'name': 'HIGH_TURNOVER', 'result': 'PASS', 'limit': 0.7, 'value': 0.0131}, {'name': 'CONCENTRATED_WEIGHT', 'result': 'PASS'}, {'name': 'LOW_SUB_UNIVERSE_SHARPE', 'result': 'FAIL', 'limit': 0.29, 'value': -0.3}, {'name': 'SELF_CORRELATION', 'result': 'PENDING'}, {'name': 'DATA_DIVERSITY', 'result': 'PASS'}, {'name': 'PROD_CORRELATION', 'result': 'PENDING'}, {'name': 'REGULAR_SUBMISSION', 'result': 'PASS', 'limit': 4, 'value': 0}, {'name': 'LOW_2Y_SHARPE', 'result': 'FAIL', 'value': -0.24, 'limit': 1.58}, {'result': 'PASS', 'name': 'MATCHES_PYRAMID', 'multiplier': 1.7, 'pyramids': [{'name': 'JPN/D1/Fundamental', 'multiplier': 1.7}]}]}}}\n",
      "\n",
      "\n",
      "2024-11-25 21:28:57,784 - Sharpe Ratio None is below threshold for alpha: fnd17_ataxrate\n"
     ]
    },
    {
     "name": "stdout",
     "output_type": "stream",
     "text": [
      "\n",
      "\n",
      "get_results: {\"is\":{\"checks\":[{\"name\":\"LOW_SHARPE\",\"result\":\"FAIL\",\"limit\":1.58,\"value\":0.45},{\"name\":\"LOW_FITNESS\",\"result\":\"FAIL\",\"limit\":1.0,\"value\":0.51},{\"name\":\"LOW_TURNOVER\",\"result\":\"PASS\",\"limit\":0.01,\"value\":0.0131},{\"name\":\"HIGH_TURNOVER\",\"result\":\"PASS\",\"limit\":0.7,\"value\":0.0131},{\"name\":\"CONCENTRATED_WEIGHT\",\"result\":\"PASS\"},{\"name\":\"LOW_SUB_UNIVERSE_SHARPE\",\"result\":\"FAIL\",\"limit\":0.29,\"value\":-0.3},{\"name\":\"SELF_CORRELATION\",\"result\":\"PENDING\"},{\"name\":\"DATA_DIVERSITY\",\"result\":\"PASS\"},{\"name\":\"PROD_CORRELATION\",\"result\":\"PENDING\"},{\"name\":\"REGULAR_SUBMISSION\",\"result\":\"PASS\",\"limit\":4,\"value\":0},{\"name\":\"LOW_2Y_SHARPE\",\"result\":\"FAIL\",\"value\":-0.24,\"limit\":1.58},{\"result\":\"PASS\",\"name\":\"MATCHES_PYRAMID\",\"multiplier\":1.7,\"pyramids\":[{\"name\":\"JPN/D1/Fundamental\",\"multiplier\":1.7}]}]}} \n",
      "\n",
      "\n",
      "\n",
      "\n"
     ]
    },
    {
     "name": "stderr",
     "output_type": "stream",
     "text": [
      "2024-11-25 21:28:59,234 - Finished processing batch 6.\n",
      "2024-11-25 21:29:00,966 - Processing batch 7 with 3 items.\n",
      "2024-11-25 21:29:00,968 - Processing expression: fnd17_ataxrate2\n"
     ]
    },
    {
     "name": "stdout",
     "output_type": "stream",
     "text": [
      "\n",
      "Location: https://api.worldquantbrain.com/simulations/137GZkcqL4XIawy15Az4UMzt\n",
      "Check Progress Returned alpha_id: aEwX6gO\n"
     ]
    },
    {
     "name": "stderr",
     "output_type": "stream",
     "text": [
      "2024-11-25 21:30:34,636 - get_results: {\"id\":\"aEwX6gO\",\"type\":\"REGULAR\",\"author\":\"KC72812\",\"settings\":{\"instrumentType\":\"EQUITY\",\"region\":\"JPN\",\"universe\":\"TOP1600\",\"delay\":1,\"decay\":4,\"neutralization\":\"NONE\",\"truncation\":0.08,\"pasteurization\":\"ON\",\"unitHandling\":\"VERIFY\",\"nanHandling\":\"OFF\",\"language\":\"FASTEXPR\",\"visualization\":false,\"testPeriod\":\"P6Y0M0D\"},\"regular\":{\"code\":\"ts_rank((fnd17_ataxrate2), 20)\",\"description\":null,\"operatorCount\":1},\"dateCreated\":\"2024-11-25T08:30:31-05:00\",\"dateSubmitted\":null,\"dateModified\":\"2024-11-25T08:30:31-05:00\",\"name\":null,\"favorite\":false,\"hidden\":false,\"color\":null,\"category\":null,\"tags\":[],\"classifications\":[{\"id\":\"DATA_USAGE:SINGLE_DATA_SET\",\"name\":\"Single Data Set Alpha\"}],\"grade\":null,\"stage\":\"IS\",\"status\":\"UNSUBMITTED\",\"is\":{\"pnl\":17048917,\"bookSize\":20000000,\"longCount\":1443,\"shortCount\":0,\"turnover\":0.0128,\"returns\":0.1648,\"drawdown\":0.7608,\"margin\":0.02566,\"fitness\":0.54,\"sharpe\":0.47,\"startDate\":\"2012-07-15\",\"checks\":[{\"name\":\"LOW_SHARPE\",\"result\":\"FAIL\",\"limit\":1.58,\"value\":0.47},{\"name\":\"LOW_FITNESS\",\"result\":\"FAIL\",\"limit\":1.0,\"value\":0.54},{\"name\":\"LOW_TURNOVER\",\"result\":\"PASS\",\"limit\":0.01,\"value\":0.0128},{\"name\":\"HIGH_TURNOVER\",\"result\":\"PASS\",\"limit\":0.7,\"value\":0.0128},{\"name\":\"CONCENTRATED_WEIGHT\",\"result\":\"PASS\"},{\"name\":\"LOW_SUB_UNIVERSE_SHARPE\",\"result\":\"FAIL\",\"limit\":0.31,\"value\":-0.29},{\"name\":\"SELF_CORRELATION\",\"result\":\"PENDING\"},{\"name\":\"DATA_DIVERSITY\",\"result\":\"PENDING\"},{\"name\":\"PROD_CORRELATION\",\"result\":\"PENDING\"},{\"name\":\"REGULAR_SUBMISSION\",\"result\":\"PENDING\"},{\"name\":\"LOW_2Y_SHARPE\",\"result\":\"FAIL\",\"value\":-0.2,\"limit\":1.58},{\"result\":\"PASS\",\"name\":\"MATCHES_PYRAMID\",\"multiplier\":1.7,\"pyramids\":[{\"name\":\"JPN/D1/Fundamental\",\"multiplier\":1.7}]}]},\"os\":null,\"train\":{\"pnl\":10421874,\"bookSize\":20000000,\"longCount\":1405,\"shortCount\":0,\"turnover\":0.0131,\"returns\":0.2496,\"drawdown\":0.3181,\"margin\":0.03797,\"fitness\":0.93,\"sharpe\":0.66,\"startDate\":\"2012-07-15\"},\"test\":{\"pnl\":6398068,\"bookSize\":20000000,\"longCount\":1469,\"shortCount\":0,\"turnover\":0.0126,\"returns\":0.1036,\"drawdown\":0.7608,\"margin\":0.016402,\"fitness\":0.28,\"sharpe\":0.31,\"startDate\":\"2016-07-15\"},\"prod\":null,\"competitions\":null,\"themes\":null,\"pyramids\":null,\"team\":null}\n",
      "\n",
      "\n"
     ]
    },
    {
     "name": "stdout",
     "output_type": "stream",
     "text": [
      "\n",
      "\n",
      "get_results: {\"id\":\"aEwX6gO\",\"type\":\"REGULAR\",\"author\":\"KC72812\",\"settings\":{\"instrumentType\":\"EQUITY\",\"region\":\"JPN\",\"universe\":\"TOP1600\",\"delay\":1,\"decay\":4,\"neutralization\":\"NONE\",\"truncation\":0.08,\"pasteurization\":\"ON\",\"unitHandling\":\"VERIFY\",\"nanHandling\":\"OFF\",\"language\":\"FASTEXPR\",\"visualization\":false,\"testPeriod\":\"P6Y0M0D\"},\"regular\":{\"code\":\"ts_rank((fnd17_ataxrate2), 20)\",\"description\":null,\"operatorCount\":1},\"dateCreated\":\"2024-11-25T08:30:31-05:00\",\"dateSubmitted\":null,\"dateModified\":\"2024-11-25T08:30:31-05:00\",\"name\":null,\"favorite\":false,\"hidden\":false,\"color\":null,\"category\":null,\"tags\":[],\"classifications\":[{\"id\":\"DATA_USAGE:SINGLE_DATA_SET\",\"name\":\"Single Data Set Alpha\"}],\"grade\":null,\"stage\":\"IS\",\"status\":\"UNSUBMITTED\",\"is\":{\"pnl\":17048917,\"bookSize\":20000000,\"longCount\":1443,\"shortCount\":0,\"turnover\":0.0128,\"returns\":0.1648,\"drawdown\":0.7608,\"margin\":0.02566,\"fitness\":0.54,\"sharpe\":0.47,\"startDate\":\"2012-07-15\",\"checks\":[{\"name\":\"LOW_SHARPE\",\"result\":\"FAIL\",\"limit\":1.58,\"value\":0.47},{\"name\":\"LOW_FITNESS\",\"result\":\"FAIL\",\"limit\":1.0,\"value\":0.54},{\"name\":\"LOW_TURNOVER\",\"result\":\"PASS\",\"limit\":0.01,\"value\":0.0128},{\"name\":\"HIGH_TURNOVER\",\"result\":\"PASS\",\"limit\":0.7,\"value\":0.0128},{\"name\":\"CONCENTRATED_WEIGHT\",\"result\":\"PASS\"},{\"name\":\"LOW_SUB_UNIVERSE_SHARPE\",\"result\":\"FAIL\",\"limit\":0.31,\"value\":-0.29},{\"name\":\"SELF_CORRELATION\",\"result\":\"PENDING\"},{\"name\":\"DATA_DIVERSITY\",\"result\":\"PENDING\"},{\"name\":\"PROD_CORRELATION\",\"result\":\"PENDING\"},{\"name\":\"REGULAR_SUBMISSION\",\"result\":\"PENDING\"},{\"name\":\"LOW_2Y_SHARPE\",\"result\":\"FAIL\",\"value\":-0.2,\"limit\":1.58},{\"result\":\"PASS\",\"name\":\"MATCHES_PYRAMID\",\"multiplier\":1.7,\"pyramids\":[{\"name\":\"JPN/D1/Fundamental\",\"multiplier\":1.7}]}]},\"os\":null,\"train\":{\"pnl\":10421874,\"bookSize\":20000000,\"longCount\":1405,\"shortCount\":0,\"turnover\":0.0131,\"returns\":0.2496,\"drawdown\":0.3181,\"margin\":0.03797,\"fitness\":0.93,\"sharpe\":0.66,\"startDate\":\"2012-07-15\"},\"test\":{\"pnl\":6398068,\"bookSize\":20000000,\"longCount\":1469,\"shortCount\":0,\"turnover\":0.0126,\"returns\":0.1036,\"drawdown\":0.7608,\"margin\":0.016402,\"fitness\":0.28,\"sharpe\":0.31,\"startDate\":\"2016-07-15\"},\"prod\":null,\"competitions\":null,\"themes\":null,\"pyramids\":null,\"team\":null} \n",
      "\n",
      "\n",
      "\n",
      "\n"
     ]
    },
    {
     "name": "stderr",
     "output_type": "stream",
     "text": [
      "2024-11-25 21:30:35,044 - get_results: {\"is\":{\"checks\":[{\"name\":\"LOW_SHARPE\",\"result\":\"FAIL\",\"limit\":1.58,\"value\":0.47},{\"name\":\"LOW_FITNESS\",\"result\":\"FAIL\",\"limit\":1.0,\"value\":0.54},{\"name\":\"LOW_TURNOVER\",\"result\":\"PASS\",\"limit\":0.01,\"value\":0.0128},{\"name\":\"HIGH_TURNOVER\",\"result\":\"PASS\",\"limit\":0.7,\"value\":0.0128},{\"name\":\"CONCENTRATED_WEIGHT\",\"result\":\"PASS\"},{\"name\":\"LOW_SUB_UNIVERSE_SHARPE\",\"result\":\"FAIL\",\"limit\":0.31,\"value\":-0.29},{\"name\":\"SELF_CORRELATION\",\"result\":\"PENDING\"},{\"name\":\"DATA_DIVERSITY\",\"result\":\"PASS\"},{\"name\":\"PROD_CORRELATION\",\"result\":\"PENDING\"},{\"name\":\"REGULAR_SUBMISSION\",\"result\":\"PASS\",\"limit\":4,\"value\":0},{\"name\":\"LOW_2Y_SHARPE\",\"result\":\"FAIL\",\"value\":-0.2,\"limit\":1.58},{\"result\":\"PASS\",\"name\":\"MATCHES_PYRAMID\",\"multiplier\":1.7,\"pyramids\":[{\"name\":\"JPN/D1/Fundamental\",\"multiplier\":1.7}]}]}}\n",
      "\n",
      "\n",
      "2024-11-25 21:30:35,048 - simu_results: {'summary_results aka get_results_dictionary': {'id': 'aEwX6gO', 'type': 'REGULAR', 'author': 'KC72812', 'settings': {'instrumentType': 'EQUITY', 'region': 'JPN', 'universe': 'TOP1600', 'delay': 1, 'decay': 4, 'neutralization': 'NONE', 'truncation': 0.08, 'pasteurization': 'ON', 'unitHandling': 'VERIFY', 'nanHandling': 'OFF', 'language': 'FASTEXPR', 'visualization': False, 'testPeriod': 'P6Y0M0D'}, 'regular': {'code': 'ts_rank((fnd17_ataxrate2), 20)', 'description': None, 'operatorCount': 1}, 'dateCreated': '2024-11-25T08:30:31-05:00', 'dateSubmitted': None, 'dateModified': '2024-11-25T08:30:31-05:00', 'name': None, 'favorite': False, 'hidden': False, 'color': None, 'category': None, 'tags': [], 'classifications': [{'id': 'DATA_USAGE:SINGLE_DATA_SET', 'name': 'Single Data Set Alpha'}], 'grade': None, 'stage': 'IS', 'status': 'UNSUBMITTED', 'is': {'pnl': 17048917, 'bookSize': 20000000, 'longCount': 1443, 'shortCount': 0, 'turnover': 0.0128, 'returns': 0.1648, 'drawdown': 0.7608, 'margin': 0.02566, 'fitness': 0.54, 'sharpe': 0.47, 'startDate': '2012-07-15', 'checks': [{'name': 'LOW_SHARPE', 'result': 'FAIL', 'limit': 1.58, 'value': 0.47}, {'name': 'LOW_FITNESS', 'result': 'FAIL', 'limit': 1.0, 'value': 0.54}, {'name': 'LOW_TURNOVER', 'result': 'PASS', 'limit': 0.01, 'value': 0.0128}, {'name': 'HIGH_TURNOVER', 'result': 'PASS', 'limit': 0.7, 'value': 0.0128}, {'name': 'CONCENTRATED_WEIGHT', 'result': 'PASS'}, {'name': 'LOW_SUB_UNIVERSE_SHARPE', 'result': 'FAIL', 'limit': 0.31, 'value': -0.29}, {'name': 'SELF_CORRELATION', 'result': 'PENDING'}, {'name': 'DATA_DIVERSITY', 'result': 'PENDING'}, {'name': 'PROD_CORRELATION', 'result': 'PENDING'}, {'name': 'REGULAR_SUBMISSION', 'result': 'PENDING'}, {'name': 'LOW_2Y_SHARPE', 'result': 'FAIL', 'value': -0.2, 'limit': 1.58}, {'result': 'PASS', 'name': 'MATCHES_PYRAMID', 'multiplier': 1.7, 'pyramids': [{'name': 'JPN/D1/Fundamental', 'multiplier': 1.7}]}]}, 'os': None, 'train': {'pnl': 10421874, 'bookSize': 20000000, 'longCount': 1405, 'shortCount': 0, 'turnover': 0.0131, 'returns': 0.2496, 'drawdown': 0.3181, 'margin': 0.03797, 'fitness': 0.93, 'sharpe': 0.66, 'startDate': '2012-07-15'}, 'test': {'pnl': 6398068, 'bookSize': 20000000, 'longCount': 1469, 'shortCount': 0, 'turnover': 0.0126, 'returns': 0.1036, 'drawdown': 0.7608, 'margin': 0.016402, 'fitness': 0.28, 'sharpe': 0.31, 'startDate': '2016-07-15'}, 'prod': None, 'competitions': None, 'themes': None, 'pyramids': None, 'team': None}, 'submission_checks aka get_results_dictionary': {'is': {'checks': [{'name': 'LOW_SHARPE', 'result': 'FAIL', 'limit': 1.58, 'value': 0.47}, {'name': 'LOW_FITNESS', 'result': 'FAIL', 'limit': 1.0, 'value': 0.54}, {'name': 'LOW_TURNOVER', 'result': 'PASS', 'limit': 0.01, 'value': 0.0128}, {'name': 'HIGH_TURNOVER', 'result': 'PASS', 'limit': 0.7, 'value': 0.0128}, {'name': 'CONCENTRATED_WEIGHT', 'result': 'PASS'}, {'name': 'LOW_SUB_UNIVERSE_SHARPE', 'result': 'FAIL', 'limit': 0.31, 'value': -0.29}, {'name': 'SELF_CORRELATION', 'result': 'PENDING'}, {'name': 'DATA_DIVERSITY', 'result': 'PASS'}, {'name': 'PROD_CORRELATION', 'result': 'PENDING'}, {'name': 'REGULAR_SUBMISSION', 'result': 'PASS', 'limit': 4, 'value': 0}, {'name': 'LOW_2Y_SHARPE', 'result': 'FAIL', 'value': -0.2, 'limit': 1.58}, {'result': 'PASS', 'name': 'MATCHES_PYRAMID', 'multiplier': 1.7, 'pyramids': [{'name': 'JPN/D1/Fundamental', 'multiplier': 1.7}]}]}}}\n",
      "\n",
      "\n",
      "2024-11-25 21:30:35,051 - Sharpe Ratio None is below threshold for alpha: fnd17_ataxrate2\n"
     ]
    },
    {
     "name": "stdout",
     "output_type": "stream",
     "text": [
      "\n",
      "\n",
      "get_results: {\"is\":{\"checks\":[{\"name\":\"LOW_SHARPE\",\"result\":\"FAIL\",\"limit\":1.58,\"value\":0.47},{\"name\":\"LOW_FITNESS\",\"result\":\"FAIL\",\"limit\":1.0,\"value\":0.54},{\"name\":\"LOW_TURNOVER\",\"result\":\"PASS\",\"limit\":0.01,\"value\":0.0128},{\"name\":\"HIGH_TURNOVER\",\"result\":\"PASS\",\"limit\":0.7,\"value\":0.0128},{\"name\":\"CONCENTRATED_WEIGHT\",\"result\":\"PASS\"},{\"name\":\"LOW_SUB_UNIVERSE_SHARPE\",\"result\":\"FAIL\",\"limit\":0.31,\"value\":-0.29},{\"name\":\"SELF_CORRELATION\",\"result\":\"PENDING\"},{\"name\":\"DATA_DIVERSITY\",\"result\":\"PASS\"},{\"name\":\"PROD_CORRELATION\",\"result\":\"PENDING\"},{\"name\":\"REGULAR_SUBMISSION\",\"result\":\"PASS\",\"limit\":4,\"value\":0},{\"name\":\"LOW_2Y_SHARPE\",\"result\":\"FAIL\",\"value\":-0.2,\"limit\":1.58},{\"result\":\"PASS\",\"name\":\"MATCHES_PYRAMID\",\"multiplier\":1.7,\"pyramids\":[{\"name\":\"JPN/D1/Fundamental\",\"multiplier\":1.7}]}]}} \n",
      "\n",
      "\n",
      "\n",
      "\n"
     ]
    },
    {
     "name": "stderr",
     "output_type": "stream",
     "text": [
      "2024-11-25 21:30:36,315 - Processing expression: fnd17_atmtt\n"
     ]
    },
    {
     "name": "stdout",
     "output_type": "stream",
     "text": [
      "\n",
      "Location: https://api.worldquantbrain.com/simulations/2AYrUVd1V5hk9bt1cCVvkO4x\n",
      "Check Progress Returned alpha_id: 97mgQ5r\n"
     ]
    },
    {
     "name": "stderr",
     "output_type": "stream",
     "text": [
      "2024-11-25 21:33:15,383 - get_results: {\"id\":\"97mgQ5r\",\"type\":\"REGULAR\",\"author\":\"KC72812\",\"settings\":{\"instrumentType\":\"EQUITY\",\"region\":\"JPN\",\"universe\":\"TOP1600\",\"delay\":1,\"decay\":4,\"neutralization\":\"NONE\",\"truncation\":0.08,\"pasteurization\":\"ON\",\"unitHandling\":\"VERIFY\",\"nanHandling\":\"OFF\",\"language\":\"FASTEXPR\",\"visualization\":false,\"testPeriod\":\"P6Y0M0D\"},\"regular\":{\"code\":\"ts_rank((fnd17_atmtt), 20)\",\"description\":null,\"operatorCount\":1},\"dateCreated\":\"2024-11-25T08:33:12-05:00\",\"dateSubmitted\":null,\"dateModified\":\"2024-11-25T08:33:13-05:00\",\"name\":null,\"favorite\":false,\"hidden\":false,\"color\":null,\"category\":null,\"tags\":[],\"classifications\":[{\"id\":\"DATA_USAGE:SINGLE_DATA_SET\",\"name\":\"Single Data Set Alpha\"}],\"grade\":null,\"stage\":\"IS\",\"status\":\"UNSUBMITTED\",\"is\":{\"pnl\":16570931,\"bookSize\":20000000,\"longCount\":1523,\"shortCount\":0,\"turnover\":0.031,\"returns\":0.1601,\"drawdown\":0.754,\"margin\":0.010343,\"fitness\":0.51,\"sharpe\":0.45,\"startDate\":\"2012-07-15\",\"checks\":[{\"name\":\"LOW_SHARPE\",\"result\":\"FAIL\",\"limit\":1.58,\"value\":0.45},{\"name\":\"LOW_FITNESS\",\"result\":\"FAIL\",\"limit\":1.0,\"value\":0.51},{\"name\":\"LOW_TURNOVER\",\"result\":\"PASS\",\"limit\":0.01,\"value\":0.031},{\"name\":\"HIGH_TURNOVER\",\"result\":\"PASS\",\"limit\":0.7,\"value\":0.031},{\"name\":\"CONCENTRATED_WEIGHT\",\"result\":\"PASS\"},{\"name\":\"LOW_SUB_UNIVERSE_SHARPE\",\"result\":\"FAIL\",\"limit\":0.29,\"value\":-0.01},{\"name\":\"SELF_CORRELATION\",\"result\":\"PENDING\"},{\"name\":\"DATA_DIVERSITY\",\"result\":\"PENDING\"},{\"name\":\"PROD_CORRELATION\",\"result\":\"PENDING\"},{\"name\":\"REGULAR_SUBMISSION\",\"result\":\"PENDING\"},{\"name\":\"LOW_2Y_SHARPE\",\"result\":\"FAIL\",\"value\":-0.2,\"limit\":1.58},{\"result\":\"PASS\",\"name\":\"MATCHES_PYRAMID\",\"multiplier\":1.7,\"pyramids\":[{\"name\":\"JPN/D1/Fundamental\",\"multiplier\":1.7}]}]},\"os\":null,\"train\":{\"pnl\":10370651,\"bookSize\":20000000,\"longCount\":1491,\"shortCount\":0,\"turnover\":0.0313,\"returns\":0.2483,\"drawdown\":0.3233,\"margin\":0.015847,\"fitness\":0.92,\"sharpe\":0.65,\"startDate\":\"2012-07-15\"},\"test\":{\"pnl\":5963516,\"bookSize\":20000000,\"longCount\":1544,\"shortCount\":0,\"turnover\":0.0307,\"returns\":0.0966,\"drawdown\":0.754,\"margin\":0.00629,\"fitness\":0.25,\"sharpe\":0.29,\"startDate\":\"2016-07-15\"},\"prod\":null,\"competitions\":null,\"themes\":null,\"pyramids\":null,\"team\":null}\n",
      "\n",
      "\n"
     ]
    },
    {
     "name": "stdout",
     "output_type": "stream",
     "text": [
      "\n",
      "\n",
      "get_results: {\"id\":\"97mgQ5r\",\"type\":\"REGULAR\",\"author\":\"KC72812\",\"settings\":{\"instrumentType\":\"EQUITY\",\"region\":\"JPN\",\"universe\":\"TOP1600\",\"delay\":1,\"decay\":4,\"neutralization\":\"NONE\",\"truncation\":0.08,\"pasteurization\":\"ON\",\"unitHandling\":\"VERIFY\",\"nanHandling\":\"OFF\",\"language\":\"FASTEXPR\",\"visualization\":false,\"testPeriod\":\"P6Y0M0D\"},\"regular\":{\"code\":\"ts_rank((fnd17_atmtt), 20)\",\"description\":null,\"operatorCount\":1},\"dateCreated\":\"2024-11-25T08:33:12-05:00\",\"dateSubmitted\":null,\"dateModified\":\"2024-11-25T08:33:13-05:00\",\"name\":null,\"favorite\":false,\"hidden\":false,\"color\":null,\"category\":null,\"tags\":[],\"classifications\":[{\"id\":\"DATA_USAGE:SINGLE_DATA_SET\",\"name\":\"Single Data Set Alpha\"}],\"grade\":null,\"stage\":\"IS\",\"status\":\"UNSUBMITTED\",\"is\":{\"pnl\":16570931,\"bookSize\":20000000,\"longCount\":1523,\"shortCount\":0,\"turnover\":0.031,\"returns\":0.1601,\"drawdown\":0.754,\"margin\":0.010343,\"fitness\":0.51,\"sharpe\":0.45,\"startDate\":\"2012-07-15\",\"checks\":[{\"name\":\"LOW_SHARPE\",\"result\":\"FAIL\",\"limit\":1.58,\"value\":0.45},{\"name\":\"LOW_FITNESS\",\"result\":\"FAIL\",\"limit\":1.0,\"value\":0.51},{\"name\":\"LOW_TURNOVER\",\"result\":\"PASS\",\"limit\":0.01,\"value\":0.031},{\"name\":\"HIGH_TURNOVER\",\"result\":\"PASS\",\"limit\":0.7,\"value\":0.031},{\"name\":\"CONCENTRATED_WEIGHT\",\"result\":\"PASS\"},{\"name\":\"LOW_SUB_UNIVERSE_SHARPE\",\"result\":\"FAIL\",\"limit\":0.29,\"value\":-0.01},{\"name\":\"SELF_CORRELATION\",\"result\":\"PENDING\"},{\"name\":\"DATA_DIVERSITY\",\"result\":\"PENDING\"},{\"name\":\"PROD_CORRELATION\",\"result\":\"PENDING\"},{\"name\":\"REGULAR_SUBMISSION\",\"result\":\"PENDING\"},{\"name\":\"LOW_2Y_SHARPE\",\"result\":\"FAIL\",\"value\":-0.2,\"limit\":1.58},{\"result\":\"PASS\",\"name\":\"MATCHES_PYRAMID\",\"multiplier\":1.7,\"pyramids\":[{\"name\":\"JPN/D1/Fundamental\",\"multiplier\":1.7}]}]},\"os\":null,\"train\":{\"pnl\":10370651,\"bookSize\":20000000,\"longCount\":1491,\"shortCount\":0,\"turnover\":0.0313,\"returns\":0.2483,\"drawdown\":0.3233,\"margin\":0.015847,\"fitness\":0.92,\"sharpe\":0.65,\"startDate\":\"2012-07-15\"},\"test\":{\"pnl\":5963516,\"bookSize\":20000000,\"longCount\":1544,\"shortCount\":0,\"turnover\":0.0307,\"returns\":0.0966,\"drawdown\":0.754,\"margin\":0.00629,\"fitness\":0.25,\"sharpe\":0.29,\"startDate\":\"2016-07-15\"},\"prod\":null,\"competitions\":null,\"themes\":null,\"pyramids\":null,\"team\":null} \n",
      "\n",
      "\n",
      "\n",
      "\n"
     ]
    },
    {
     "name": "stderr",
     "output_type": "stream",
     "text": [
      "2024-11-25 21:33:15,811 - get_results: {\"is\":{\"checks\":[{\"name\":\"LOW_SHARPE\",\"result\":\"FAIL\",\"limit\":1.58,\"value\":0.45},{\"name\":\"LOW_FITNESS\",\"result\":\"FAIL\",\"limit\":1.0,\"value\":0.51},{\"name\":\"LOW_TURNOVER\",\"result\":\"PASS\",\"limit\":0.01,\"value\":0.031},{\"name\":\"HIGH_TURNOVER\",\"result\":\"PASS\",\"limit\":0.7,\"value\":0.031},{\"name\":\"CONCENTRATED_WEIGHT\",\"result\":\"PASS\"},{\"name\":\"LOW_SUB_UNIVERSE_SHARPE\",\"result\":\"FAIL\",\"limit\":0.29,\"value\":-0.01},{\"name\":\"SELF_CORRELATION\",\"result\":\"PENDING\"},{\"name\":\"DATA_DIVERSITY\",\"result\":\"PASS\"},{\"name\":\"PROD_CORRELATION\",\"result\":\"PENDING\"},{\"name\":\"REGULAR_SUBMISSION\",\"result\":\"PASS\",\"limit\":4,\"value\":0},{\"name\":\"LOW_2Y_SHARPE\",\"result\":\"FAIL\",\"value\":-0.2,\"limit\":1.58},{\"result\":\"PASS\",\"name\":\"MATCHES_PYRAMID\",\"multiplier\":1.7,\"pyramids\":[{\"name\":\"JPN/D1/Fundamental\",\"multiplier\":1.7}]}]}}\n",
      "\n",
      "\n",
      "2024-11-25 21:33:15,815 - simu_results: {'summary_results aka get_results_dictionary': {'id': '97mgQ5r', 'type': 'REGULAR', 'author': 'KC72812', 'settings': {'instrumentType': 'EQUITY', 'region': 'JPN', 'universe': 'TOP1600', 'delay': 1, 'decay': 4, 'neutralization': 'NONE', 'truncation': 0.08, 'pasteurization': 'ON', 'unitHandling': 'VERIFY', 'nanHandling': 'OFF', 'language': 'FASTEXPR', 'visualization': False, 'testPeriod': 'P6Y0M0D'}, 'regular': {'code': 'ts_rank((fnd17_atmtt), 20)', 'description': None, 'operatorCount': 1}, 'dateCreated': '2024-11-25T08:33:12-05:00', 'dateSubmitted': None, 'dateModified': '2024-11-25T08:33:13-05:00', 'name': None, 'favorite': False, 'hidden': False, 'color': None, 'category': None, 'tags': [], 'classifications': [{'id': 'DATA_USAGE:SINGLE_DATA_SET', 'name': 'Single Data Set Alpha'}], 'grade': None, 'stage': 'IS', 'status': 'UNSUBMITTED', 'is': {'pnl': 16570931, 'bookSize': 20000000, 'longCount': 1523, 'shortCount': 0, 'turnover': 0.031, 'returns': 0.1601, 'drawdown': 0.754, 'margin': 0.010343, 'fitness': 0.51, 'sharpe': 0.45, 'startDate': '2012-07-15', 'checks': [{'name': 'LOW_SHARPE', 'result': 'FAIL', 'limit': 1.58, 'value': 0.45}, {'name': 'LOW_FITNESS', 'result': 'FAIL', 'limit': 1.0, 'value': 0.51}, {'name': 'LOW_TURNOVER', 'result': 'PASS', 'limit': 0.01, 'value': 0.031}, {'name': 'HIGH_TURNOVER', 'result': 'PASS', 'limit': 0.7, 'value': 0.031}, {'name': 'CONCENTRATED_WEIGHT', 'result': 'PASS'}, {'name': 'LOW_SUB_UNIVERSE_SHARPE', 'result': 'FAIL', 'limit': 0.29, 'value': -0.01}, {'name': 'SELF_CORRELATION', 'result': 'PENDING'}, {'name': 'DATA_DIVERSITY', 'result': 'PENDING'}, {'name': 'PROD_CORRELATION', 'result': 'PENDING'}, {'name': 'REGULAR_SUBMISSION', 'result': 'PENDING'}, {'name': 'LOW_2Y_SHARPE', 'result': 'FAIL', 'value': -0.2, 'limit': 1.58}, {'result': 'PASS', 'name': 'MATCHES_PYRAMID', 'multiplier': 1.7, 'pyramids': [{'name': 'JPN/D1/Fundamental', 'multiplier': 1.7}]}]}, 'os': None, 'train': {'pnl': 10370651, 'bookSize': 20000000, 'longCount': 1491, 'shortCount': 0, 'turnover': 0.0313, 'returns': 0.2483, 'drawdown': 0.3233, 'margin': 0.015847, 'fitness': 0.92, 'sharpe': 0.65, 'startDate': '2012-07-15'}, 'test': {'pnl': 5963516, 'bookSize': 20000000, 'longCount': 1544, 'shortCount': 0, 'turnover': 0.0307, 'returns': 0.0966, 'drawdown': 0.754, 'margin': 0.00629, 'fitness': 0.25, 'sharpe': 0.29, 'startDate': '2016-07-15'}, 'prod': None, 'competitions': None, 'themes': None, 'pyramids': None, 'team': None}, 'submission_checks aka get_results_dictionary': {'is': {'checks': [{'name': 'LOW_SHARPE', 'result': 'FAIL', 'limit': 1.58, 'value': 0.45}, {'name': 'LOW_FITNESS', 'result': 'FAIL', 'limit': 1.0, 'value': 0.51}, {'name': 'LOW_TURNOVER', 'result': 'PASS', 'limit': 0.01, 'value': 0.031}, {'name': 'HIGH_TURNOVER', 'result': 'PASS', 'limit': 0.7, 'value': 0.031}, {'name': 'CONCENTRATED_WEIGHT', 'result': 'PASS'}, {'name': 'LOW_SUB_UNIVERSE_SHARPE', 'result': 'FAIL', 'limit': 0.29, 'value': -0.01}, {'name': 'SELF_CORRELATION', 'result': 'PENDING'}, {'name': 'DATA_DIVERSITY', 'result': 'PASS'}, {'name': 'PROD_CORRELATION', 'result': 'PENDING'}, {'name': 'REGULAR_SUBMISSION', 'result': 'PASS', 'limit': 4, 'value': 0}, {'name': 'LOW_2Y_SHARPE', 'result': 'FAIL', 'value': -0.2, 'limit': 1.58}, {'result': 'PASS', 'name': 'MATCHES_PYRAMID', 'multiplier': 1.7, 'pyramids': [{'name': 'JPN/D1/Fundamental', 'multiplier': 1.7}]}]}}}\n",
      "\n",
      "\n",
      "2024-11-25 21:33:15,818 - Sharpe Ratio None is below threshold for alpha: fnd17_atmtt\n"
     ]
    },
    {
     "name": "stdout",
     "output_type": "stream",
     "text": [
      "\n",
      "\n",
      "get_results: {\"is\":{\"checks\":[{\"name\":\"LOW_SHARPE\",\"result\":\"FAIL\",\"limit\":1.58,\"value\":0.45},{\"name\":\"LOW_FITNESS\",\"result\":\"FAIL\",\"limit\":1.0,\"value\":0.51},{\"name\":\"LOW_TURNOVER\",\"result\":\"PASS\",\"limit\":0.01,\"value\":0.031},{\"name\":\"HIGH_TURNOVER\",\"result\":\"PASS\",\"limit\":0.7,\"value\":0.031},{\"name\":\"CONCENTRATED_WEIGHT\",\"result\":\"PASS\"},{\"name\":\"LOW_SUB_UNIVERSE_SHARPE\",\"result\":\"FAIL\",\"limit\":0.29,\"value\":-0.01},{\"name\":\"SELF_CORRELATION\",\"result\":\"PENDING\"},{\"name\":\"DATA_DIVERSITY\",\"result\":\"PASS\"},{\"name\":\"PROD_CORRELATION\",\"result\":\"PENDING\"},{\"name\":\"REGULAR_SUBMISSION\",\"result\":\"PASS\",\"limit\":4,\"value\":0},{\"name\":\"LOW_2Y_SHARPE\",\"result\":\"FAIL\",\"value\":-0.2,\"limit\":1.58},{\"result\":\"PASS\",\"name\":\"MATCHES_PYRAMID\",\"multiplier\":1.7,\"pyramids\":[{\"name\":\"JPN/D1/Fundamental\",\"multiplier\":1.7}]}]}} \n",
      "\n",
      "\n",
      "\n",
      "\n"
     ]
    },
    {
     "name": "stderr",
     "output_type": "stream",
     "text": [
      "2024-11-25 21:33:16,736 - Processing expression: fnd17_atotce\n"
     ]
    },
    {
     "name": "stdout",
     "output_type": "stream",
     "text": [
      "\n",
      "Location: https://api.worldquantbrain.com/simulations/35o7MRaJs4LM8E6WJO1zQfy\n",
      "Check Progress Returned alpha_id: Q9gmrVX\n"
     ]
    },
    {
     "name": "stderr",
     "output_type": "stream",
     "text": [
      "2024-11-25 21:34:25,033 - get_results: {\"id\":\"Q9gmrVX\",\"type\":\"REGULAR\",\"author\":\"KC72812\",\"settings\":{\"instrumentType\":\"EQUITY\",\"region\":\"JPN\",\"universe\":\"TOP1600\",\"delay\":1,\"decay\":4,\"neutralization\":\"NONE\",\"truncation\":0.08,\"pasteurization\":\"ON\",\"unitHandling\":\"VERIFY\",\"nanHandling\":\"OFF\",\"language\":\"FASTEXPR\",\"visualization\":false,\"testPeriod\":\"P6Y0M0D\"},\"regular\":{\"code\":\"ts_rank((fnd17_atotce), 20)\",\"description\":null,\"operatorCount\":1},\"dateCreated\":\"2024-11-25T08:34:22-05:00\",\"dateSubmitted\":null,\"dateModified\":\"2024-11-25T08:34:23-05:00\",\"name\":null,\"favorite\":false,\"hidden\":false,\"color\":null,\"category\":null,\"tags\":[],\"classifications\":[{\"id\":\"DATA_USAGE:SINGLE_DATA_SET\",\"name\":\"Single Data Set Alpha\"}],\"grade\":null,\"stage\":\"IS\",\"status\":\"UNSUBMITTED\",\"is\":{\"pnl\":16376737,\"bookSize\":20000000,\"longCount\":1543,\"shortCount\":0,\"turnover\":0.0127,\"returns\":0.1583,\"drawdown\":0.7734,\"margin\":0.024922,\"fitness\":0.51,\"sharpe\":0.45,\"startDate\":\"2012-07-15\",\"checks\":[{\"name\":\"LOW_SHARPE\",\"result\":\"FAIL\",\"limit\":1.58,\"value\":0.45},{\"name\":\"LOW_FITNESS\",\"result\":\"FAIL\",\"limit\":1.0,\"value\":0.51},{\"name\":\"LOW_TURNOVER\",\"result\":\"PASS\",\"limit\":0.01,\"value\":0.0127},{\"name\":\"HIGH_TURNOVER\",\"result\":\"PASS\",\"limit\":0.7,\"value\":0.0127},{\"name\":\"CONCENTRATED_WEIGHT\",\"result\":\"PASS\"},{\"name\":\"LOW_SUB_UNIVERSE_SHARPE\",\"result\":\"FAIL\",\"limit\":0.29,\"value\":0.18},{\"name\":\"SELF_CORRELATION\",\"result\":\"PENDING\"},{\"name\":\"DATA_DIVERSITY\",\"result\":\"PENDING\"},{\"name\":\"PROD_CORRELATION\",\"result\":\"PENDING\"},{\"name\":\"REGULAR_SUBMISSION\",\"result\":\"PENDING\"},{\"name\":\"LOW_2Y_SHARPE\",\"result\":\"FAIL\",\"value\":-0.26,\"limit\":1.58},{\"result\":\"PASS\",\"name\":\"MATCHES_PYRAMID\",\"multiplier\":1.7,\"pyramids\":[{\"name\":\"JPN/D1/Fundamental\",\"multiplier\":1.7}]}]},\"os\":null,\"train\":{\"pnl\":10518443,\"bookSize\":20000000,\"longCount\":1508,\"shortCount\":0,\"turnover\":0.0131,\"returns\":0.2519,\"drawdown\":0.3202,\"margin\":0.038552,\"fitness\":0.94,\"sharpe\":0.66,\"startDate\":\"2012-07-15\"},\"test\":{\"pnl\":5621592,\"bookSize\":20000000,\"longCount\":1568,\"shortCount\":0,\"turnover\":0.0125,\"returns\":0.091,\"drawdown\":0.7734,\"margin\":0.014622,\"fitness\":0.23,\"sharpe\":0.27,\"startDate\":\"2016-07-15\"},\"prod\":null,\"competitions\":null,\"themes\":null,\"pyramids\":null,\"team\":null}\n",
      "\n",
      "\n"
     ]
    },
    {
     "name": "stdout",
     "output_type": "stream",
     "text": [
      "\n",
      "\n",
      "get_results: {\"id\":\"Q9gmrVX\",\"type\":\"REGULAR\",\"author\":\"KC72812\",\"settings\":{\"instrumentType\":\"EQUITY\",\"region\":\"JPN\",\"universe\":\"TOP1600\",\"delay\":1,\"decay\":4,\"neutralization\":\"NONE\",\"truncation\":0.08,\"pasteurization\":\"ON\",\"unitHandling\":\"VERIFY\",\"nanHandling\":\"OFF\",\"language\":\"FASTEXPR\",\"visualization\":false,\"testPeriod\":\"P6Y0M0D\"},\"regular\":{\"code\":\"ts_rank((fnd17_atotce), 20)\",\"description\":null,\"operatorCount\":1},\"dateCreated\":\"2024-11-25T08:34:22-05:00\",\"dateSubmitted\":null,\"dateModified\":\"2024-11-25T08:34:23-05:00\",\"name\":null,\"favorite\":false,\"hidden\":false,\"color\":null,\"category\":null,\"tags\":[],\"classifications\":[{\"id\":\"DATA_USAGE:SINGLE_DATA_SET\",\"name\":\"Single Data Set Alpha\"}],\"grade\":null,\"stage\":\"IS\",\"status\":\"UNSUBMITTED\",\"is\":{\"pnl\":16376737,\"bookSize\":20000000,\"longCount\":1543,\"shortCount\":0,\"turnover\":0.0127,\"returns\":0.1583,\"drawdown\":0.7734,\"margin\":0.024922,\"fitness\":0.51,\"sharpe\":0.45,\"startDate\":\"2012-07-15\",\"checks\":[{\"name\":\"LOW_SHARPE\",\"result\":\"FAIL\",\"limit\":1.58,\"value\":0.45},{\"name\":\"LOW_FITNESS\",\"result\":\"FAIL\",\"limit\":1.0,\"value\":0.51},{\"name\":\"LOW_TURNOVER\",\"result\":\"PASS\",\"limit\":0.01,\"value\":0.0127},{\"name\":\"HIGH_TURNOVER\",\"result\":\"PASS\",\"limit\":0.7,\"value\":0.0127},{\"name\":\"CONCENTRATED_WEIGHT\",\"result\":\"PASS\"},{\"name\":\"LOW_SUB_UNIVERSE_SHARPE\",\"result\":\"FAIL\",\"limit\":0.29,\"value\":0.18},{\"name\":\"SELF_CORRELATION\",\"result\":\"PENDING\"},{\"name\":\"DATA_DIVERSITY\",\"result\":\"PENDING\"},{\"name\":\"PROD_CORRELATION\",\"result\":\"PENDING\"},{\"name\":\"REGULAR_SUBMISSION\",\"result\":\"PENDING\"},{\"name\":\"LOW_2Y_SHARPE\",\"result\":\"FAIL\",\"value\":-0.26,\"limit\":1.58},{\"result\":\"PASS\",\"name\":\"MATCHES_PYRAMID\",\"multiplier\":1.7,\"pyramids\":[{\"name\":\"JPN/D1/Fundamental\",\"multiplier\":1.7}]}]},\"os\":null,\"train\":{\"pnl\":10518443,\"bookSize\":20000000,\"longCount\":1508,\"shortCount\":0,\"turnover\":0.0131,\"returns\":0.2519,\"drawdown\":0.3202,\"margin\":0.038552,\"fitness\":0.94,\"sharpe\":0.66,\"startDate\":\"2012-07-15\"},\"test\":{\"pnl\":5621592,\"bookSize\":20000000,\"longCount\":1568,\"shortCount\":0,\"turnover\":0.0125,\"returns\":0.091,\"drawdown\":0.7734,\"margin\":0.014622,\"fitness\":0.23,\"sharpe\":0.27,\"startDate\":\"2016-07-15\"},\"prod\":null,\"competitions\":null,\"themes\":null,\"pyramids\":null,\"team\":null} \n",
      "\n",
      "\n",
      "\n",
      "\n"
     ]
    },
    {
     "name": "stderr",
     "output_type": "stream",
     "text": [
      "2024-11-25 21:34:25,464 - get_results: {\"is\":{\"checks\":[{\"name\":\"LOW_SHARPE\",\"result\":\"FAIL\",\"limit\":1.58,\"value\":0.45},{\"name\":\"LOW_FITNESS\",\"result\":\"FAIL\",\"limit\":1.0,\"value\":0.51},{\"name\":\"LOW_TURNOVER\",\"result\":\"PASS\",\"limit\":0.01,\"value\":0.0127},{\"name\":\"HIGH_TURNOVER\",\"result\":\"PASS\",\"limit\":0.7,\"value\":0.0127},{\"name\":\"CONCENTRATED_WEIGHT\",\"result\":\"PASS\"},{\"name\":\"LOW_SUB_UNIVERSE_SHARPE\",\"result\":\"FAIL\",\"limit\":0.29,\"value\":0.18},{\"name\":\"SELF_CORRELATION\",\"result\":\"PENDING\"},{\"name\":\"DATA_DIVERSITY\",\"result\":\"PASS\"},{\"name\":\"PROD_CORRELATION\",\"result\":\"PENDING\"},{\"name\":\"REGULAR_SUBMISSION\",\"result\":\"PASS\",\"limit\":4,\"value\":0},{\"name\":\"LOW_2Y_SHARPE\",\"result\":\"FAIL\",\"value\":-0.26,\"limit\":1.58},{\"result\":\"PASS\",\"name\":\"MATCHES_PYRAMID\",\"multiplier\":1.7,\"pyramids\":[{\"name\":\"JPN/D1/Fundamental\",\"multiplier\":1.7}]}]}}\n",
      "\n",
      "\n",
      "2024-11-25 21:34:25,467 - simu_results: {'summary_results aka get_results_dictionary': {'id': 'Q9gmrVX', 'type': 'REGULAR', 'author': 'KC72812', 'settings': {'instrumentType': 'EQUITY', 'region': 'JPN', 'universe': 'TOP1600', 'delay': 1, 'decay': 4, 'neutralization': 'NONE', 'truncation': 0.08, 'pasteurization': 'ON', 'unitHandling': 'VERIFY', 'nanHandling': 'OFF', 'language': 'FASTEXPR', 'visualization': False, 'testPeriod': 'P6Y0M0D'}, 'regular': {'code': 'ts_rank((fnd17_atotce), 20)', 'description': None, 'operatorCount': 1}, 'dateCreated': '2024-11-25T08:34:22-05:00', 'dateSubmitted': None, 'dateModified': '2024-11-25T08:34:23-05:00', 'name': None, 'favorite': False, 'hidden': False, 'color': None, 'category': None, 'tags': [], 'classifications': [{'id': 'DATA_USAGE:SINGLE_DATA_SET', 'name': 'Single Data Set Alpha'}], 'grade': None, 'stage': 'IS', 'status': 'UNSUBMITTED', 'is': {'pnl': 16376737, 'bookSize': 20000000, 'longCount': 1543, 'shortCount': 0, 'turnover': 0.0127, 'returns': 0.1583, 'drawdown': 0.7734, 'margin': 0.024922, 'fitness': 0.51, 'sharpe': 0.45, 'startDate': '2012-07-15', 'checks': [{'name': 'LOW_SHARPE', 'result': 'FAIL', 'limit': 1.58, 'value': 0.45}, {'name': 'LOW_FITNESS', 'result': 'FAIL', 'limit': 1.0, 'value': 0.51}, {'name': 'LOW_TURNOVER', 'result': 'PASS', 'limit': 0.01, 'value': 0.0127}, {'name': 'HIGH_TURNOVER', 'result': 'PASS', 'limit': 0.7, 'value': 0.0127}, {'name': 'CONCENTRATED_WEIGHT', 'result': 'PASS'}, {'name': 'LOW_SUB_UNIVERSE_SHARPE', 'result': 'FAIL', 'limit': 0.29, 'value': 0.18}, {'name': 'SELF_CORRELATION', 'result': 'PENDING'}, {'name': 'DATA_DIVERSITY', 'result': 'PENDING'}, {'name': 'PROD_CORRELATION', 'result': 'PENDING'}, {'name': 'REGULAR_SUBMISSION', 'result': 'PENDING'}, {'name': 'LOW_2Y_SHARPE', 'result': 'FAIL', 'value': -0.26, 'limit': 1.58}, {'result': 'PASS', 'name': 'MATCHES_PYRAMID', 'multiplier': 1.7, 'pyramids': [{'name': 'JPN/D1/Fundamental', 'multiplier': 1.7}]}]}, 'os': None, 'train': {'pnl': 10518443, 'bookSize': 20000000, 'longCount': 1508, 'shortCount': 0, 'turnover': 0.0131, 'returns': 0.2519, 'drawdown': 0.3202, 'margin': 0.038552, 'fitness': 0.94, 'sharpe': 0.66, 'startDate': '2012-07-15'}, 'test': {'pnl': 5621592, 'bookSize': 20000000, 'longCount': 1568, 'shortCount': 0, 'turnover': 0.0125, 'returns': 0.091, 'drawdown': 0.7734, 'margin': 0.014622, 'fitness': 0.23, 'sharpe': 0.27, 'startDate': '2016-07-15'}, 'prod': None, 'competitions': None, 'themes': None, 'pyramids': None, 'team': None}, 'submission_checks aka get_results_dictionary': {'is': {'checks': [{'name': 'LOW_SHARPE', 'result': 'FAIL', 'limit': 1.58, 'value': 0.45}, {'name': 'LOW_FITNESS', 'result': 'FAIL', 'limit': 1.0, 'value': 0.51}, {'name': 'LOW_TURNOVER', 'result': 'PASS', 'limit': 0.01, 'value': 0.0127}, {'name': 'HIGH_TURNOVER', 'result': 'PASS', 'limit': 0.7, 'value': 0.0127}, {'name': 'CONCENTRATED_WEIGHT', 'result': 'PASS'}, {'name': 'LOW_SUB_UNIVERSE_SHARPE', 'result': 'FAIL', 'limit': 0.29, 'value': 0.18}, {'name': 'SELF_CORRELATION', 'result': 'PENDING'}, {'name': 'DATA_DIVERSITY', 'result': 'PASS'}, {'name': 'PROD_CORRELATION', 'result': 'PENDING'}, {'name': 'REGULAR_SUBMISSION', 'result': 'PASS', 'limit': 4, 'value': 0}, {'name': 'LOW_2Y_SHARPE', 'result': 'FAIL', 'value': -0.26, 'limit': 1.58}, {'result': 'PASS', 'name': 'MATCHES_PYRAMID', 'multiplier': 1.7, 'pyramids': [{'name': 'JPN/D1/Fundamental', 'multiplier': 1.7}]}]}}}\n",
      "\n",
      "\n",
      "2024-11-25 21:34:25,470 - Sharpe Ratio None is below threshold for alpha: fnd17_atotce\n"
     ]
    },
    {
     "name": "stdout",
     "output_type": "stream",
     "text": [
      "\n",
      "\n",
      "get_results: {\"is\":{\"checks\":[{\"name\":\"LOW_SHARPE\",\"result\":\"FAIL\",\"limit\":1.58,\"value\":0.45},{\"name\":\"LOW_FITNESS\",\"result\":\"FAIL\",\"limit\":1.0,\"value\":0.51},{\"name\":\"LOW_TURNOVER\",\"result\":\"PASS\",\"limit\":0.01,\"value\":0.0127},{\"name\":\"HIGH_TURNOVER\",\"result\":\"PASS\",\"limit\":0.7,\"value\":0.0127},{\"name\":\"CONCENTRATED_WEIGHT\",\"result\":\"PASS\"},{\"name\":\"LOW_SUB_UNIVERSE_SHARPE\",\"result\":\"FAIL\",\"limit\":0.29,\"value\":0.18},{\"name\":\"SELF_CORRELATION\",\"result\":\"PENDING\"},{\"name\":\"DATA_DIVERSITY\",\"result\":\"PASS\"},{\"name\":\"PROD_CORRELATION\",\"result\":\"PENDING\"},{\"name\":\"REGULAR_SUBMISSION\",\"result\":\"PASS\",\"limit\":4,\"value\":0},{\"name\":\"LOW_2Y_SHARPE\",\"result\":\"FAIL\",\"value\":-0.26,\"limit\":1.58},{\"result\":\"PASS\",\"name\":\"MATCHES_PYRAMID\",\"multiplier\":1.7,\"pyramids\":[{\"name\":\"JPN/D1/Fundamental\",\"multiplier\":1.7}]}]}} \n",
      "\n",
      "\n",
      "\n",
      "\n"
     ]
    },
    {
     "name": "stderr",
     "output_type": "stream",
     "text": [
      "2024-11-25 21:34:26,358 - Finished processing batch 7.\n",
      "2024-11-25 21:34:27,619 - Processing batch 8 with 3 items.\n",
      "2024-11-25 21:34:27,620 - Processing expression: fnd17_atotd\n"
     ]
    },
    {
     "name": "stdout",
     "output_type": "stream",
     "text": [
      "\n",
      "Location: https://api.worldquantbrain.com/simulations/5RrSf8YS4Ur9dhAEnF9dKC\n",
      "Check Progress Returned alpha_id: OxVK5K1\n"
     ]
    },
    {
     "name": "stderr",
     "output_type": "stream",
     "text": [
      "2024-11-25 21:36:15,633 - get_results: {\"id\":\"OxVK5K1\",\"type\":\"REGULAR\",\"author\":\"KC72812\",\"settings\":{\"instrumentType\":\"EQUITY\",\"region\":\"JPN\",\"universe\":\"TOP1600\",\"delay\":1,\"decay\":4,\"neutralization\":\"NONE\",\"truncation\":0.08,\"pasteurization\":\"ON\",\"unitHandling\":\"VERIFY\",\"nanHandling\":\"OFF\",\"language\":\"FASTEXPR\",\"visualization\":false,\"testPeriod\":\"P6Y0M0D\"},\"regular\":{\"code\":\"ts_rank((fnd17_atotd), 20)\",\"description\":null,\"operatorCount\":1},\"dateCreated\":\"2024-11-25T08:36:12-05:00\",\"dateSubmitted\":null,\"dateModified\":\"2024-11-25T08:36:13-05:00\",\"name\":null,\"favorite\":false,\"hidden\":false,\"color\":null,\"category\":null,\"tags\":[],\"classifications\":[{\"id\":\"DATA_USAGE:SINGLE_DATA_SET\",\"name\":\"Single Data Set Alpha\"}],\"grade\":null,\"stage\":\"IS\",\"status\":\"UNSUBMITTED\",\"is\":{\"pnl\":16276374,\"bookSize\":20000000,\"longCount\":1523,\"shortCount\":0,\"turnover\":0.0153,\"returns\":0.1573,\"drawdown\":0.7777,\"margin\":0.020511,\"fitness\":0.49,\"sharpe\":0.44,\"startDate\":\"2012-07-15\",\"checks\":[{\"name\":\"LOW_SHARPE\",\"result\":\"FAIL\",\"limit\":1.58,\"value\":0.44},{\"name\":\"LOW_FITNESS\",\"result\":\"FAIL\",\"limit\":1.0,\"value\":0.49},{\"name\":\"LOW_TURNOVER\",\"result\":\"PASS\",\"limit\":0.01,\"value\":0.0153},{\"name\":\"HIGH_TURNOVER\",\"result\":\"PASS\",\"limit\":0.7,\"value\":0.0153},{\"name\":\"CONCENTRATED_WEIGHT\",\"result\":\"PASS\"},{\"name\":\"LOW_SUB_UNIVERSE_SHARPE\",\"result\":\"FAIL\",\"limit\":0.29,\"value\":0.0},{\"name\":\"SELF_CORRELATION\",\"result\":\"PENDING\"},{\"name\":\"DATA_DIVERSITY\",\"result\":\"PENDING\"},{\"name\":\"PROD_CORRELATION\",\"result\":\"PENDING\"},{\"name\":\"REGULAR_SUBMISSION\",\"result\":\"PENDING\"},{\"name\":\"LOW_2Y_SHARPE\",\"result\":\"FAIL\",\"value\":-0.24,\"limit\":1.58},{\"result\":\"PASS\",\"name\":\"MATCHES_PYRAMID\",\"multiplier\":1.7,\"pyramids\":[{\"name\":\"JPN/D1/Fundamental\",\"multiplier\":1.7}]}]},\"os\":null,\"train\":{\"pnl\":10234429,\"bookSize\":20000000,\"longCount\":1487,\"shortCount\":0,\"turnover\":0.0148,\"returns\":0.2451,\"drawdown\":0.3217,\"margin\":0.033174,\"fitness\":0.9,\"sharpe\":0.64,\"startDate\":\"2012-07-15\"},\"test\":{\"pnl\":5808847,\"bookSize\":20000000,\"longCount\":1547,\"shortCount\":0,\"turnover\":0.0157,\"returns\":0.0941,\"drawdown\":0.7777,\"margin\":0.011961,\"fitness\":0.24,\"sharpe\":0.28,\"startDate\":\"2016-07-15\"},\"prod\":null,\"competitions\":null,\"themes\":null,\"pyramids\":null,\"team\":null}\n",
      "\n",
      "\n"
     ]
    },
    {
     "name": "stdout",
     "output_type": "stream",
     "text": [
      "\n",
      "\n",
      "get_results: {\"id\":\"OxVK5K1\",\"type\":\"REGULAR\",\"author\":\"KC72812\",\"settings\":{\"instrumentType\":\"EQUITY\",\"region\":\"JPN\",\"universe\":\"TOP1600\",\"delay\":1,\"decay\":4,\"neutralization\":\"NONE\",\"truncation\":0.08,\"pasteurization\":\"ON\",\"unitHandling\":\"VERIFY\",\"nanHandling\":\"OFF\",\"language\":\"FASTEXPR\",\"visualization\":false,\"testPeriod\":\"P6Y0M0D\"},\"regular\":{\"code\":\"ts_rank((fnd17_atotd), 20)\",\"description\":null,\"operatorCount\":1},\"dateCreated\":\"2024-11-25T08:36:12-05:00\",\"dateSubmitted\":null,\"dateModified\":\"2024-11-25T08:36:13-05:00\",\"name\":null,\"favorite\":false,\"hidden\":false,\"color\":null,\"category\":null,\"tags\":[],\"classifications\":[{\"id\":\"DATA_USAGE:SINGLE_DATA_SET\",\"name\":\"Single Data Set Alpha\"}],\"grade\":null,\"stage\":\"IS\",\"status\":\"UNSUBMITTED\",\"is\":{\"pnl\":16276374,\"bookSize\":20000000,\"longCount\":1523,\"shortCount\":0,\"turnover\":0.0153,\"returns\":0.1573,\"drawdown\":0.7777,\"margin\":0.020511,\"fitness\":0.49,\"sharpe\":0.44,\"startDate\":\"2012-07-15\",\"checks\":[{\"name\":\"LOW_SHARPE\",\"result\":\"FAIL\",\"limit\":1.58,\"value\":0.44},{\"name\":\"LOW_FITNESS\",\"result\":\"FAIL\",\"limit\":1.0,\"value\":0.49},{\"name\":\"LOW_TURNOVER\",\"result\":\"PASS\",\"limit\":0.01,\"value\":0.0153},{\"name\":\"HIGH_TURNOVER\",\"result\":\"PASS\",\"limit\":0.7,\"value\":0.0153},{\"name\":\"CONCENTRATED_WEIGHT\",\"result\":\"PASS\"},{\"name\":\"LOW_SUB_UNIVERSE_SHARPE\",\"result\":\"FAIL\",\"limit\":0.29,\"value\":0.0},{\"name\":\"SELF_CORRELATION\",\"result\":\"PENDING\"},{\"name\":\"DATA_DIVERSITY\",\"result\":\"PENDING\"},{\"name\":\"PROD_CORRELATION\",\"result\":\"PENDING\"},{\"name\":\"REGULAR_SUBMISSION\",\"result\":\"PENDING\"},{\"name\":\"LOW_2Y_SHARPE\",\"result\":\"FAIL\",\"value\":-0.24,\"limit\":1.58},{\"result\":\"PASS\",\"name\":\"MATCHES_PYRAMID\",\"multiplier\":1.7,\"pyramids\":[{\"name\":\"JPN/D1/Fundamental\",\"multiplier\":1.7}]}]},\"os\":null,\"train\":{\"pnl\":10234429,\"bookSize\":20000000,\"longCount\":1487,\"shortCount\":0,\"turnover\":0.0148,\"returns\":0.2451,\"drawdown\":0.3217,\"margin\":0.033174,\"fitness\":0.9,\"sharpe\":0.64,\"startDate\":\"2012-07-15\"},\"test\":{\"pnl\":5808847,\"bookSize\":20000000,\"longCount\":1547,\"shortCount\":0,\"turnover\":0.0157,\"returns\":0.0941,\"drawdown\":0.7777,\"margin\":0.011961,\"fitness\":0.24,\"sharpe\":0.28,\"startDate\":\"2016-07-15\"},\"prod\":null,\"competitions\":null,\"themes\":null,\"pyramids\":null,\"team\":null} \n",
      "\n",
      "\n",
      "\n",
      "\n"
     ]
    },
    {
     "name": "stderr",
     "output_type": "stream",
     "text": [
      "2024-11-25 21:36:16,041 - get_results: {\"is\":{\"checks\":[{\"name\":\"LOW_SHARPE\",\"result\":\"FAIL\",\"limit\":1.58,\"value\":0.44},{\"name\":\"LOW_FITNESS\",\"result\":\"FAIL\",\"limit\":1.0,\"value\":0.49},{\"name\":\"LOW_TURNOVER\",\"result\":\"PASS\",\"limit\":0.01,\"value\":0.0153},{\"name\":\"HIGH_TURNOVER\",\"result\":\"PASS\",\"limit\":0.7,\"value\":0.0153},{\"name\":\"CONCENTRATED_WEIGHT\",\"result\":\"PASS\"},{\"name\":\"LOW_SUB_UNIVERSE_SHARPE\",\"result\":\"FAIL\",\"limit\":0.29,\"value\":0.0},{\"name\":\"SELF_CORRELATION\",\"result\":\"PENDING\"},{\"name\":\"DATA_DIVERSITY\",\"result\":\"PASS\"},{\"name\":\"PROD_CORRELATION\",\"result\":\"PENDING\"},{\"name\":\"REGULAR_SUBMISSION\",\"result\":\"PASS\",\"limit\":4,\"value\":0},{\"name\":\"LOW_2Y_SHARPE\",\"result\":\"FAIL\",\"value\":-0.24,\"limit\":1.58},{\"result\":\"PASS\",\"name\":\"MATCHES_PYRAMID\",\"multiplier\":1.7,\"pyramids\":[{\"name\":\"JPN/D1/Fundamental\",\"multiplier\":1.7}]}]}}\n",
      "\n",
      "\n",
      "2024-11-25 21:36:16,043 - simu_results: {'summary_results aka get_results_dictionary': {'id': 'OxVK5K1', 'type': 'REGULAR', 'author': 'KC72812', 'settings': {'instrumentType': 'EQUITY', 'region': 'JPN', 'universe': 'TOP1600', 'delay': 1, 'decay': 4, 'neutralization': 'NONE', 'truncation': 0.08, 'pasteurization': 'ON', 'unitHandling': 'VERIFY', 'nanHandling': 'OFF', 'language': 'FASTEXPR', 'visualization': False, 'testPeriod': 'P6Y0M0D'}, 'regular': {'code': 'ts_rank((fnd17_atotd), 20)', 'description': None, 'operatorCount': 1}, 'dateCreated': '2024-11-25T08:36:12-05:00', 'dateSubmitted': None, 'dateModified': '2024-11-25T08:36:13-05:00', 'name': None, 'favorite': False, 'hidden': False, 'color': None, 'category': None, 'tags': [], 'classifications': [{'id': 'DATA_USAGE:SINGLE_DATA_SET', 'name': 'Single Data Set Alpha'}], 'grade': None, 'stage': 'IS', 'status': 'UNSUBMITTED', 'is': {'pnl': 16276374, 'bookSize': 20000000, 'longCount': 1523, 'shortCount': 0, 'turnover': 0.0153, 'returns': 0.1573, 'drawdown': 0.7777, 'margin': 0.020511, 'fitness': 0.49, 'sharpe': 0.44, 'startDate': '2012-07-15', 'checks': [{'name': 'LOW_SHARPE', 'result': 'FAIL', 'limit': 1.58, 'value': 0.44}, {'name': 'LOW_FITNESS', 'result': 'FAIL', 'limit': 1.0, 'value': 0.49}, {'name': 'LOW_TURNOVER', 'result': 'PASS', 'limit': 0.01, 'value': 0.0153}, {'name': 'HIGH_TURNOVER', 'result': 'PASS', 'limit': 0.7, 'value': 0.0153}, {'name': 'CONCENTRATED_WEIGHT', 'result': 'PASS'}, {'name': 'LOW_SUB_UNIVERSE_SHARPE', 'result': 'FAIL', 'limit': 0.29, 'value': 0.0}, {'name': 'SELF_CORRELATION', 'result': 'PENDING'}, {'name': 'DATA_DIVERSITY', 'result': 'PENDING'}, {'name': 'PROD_CORRELATION', 'result': 'PENDING'}, {'name': 'REGULAR_SUBMISSION', 'result': 'PENDING'}, {'name': 'LOW_2Y_SHARPE', 'result': 'FAIL', 'value': -0.24, 'limit': 1.58}, {'result': 'PASS', 'name': 'MATCHES_PYRAMID', 'multiplier': 1.7, 'pyramids': [{'name': 'JPN/D1/Fundamental', 'multiplier': 1.7}]}]}, 'os': None, 'train': {'pnl': 10234429, 'bookSize': 20000000, 'longCount': 1487, 'shortCount': 0, 'turnover': 0.0148, 'returns': 0.2451, 'drawdown': 0.3217, 'margin': 0.033174, 'fitness': 0.9, 'sharpe': 0.64, 'startDate': '2012-07-15'}, 'test': {'pnl': 5808847, 'bookSize': 20000000, 'longCount': 1547, 'shortCount': 0, 'turnover': 0.0157, 'returns': 0.0941, 'drawdown': 0.7777, 'margin': 0.011961, 'fitness': 0.24, 'sharpe': 0.28, 'startDate': '2016-07-15'}, 'prod': None, 'competitions': None, 'themes': None, 'pyramids': None, 'team': None}, 'submission_checks aka get_results_dictionary': {'is': {'checks': [{'name': 'LOW_SHARPE', 'result': 'FAIL', 'limit': 1.58, 'value': 0.44}, {'name': 'LOW_FITNESS', 'result': 'FAIL', 'limit': 1.0, 'value': 0.49}, {'name': 'LOW_TURNOVER', 'result': 'PASS', 'limit': 0.01, 'value': 0.0153}, {'name': 'HIGH_TURNOVER', 'result': 'PASS', 'limit': 0.7, 'value': 0.0153}, {'name': 'CONCENTRATED_WEIGHT', 'result': 'PASS'}, {'name': 'LOW_SUB_UNIVERSE_SHARPE', 'result': 'FAIL', 'limit': 0.29, 'value': 0.0}, {'name': 'SELF_CORRELATION', 'result': 'PENDING'}, {'name': 'DATA_DIVERSITY', 'result': 'PASS'}, {'name': 'PROD_CORRELATION', 'result': 'PENDING'}, {'name': 'REGULAR_SUBMISSION', 'result': 'PASS', 'limit': 4, 'value': 0}, {'name': 'LOW_2Y_SHARPE', 'result': 'FAIL', 'value': -0.24, 'limit': 1.58}, {'result': 'PASS', 'name': 'MATCHES_PYRAMID', 'multiplier': 1.7, 'pyramids': [{'name': 'JPN/D1/Fundamental', 'multiplier': 1.7}]}]}}}\n",
      "\n",
      "\n",
      "2024-11-25 21:36:16,046 - Sharpe Ratio None is below threshold for alpha: fnd17_atotd\n"
     ]
    },
    {
     "name": "stdout",
     "output_type": "stream",
     "text": [
      "\n",
      "\n",
      "get_results: {\"is\":{\"checks\":[{\"name\":\"LOW_SHARPE\",\"result\":\"FAIL\",\"limit\":1.58,\"value\":0.44},{\"name\":\"LOW_FITNESS\",\"result\":\"FAIL\",\"limit\":1.0,\"value\":0.49},{\"name\":\"LOW_TURNOVER\",\"result\":\"PASS\",\"limit\":0.01,\"value\":0.0153},{\"name\":\"HIGH_TURNOVER\",\"result\":\"PASS\",\"limit\":0.7,\"value\":0.0153},{\"name\":\"CONCENTRATED_WEIGHT\",\"result\":\"PASS\"},{\"name\":\"LOW_SUB_UNIVERSE_SHARPE\",\"result\":\"FAIL\",\"limit\":0.29,\"value\":0.0},{\"name\":\"SELF_CORRELATION\",\"result\":\"PENDING\"},{\"name\":\"DATA_DIVERSITY\",\"result\":\"PASS\"},{\"name\":\"PROD_CORRELATION\",\"result\":\"PENDING\"},{\"name\":\"REGULAR_SUBMISSION\",\"result\":\"PASS\",\"limit\":4,\"value\":0},{\"name\":\"LOW_2Y_SHARPE\",\"result\":\"FAIL\",\"value\":-0.24,\"limit\":1.58},{\"result\":\"PASS\",\"name\":\"MATCHES_PYRAMID\",\"multiplier\":1.7,\"pyramids\":[{\"name\":\"JPN/D1/Fundamental\",\"multiplier\":1.7}]}]}} \n",
      "\n",
      "\n",
      "\n",
      "\n"
     ]
    },
    {
     "name": "stderr",
     "output_type": "stream",
     "text": [
      "2024-11-25 21:36:16,809 - Processing expression: fnd17_atotd2ast\n"
     ]
    },
    {
     "name": "stdout",
     "output_type": "stream",
     "text": [
      "\n",
      "Location: https://api.worldquantbrain.com/simulations/t0OKafuk4w89kK4HDHU9qE\n",
      "Check Progress Returned alpha_id: 3e5gzdN\n"
     ]
    },
    {
     "name": "stderr",
     "output_type": "stream",
     "text": [
      "2024-11-25 21:37:53,977 - get_results: {\"id\":\"3e5gzdN\",\"type\":\"REGULAR\",\"author\":\"KC72812\",\"settings\":{\"instrumentType\":\"EQUITY\",\"region\":\"JPN\",\"universe\":\"TOP1600\",\"delay\":1,\"decay\":4,\"neutralization\":\"NONE\",\"truncation\":0.08,\"pasteurization\":\"ON\",\"unitHandling\":\"VERIFY\",\"nanHandling\":\"OFF\",\"language\":\"FASTEXPR\",\"visualization\":false,\"testPeriod\":\"P6Y0M0D\"},\"regular\":{\"code\":\"ts_rank((fnd17_atotd2ast), 20)\",\"description\":null,\"operatorCount\":1},\"dateCreated\":\"2024-11-25T08:37:52-05:00\",\"dateSubmitted\":null,\"dateModified\":\"2024-11-25T08:37:53-05:00\",\"name\":null,\"favorite\":false,\"hidden\":false,\"color\":null,\"category\":null,\"tags\":[],\"classifications\":[{\"id\":\"DATA_USAGE:SINGLE_DATA_SET\",\"name\":\"Single Data Set Alpha\"}],\"grade\":null,\"stage\":\"IS\",\"status\":\"UNSUBMITTED\",\"is\":{\"pnl\":16181044,\"bookSize\":20000000,\"longCount\":1523,\"shortCount\":0,\"turnover\":0.0164,\"returns\":0.1564,\"drawdown\":0.7783,\"margin\":0.019044,\"fitness\":0.49,\"sharpe\":0.44,\"startDate\":\"2012-07-15\",\"checks\":[{\"name\":\"LOW_SHARPE\",\"result\":\"FAIL\",\"limit\":1.58,\"value\":0.44},{\"name\":\"LOW_FITNESS\",\"result\":\"FAIL\",\"limit\":1.0,\"value\":0.49},{\"name\":\"LOW_TURNOVER\",\"result\":\"PASS\",\"limit\":0.01,\"value\":0.0164},{\"name\":\"HIGH_TURNOVER\",\"result\":\"PASS\",\"limit\":0.7,\"value\":0.0164},{\"name\":\"CONCENTRATED_WEIGHT\",\"result\":\"PASS\"},{\"name\":\"LOW_SUB_UNIVERSE_SHARPE\",\"result\":\"FAIL\",\"limit\":0.29,\"value\":-0.57},{\"name\":\"SELF_CORRELATION\",\"result\":\"PENDING\"},{\"name\":\"DATA_DIVERSITY\",\"result\":\"PENDING\"},{\"name\":\"PROD_CORRELATION\",\"result\":\"PENDING\"},{\"name\":\"REGULAR_SUBMISSION\",\"result\":\"PENDING\"},{\"name\":\"LOW_2Y_SHARPE\",\"result\":\"FAIL\",\"value\":-0.24,\"limit\":1.58},{\"result\":\"PASS\",\"name\":\"MATCHES_PYRAMID\",\"multiplier\":1.7,\"pyramids\":[{\"name\":\"JPN/D1/Fundamental\",\"multiplier\":1.7}]}]},\"os\":null,\"train\":{\"pnl\":10129077,\"bookSize\":20000000,\"longCount\":1487,\"shortCount\":0,\"turnover\":0.016,\"returns\":0.2426,\"drawdown\":0.3217,\"margin\":0.030358,\"fitness\":0.88,\"sharpe\":0.63,\"startDate\":\"2012-07-15\"},\"test\":{\"pnl\":5818204,\"bookSize\":20000000,\"longCount\":1547,\"shortCount\":0,\"turnover\":0.0167,\"returns\":0.0942,\"drawdown\":0.7783,\"margin\":0.011262,\"fitness\":0.24,\"sharpe\":0.28,\"startDate\":\"2016-07-15\"},\"prod\":null,\"competitions\":null,\"themes\":null,\"pyramids\":null,\"team\":null}\n",
      "\n",
      "\n"
     ]
    },
    {
     "name": "stdout",
     "output_type": "stream",
     "text": [
      "\n",
      "\n",
      "get_results: {\"id\":\"3e5gzdN\",\"type\":\"REGULAR\",\"author\":\"KC72812\",\"settings\":{\"instrumentType\":\"EQUITY\",\"region\":\"JPN\",\"universe\":\"TOP1600\",\"delay\":1,\"decay\":4,\"neutralization\":\"NONE\",\"truncation\":0.08,\"pasteurization\":\"ON\",\"unitHandling\":\"VERIFY\",\"nanHandling\":\"OFF\",\"language\":\"FASTEXPR\",\"visualization\":false,\"testPeriod\":\"P6Y0M0D\"},\"regular\":{\"code\":\"ts_rank((fnd17_atotd2ast), 20)\",\"description\":null,\"operatorCount\":1},\"dateCreated\":\"2024-11-25T08:37:52-05:00\",\"dateSubmitted\":null,\"dateModified\":\"2024-11-25T08:37:53-05:00\",\"name\":null,\"favorite\":false,\"hidden\":false,\"color\":null,\"category\":null,\"tags\":[],\"classifications\":[{\"id\":\"DATA_USAGE:SINGLE_DATA_SET\",\"name\":\"Single Data Set Alpha\"}],\"grade\":null,\"stage\":\"IS\",\"status\":\"UNSUBMITTED\",\"is\":{\"pnl\":16181044,\"bookSize\":20000000,\"longCount\":1523,\"shortCount\":0,\"turnover\":0.0164,\"returns\":0.1564,\"drawdown\":0.7783,\"margin\":0.019044,\"fitness\":0.49,\"sharpe\":0.44,\"startDate\":\"2012-07-15\",\"checks\":[{\"name\":\"LOW_SHARPE\",\"result\":\"FAIL\",\"limit\":1.58,\"value\":0.44},{\"name\":\"LOW_FITNESS\",\"result\":\"FAIL\",\"limit\":1.0,\"value\":0.49},{\"name\":\"LOW_TURNOVER\",\"result\":\"PASS\",\"limit\":0.01,\"value\":0.0164},{\"name\":\"HIGH_TURNOVER\",\"result\":\"PASS\",\"limit\":0.7,\"value\":0.0164},{\"name\":\"CONCENTRATED_WEIGHT\",\"result\":\"PASS\"},{\"name\":\"LOW_SUB_UNIVERSE_SHARPE\",\"result\":\"FAIL\",\"limit\":0.29,\"value\":-0.57},{\"name\":\"SELF_CORRELATION\",\"result\":\"PENDING\"},{\"name\":\"DATA_DIVERSITY\",\"result\":\"PENDING\"},{\"name\":\"PROD_CORRELATION\",\"result\":\"PENDING\"},{\"name\":\"REGULAR_SUBMISSION\",\"result\":\"PENDING\"},{\"name\":\"LOW_2Y_SHARPE\",\"result\":\"FAIL\",\"value\":-0.24,\"limit\":1.58},{\"result\":\"PASS\",\"name\":\"MATCHES_PYRAMID\",\"multiplier\":1.7,\"pyramids\":[{\"name\":\"JPN/D1/Fundamental\",\"multiplier\":1.7}]}]},\"os\":null,\"train\":{\"pnl\":10129077,\"bookSize\":20000000,\"longCount\":1487,\"shortCount\":0,\"turnover\":0.016,\"returns\":0.2426,\"drawdown\":0.3217,\"margin\":0.030358,\"fitness\":0.88,\"sharpe\":0.63,\"startDate\":\"2012-07-15\"},\"test\":{\"pnl\":5818204,\"bookSize\":20000000,\"longCount\":1547,\"shortCount\":0,\"turnover\":0.0167,\"returns\":0.0942,\"drawdown\":0.7783,\"margin\":0.011262,\"fitness\":0.24,\"sharpe\":0.28,\"startDate\":\"2016-07-15\"},\"prod\":null,\"competitions\":null,\"themes\":null,\"pyramids\":null,\"team\":null} \n",
      "\n",
      "\n",
      "\n",
      "\n"
     ]
    },
    {
     "name": "stderr",
     "output_type": "stream",
     "text": [
      "2024-11-25 21:37:54,382 - get_results: {\"is\":{\"checks\":[{\"name\":\"LOW_SHARPE\",\"result\":\"FAIL\",\"limit\":1.58,\"value\":0.44},{\"name\":\"LOW_FITNESS\",\"result\":\"FAIL\",\"limit\":1.0,\"value\":0.49},{\"name\":\"LOW_TURNOVER\",\"result\":\"PASS\",\"limit\":0.01,\"value\":0.0164},{\"name\":\"HIGH_TURNOVER\",\"result\":\"PASS\",\"limit\":0.7,\"value\":0.0164},{\"name\":\"CONCENTRATED_WEIGHT\",\"result\":\"PASS\"},{\"name\":\"LOW_SUB_UNIVERSE_SHARPE\",\"result\":\"FAIL\",\"limit\":0.29,\"value\":-0.57},{\"name\":\"SELF_CORRELATION\",\"result\":\"PENDING\"},{\"name\":\"DATA_DIVERSITY\",\"result\":\"PASS\"},{\"name\":\"PROD_CORRELATION\",\"result\":\"PENDING\"},{\"name\":\"REGULAR_SUBMISSION\",\"result\":\"PASS\",\"limit\":4,\"value\":0},{\"name\":\"LOW_2Y_SHARPE\",\"result\":\"FAIL\",\"value\":-0.24,\"limit\":1.58},{\"result\":\"PASS\",\"name\":\"MATCHES_PYRAMID\",\"multiplier\":1.7,\"pyramids\":[{\"name\":\"JPN/D1/Fundamental\",\"multiplier\":1.7}]}]}}\n",
      "\n",
      "\n",
      "2024-11-25 21:37:54,385 - simu_results: {'summary_results aka get_results_dictionary': {'id': '3e5gzdN', 'type': 'REGULAR', 'author': 'KC72812', 'settings': {'instrumentType': 'EQUITY', 'region': 'JPN', 'universe': 'TOP1600', 'delay': 1, 'decay': 4, 'neutralization': 'NONE', 'truncation': 0.08, 'pasteurization': 'ON', 'unitHandling': 'VERIFY', 'nanHandling': 'OFF', 'language': 'FASTEXPR', 'visualization': False, 'testPeriod': 'P6Y0M0D'}, 'regular': {'code': 'ts_rank((fnd17_atotd2ast), 20)', 'description': None, 'operatorCount': 1}, 'dateCreated': '2024-11-25T08:37:52-05:00', 'dateSubmitted': None, 'dateModified': '2024-11-25T08:37:53-05:00', 'name': None, 'favorite': False, 'hidden': False, 'color': None, 'category': None, 'tags': [], 'classifications': [{'id': 'DATA_USAGE:SINGLE_DATA_SET', 'name': 'Single Data Set Alpha'}], 'grade': None, 'stage': 'IS', 'status': 'UNSUBMITTED', 'is': {'pnl': 16181044, 'bookSize': 20000000, 'longCount': 1523, 'shortCount': 0, 'turnover': 0.0164, 'returns': 0.1564, 'drawdown': 0.7783, 'margin': 0.019044, 'fitness': 0.49, 'sharpe': 0.44, 'startDate': '2012-07-15', 'checks': [{'name': 'LOW_SHARPE', 'result': 'FAIL', 'limit': 1.58, 'value': 0.44}, {'name': 'LOW_FITNESS', 'result': 'FAIL', 'limit': 1.0, 'value': 0.49}, {'name': 'LOW_TURNOVER', 'result': 'PASS', 'limit': 0.01, 'value': 0.0164}, {'name': 'HIGH_TURNOVER', 'result': 'PASS', 'limit': 0.7, 'value': 0.0164}, {'name': 'CONCENTRATED_WEIGHT', 'result': 'PASS'}, {'name': 'LOW_SUB_UNIVERSE_SHARPE', 'result': 'FAIL', 'limit': 0.29, 'value': -0.57}, {'name': 'SELF_CORRELATION', 'result': 'PENDING'}, {'name': 'DATA_DIVERSITY', 'result': 'PENDING'}, {'name': 'PROD_CORRELATION', 'result': 'PENDING'}, {'name': 'REGULAR_SUBMISSION', 'result': 'PENDING'}, {'name': 'LOW_2Y_SHARPE', 'result': 'FAIL', 'value': -0.24, 'limit': 1.58}, {'result': 'PASS', 'name': 'MATCHES_PYRAMID', 'multiplier': 1.7, 'pyramids': [{'name': 'JPN/D1/Fundamental', 'multiplier': 1.7}]}]}, 'os': None, 'train': {'pnl': 10129077, 'bookSize': 20000000, 'longCount': 1487, 'shortCount': 0, 'turnover': 0.016, 'returns': 0.2426, 'drawdown': 0.3217, 'margin': 0.030358, 'fitness': 0.88, 'sharpe': 0.63, 'startDate': '2012-07-15'}, 'test': {'pnl': 5818204, 'bookSize': 20000000, 'longCount': 1547, 'shortCount': 0, 'turnover': 0.0167, 'returns': 0.0942, 'drawdown': 0.7783, 'margin': 0.011262, 'fitness': 0.24, 'sharpe': 0.28, 'startDate': '2016-07-15'}, 'prod': None, 'competitions': None, 'themes': None, 'pyramids': None, 'team': None}, 'submission_checks aka get_results_dictionary': {'is': {'checks': [{'name': 'LOW_SHARPE', 'result': 'FAIL', 'limit': 1.58, 'value': 0.44}, {'name': 'LOW_FITNESS', 'result': 'FAIL', 'limit': 1.0, 'value': 0.49}, {'name': 'LOW_TURNOVER', 'result': 'PASS', 'limit': 0.01, 'value': 0.0164}, {'name': 'HIGH_TURNOVER', 'result': 'PASS', 'limit': 0.7, 'value': 0.0164}, {'name': 'CONCENTRATED_WEIGHT', 'result': 'PASS'}, {'name': 'LOW_SUB_UNIVERSE_SHARPE', 'result': 'FAIL', 'limit': 0.29, 'value': -0.57}, {'name': 'SELF_CORRELATION', 'result': 'PENDING'}, {'name': 'DATA_DIVERSITY', 'result': 'PASS'}, {'name': 'PROD_CORRELATION', 'result': 'PENDING'}, {'name': 'REGULAR_SUBMISSION', 'result': 'PASS', 'limit': 4, 'value': 0}, {'name': 'LOW_2Y_SHARPE', 'result': 'FAIL', 'value': -0.24, 'limit': 1.58}, {'result': 'PASS', 'name': 'MATCHES_PYRAMID', 'multiplier': 1.7, 'pyramids': [{'name': 'JPN/D1/Fundamental', 'multiplier': 1.7}]}]}}}\n",
      "\n",
      "\n",
      "2024-11-25 21:37:54,387 - Sharpe Ratio None is below threshold for alpha: fnd17_atotd2ast\n"
     ]
    },
    {
     "name": "stdout",
     "output_type": "stream",
     "text": [
      "\n",
      "\n",
      "get_results: {\"is\":{\"checks\":[{\"name\":\"LOW_SHARPE\",\"result\":\"FAIL\",\"limit\":1.58,\"value\":0.44},{\"name\":\"LOW_FITNESS\",\"result\":\"FAIL\",\"limit\":1.0,\"value\":0.49},{\"name\":\"LOW_TURNOVER\",\"result\":\"PASS\",\"limit\":0.01,\"value\":0.0164},{\"name\":\"HIGH_TURNOVER\",\"result\":\"PASS\",\"limit\":0.7,\"value\":0.0164},{\"name\":\"CONCENTRATED_WEIGHT\",\"result\":\"PASS\"},{\"name\":\"LOW_SUB_UNIVERSE_SHARPE\",\"result\":\"FAIL\",\"limit\":0.29,\"value\":-0.57},{\"name\":\"SELF_CORRELATION\",\"result\":\"PENDING\"},{\"name\":\"DATA_DIVERSITY\",\"result\":\"PASS\"},{\"name\":\"PROD_CORRELATION\",\"result\":\"PENDING\"},{\"name\":\"REGULAR_SUBMISSION\",\"result\":\"PASS\",\"limit\":4,\"value\":0},{\"name\":\"LOW_2Y_SHARPE\",\"result\":\"FAIL\",\"value\":-0.24,\"limit\":1.58},{\"result\":\"PASS\",\"name\":\"MATCHES_PYRAMID\",\"multiplier\":1.7,\"pyramids\":[{\"name\":\"JPN/D1/Fundamental\",\"multiplier\":1.7}]}]}} \n",
      "\n",
      "\n",
      "\n",
      "\n"
     ]
    },
    {
     "name": "stderr",
     "output_type": "stream",
     "text": [
      "2024-11-25 21:37:55,535 - Processing expression: fnd17_atotd2cap\n"
     ]
    },
    {
     "name": "stdout",
     "output_type": "stream",
     "text": [
      "\n",
      "Location: https://api.worldquantbrain.com/simulations/1s6YHBblY56Jc18HYMCWWZg\n",
      "Check Progress Returned alpha_id: xdWXkOW\n"
     ]
    },
    {
     "name": "stderr",
     "output_type": "stream",
     "text": [
      "2024-11-25 21:39:12,333 - get_results: {\"id\":\"xdWXkOW\",\"type\":\"REGULAR\",\"author\":\"KC72812\",\"settings\":{\"instrumentType\":\"EQUITY\",\"region\":\"JPN\",\"universe\":\"TOP1600\",\"delay\":1,\"decay\":4,\"neutralization\":\"NONE\",\"truncation\":0.08,\"pasteurization\":\"ON\",\"unitHandling\":\"VERIFY\",\"nanHandling\":\"OFF\",\"language\":\"FASTEXPR\",\"visualization\":false,\"testPeriod\":\"P6Y0M0D\"},\"regular\":{\"code\":\"ts_rank((fnd17_atotd2cap), 20)\",\"description\":null,\"operatorCount\":1},\"dateCreated\":\"2024-11-25T08:39:10-05:00\",\"dateSubmitted\":null,\"dateModified\":\"2024-11-25T08:39:10-05:00\",\"name\":null,\"favorite\":false,\"hidden\":false,\"color\":null,\"category\":null,\"tags\":[],\"classifications\":[{\"id\":\"DATA_USAGE:SINGLE_DATA_SET\",\"name\":\"Single Data Set Alpha\"}],\"grade\":null,\"stage\":\"IS\",\"status\":\"UNSUBMITTED\",\"is\":{\"pnl\":16988113,\"bookSize\":20000000,\"longCount\":1456,\"shortCount\":0,\"turnover\":0.0165,\"returns\":0.1642,\"drawdown\":0.7957,\"margin\":0.019852,\"fitness\":0.53,\"sharpe\":0.46,\"startDate\":\"2012-07-15\",\"checks\":[{\"name\":\"LOW_SHARPE\",\"result\":\"FAIL\",\"limit\":1.58,\"value\":0.46},{\"name\":\"LOW_FITNESS\",\"result\":\"FAIL\",\"limit\":1.0,\"value\":0.53},{\"name\":\"LOW_TURNOVER\",\"result\":\"PASS\",\"limit\":0.01,\"value\":0.0165},{\"name\":\"HIGH_TURNOVER\",\"result\":\"PASS\",\"limit\":0.7,\"value\":0.0165},{\"name\":\"CONCENTRATED_WEIGHT\",\"result\":\"PASS\"},{\"name\":\"LOW_SUB_UNIVERSE_SHARPE\",\"result\":\"FAIL\",\"limit\":0.3,\"value\":-0.29},{\"name\":\"SELF_CORRELATION\",\"result\":\"PENDING\"},{\"name\":\"DATA_DIVERSITY\",\"result\":\"PENDING\"},{\"name\":\"PROD_CORRELATION\",\"result\":\"PENDING\"},{\"name\":\"REGULAR_SUBMISSION\",\"result\":\"PENDING\"},{\"name\":\"LOW_2Y_SHARPE\",\"result\":\"FAIL\",\"value\":-0.24,\"limit\":1.58},{\"result\":\"PASS\",\"name\":\"MATCHES_PYRAMID\",\"multiplier\":1.7,\"pyramids\":[{\"name\":\"JPN/D1/Fundamental\",\"multiplier\":1.7}]}]},\"os\":null,\"train\":{\"pnl\":10452324,\"bookSize\":20000000,\"longCount\":1412,\"shortCount\":0,\"turnover\":0.0162,\"returns\":0.2503,\"drawdown\":0.3053,\"margin\":0.030914,\"fitness\":0.93,\"sharpe\":0.66,\"startDate\":\"2012-07-15\"},\"test\":{\"pnl\":6271982,\"bookSize\":20000000,\"longCount\":1486,\"shortCount\":0,\"turnover\":0.0168,\"returns\":0.1016,\"drawdown\":0.7957,\"margin\":0.012101,\"fitness\":0.27,\"sharpe\":0.3,\"startDate\":\"2016-07-15\"},\"prod\":null,\"competitions\":null,\"themes\":null,\"pyramids\":null,\"team\":null}\n",
      "\n",
      "\n"
     ]
    },
    {
     "name": "stdout",
     "output_type": "stream",
     "text": [
      "\n",
      "\n",
      "get_results: {\"id\":\"xdWXkOW\",\"type\":\"REGULAR\",\"author\":\"KC72812\",\"settings\":{\"instrumentType\":\"EQUITY\",\"region\":\"JPN\",\"universe\":\"TOP1600\",\"delay\":1,\"decay\":4,\"neutralization\":\"NONE\",\"truncation\":0.08,\"pasteurization\":\"ON\",\"unitHandling\":\"VERIFY\",\"nanHandling\":\"OFF\",\"language\":\"FASTEXPR\",\"visualization\":false,\"testPeriod\":\"P6Y0M0D\"},\"regular\":{\"code\":\"ts_rank((fnd17_atotd2cap), 20)\",\"description\":null,\"operatorCount\":1},\"dateCreated\":\"2024-11-25T08:39:10-05:00\",\"dateSubmitted\":null,\"dateModified\":\"2024-11-25T08:39:10-05:00\",\"name\":null,\"favorite\":false,\"hidden\":false,\"color\":null,\"category\":null,\"tags\":[],\"classifications\":[{\"id\":\"DATA_USAGE:SINGLE_DATA_SET\",\"name\":\"Single Data Set Alpha\"}],\"grade\":null,\"stage\":\"IS\",\"status\":\"UNSUBMITTED\",\"is\":{\"pnl\":16988113,\"bookSize\":20000000,\"longCount\":1456,\"shortCount\":0,\"turnover\":0.0165,\"returns\":0.1642,\"drawdown\":0.7957,\"margin\":0.019852,\"fitness\":0.53,\"sharpe\":0.46,\"startDate\":\"2012-07-15\",\"checks\":[{\"name\":\"LOW_SHARPE\",\"result\":\"FAIL\",\"limit\":1.58,\"value\":0.46},{\"name\":\"LOW_FITNESS\",\"result\":\"FAIL\",\"limit\":1.0,\"value\":0.53},{\"name\":\"LOW_TURNOVER\",\"result\":\"PASS\",\"limit\":0.01,\"value\":0.0165},{\"name\":\"HIGH_TURNOVER\",\"result\":\"PASS\",\"limit\":0.7,\"value\":0.0165},{\"name\":\"CONCENTRATED_WEIGHT\",\"result\":\"PASS\"},{\"name\":\"LOW_SUB_UNIVERSE_SHARPE\",\"result\":\"FAIL\",\"limit\":0.3,\"value\":-0.29},{\"name\":\"SELF_CORRELATION\",\"result\":\"PENDING\"},{\"name\":\"DATA_DIVERSITY\",\"result\":\"PENDING\"},{\"name\":\"PROD_CORRELATION\",\"result\":\"PENDING\"},{\"name\":\"REGULAR_SUBMISSION\",\"result\":\"PENDING\"},{\"name\":\"LOW_2Y_SHARPE\",\"result\":\"FAIL\",\"value\":-0.24,\"limit\":1.58},{\"result\":\"PASS\",\"name\":\"MATCHES_PYRAMID\",\"multiplier\":1.7,\"pyramids\":[{\"name\":\"JPN/D1/Fundamental\",\"multiplier\":1.7}]}]},\"os\":null,\"train\":{\"pnl\":10452324,\"bookSize\":20000000,\"longCount\":1412,\"shortCount\":0,\"turnover\":0.0162,\"returns\":0.2503,\"drawdown\":0.3053,\"margin\":0.030914,\"fitness\":0.93,\"sharpe\":0.66,\"startDate\":\"2012-07-15\"},\"test\":{\"pnl\":6271982,\"bookSize\":20000000,\"longCount\":1486,\"shortCount\":0,\"turnover\":0.0168,\"returns\":0.1016,\"drawdown\":0.7957,\"margin\":0.012101,\"fitness\":0.27,\"sharpe\":0.3,\"startDate\":\"2016-07-15\"},\"prod\":null,\"competitions\":null,\"themes\":null,\"pyramids\":null,\"team\":null} \n",
      "\n",
      "\n",
      "\n",
      "\n"
     ]
    },
    {
     "name": "stderr",
     "output_type": "stream",
     "text": [
      "2024-11-25 21:39:12,742 - get_results: {\"is\":{\"checks\":[{\"name\":\"LOW_SHARPE\",\"result\":\"FAIL\",\"limit\":1.58,\"value\":0.46},{\"name\":\"LOW_FITNESS\",\"result\":\"FAIL\",\"limit\":1.0,\"value\":0.53},{\"name\":\"LOW_TURNOVER\",\"result\":\"PASS\",\"limit\":0.01,\"value\":0.0165},{\"name\":\"HIGH_TURNOVER\",\"result\":\"PASS\",\"limit\":0.7,\"value\":0.0165},{\"name\":\"CONCENTRATED_WEIGHT\",\"result\":\"PASS\"},{\"name\":\"LOW_SUB_UNIVERSE_SHARPE\",\"result\":\"FAIL\",\"limit\":0.3,\"value\":-0.29},{\"name\":\"SELF_CORRELATION\",\"result\":\"PENDING\"},{\"name\":\"DATA_DIVERSITY\",\"result\":\"PASS\"},{\"name\":\"PROD_CORRELATION\",\"result\":\"PENDING\"},{\"name\":\"REGULAR_SUBMISSION\",\"result\":\"PASS\",\"limit\":4,\"value\":0},{\"name\":\"LOW_2Y_SHARPE\",\"result\":\"FAIL\",\"value\":-0.24,\"limit\":1.58},{\"result\":\"PASS\",\"name\":\"MATCHES_PYRAMID\",\"multiplier\":1.7,\"pyramids\":[{\"name\":\"JPN/D1/Fundamental\",\"multiplier\":1.7}]}]}}\n",
      "\n",
      "\n",
      "2024-11-25 21:39:12,745 - simu_results: {'summary_results aka get_results_dictionary': {'id': 'xdWXkOW', 'type': 'REGULAR', 'author': 'KC72812', 'settings': {'instrumentType': 'EQUITY', 'region': 'JPN', 'universe': 'TOP1600', 'delay': 1, 'decay': 4, 'neutralization': 'NONE', 'truncation': 0.08, 'pasteurization': 'ON', 'unitHandling': 'VERIFY', 'nanHandling': 'OFF', 'language': 'FASTEXPR', 'visualization': False, 'testPeriod': 'P6Y0M0D'}, 'regular': {'code': 'ts_rank((fnd17_atotd2cap), 20)', 'description': None, 'operatorCount': 1}, 'dateCreated': '2024-11-25T08:39:10-05:00', 'dateSubmitted': None, 'dateModified': '2024-11-25T08:39:10-05:00', 'name': None, 'favorite': False, 'hidden': False, 'color': None, 'category': None, 'tags': [], 'classifications': [{'id': 'DATA_USAGE:SINGLE_DATA_SET', 'name': 'Single Data Set Alpha'}], 'grade': None, 'stage': 'IS', 'status': 'UNSUBMITTED', 'is': {'pnl': 16988113, 'bookSize': 20000000, 'longCount': 1456, 'shortCount': 0, 'turnover': 0.0165, 'returns': 0.1642, 'drawdown': 0.7957, 'margin': 0.019852, 'fitness': 0.53, 'sharpe': 0.46, 'startDate': '2012-07-15', 'checks': [{'name': 'LOW_SHARPE', 'result': 'FAIL', 'limit': 1.58, 'value': 0.46}, {'name': 'LOW_FITNESS', 'result': 'FAIL', 'limit': 1.0, 'value': 0.53}, {'name': 'LOW_TURNOVER', 'result': 'PASS', 'limit': 0.01, 'value': 0.0165}, {'name': 'HIGH_TURNOVER', 'result': 'PASS', 'limit': 0.7, 'value': 0.0165}, {'name': 'CONCENTRATED_WEIGHT', 'result': 'PASS'}, {'name': 'LOW_SUB_UNIVERSE_SHARPE', 'result': 'FAIL', 'limit': 0.3, 'value': -0.29}, {'name': 'SELF_CORRELATION', 'result': 'PENDING'}, {'name': 'DATA_DIVERSITY', 'result': 'PENDING'}, {'name': 'PROD_CORRELATION', 'result': 'PENDING'}, {'name': 'REGULAR_SUBMISSION', 'result': 'PENDING'}, {'name': 'LOW_2Y_SHARPE', 'result': 'FAIL', 'value': -0.24, 'limit': 1.58}, {'result': 'PASS', 'name': 'MATCHES_PYRAMID', 'multiplier': 1.7, 'pyramids': [{'name': 'JPN/D1/Fundamental', 'multiplier': 1.7}]}]}, 'os': None, 'train': {'pnl': 10452324, 'bookSize': 20000000, 'longCount': 1412, 'shortCount': 0, 'turnover': 0.0162, 'returns': 0.2503, 'drawdown': 0.3053, 'margin': 0.030914, 'fitness': 0.93, 'sharpe': 0.66, 'startDate': '2012-07-15'}, 'test': {'pnl': 6271982, 'bookSize': 20000000, 'longCount': 1486, 'shortCount': 0, 'turnover': 0.0168, 'returns': 0.1016, 'drawdown': 0.7957, 'margin': 0.012101, 'fitness': 0.27, 'sharpe': 0.3, 'startDate': '2016-07-15'}, 'prod': None, 'competitions': None, 'themes': None, 'pyramids': None, 'team': None}, 'submission_checks aka get_results_dictionary': {'is': {'checks': [{'name': 'LOW_SHARPE', 'result': 'FAIL', 'limit': 1.58, 'value': 0.46}, {'name': 'LOW_FITNESS', 'result': 'FAIL', 'limit': 1.0, 'value': 0.53}, {'name': 'LOW_TURNOVER', 'result': 'PASS', 'limit': 0.01, 'value': 0.0165}, {'name': 'HIGH_TURNOVER', 'result': 'PASS', 'limit': 0.7, 'value': 0.0165}, {'name': 'CONCENTRATED_WEIGHT', 'result': 'PASS'}, {'name': 'LOW_SUB_UNIVERSE_SHARPE', 'result': 'FAIL', 'limit': 0.3, 'value': -0.29}, {'name': 'SELF_CORRELATION', 'result': 'PENDING'}, {'name': 'DATA_DIVERSITY', 'result': 'PASS'}, {'name': 'PROD_CORRELATION', 'result': 'PENDING'}, {'name': 'REGULAR_SUBMISSION', 'result': 'PASS', 'limit': 4, 'value': 0}, {'name': 'LOW_2Y_SHARPE', 'result': 'FAIL', 'value': -0.24, 'limit': 1.58}, {'result': 'PASS', 'name': 'MATCHES_PYRAMID', 'multiplier': 1.7, 'pyramids': [{'name': 'JPN/D1/Fundamental', 'multiplier': 1.7}]}]}}}\n",
      "\n",
      "\n",
      "2024-11-25 21:39:12,748 - Sharpe Ratio None is below threshold for alpha: fnd17_atotd2cap\n"
     ]
    },
    {
     "name": "stdout",
     "output_type": "stream",
     "text": [
      "\n",
      "\n",
      "get_results: {\"is\":{\"checks\":[{\"name\":\"LOW_SHARPE\",\"result\":\"FAIL\",\"limit\":1.58,\"value\":0.46},{\"name\":\"LOW_FITNESS\",\"result\":\"FAIL\",\"limit\":1.0,\"value\":0.53},{\"name\":\"LOW_TURNOVER\",\"result\":\"PASS\",\"limit\":0.01,\"value\":0.0165},{\"name\":\"HIGH_TURNOVER\",\"result\":\"PASS\",\"limit\":0.7,\"value\":0.0165},{\"name\":\"CONCENTRATED_WEIGHT\",\"result\":\"PASS\"},{\"name\":\"LOW_SUB_UNIVERSE_SHARPE\",\"result\":\"FAIL\",\"limit\":0.3,\"value\":-0.29},{\"name\":\"SELF_CORRELATION\",\"result\":\"PENDING\"},{\"name\":\"DATA_DIVERSITY\",\"result\":\"PASS\"},{\"name\":\"PROD_CORRELATION\",\"result\":\"PENDING\"},{\"name\":\"REGULAR_SUBMISSION\",\"result\":\"PASS\",\"limit\":4,\"value\":0},{\"name\":\"LOW_2Y_SHARPE\",\"result\":\"FAIL\",\"value\":-0.24,\"limit\":1.58},{\"result\":\"PASS\",\"name\":\"MATCHES_PYRAMID\",\"multiplier\":1.7,\"pyramids\":[{\"name\":\"JPN/D1/Fundamental\",\"multiplier\":1.7}]}]}} \n",
      "\n",
      "\n",
      "\n",
      "\n"
     ]
    },
    {
     "name": "stderr",
     "output_type": "stream",
     "text": [
      "2024-11-25 21:39:13,336 - Finished processing batch 8.\n",
      "2024-11-25 21:39:14,602 - Processing batch 9 with 3 items.\n",
      "2024-11-25 21:39:14,602 - Processing expression: fnd17_atotd2eq\n"
     ]
    },
    {
     "name": "stdout",
     "output_type": "stream",
     "text": [
      "\n",
      "Location: https://api.worldquantbrain.com/simulations/3eZcTO2Hl4zv8VS1d58fALxa\n",
      "Check Progress Returned alpha_id: A7mqlJl\n"
     ]
    },
    {
     "name": "stderr",
     "output_type": "stream",
     "text": [
      "2024-11-25 21:40:41,193 - get_results: {\"id\":\"A7mqlJl\",\"type\":\"REGULAR\",\"author\":\"KC72812\",\"settings\":{\"instrumentType\":\"EQUITY\",\"region\":\"JPN\",\"universe\":\"TOP1600\",\"delay\":1,\"decay\":4,\"neutralization\":\"NONE\",\"truncation\":0.08,\"pasteurization\":\"ON\",\"unitHandling\":\"VERIFY\",\"nanHandling\":\"OFF\",\"language\":\"FASTEXPR\",\"visualization\":false,\"testPeriod\":\"P6Y0M0D\"},\"regular\":{\"code\":\"ts_rank((fnd17_atotd2eq), 20)\",\"description\":null,\"operatorCount\":1},\"dateCreated\":\"2024-11-25T08:40:39-05:00\",\"dateSubmitted\":null,\"dateModified\":\"2024-11-25T08:40:39-05:00\",\"name\":null,\"favorite\":false,\"hidden\":false,\"color\":null,\"category\":null,\"tags\":[],\"classifications\":[{\"id\":\"DATA_USAGE:SINGLE_DATA_SET\",\"name\":\"Single Data Set Alpha\"}],\"grade\":null,\"stage\":\"IS\",\"status\":\"UNSUBMITTED\",\"is\":{\"pnl\":16147833,\"bookSize\":20000000,\"longCount\":1522,\"shortCount\":0,\"turnover\":0.0163,\"returns\":0.156,\"drawdown\":0.7788,\"margin\":0.01914,\"fitness\":0.49,\"sharpe\":0.44,\"startDate\":\"2012-07-15\",\"checks\":[{\"name\":\"LOW_SHARPE\",\"result\":\"FAIL\",\"limit\":1.58,\"value\":0.44},{\"name\":\"LOW_FITNESS\",\"result\":\"FAIL\",\"limit\":1.0,\"value\":0.49},{\"name\":\"LOW_TURNOVER\",\"result\":\"PASS\",\"limit\":0.01,\"value\":0.0163},{\"name\":\"HIGH_TURNOVER\",\"result\":\"PASS\",\"limit\":0.7,\"value\":0.0163},{\"name\":\"CONCENTRATED_WEIGHT\",\"result\":\"PASS\"},{\"name\":\"LOW_SUB_UNIVERSE_SHARPE\",\"result\":\"FAIL\",\"limit\":0.29,\"value\":-0.26},{\"name\":\"SELF_CORRELATION\",\"result\":\"PENDING\"},{\"name\":\"DATA_DIVERSITY\",\"result\":\"PENDING\"},{\"name\":\"PROD_CORRELATION\",\"result\":\"PENDING\"},{\"name\":\"REGULAR_SUBMISSION\",\"result\":\"PENDING\"},{\"name\":\"LOW_2Y_SHARPE\",\"result\":\"FAIL\",\"value\":-0.24,\"limit\":1.58},{\"result\":\"PASS\",\"name\":\"MATCHES_PYRAMID\",\"multiplier\":1.7,\"pyramids\":[{\"name\":\"JPN/D1/Fundamental\",\"multiplier\":1.7}]}]},\"os\":null,\"train\":{\"pnl\":10110927,\"bookSize\":20000000,\"longCount\":1487,\"shortCount\":0,\"turnover\":0.016,\"returns\":0.2421,\"drawdown\":0.3216,\"margin\":0.03027,\"fitness\":0.88,\"sharpe\":0.63,\"startDate\":\"2012-07-15\"},\"test\":{\"pnl\":5803212,\"bookSize\":20000000,\"longCount\":1546,\"shortCount\":0,\"turnover\":0.0165,\"returns\":0.094,\"drawdown\":0.7788,\"margin\":0.011372,\"fitness\":0.24,\"sharpe\":0.28,\"startDate\":\"2016-07-15\"},\"prod\":null,\"competitions\":null,\"themes\":null,\"pyramids\":null,\"team\":null}\n",
      "\n",
      "\n"
     ]
    },
    {
     "name": "stdout",
     "output_type": "stream",
     "text": [
      "\n",
      "\n",
      "get_results: {\"id\":\"A7mqlJl\",\"type\":\"REGULAR\",\"author\":\"KC72812\",\"settings\":{\"instrumentType\":\"EQUITY\",\"region\":\"JPN\",\"universe\":\"TOP1600\",\"delay\":1,\"decay\":4,\"neutralization\":\"NONE\",\"truncation\":0.08,\"pasteurization\":\"ON\",\"unitHandling\":\"VERIFY\",\"nanHandling\":\"OFF\",\"language\":\"FASTEXPR\",\"visualization\":false,\"testPeriod\":\"P6Y0M0D\"},\"regular\":{\"code\":\"ts_rank((fnd17_atotd2eq), 20)\",\"description\":null,\"operatorCount\":1},\"dateCreated\":\"2024-11-25T08:40:39-05:00\",\"dateSubmitted\":null,\"dateModified\":\"2024-11-25T08:40:39-05:00\",\"name\":null,\"favorite\":false,\"hidden\":false,\"color\":null,\"category\":null,\"tags\":[],\"classifications\":[{\"id\":\"DATA_USAGE:SINGLE_DATA_SET\",\"name\":\"Single Data Set Alpha\"}],\"grade\":null,\"stage\":\"IS\",\"status\":\"UNSUBMITTED\",\"is\":{\"pnl\":16147833,\"bookSize\":20000000,\"longCount\":1522,\"shortCount\":0,\"turnover\":0.0163,\"returns\":0.156,\"drawdown\":0.7788,\"margin\":0.01914,\"fitness\":0.49,\"sharpe\":0.44,\"startDate\":\"2012-07-15\",\"checks\":[{\"name\":\"LOW_SHARPE\",\"result\":\"FAIL\",\"limit\":1.58,\"value\":0.44},{\"name\":\"LOW_FITNESS\",\"result\":\"FAIL\",\"limit\":1.0,\"value\":0.49},{\"name\":\"LOW_TURNOVER\",\"result\":\"PASS\",\"limit\":0.01,\"value\":0.0163},{\"name\":\"HIGH_TURNOVER\",\"result\":\"PASS\",\"limit\":0.7,\"value\":0.0163},{\"name\":\"CONCENTRATED_WEIGHT\",\"result\":\"PASS\"},{\"name\":\"LOW_SUB_UNIVERSE_SHARPE\",\"result\":\"FAIL\",\"limit\":0.29,\"value\":-0.26},{\"name\":\"SELF_CORRELATION\",\"result\":\"PENDING\"},{\"name\":\"DATA_DIVERSITY\",\"result\":\"PENDING\"},{\"name\":\"PROD_CORRELATION\",\"result\":\"PENDING\"},{\"name\":\"REGULAR_SUBMISSION\",\"result\":\"PENDING\"},{\"name\":\"LOW_2Y_SHARPE\",\"result\":\"FAIL\",\"value\":-0.24,\"limit\":1.58},{\"result\":\"PASS\",\"name\":\"MATCHES_PYRAMID\",\"multiplier\":1.7,\"pyramids\":[{\"name\":\"JPN/D1/Fundamental\",\"multiplier\":1.7}]}]},\"os\":null,\"train\":{\"pnl\":10110927,\"bookSize\":20000000,\"longCount\":1487,\"shortCount\":0,\"turnover\":0.016,\"returns\":0.2421,\"drawdown\":0.3216,\"margin\":0.03027,\"fitness\":0.88,\"sharpe\":0.63,\"startDate\":\"2012-07-15\"},\"test\":{\"pnl\":5803212,\"bookSize\":20000000,\"longCount\":1546,\"shortCount\":0,\"turnover\":0.0165,\"returns\":0.094,\"drawdown\":0.7788,\"margin\":0.011372,\"fitness\":0.24,\"sharpe\":0.28,\"startDate\":\"2016-07-15\"},\"prod\":null,\"competitions\":null,\"themes\":null,\"pyramids\":null,\"team\":null} \n",
      "\n",
      "\n",
      "\n",
      "\n"
     ]
    },
    {
     "name": "stderr",
     "output_type": "stream",
     "text": [
      "2024-11-25 21:40:42,414 - get_results: {\"is\":{\"checks\":[{\"name\":\"LOW_SHARPE\",\"result\":\"FAIL\",\"limit\":1.58,\"value\":0.44},{\"name\":\"LOW_FITNESS\",\"result\":\"FAIL\",\"limit\":1.0,\"value\":0.49},{\"name\":\"LOW_TURNOVER\",\"result\":\"PASS\",\"limit\":0.01,\"value\":0.0163},{\"name\":\"HIGH_TURNOVER\",\"result\":\"PASS\",\"limit\":0.7,\"value\":0.0163},{\"name\":\"CONCENTRATED_WEIGHT\",\"result\":\"PASS\"},{\"name\":\"LOW_SUB_UNIVERSE_SHARPE\",\"result\":\"FAIL\",\"limit\":0.29,\"value\":-0.26},{\"name\":\"SELF_CORRELATION\",\"result\":\"PENDING\"},{\"name\":\"DATA_DIVERSITY\",\"result\":\"PASS\"},{\"name\":\"PROD_CORRELATION\",\"result\":\"PENDING\"},{\"name\":\"REGULAR_SUBMISSION\",\"result\":\"PASS\",\"limit\":4,\"value\":0},{\"name\":\"LOW_2Y_SHARPE\",\"result\":\"FAIL\",\"value\":-0.24,\"limit\":1.58},{\"result\":\"PASS\",\"name\":\"MATCHES_PYRAMID\",\"multiplier\":1.7,\"pyramids\":[{\"name\":\"JPN/D1/Fundamental\",\"multiplier\":1.7}]}]}}\n",
      "\n",
      "\n",
      "2024-11-25 21:40:42,418 - simu_results: {'summary_results aka get_results_dictionary': {'id': 'A7mqlJl', 'type': 'REGULAR', 'author': 'KC72812', 'settings': {'instrumentType': 'EQUITY', 'region': 'JPN', 'universe': 'TOP1600', 'delay': 1, 'decay': 4, 'neutralization': 'NONE', 'truncation': 0.08, 'pasteurization': 'ON', 'unitHandling': 'VERIFY', 'nanHandling': 'OFF', 'language': 'FASTEXPR', 'visualization': False, 'testPeriod': 'P6Y0M0D'}, 'regular': {'code': 'ts_rank((fnd17_atotd2eq), 20)', 'description': None, 'operatorCount': 1}, 'dateCreated': '2024-11-25T08:40:39-05:00', 'dateSubmitted': None, 'dateModified': '2024-11-25T08:40:39-05:00', 'name': None, 'favorite': False, 'hidden': False, 'color': None, 'category': None, 'tags': [], 'classifications': [{'id': 'DATA_USAGE:SINGLE_DATA_SET', 'name': 'Single Data Set Alpha'}], 'grade': None, 'stage': 'IS', 'status': 'UNSUBMITTED', 'is': {'pnl': 16147833, 'bookSize': 20000000, 'longCount': 1522, 'shortCount': 0, 'turnover': 0.0163, 'returns': 0.156, 'drawdown': 0.7788, 'margin': 0.01914, 'fitness': 0.49, 'sharpe': 0.44, 'startDate': '2012-07-15', 'checks': [{'name': 'LOW_SHARPE', 'result': 'FAIL', 'limit': 1.58, 'value': 0.44}, {'name': 'LOW_FITNESS', 'result': 'FAIL', 'limit': 1.0, 'value': 0.49}, {'name': 'LOW_TURNOVER', 'result': 'PASS', 'limit': 0.01, 'value': 0.0163}, {'name': 'HIGH_TURNOVER', 'result': 'PASS', 'limit': 0.7, 'value': 0.0163}, {'name': 'CONCENTRATED_WEIGHT', 'result': 'PASS'}, {'name': 'LOW_SUB_UNIVERSE_SHARPE', 'result': 'FAIL', 'limit': 0.29, 'value': -0.26}, {'name': 'SELF_CORRELATION', 'result': 'PENDING'}, {'name': 'DATA_DIVERSITY', 'result': 'PENDING'}, {'name': 'PROD_CORRELATION', 'result': 'PENDING'}, {'name': 'REGULAR_SUBMISSION', 'result': 'PENDING'}, {'name': 'LOW_2Y_SHARPE', 'result': 'FAIL', 'value': -0.24, 'limit': 1.58}, {'result': 'PASS', 'name': 'MATCHES_PYRAMID', 'multiplier': 1.7, 'pyramids': [{'name': 'JPN/D1/Fundamental', 'multiplier': 1.7}]}]}, 'os': None, 'train': {'pnl': 10110927, 'bookSize': 20000000, 'longCount': 1487, 'shortCount': 0, 'turnover': 0.016, 'returns': 0.2421, 'drawdown': 0.3216, 'margin': 0.03027, 'fitness': 0.88, 'sharpe': 0.63, 'startDate': '2012-07-15'}, 'test': {'pnl': 5803212, 'bookSize': 20000000, 'longCount': 1546, 'shortCount': 0, 'turnover': 0.0165, 'returns': 0.094, 'drawdown': 0.7788, 'margin': 0.011372, 'fitness': 0.24, 'sharpe': 0.28, 'startDate': '2016-07-15'}, 'prod': None, 'competitions': None, 'themes': None, 'pyramids': None, 'team': None}, 'submission_checks aka get_results_dictionary': {'is': {'checks': [{'name': 'LOW_SHARPE', 'result': 'FAIL', 'limit': 1.58, 'value': 0.44}, {'name': 'LOW_FITNESS', 'result': 'FAIL', 'limit': 1.0, 'value': 0.49}, {'name': 'LOW_TURNOVER', 'result': 'PASS', 'limit': 0.01, 'value': 0.0163}, {'name': 'HIGH_TURNOVER', 'result': 'PASS', 'limit': 0.7, 'value': 0.0163}, {'name': 'CONCENTRATED_WEIGHT', 'result': 'PASS'}, {'name': 'LOW_SUB_UNIVERSE_SHARPE', 'result': 'FAIL', 'limit': 0.29, 'value': -0.26}, {'name': 'SELF_CORRELATION', 'result': 'PENDING'}, {'name': 'DATA_DIVERSITY', 'result': 'PASS'}, {'name': 'PROD_CORRELATION', 'result': 'PENDING'}, {'name': 'REGULAR_SUBMISSION', 'result': 'PASS', 'limit': 4, 'value': 0}, {'name': 'LOW_2Y_SHARPE', 'result': 'FAIL', 'value': -0.24, 'limit': 1.58}, {'result': 'PASS', 'name': 'MATCHES_PYRAMID', 'multiplier': 1.7, 'pyramids': [{'name': 'JPN/D1/Fundamental', 'multiplier': 1.7}]}]}}}\n",
      "\n",
      "\n",
      "2024-11-25 21:40:42,421 - Sharpe Ratio None is below threshold for alpha: fnd17_atotd2eq\n"
     ]
    },
    {
     "name": "stdout",
     "output_type": "stream",
     "text": [
      "\n",
      "\n",
      "get_results: {\"is\":{\"checks\":[{\"name\":\"LOW_SHARPE\",\"result\":\"FAIL\",\"limit\":1.58,\"value\":0.44},{\"name\":\"LOW_FITNESS\",\"result\":\"FAIL\",\"limit\":1.0,\"value\":0.49},{\"name\":\"LOW_TURNOVER\",\"result\":\"PASS\",\"limit\":0.01,\"value\":0.0163},{\"name\":\"HIGH_TURNOVER\",\"result\":\"PASS\",\"limit\":0.7,\"value\":0.0163},{\"name\":\"CONCENTRATED_WEIGHT\",\"result\":\"PASS\"},{\"name\":\"LOW_SUB_UNIVERSE_SHARPE\",\"result\":\"FAIL\",\"limit\":0.29,\"value\":-0.26},{\"name\":\"SELF_CORRELATION\",\"result\":\"PENDING\"},{\"name\":\"DATA_DIVERSITY\",\"result\":\"PASS\"},{\"name\":\"PROD_CORRELATION\",\"result\":\"PENDING\"},{\"name\":\"REGULAR_SUBMISSION\",\"result\":\"PASS\",\"limit\":4,\"value\":0},{\"name\":\"LOW_2Y_SHARPE\",\"result\":\"FAIL\",\"value\":-0.24,\"limit\":1.58},{\"result\":\"PASS\",\"name\":\"MATCHES_PYRAMID\",\"multiplier\":1.7,\"pyramids\":[{\"name\":\"JPN/D1/Fundamental\",\"multiplier\":1.7}]}]}} \n",
      "\n",
      "\n",
      "\n",
      "\n"
     ]
    },
    {
     "name": "stderr",
     "output_type": "stream",
     "text": [
      "2024-11-25 21:40:43,781 - Processing expression: fnd17_atotltd\n"
     ]
    },
    {
     "name": "stdout",
     "output_type": "stream",
     "text": [
      "\n",
      "Location: https://api.worldquantbrain.com/simulations/ytz28gMR4n4bjkXmIDsP0Z\n",
      "Check Progress Returned alpha_id: pKZQvej\n"
     ]
    },
    {
     "name": "stderr",
     "output_type": "stream",
     "text": [
      "2024-11-25 21:42:49,724 - get_results: {\"id\":\"pKZQvej\",\"type\":\"REGULAR\",\"author\":\"KC72812\",\"settings\":{\"instrumentType\":\"EQUITY\",\"region\":\"JPN\",\"universe\":\"TOP1600\",\"delay\":1,\"decay\":4,\"neutralization\":\"NONE\",\"truncation\":0.08,\"pasteurization\":\"ON\",\"unitHandling\":\"VERIFY\",\"nanHandling\":\"OFF\",\"language\":\"FASTEXPR\",\"visualization\":false,\"testPeriod\":\"P6Y0M0D\"},\"regular\":{\"code\":\"ts_rank((fnd17_atotltd), 20)\",\"description\":null,\"operatorCount\":1},\"dateCreated\":\"2024-11-25T08:42:48-05:00\",\"dateSubmitted\":null,\"dateModified\":\"2024-11-25T08:42:48-05:00\",\"name\":null,\"favorite\":false,\"hidden\":false,\"color\":null,\"category\":null,\"tags\":[],\"classifications\":[{\"id\":\"DATA_USAGE:SINGLE_DATA_SET\",\"name\":\"Single Data Set Alpha\"}],\"grade\":null,\"stage\":\"IS\",\"status\":\"UNSUBMITTED\",\"is\":{\"pnl\":16258382,\"bookSize\":20000000,\"longCount\":1510,\"shortCount\":0,\"turnover\":0.0151,\"returns\":0.1571,\"drawdown\":0.7737,\"margin\":0.020802,\"fitness\":0.49,\"sharpe\":0.44,\"startDate\":\"2012-07-15\",\"checks\":[{\"name\":\"LOW_SHARPE\",\"result\":\"FAIL\",\"limit\":1.58,\"value\":0.44},{\"name\":\"LOW_FITNESS\",\"result\":\"FAIL\",\"limit\":1.0,\"value\":0.49},{\"name\":\"LOW_TURNOVER\",\"result\":\"PASS\",\"limit\":0.01,\"value\":0.0151},{\"name\":\"HIGH_TURNOVER\",\"result\":\"PASS\",\"limit\":0.7,\"value\":0.0151},{\"name\":\"CONCENTRATED_WEIGHT\",\"result\":\"PASS\"},{\"name\":\"LOW_SUB_UNIVERSE_SHARPE\",\"result\":\"FAIL\",\"limit\":0.29,\"value\":0.23},{\"name\":\"SELF_CORRELATION\",\"result\":\"PENDING\"},{\"name\":\"DATA_DIVERSITY\",\"result\":\"PENDING\"},{\"name\":\"PROD_CORRELATION\",\"result\":\"PENDING\"},{\"name\":\"REGULAR_SUBMISSION\",\"result\":\"PENDING\"},{\"name\":\"LOW_2Y_SHARPE\",\"result\":\"FAIL\",\"value\":-0.24,\"limit\":1.58},{\"result\":\"PASS\",\"name\":\"MATCHES_PYRAMID\",\"multiplier\":1.7,\"pyramids\":[{\"name\":\"JPN/D1/Fundamental\",\"multiplier\":1.7}]}]},\"os\":null,\"train\":{\"pnl\":10160389,\"bookSize\":20000000,\"longCount\":1470,\"shortCount\":0,\"turnover\":0.0147,\"returns\":0.2433,\"drawdown\":0.3218,\"margin\":0.03319,\"fitness\":0.89,\"sharpe\":0.64,\"startDate\":\"2012-07-15\"},\"test\":{\"pnl\":5865821,\"bookSize\":20000000,\"longCount\":1537,\"shortCount\":0,\"turnover\":0.0154,\"returns\":0.095,\"drawdown\":0.7737,\"margin\":0.012321,\"fitness\":0.24,\"sharpe\":0.28,\"startDate\":\"2016-07-15\"},\"prod\":null,\"competitions\":null,\"themes\":null,\"pyramids\":null,\"team\":null}\n",
      "\n",
      "\n"
     ]
    },
    {
     "name": "stdout",
     "output_type": "stream",
     "text": [
      "\n",
      "\n",
      "get_results: {\"id\":\"pKZQvej\",\"type\":\"REGULAR\",\"author\":\"KC72812\",\"settings\":{\"instrumentType\":\"EQUITY\",\"region\":\"JPN\",\"universe\":\"TOP1600\",\"delay\":1,\"decay\":4,\"neutralization\":\"NONE\",\"truncation\":0.08,\"pasteurization\":\"ON\",\"unitHandling\":\"VERIFY\",\"nanHandling\":\"OFF\",\"language\":\"FASTEXPR\",\"visualization\":false,\"testPeriod\":\"P6Y0M0D\"},\"regular\":{\"code\":\"ts_rank((fnd17_atotltd), 20)\",\"description\":null,\"operatorCount\":1},\"dateCreated\":\"2024-11-25T08:42:48-05:00\",\"dateSubmitted\":null,\"dateModified\":\"2024-11-25T08:42:48-05:00\",\"name\":null,\"favorite\":false,\"hidden\":false,\"color\":null,\"category\":null,\"tags\":[],\"classifications\":[{\"id\":\"DATA_USAGE:SINGLE_DATA_SET\",\"name\":\"Single Data Set Alpha\"}],\"grade\":null,\"stage\":\"IS\",\"status\":\"UNSUBMITTED\",\"is\":{\"pnl\":16258382,\"bookSize\":20000000,\"longCount\":1510,\"shortCount\":0,\"turnover\":0.0151,\"returns\":0.1571,\"drawdown\":0.7737,\"margin\":0.020802,\"fitness\":0.49,\"sharpe\":0.44,\"startDate\":\"2012-07-15\",\"checks\":[{\"name\":\"LOW_SHARPE\",\"result\":\"FAIL\",\"limit\":1.58,\"value\":0.44},{\"name\":\"LOW_FITNESS\",\"result\":\"FAIL\",\"limit\":1.0,\"value\":0.49},{\"name\":\"LOW_TURNOVER\",\"result\":\"PASS\",\"limit\":0.01,\"value\":0.0151},{\"name\":\"HIGH_TURNOVER\",\"result\":\"PASS\",\"limit\":0.7,\"value\":0.0151},{\"name\":\"CONCENTRATED_WEIGHT\",\"result\":\"PASS\"},{\"name\":\"LOW_SUB_UNIVERSE_SHARPE\",\"result\":\"FAIL\",\"limit\":0.29,\"value\":0.23},{\"name\":\"SELF_CORRELATION\",\"result\":\"PENDING\"},{\"name\":\"DATA_DIVERSITY\",\"result\":\"PENDING\"},{\"name\":\"PROD_CORRELATION\",\"result\":\"PENDING\"},{\"name\":\"REGULAR_SUBMISSION\",\"result\":\"PENDING\"},{\"name\":\"LOW_2Y_SHARPE\",\"result\":\"FAIL\",\"value\":-0.24,\"limit\":1.58},{\"result\":\"PASS\",\"name\":\"MATCHES_PYRAMID\",\"multiplier\":1.7,\"pyramids\":[{\"name\":\"JPN/D1/Fundamental\",\"multiplier\":1.7}]}]},\"os\":null,\"train\":{\"pnl\":10160389,\"bookSize\":20000000,\"longCount\":1470,\"shortCount\":0,\"turnover\":0.0147,\"returns\":0.2433,\"drawdown\":0.3218,\"margin\":0.03319,\"fitness\":0.89,\"sharpe\":0.64,\"startDate\":\"2012-07-15\"},\"test\":{\"pnl\":5865821,\"bookSize\":20000000,\"longCount\":1537,\"shortCount\":0,\"turnover\":0.0154,\"returns\":0.095,\"drawdown\":0.7737,\"margin\":0.012321,\"fitness\":0.24,\"sharpe\":0.28,\"startDate\":\"2016-07-15\"},\"prod\":null,\"competitions\":null,\"themes\":null,\"pyramids\":null,\"team\":null} \n",
      "\n",
      "\n",
      "\n",
      "\n"
     ]
    },
    {
     "name": "stderr",
     "output_type": "stream",
     "text": [
      "2024-11-25 21:42:50,134 - get_results: {\"is\":{\"checks\":[{\"name\":\"LOW_SHARPE\",\"result\":\"FAIL\",\"limit\":1.58,\"value\":0.44},{\"name\":\"LOW_FITNESS\",\"result\":\"FAIL\",\"limit\":1.0,\"value\":0.49},{\"name\":\"LOW_TURNOVER\",\"result\":\"PASS\",\"limit\":0.01,\"value\":0.0151},{\"name\":\"HIGH_TURNOVER\",\"result\":\"PASS\",\"limit\":0.7,\"value\":0.0151},{\"name\":\"CONCENTRATED_WEIGHT\",\"result\":\"PASS\"},{\"name\":\"LOW_SUB_UNIVERSE_SHARPE\",\"result\":\"FAIL\",\"limit\":0.29,\"value\":0.23},{\"name\":\"SELF_CORRELATION\",\"result\":\"PENDING\"},{\"name\":\"DATA_DIVERSITY\",\"result\":\"PASS\"},{\"name\":\"PROD_CORRELATION\",\"result\":\"PENDING\"},{\"name\":\"REGULAR_SUBMISSION\",\"result\":\"PASS\",\"limit\":4,\"value\":0},{\"name\":\"LOW_2Y_SHARPE\",\"result\":\"FAIL\",\"value\":-0.24,\"limit\":1.58},{\"result\":\"PASS\",\"name\":\"MATCHES_PYRAMID\",\"multiplier\":1.7,\"pyramids\":[{\"name\":\"JPN/D1/Fundamental\",\"multiplier\":1.7}]}]}}\n",
      "\n",
      "\n",
      "2024-11-25 21:42:50,136 - simu_results: {'summary_results aka get_results_dictionary': {'id': 'pKZQvej', 'type': 'REGULAR', 'author': 'KC72812', 'settings': {'instrumentType': 'EQUITY', 'region': 'JPN', 'universe': 'TOP1600', 'delay': 1, 'decay': 4, 'neutralization': 'NONE', 'truncation': 0.08, 'pasteurization': 'ON', 'unitHandling': 'VERIFY', 'nanHandling': 'OFF', 'language': 'FASTEXPR', 'visualization': False, 'testPeriod': 'P6Y0M0D'}, 'regular': {'code': 'ts_rank((fnd17_atotltd), 20)', 'description': None, 'operatorCount': 1}, 'dateCreated': '2024-11-25T08:42:48-05:00', 'dateSubmitted': None, 'dateModified': '2024-11-25T08:42:48-05:00', 'name': None, 'favorite': False, 'hidden': False, 'color': None, 'category': None, 'tags': [], 'classifications': [{'id': 'DATA_USAGE:SINGLE_DATA_SET', 'name': 'Single Data Set Alpha'}], 'grade': None, 'stage': 'IS', 'status': 'UNSUBMITTED', 'is': {'pnl': 16258382, 'bookSize': 20000000, 'longCount': 1510, 'shortCount': 0, 'turnover': 0.0151, 'returns': 0.1571, 'drawdown': 0.7737, 'margin': 0.020802, 'fitness': 0.49, 'sharpe': 0.44, 'startDate': '2012-07-15', 'checks': [{'name': 'LOW_SHARPE', 'result': 'FAIL', 'limit': 1.58, 'value': 0.44}, {'name': 'LOW_FITNESS', 'result': 'FAIL', 'limit': 1.0, 'value': 0.49}, {'name': 'LOW_TURNOVER', 'result': 'PASS', 'limit': 0.01, 'value': 0.0151}, {'name': 'HIGH_TURNOVER', 'result': 'PASS', 'limit': 0.7, 'value': 0.0151}, {'name': 'CONCENTRATED_WEIGHT', 'result': 'PASS'}, {'name': 'LOW_SUB_UNIVERSE_SHARPE', 'result': 'FAIL', 'limit': 0.29, 'value': 0.23}, {'name': 'SELF_CORRELATION', 'result': 'PENDING'}, {'name': 'DATA_DIVERSITY', 'result': 'PENDING'}, {'name': 'PROD_CORRELATION', 'result': 'PENDING'}, {'name': 'REGULAR_SUBMISSION', 'result': 'PENDING'}, {'name': 'LOW_2Y_SHARPE', 'result': 'FAIL', 'value': -0.24, 'limit': 1.58}, {'result': 'PASS', 'name': 'MATCHES_PYRAMID', 'multiplier': 1.7, 'pyramids': [{'name': 'JPN/D1/Fundamental', 'multiplier': 1.7}]}]}, 'os': None, 'train': {'pnl': 10160389, 'bookSize': 20000000, 'longCount': 1470, 'shortCount': 0, 'turnover': 0.0147, 'returns': 0.2433, 'drawdown': 0.3218, 'margin': 0.03319, 'fitness': 0.89, 'sharpe': 0.64, 'startDate': '2012-07-15'}, 'test': {'pnl': 5865821, 'bookSize': 20000000, 'longCount': 1537, 'shortCount': 0, 'turnover': 0.0154, 'returns': 0.095, 'drawdown': 0.7737, 'margin': 0.012321, 'fitness': 0.24, 'sharpe': 0.28, 'startDate': '2016-07-15'}, 'prod': None, 'competitions': None, 'themes': None, 'pyramids': None, 'team': None}, 'submission_checks aka get_results_dictionary': {'is': {'checks': [{'name': 'LOW_SHARPE', 'result': 'FAIL', 'limit': 1.58, 'value': 0.44}, {'name': 'LOW_FITNESS', 'result': 'FAIL', 'limit': 1.0, 'value': 0.49}, {'name': 'LOW_TURNOVER', 'result': 'PASS', 'limit': 0.01, 'value': 0.0151}, {'name': 'HIGH_TURNOVER', 'result': 'PASS', 'limit': 0.7, 'value': 0.0151}, {'name': 'CONCENTRATED_WEIGHT', 'result': 'PASS'}, {'name': 'LOW_SUB_UNIVERSE_SHARPE', 'result': 'FAIL', 'limit': 0.29, 'value': 0.23}, {'name': 'SELF_CORRELATION', 'result': 'PENDING'}, {'name': 'DATA_DIVERSITY', 'result': 'PASS'}, {'name': 'PROD_CORRELATION', 'result': 'PENDING'}, {'name': 'REGULAR_SUBMISSION', 'result': 'PASS', 'limit': 4, 'value': 0}, {'name': 'LOW_2Y_SHARPE', 'result': 'FAIL', 'value': -0.24, 'limit': 1.58}, {'result': 'PASS', 'name': 'MATCHES_PYRAMID', 'multiplier': 1.7, 'pyramids': [{'name': 'JPN/D1/Fundamental', 'multiplier': 1.7}]}]}}}\n",
      "\n",
      "\n",
      "2024-11-25 21:42:50,138 - Sharpe Ratio None is below threshold for alpha: fnd17_atotltd\n"
     ]
    },
    {
     "name": "stdout",
     "output_type": "stream",
     "text": [
      "\n",
      "\n",
      "get_results: {\"is\":{\"checks\":[{\"name\":\"LOW_SHARPE\",\"result\":\"FAIL\",\"limit\":1.58,\"value\":0.44},{\"name\":\"LOW_FITNESS\",\"result\":\"FAIL\",\"limit\":1.0,\"value\":0.49},{\"name\":\"LOW_TURNOVER\",\"result\":\"PASS\",\"limit\":0.01,\"value\":0.0151},{\"name\":\"HIGH_TURNOVER\",\"result\":\"PASS\",\"limit\":0.7,\"value\":0.0151},{\"name\":\"CONCENTRATED_WEIGHT\",\"result\":\"PASS\"},{\"name\":\"LOW_SUB_UNIVERSE_SHARPE\",\"result\":\"FAIL\",\"limit\":0.29,\"value\":0.23},{\"name\":\"SELF_CORRELATION\",\"result\":\"PENDING\"},{\"name\":\"DATA_DIVERSITY\",\"result\":\"PASS\"},{\"name\":\"PROD_CORRELATION\",\"result\":\"PENDING\"},{\"name\":\"REGULAR_SUBMISSION\",\"result\":\"PASS\",\"limit\":4,\"value\":0},{\"name\":\"LOW_2Y_SHARPE\",\"result\":\"FAIL\",\"value\":-0.24,\"limit\":1.58},{\"result\":\"PASS\",\"name\":\"MATCHES_PYRAMID\",\"multiplier\":1.7,\"pyramids\":[{\"name\":\"JPN/D1/Fundamental\",\"multiplier\":1.7}]}]}} \n",
      "\n",
      "\n",
      "\n",
      "\n"
     ]
    },
    {
     "name": "stderr",
     "output_type": "stream",
     "text": [
      "2024-11-25 21:42:50,929 - Processing expression: fnd17_atotse\n"
     ]
    },
    {
     "name": "stdout",
     "output_type": "stream",
     "text": [
      "\n",
      "Location: https://api.worldquantbrain.com/simulations/1FoFEPezI4Wv8Wsi3cwoVcy\n",
      "Check Progress Returned alpha_id: A7mqePX\n"
     ]
    },
    {
     "name": "stderr",
     "output_type": "stream",
     "text": [
      "2024-11-25 21:44:39,029 - get_results: {\"id\":\"A7mqePX\",\"type\":\"REGULAR\",\"author\":\"KC72812\",\"settings\":{\"instrumentType\":\"EQUITY\",\"region\":\"JPN\",\"universe\":\"TOP1600\",\"delay\":1,\"decay\":4,\"neutralization\":\"NONE\",\"truncation\":0.08,\"pasteurization\":\"ON\",\"unitHandling\":\"VERIFY\",\"nanHandling\":\"OFF\",\"language\":\"FASTEXPR\",\"visualization\":false,\"testPeriod\":\"P6Y0M0D\"},\"regular\":{\"code\":\"ts_rank((fnd17_atotse), 20)\",\"description\":null,\"operatorCount\":1},\"dateCreated\":\"2024-11-25T08:44:35-05:00\",\"dateSubmitted\":null,\"dateModified\":\"2024-11-25T08:44:36-05:00\",\"name\":null,\"favorite\":false,\"hidden\":false,\"color\":null,\"category\":null,\"tags\":[],\"classifications\":[{\"id\":\"DATA_USAGE:SINGLE_DATA_SET\",\"name\":\"Single Data Set Alpha\"}],\"grade\":null,\"stage\":\"IS\",\"status\":\"UNSUBMITTED\",\"is\":{\"pnl\":16368822,\"bookSize\":20000000,\"longCount\":1543,\"shortCount\":0,\"turnover\":0.0126,\"returns\":0.1582,\"drawdown\":0.7734,\"margin\":0.025048,\"fitness\":0.51,\"sharpe\":0.45,\"startDate\":\"2012-07-15\",\"checks\":[{\"name\":\"LOW_SHARPE\",\"result\":\"FAIL\",\"limit\":1.58,\"value\":0.45},{\"name\":\"LOW_FITNESS\",\"result\":\"FAIL\",\"limit\":1.0,\"value\":0.51},{\"name\":\"LOW_TURNOVER\",\"result\":\"PASS\",\"limit\":0.01,\"value\":0.0126},{\"name\":\"HIGH_TURNOVER\",\"result\":\"PASS\",\"limit\":0.7,\"value\":0.0126},{\"name\":\"CONCENTRATED_WEIGHT\",\"result\":\"PASS\"},{\"name\":\"LOW_SUB_UNIVERSE_SHARPE\",\"result\":\"FAIL\",\"limit\":0.29,\"value\":0.23},{\"name\":\"SELF_CORRELATION\",\"result\":\"PENDING\"},{\"name\":\"DATA_DIVERSITY\",\"result\":\"PENDING\"},{\"name\":\"PROD_CORRELATION\",\"result\":\"PENDING\"},{\"name\":\"REGULAR_SUBMISSION\",\"result\":\"PENDING\"},{\"name\":\"LOW_2Y_SHARPE\",\"result\":\"FAIL\",\"value\":-0.26,\"limit\":1.58},{\"result\":\"PASS\",\"name\":\"MATCHES_PYRAMID\",\"multiplier\":1.7,\"pyramids\":[{\"name\":\"JPN/D1/Fundamental\",\"multiplier\":1.7}]}]},\"os\":null,\"train\":{\"pnl\":10520748,\"bookSize\":20000000,\"longCount\":1508,\"shortCount\":0,\"turnover\":0.0129,\"returns\":0.2519,\"drawdown\":0.3204,\"margin\":0.038964,\"fitness\":0.94,\"sharpe\":0.66,\"startDate\":\"2012-07-15\"},\"test\":{\"pnl\":5611360,\"bookSize\":20000000,\"longCount\":1568,\"shortCount\":0,\"turnover\":0.0124,\"returns\":0.0909,\"drawdown\":0.7734,\"margin\":0.014626,\"fitness\":0.23,\"sharpe\":0.27,\"startDate\":\"2016-07-15\"},\"prod\":null,\"competitions\":null,\"themes\":null,\"pyramids\":null,\"team\":null}\n",
      "\n",
      "\n"
     ]
    },
    {
     "name": "stdout",
     "output_type": "stream",
     "text": [
      "\n",
      "\n",
      "get_results: {\"id\":\"A7mqePX\",\"type\":\"REGULAR\",\"author\":\"KC72812\",\"settings\":{\"instrumentType\":\"EQUITY\",\"region\":\"JPN\",\"universe\":\"TOP1600\",\"delay\":1,\"decay\":4,\"neutralization\":\"NONE\",\"truncation\":0.08,\"pasteurization\":\"ON\",\"unitHandling\":\"VERIFY\",\"nanHandling\":\"OFF\",\"language\":\"FASTEXPR\",\"visualization\":false,\"testPeriod\":\"P6Y0M0D\"},\"regular\":{\"code\":\"ts_rank((fnd17_atotse), 20)\",\"description\":null,\"operatorCount\":1},\"dateCreated\":\"2024-11-25T08:44:35-05:00\",\"dateSubmitted\":null,\"dateModified\":\"2024-11-25T08:44:36-05:00\",\"name\":null,\"favorite\":false,\"hidden\":false,\"color\":null,\"category\":null,\"tags\":[],\"classifications\":[{\"id\":\"DATA_USAGE:SINGLE_DATA_SET\",\"name\":\"Single Data Set Alpha\"}],\"grade\":null,\"stage\":\"IS\",\"status\":\"UNSUBMITTED\",\"is\":{\"pnl\":16368822,\"bookSize\":20000000,\"longCount\":1543,\"shortCount\":0,\"turnover\":0.0126,\"returns\":0.1582,\"drawdown\":0.7734,\"margin\":0.025048,\"fitness\":0.51,\"sharpe\":0.45,\"startDate\":\"2012-07-15\",\"checks\":[{\"name\":\"LOW_SHARPE\",\"result\":\"FAIL\",\"limit\":1.58,\"value\":0.45},{\"name\":\"LOW_FITNESS\",\"result\":\"FAIL\",\"limit\":1.0,\"value\":0.51},{\"name\":\"LOW_TURNOVER\",\"result\":\"PASS\",\"limit\":0.01,\"value\":0.0126},{\"name\":\"HIGH_TURNOVER\",\"result\":\"PASS\",\"limit\":0.7,\"value\":0.0126},{\"name\":\"CONCENTRATED_WEIGHT\",\"result\":\"PASS\"},{\"name\":\"LOW_SUB_UNIVERSE_SHARPE\",\"result\":\"FAIL\",\"limit\":0.29,\"value\":0.23},{\"name\":\"SELF_CORRELATION\",\"result\":\"PENDING\"},{\"name\":\"DATA_DIVERSITY\",\"result\":\"PENDING\"},{\"name\":\"PROD_CORRELATION\",\"result\":\"PENDING\"},{\"name\":\"REGULAR_SUBMISSION\",\"result\":\"PENDING\"},{\"name\":\"LOW_2Y_SHARPE\",\"result\":\"FAIL\",\"value\":-0.26,\"limit\":1.58},{\"result\":\"PASS\",\"name\":\"MATCHES_PYRAMID\",\"multiplier\":1.7,\"pyramids\":[{\"name\":\"JPN/D1/Fundamental\",\"multiplier\":1.7}]}]},\"os\":null,\"train\":{\"pnl\":10520748,\"bookSize\":20000000,\"longCount\":1508,\"shortCount\":0,\"turnover\":0.0129,\"returns\":0.2519,\"drawdown\":0.3204,\"margin\":0.038964,\"fitness\":0.94,\"sharpe\":0.66,\"startDate\":\"2012-07-15\"},\"test\":{\"pnl\":5611360,\"bookSize\":20000000,\"longCount\":1568,\"shortCount\":0,\"turnover\":0.0124,\"returns\":0.0909,\"drawdown\":0.7734,\"margin\":0.014626,\"fitness\":0.23,\"sharpe\":0.27,\"startDate\":\"2016-07-15\"},\"prod\":null,\"competitions\":null,\"themes\":null,\"pyramids\":null,\"team\":null} \n",
      "\n",
      "\n",
      "\n",
      "\n"
     ]
    },
    {
     "name": "stderr",
     "output_type": "stream",
     "text": [
      "2024-11-25 21:44:39,467 - get_results: {\"is\":{\"checks\":[{\"name\":\"LOW_SHARPE\",\"result\":\"FAIL\",\"limit\":1.58,\"value\":0.45},{\"name\":\"LOW_FITNESS\",\"result\":\"FAIL\",\"limit\":1.0,\"value\":0.51},{\"name\":\"LOW_TURNOVER\",\"result\":\"PASS\",\"limit\":0.01,\"value\":0.0126},{\"name\":\"HIGH_TURNOVER\",\"result\":\"PASS\",\"limit\":0.7,\"value\":0.0126},{\"name\":\"CONCENTRATED_WEIGHT\",\"result\":\"PASS\"},{\"name\":\"LOW_SUB_UNIVERSE_SHARPE\",\"result\":\"FAIL\",\"limit\":0.29,\"value\":0.23},{\"name\":\"SELF_CORRELATION\",\"result\":\"PENDING\"},{\"name\":\"DATA_DIVERSITY\",\"result\":\"PASS\"},{\"name\":\"PROD_CORRELATION\",\"result\":\"PENDING\"},{\"name\":\"REGULAR_SUBMISSION\",\"result\":\"PASS\",\"limit\":4,\"value\":0},{\"name\":\"LOW_2Y_SHARPE\",\"result\":\"FAIL\",\"value\":-0.26,\"limit\":1.58},{\"result\":\"PASS\",\"name\":\"MATCHES_PYRAMID\",\"multiplier\":1.7,\"pyramids\":[{\"name\":\"JPN/D1/Fundamental\",\"multiplier\":1.7}]}]}}\n",
      "\n",
      "\n",
      "2024-11-25 21:44:39,470 - simu_results: {'summary_results aka get_results_dictionary': {'id': 'A7mqePX', 'type': 'REGULAR', 'author': 'KC72812', 'settings': {'instrumentType': 'EQUITY', 'region': 'JPN', 'universe': 'TOP1600', 'delay': 1, 'decay': 4, 'neutralization': 'NONE', 'truncation': 0.08, 'pasteurization': 'ON', 'unitHandling': 'VERIFY', 'nanHandling': 'OFF', 'language': 'FASTEXPR', 'visualization': False, 'testPeriod': 'P6Y0M0D'}, 'regular': {'code': 'ts_rank((fnd17_atotse), 20)', 'description': None, 'operatorCount': 1}, 'dateCreated': '2024-11-25T08:44:35-05:00', 'dateSubmitted': None, 'dateModified': '2024-11-25T08:44:36-05:00', 'name': None, 'favorite': False, 'hidden': False, 'color': None, 'category': None, 'tags': [], 'classifications': [{'id': 'DATA_USAGE:SINGLE_DATA_SET', 'name': 'Single Data Set Alpha'}], 'grade': None, 'stage': 'IS', 'status': 'UNSUBMITTED', 'is': {'pnl': 16368822, 'bookSize': 20000000, 'longCount': 1543, 'shortCount': 0, 'turnover': 0.0126, 'returns': 0.1582, 'drawdown': 0.7734, 'margin': 0.025048, 'fitness': 0.51, 'sharpe': 0.45, 'startDate': '2012-07-15', 'checks': [{'name': 'LOW_SHARPE', 'result': 'FAIL', 'limit': 1.58, 'value': 0.45}, {'name': 'LOW_FITNESS', 'result': 'FAIL', 'limit': 1.0, 'value': 0.51}, {'name': 'LOW_TURNOVER', 'result': 'PASS', 'limit': 0.01, 'value': 0.0126}, {'name': 'HIGH_TURNOVER', 'result': 'PASS', 'limit': 0.7, 'value': 0.0126}, {'name': 'CONCENTRATED_WEIGHT', 'result': 'PASS'}, {'name': 'LOW_SUB_UNIVERSE_SHARPE', 'result': 'FAIL', 'limit': 0.29, 'value': 0.23}, {'name': 'SELF_CORRELATION', 'result': 'PENDING'}, {'name': 'DATA_DIVERSITY', 'result': 'PENDING'}, {'name': 'PROD_CORRELATION', 'result': 'PENDING'}, {'name': 'REGULAR_SUBMISSION', 'result': 'PENDING'}, {'name': 'LOW_2Y_SHARPE', 'result': 'FAIL', 'value': -0.26, 'limit': 1.58}, {'result': 'PASS', 'name': 'MATCHES_PYRAMID', 'multiplier': 1.7, 'pyramids': [{'name': 'JPN/D1/Fundamental', 'multiplier': 1.7}]}]}, 'os': None, 'train': {'pnl': 10520748, 'bookSize': 20000000, 'longCount': 1508, 'shortCount': 0, 'turnover': 0.0129, 'returns': 0.2519, 'drawdown': 0.3204, 'margin': 0.038964, 'fitness': 0.94, 'sharpe': 0.66, 'startDate': '2012-07-15'}, 'test': {'pnl': 5611360, 'bookSize': 20000000, 'longCount': 1568, 'shortCount': 0, 'turnover': 0.0124, 'returns': 0.0909, 'drawdown': 0.7734, 'margin': 0.014626, 'fitness': 0.23, 'sharpe': 0.27, 'startDate': '2016-07-15'}, 'prod': None, 'competitions': None, 'themes': None, 'pyramids': None, 'team': None}, 'submission_checks aka get_results_dictionary': {'is': {'checks': [{'name': 'LOW_SHARPE', 'result': 'FAIL', 'limit': 1.58, 'value': 0.45}, {'name': 'LOW_FITNESS', 'result': 'FAIL', 'limit': 1.0, 'value': 0.51}, {'name': 'LOW_TURNOVER', 'result': 'PASS', 'limit': 0.01, 'value': 0.0126}, {'name': 'HIGH_TURNOVER', 'result': 'PASS', 'limit': 0.7, 'value': 0.0126}, {'name': 'CONCENTRATED_WEIGHT', 'result': 'PASS'}, {'name': 'LOW_SUB_UNIVERSE_SHARPE', 'result': 'FAIL', 'limit': 0.29, 'value': 0.23}, {'name': 'SELF_CORRELATION', 'result': 'PENDING'}, {'name': 'DATA_DIVERSITY', 'result': 'PASS'}, {'name': 'PROD_CORRELATION', 'result': 'PENDING'}, {'name': 'REGULAR_SUBMISSION', 'result': 'PASS', 'limit': 4, 'value': 0}, {'name': 'LOW_2Y_SHARPE', 'result': 'FAIL', 'value': -0.26, 'limit': 1.58}, {'result': 'PASS', 'name': 'MATCHES_PYRAMID', 'multiplier': 1.7, 'pyramids': [{'name': 'JPN/D1/Fundamental', 'multiplier': 1.7}]}]}}}\n",
      "\n",
      "\n",
      "2024-11-25 21:44:39,473 - Sharpe Ratio None is below threshold for alpha: fnd17_atotse\n"
     ]
    },
    {
     "name": "stdout",
     "output_type": "stream",
     "text": [
      "\n",
      "\n",
      "get_results: {\"is\":{\"checks\":[{\"name\":\"LOW_SHARPE\",\"result\":\"FAIL\",\"limit\":1.58,\"value\":0.45},{\"name\":\"LOW_FITNESS\",\"result\":\"FAIL\",\"limit\":1.0,\"value\":0.51},{\"name\":\"LOW_TURNOVER\",\"result\":\"PASS\",\"limit\":0.01,\"value\":0.0126},{\"name\":\"HIGH_TURNOVER\",\"result\":\"PASS\",\"limit\":0.7,\"value\":0.0126},{\"name\":\"CONCENTRATED_WEIGHT\",\"result\":\"PASS\"},{\"name\":\"LOW_SUB_UNIVERSE_SHARPE\",\"result\":\"FAIL\",\"limit\":0.29,\"value\":0.23},{\"name\":\"SELF_CORRELATION\",\"result\":\"PENDING\"},{\"name\":\"DATA_DIVERSITY\",\"result\":\"PASS\"},{\"name\":\"PROD_CORRELATION\",\"result\":\"PENDING\"},{\"name\":\"REGULAR_SUBMISSION\",\"result\":\"PASS\",\"limit\":4,\"value\":0},{\"name\":\"LOW_2Y_SHARPE\",\"result\":\"FAIL\",\"value\":-0.26,\"limit\":1.58},{\"result\":\"PASS\",\"name\":\"MATCHES_PYRAMID\",\"multiplier\":1.7,\"pyramids\":[{\"name\":\"JPN/D1/Fundamental\",\"multiplier\":1.7}]}]}} \n",
      "\n",
      "\n",
      "\n",
      "\n"
     ]
    },
    {
     "name": "stderr",
     "output_type": "stream",
     "text": [
      "2024-11-25 21:44:40,926 - Finished processing batch 9.\n",
      "2024-11-25 21:44:42,339 - Processing batch 10 with 3 items.\n",
      "2024-11-25 21:44:42,342 - Processing expression: fnd17_atq\n"
     ]
    },
    {
     "name": "stdout",
     "output_type": "stream",
     "text": [
      "\n",
      "Location: https://api.worldquantbrain.com/simulations/38pXNceIU4oJ9jTEr8Fxxbi\n",
      "Check Progress Returned alpha_id: PO8jzoK\n"
     ]
    },
    {
     "name": "stderr",
     "output_type": "stream",
     "text": [
      "2024-11-25 21:45:48,039 - get_results: {\"id\":\"PO8jzoK\",\"type\":\"REGULAR\",\"author\":\"KC72812\",\"settings\":{\"instrumentType\":\"EQUITY\",\"region\":\"JPN\",\"universe\":\"TOP1600\",\"delay\":1,\"decay\":4,\"neutralization\":\"NONE\",\"truncation\":0.08,\"pasteurization\":\"ON\",\"unitHandling\":\"VERIFY\",\"nanHandling\":\"OFF\",\"language\":\"FASTEXPR\",\"visualization\":false,\"testPeriod\":\"P6Y0M0D\"},\"regular\":{\"code\":\"ts_rank((fnd17_atq), 20)\",\"description\":null,\"operatorCount\":1},\"dateCreated\":\"2024-11-25T08:45:45-05:00\",\"dateSubmitted\":null,\"dateModified\":\"2024-11-25T08:45:45-05:00\",\"name\":null,\"favorite\":false,\"hidden\":false,\"color\":null,\"category\":null,\"tags\":[],\"classifications\":[{\"id\":\"DATA_USAGE:SINGLE_DATA_SET\",\"name\":\"Single Data Set Alpha\"}],\"grade\":null,\"stage\":\"IS\",\"status\":\"UNSUBMITTED\",\"is\":{\"pnl\":16537028,\"bookSize\":20000000,\"longCount\":1544,\"shortCount\":0,\"turnover\":0.0312,\"returns\":0.1598,\"drawdown\":0.7672,\"margin\":0.010229,\"fitness\":0.51,\"sharpe\":0.45,\"startDate\":\"2012-07-15\",\"checks\":[{\"name\":\"LOW_SHARPE\",\"result\":\"FAIL\",\"limit\":1.58,\"value\":0.45},{\"name\":\"LOW_FITNESS\",\"result\":\"FAIL\",\"limit\":1.0,\"value\":0.51},{\"name\":\"LOW_TURNOVER\",\"result\":\"PASS\",\"limit\":0.01,\"value\":0.0312},{\"name\":\"HIGH_TURNOVER\",\"result\":\"PASS\",\"limit\":0.7,\"value\":0.0312},{\"name\":\"CONCENTRATED_WEIGHT\",\"result\":\"PASS\"},{\"name\":\"LOW_SUB_UNIVERSE_SHARPE\",\"result\":\"FAIL\",\"limit\":0.29,\"value\":0.2},{\"name\":\"SELF_CORRELATION\",\"result\":\"PENDING\"},{\"name\":\"DATA_DIVERSITY\",\"result\":\"PENDING\"},{\"name\":\"PROD_CORRELATION\",\"result\":\"PENDING\"},{\"name\":\"REGULAR_SUBMISSION\",\"result\":\"PENDING\"},{\"name\":\"LOW_2Y_SHARPE\",\"result\":\"FAIL\",\"value\":-0.24,\"limit\":1.58},{\"result\":\"PASS\",\"name\":\"MATCHES_PYRAMID\",\"multiplier\":1.7,\"pyramids\":[{\"name\":\"JPN/D1/Fundamental\",\"multiplier\":1.7}]}]},\"os\":null,\"train\":{\"pnl\":10358191,\"bookSize\":20000000,\"longCount\":1507,\"shortCount\":0,\"turnover\":0.0319,\"returns\":0.248,\"drawdown\":0.3197,\"margin\":0.015529,\"fitness\":0.92,\"sharpe\":0.65,\"startDate\":\"2012-07-15\"},\"test\":{\"pnl\":5939959,\"bookSize\":20000000,\"longCount\":1568,\"shortCount\":0,\"turnover\":0.0308,\"returns\":0.0962,\"drawdown\":0.7672,\"margin\":0.006253,\"fitness\":0.25,\"sharpe\":0.29,\"startDate\":\"2016-07-15\"},\"prod\":null,\"competitions\":null,\"themes\":null,\"pyramids\":null,\"team\":null}\n",
      "\n",
      "\n"
     ]
    },
    {
     "name": "stdout",
     "output_type": "stream",
     "text": [
      "\n",
      "\n",
      "get_results: {\"id\":\"PO8jzoK\",\"type\":\"REGULAR\",\"author\":\"KC72812\",\"settings\":{\"instrumentType\":\"EQUITY\",\"region\":\"JPN\",\"universe\":\"TOP1600\",\"delay\":1,\"decay\":4,\"neutralization\":\"NONE\",\"truncation\":0.08,\"pasteurization\":\"ON\",\"unitHandling\":\"VERIFY\",\"nanHandling\":\"OFF\",\"language\":\"FASTEXPR\",\"visualization\":false,\"testPeriod\":\"P6Y0M0D\"},\"regular\":{\"code\":\"ts_rank((fnd17_atq), 20)\",\"description\":null,\"operatorCount\":1},\"dateCreated\":\"2024-11-25T08:45:45-05:00\",\"dateSubmitted\":null,\"dateModified\":\"2024-11-25T08:45:45-05:00\",\"name\":null,\"favorite\":false,\"hidden\":false,\"color\":null,\"category\":null,\"tags\":[],\"classifications\":[{\"id\":\"DATA_USAGE:SINGLE_DATA_SET\",\"name\":\"Single Data Set Alpha\"}],\"grade\":null,\"stage\":\"IS\",\"status\":\"UNSUBMITTED\",\"is\":{\"pnl\":16537028,\"bookSize\":20000000,\"longCount\":1544,\"shortCount\":0,\"turnover\":0.0312,\"returns\":0.1598,\"drawdown\":0.7672,\"margin\":0.010229,\"fitness\":0.51,\"sharpe\":0.45,\"startDate\":\"2012-07-15\",\"checks\":[{\"name\":\"LOW_SHARPE\",\"result\":\"FAIL\",\"limit\":1.58,\"value\":0.45},{\"name\":\"LOW_FITNESS\",\"result\":\"FAIL\",\"limit\":1.0,\"value\":0.51},{\"name\":\"LOW_TURNOVER\",\"result\":\"PASS\",\"limit\":0.01,\"value\":0.0312},{\"name\":\"HIGH_TURNOVER\",\"result\":\"PASS\",\"limit\":0.7,\"value\":0.0312},{\"name\":\"CONCENTRATED_WEIGHT\",\"result\":\"PASS\"},{\"name\":\"LOW_SUB_UNIVERSE_SHARPE\",\"result\":\"FAIL\",\"limit\":0.29,\"value\":0.2},{\"name\":\"SELF_CORRELATION\",\"result\":\"PENDING\"},{\"name\":\"DATA_DIVERSITY\",\"result\":\"PENDING\"},{\"name\":\"PROD_CORRELATION\",\"result\":\"PENDING\"},{\"name\":\"REGULAR_SUBMISSION\",\"result\":\"PENDING\"},{\"name\":\"LOW_2Y_SHARPE\",\"result\":\"FAIL\",\"value\":-0.24,\"limit\":1.58},{\"result\":\"PASS\",\"name\":\"MATCHES_PYRAMID\",\"multiplier\":1.7,\"pyramids\":[{\"name\":\"JPN/D1/Fundamental\",\"multiplier\":1.7}]}]},\"os\":null,\"train\":{\"pnl\":10358191,\"bookSize\":20000000,\"longCount\":1507,\"shortCount\":0,\"turnover\":0.0319,\"returns\":0.248,\"drawdown\":0.3197,\"margin\":0.015529,\"fitness\":0.92,\"sharpe\":0.65,\"startDate\":\"2012-07-15\"},\"test\":{\"pnl\":5939959,\"bookSize\":20000000,\"longCount\":1568,\"shortCount\":0,\"turnover\":0.0308,\"returns\":0.0962,\"drawdown\":0.7672,\"margin\":0.006253,\"fitness\":0.25,\"sharpe\":0.29,\"startDate\":\"2016-07-15\"},\"prod\":null,\"competitions\":null,\"themes\":null,\"pyramids\":null,\"team\":null} \n",
      "\n",
      "\n",
      "\n",
      "\n"
     ]
    },
    {
     "name": "stderr",
     "output_type": "stream",
     "text": [
      "2024-11-25 21:45:48,503 - get_results: {\"is\":{\"checks\":[{\"name\":\"LOW_SHARPE\",\"result\":\"FAIL\",\"limit\":1.58,\"value\":0.45},{\"name\":\"LOW_FITNESS\",\"result\":\"FAIL\",\"limit\":1.0,\"value\":0.51},{\"name\":\"LOW_TURNOVER\",\"result\":\"PASS\",\"limit\":0.01,\"value\":0.0312},{\"name\":\"HIGH_TURNOVER\",\"result\":\"PASS\",\"limit\":0.7,\"value\":0.0312},{\"name\":\"CONCENTRATED_WEIGHT\",\"result\":\"PASS\"},{\"name\":\"LOW_SUB_UNIVERSE_SHARPE\",\"result\":\"FAIL\",\"limit\":0.29,\"value\":0.2},{\"name\":\"SELF_CORRELATION\",\"result\":\"PENDING\"},{\"name\":\"DATA_DIVERSITY\",\"result\":\"PASS\"},{\"name\":\"PROD_CORRELATION\",\"result\":\"PENDING\"},{\"name\":\"REGULAR_SUBMISSION\",\"result\":\"PASS\",\"limit\":4,\"value\":0},{\"name\":\"LOW_2Y_SHARPE\",\"result\":\"FAIL\",\"value\":-0.24,\"limit\":1.58},{\"result\":\"PASS\",\"name\":\"MATCHES_PYRAMID\",\"multiplier\":1.7,\"pyramids\":[{\"name\":\"JPN/D1/Fundamental\",\"multiplier\":1.7}]}]}}\n",
      "\n",
      "\n",
      "2024-11-25 21:45:48,507 - simu_results: {'summary_results aka get_results_dictionary': {'id': 'PO8jzoK', 'type': 'REGULAR', 'author': 'KC72812', 'settings': {'instrumentType': 'EQUITY', 'region': 'JPN', 'universe': 'TOP1600', 'delay': 1, 'decay': 4, 'neutralization': 'NONE', 'truncation': 0.08, 'pasteurization': 'ON', 'unitHandling': 'VERIFY', 'nanHandling': 'OFF', 'language': 'FASTEXPR', 'visualization': False, 'testPeriod': 'P6Y0M0D'}, 'regular': {'code': 'ts_rank((fnd17_atq), 20)', 'description': None, 'operatorCount': 1}, 'dateCreated': '2024-11-25T08:45:45-05:00', 'dateSubmitted': None, 'dateModified': '2024-11-25T08:45:45-05:00', 'name': None, 'favorite': False, 'hidden': False, 'color': None, 'category': None, 'tags': [], 'classifications': [{'id': 'DATA_USAGE:SINGLE_DATA_SET', 'name': 'Single Data Set Alpha'}], 'grade': None, 'stage': 'IS', 'status': 'UNSUBMITTED', 'is': {'pnl': 16537028, 'bookSize': 20000000, 'longCount': 1544, 'shortCount': 0, 'turnover': 0.0312, 'returns': 0.1598, 'drawdown': 0.7672, 'margin': 0.010229, 'fitness': 0.51, 'sharpe': 0.45, 'startDate': '2012-07-15', 'checks': [{'name': 'LOW_SHARPE', 'result': 'FAIL', 'limit': 1.58, 'value': 0.45}, {'name': 'LOW_FITNESS', 'result': 'FAIL', 'limit': 1.0, 'value': 0.51}, {'name': 'LOW_TURNOVER', 'result': 'PASS', 'limit': 0.01, 'value': 0.0312}, {'name': 'HIGH_TURNOVER', 'result': 'PASS', 'limit': 0.7, 'value': 0.0312}, {'name': 'CONCENTRATED_WEIGHT', 'result': 'PASS'}, {'name': 'LOW_SUB_UNIVERSE_SHARPE', 'result': 'FAIL', 'limit': 0.29, 'value': 0.2}, {'name': 'SELF_CORRELATION', 'result': 'PENDING'}, {'name': 'DATA_DIVERSITY', 'result': 'PENDING'}, {'name': 'PROD_CORRELATION', 'result': 'PENDING'}, {'name': 'REGULAR_SUBMISSION', 'result': 'PENDING'}, {'name': 'LOW_2Y_SHARPE', 'result': 'FAIL', 'value': -0.24, 'limit': 1.58}, {'result': 'PASS', 'name': 'MATCHES_PYRAMID', 'multiplier': 1.7, 'pyramids': [{'name': 'JPN/D1/Fundamental', 'multiplier': 1.7}]}]}, 'os': None, 'train': {'pnl': 10358191, 'bookSize': 20000000, 'longCount': 1507, 'shortCount': 0, 'turnover': 0.0319, 'returns': 0.248, 'drawdown': 0.3197, 'margin': 0.015529, 'fitness': 0.92, 'sharpe': 0.65, 'startDate': '2012-07-15'}, 'test': {'pnl': 5939959, 'bookSize': 20000000, 'longCount': 1568, 'shortCount': 0, 'turnover': 0.0308, 'returns': 0.0962, 'drawdown': 0.7672, 'margin': 0.006253, 'fitness': 0.25, 'sharpe': 0.29, 'startDate': '2016-07-15'}, 'prod': None, 'competitions': None, 'themes': None, 'pyramids': None, 'team': None}, 'submission_checks aka get_results_dictionary': {'is': {'checks': [{'name': 'LOW_SHARPE', 'result': 'FAIL', 'limit': 1.58, 'value': 0.45}, {'name': 'LOW_FITNESS', 'result': 'FAIL', 'limit': 1.0, 'value': 0.51}, {'name': 'LOW_TURNOVER', 'result': 'PASS', 'limit': 0.01, 'value': 0.0312}, {'name': 'HIGH_TURNOVER', 'result': 'PASS', 'limit': 0.7, 'value': 0.0312}, {'name': 'CONCENTRATED_WEIGHT', 'result': 'PASS'}, {'name': 'LOW_SUB_UNIVERSE_SHARPE', 'result': 'FAIL', 'limit': 0.29, 'value': 0.2}, {'name': 'SELF_CORRELATION', 'result': 'PENDING'}, {'name': 'DATA_DIVERSITY', 'result': 'PASS'}, {'name': 'PROD_CORRELATION', 'result': 'PENDING'}, {'name': 'REGULAR_SUBMISSION', 'result': 'PASS', 'limit': 4, 'value': 0}, {'name': 'LOW_2Y_SHARPE', 'result': 'FAIL', 'value': -0.24, 'limit': 1.58}, {'result': 'PASS', 'name': 'MATCHES_PYRAMID', 'multiplier': 1.7, 'pyramids': [{'name': 'JPN/D1/Fundamental', 'multiplier': 1.7}]}]}}}\n",
      "\n",
      "\n",
      "2024-11-25 21:45:48,510 - Sharpe Ratio None is below threshold for alpha: fnd17_atq\n"
     ]
    },
    {
     "name": "stdout",
     "output_type": "stream",
     "text": [
      "\n",
      "\n",
      "get_results: {\"is\":{\"checks\":[{\"name\":\"LOW_SHARPE\",\"result\":\"FAIL\",\"limit\":1.58,\"value\":0.45},{\"name\":\"LOW_FITNESS\",\"result\":\"FAIL\",\"limit\":1.0,\"value\":0.51},{\"name\":\"LOW_TURNOVER\",\"result\":\"PASS\",\"limit\":0.01,\"value\":0.0312},{\"name\":\"HIGH_TURNOVER\",\"result\":\"PASS\",\"limit\":0.7,\"value\":0.0312},{\"name\":\"CONCENTRATED_WEIGHT\",\"result\":\"PASS\"},{\"name\":\"LOW_SUB_UNIVERSE_SHARPE\",\"result\":\"FAIL\",\"limit\":0.29,\"value\":0.2},{\"name\":\"SELF_CORRELATION\",\"result\":\"PENDING\"},{\"name\":\"DATA_DIVERSITY\",\"result\":\"PASS\"},{\"name\":\"PROD_CORRELATION\",\"result\":\"PENDING\"},{\"name\":\"REGULAR_SUBMISSION\",\"result\":\"PASS\",\"limit\":4,\"value\":0},{\"name\":\"LOW_2Y_SHARPE\",\"result\":\"FAIL\",\"value\":-0.24,\"limit\":1.58},{\"result\":\"PASS\",\"name\":\"MATCHES_PYRAMID\",\"multiplier\":1.7,\"pyramids\":[{\"name\":\"JPN/D1/Fundamental\",\"multiplier\":1.7}]}]}} \n",
      "\n",
      "\n",
      "\n",
      "\n"
     ]
    },
    {
     "name": "stderr",
     "output_type": "stream",
     "text": [
      "2024-11-25 21:45:49,342 - Processing expression: fnd17_awcappspr\n"
     ]
    },
    {
     "name": "stdout",
     "output_type": "stream",
     "text": [
      "\n",
      "Location: https://api.worldquantbrain.com/simulations/3yYgHa8IQ4wZbxrjdjqxAtX\n",
      "Check Progress Returned alpha_id: pKZQ3Go\n"
     ]
    },
    {
     "name": "stderr",
     "output_type": "stream",
     "text": [
      "2024-11-25 21:46:46,188 - get_results: {\"id\":\"pKZQ3Go\",\"type\":\"REGULAR\",\"author\":\"KC72812\",\"settings\":{\"instrumentType\":\"EQUITY\",\"region\":\"JPN\",\"universe\":\"TOP1600\",\"delay\":1,\"decay\":4,\"neutralization\":\"NONE\",\"truncation\":0.08,\"pasteurization\":\"ON\",\"unitHandling\":\"VERIFY\",\"nanHandling\":\"OFF\",\"language\":\"FASTEXPR\",\"visualization\":false,\"testPeriod\":\"P6Y0M0D\"},\"regular\":{\"code\":\"ts_rank((fnd17_awcappspr), 20)\",\"description\":null,\"operatorCount\":1},\"dateCreated\":\"2024-11-25T08:46:44-05:00\",\"dateSubmitted\":null,\"dateModified\":\"2024-11-25T08:46:45-05:00\",\"name\":null,\"favorite\":false,\"hidden\":false,\"color\":null,\"category\":null,\"tags\":[],\"classifications\":[{\"id\":\"DATA_USAGE:SINGLE_DATA_SET\",\"name\":\"Single Data Set Alpha\"}],\"grade\":null,\"stage\":\"IS\",\"status\":\"UNSUBMITTED\",\"is\":{\"pnl\":17378772,\"bookSize\":20000000,\"longCount\":1463,\"shortCount\":0,\"turnover\":0.0152,\"returns\":0.1679,\"drawdown\":0.7887,\"margin\":0.02214,\"fitness\":0.54,\"sharpe\":0.47,\"startDate\":\"2012-07-15\",\"checks\":[{\"name\":\"LOW_SHARPE\",\"result\":\"FAIL\",\"limit\":1.58,\"value\":0.47},{\"name\":\"LOW_FITNESS\",\"result\":\"FAIL\",\"limit\":1.0,\"value\":0.54},{\"name\":\"LOW_TURNOVER\",\"result\":\"PASS\",\"limit\":0.01,\"value\":0.0152},{\"name\":\"HIGH_TURNOVER\",\"result\":\"PASS\",\"limit\":0.7,\"value\":0.0152},{\"name\":\"CONCENTRATED_WEIGHT\",\"result\":\"PASS\"},{\"name\":\"LOW_SUB_UNIVERSE_SHARPE\",\"result\":\"PASS\",\"limit\":0.31,\"value\":0.86},{\"name\":\"SELF_CORRELATION\",\"result\":\"PENDING\"},{\"name\":\"DATA_DIVERSITY\",\"result\":\"PENDING\"},{\"name\":\"PROD_CORRELATION\",\"result\":\"PENDING\"},{\"name\":\"REGULAR_SUBMISSION\",\"result\":\"PENDING\"},{\"name\":\"LOW_2Y_SHARPE\",\"result\":\"FAIL\",\"value\":-0.25,\"limit\":1.58},{\"result\":\"PASS\",\"name\":\"MATCHES_PYRAMID\",\"multiplier\":1.7,\"pyramids\":[{\"name\":\"JPN/D1/Fundamental\",\"multiplier\":1.7}]}]},\"os\":null,\"train\":{\"pnl\":10939793,\"bookSize\":20000000,\"longCount\":1422,\"shortCount\":0,\"turnover\":0.0149,\"returns\":0.262,\"drawdown\":0.3025,\"margin\":0.03527,\"fitness\":1.0,\"sharpe\":0.69,\"startDate\":\"2012-07-15\"},\"test\":{\"pnl\":6163443,\"bookSize\":20000000,\"longCount\":1490,\"shortCount\":0,\"turnover\":0.0154,\"returns\":0.0998,\"drawdown\":0.7887,\"margin\":0.012972,\"fitness\":0.27,\"sharpe\":0.3,\"startDate\":\"2016-07-15\"},\"prod\":null,\"competitions\":null,\"themes\":null,\"pyramids\":null,\"team\":null}\n",
      "\n",
      "\n"
     ]
    },
    {
     "name": "stdout",
     "output_type": "stream",
     "text": [
      "\n",
      "\n",
      "get_results: {\"id\":\"pKZQ3Go\",\"type\":\"REGULAR\",\"author\":\"KC72812\",\"settings\":{\"instrumentType\":\"EQUITY\",\"region\":\"JPN\",\"universe\":\"TOP1600\",\"delay\":1,\"decay\":4,\"neutralization\":\"NONE\",\"truncation\":0.08,\"pasteurization\":\"ON\",\"unitHandling\":\"VERIFY\",\"nanHandling\":\"OFF\",\"language\":\"FASTEXPR\",\"visualization\":false,\"testPeriod\":\"P6Y0M0D\"},\"regular\":{\"code\":\"ts_rank((fnd17_awcappspr), 20)\",\"description\":null,\"operatorCount\":1},\"dateCreated\":\"2024-11-25T08:46:44-05:00\",\"dateSubmitted\":null,\"dateModified\":\"2024-11-25T08:46:45-05:00\",\"name\":null,\"favorite\":false,\"hidden\":false,\"color\":null,\"category\":null,\"tags\":[],\"classifications\":[{\"id\":\"DATA_USAGE:SINGLE_DATA_SET\",\"name\":\"Single Data Set Alpha\"}],\"grade\":null,\"stage\":\"IS\",\"status\":\"UNSUBMITTED\",\"is\":{\"pnl\":17378772,\"bookSize\":20000000,\"longCount\":1463,\"shortCount\":0,\"turnover\":0.0152,\"returns\":0.1679,\"drawdown\":0.7887,\"margin\":0.02214,\"fitness\":0.54,\"sharpe\":0.47,\"startDate\":\"2012-07-15\",\"checks\":[{\"name\":\"LOW_SHARPE\",\"result\":\"FAIL\",\"limit\":1.58,\"value\":0.47},{\"name\":\"LOW_FITNESS\",\"result\":\"FAIL\",\"limit\":1.0,\"value\":0.54},{\"name\":\"LOW_TURNOVER\",\"result\":\"PASS\",\"limit\":0.01,\"value\":0.0152},{\"name\":\"HIGH_TURNOVER\",\"result\":\"PASS\",\"limit\":0.7,\"value\":0.0152},{\"name\":\"CONCENTRATED_WEIGHT\",\"result\":\"PASS\"},{\"name\":\"LOW_SUB_UNIVERSE_SHARPE\",\"result\":\"PASS\",\"limit\":0.31,\"value\":0.86},{\"name\":\"SELF_CORRELATION\",\"result\":\"PENDING\"},{\"name\":\"DATA_DIVERSITY\",\"result\":\"PENDING\"},{\"name\":\"PROD_CORRELATION\",\"result\":\"PENDING\"},{\"name\":\"REGULAR_SUBMISSION\",\"result\":\"PENDING\"},{\"name\":\"LOW_2Y_SHARPE\",\"result\":\"FAIL\",\"value\":-0.25,\"limit\":1.58},{\"result\":\"PASS\",\"name\":\"MATCHES_PYRAMID\",\"multiplier\":1.7,\"pyramids\":[{\"name\":\"JPN/D1/Fundamental\",\"multiplier\":1.7}]}]},\"os\":null,\"train\":{\"pnl\":10939793,\"bookSize\":20000000,\"longCount\":1422,\"shortCount\":0,\"turnover\":0.0149,\"returns\":0.262,\"drawdown\":0.3025,\"margin\":0.03527,\"fitness\":1.0,\"sharpe\":0.69,\"startDate\":\"2012-07-15\"},\"test\":{\"pnl\":6163443,\"bookSize\":20000000,\"longCount\":1490,\"shortCount\":0,\"turnover\":0.0154,\"returns\":0.0998,\"drawdown\":0.7887,\"margin\":0.012972,\"fitness\":0.27,\"sharpe\":0.3,\"startDate\":\"2016-07-15\"},\"prod\":null,\"competitions\":null,\"themes\":null,\"pyramids\":null,\"team\":null} \n",
      "\n",
      "\n",
      "\n",
      "\n"
     ]
    },
    {
     "name": "stderr",
     "output_type": "stream",
     "text": [
      "2024-11-25 21:46:46,600 - get_results: {\"is\":{\"checks\":[{\"name\":\"LOW_SHARPE\",\"result\":\"FAIL\",\"limit\":1.58,\"value\":0.47},{\"name\":\"LOW_FITNESS\",\"result\":\"FAIL\",\"limit\":1.0,\"value\":0.54},{\"name\":\"LOW_TURNOVER\",\"result\":\"PASS\",\"limit\":0.01,\"value\":0.0152},{\"name\":\"HIGH_TURNOVER\",\"result\":\"PASS\",\"limit\":0.7,\"value\":0.0152},{\"name\":\"CONCENTRATED_WEIGHT\",\"result\":\"PASS\"},{\"name\":\"LOW_SUB_UNIVERSE_SHARPE\",\"result\":\"PASS\",\"limit\":0.31,\"value\":0.86},{\"name\":\"SELF_CORRELATION\",\"result\":\"PENDING\"},{\"name\":\"DATA_DIVERSITY\",\"result\":\"PASS\"},{\"name\":\"PROD_CORRELATION\",\"result\":\"PENDING\"},{\"name\":\"REGULAR_SUBMISSION\",\"result\":\"PASS\",\"limit\":4,\"value\":0},{\"name\":\"LOW_2Y_SHARPE\",\"result\":\"FAIL\",\"value\":-0.25,\"limit\":1.58},{\"result\":\"PASS\",\"name\":\"MATCHES_PYRAMID\",\"multiplier\":1.7,\"pyramids\":[{\"name\":\"JPN/D1/Fundamental\",\"multiplier\":1.7}]}]}}\n",
      "\n",
      "\n",
      "2024-11-25 21:46:46,600 - simu_results: {'summary_results aka get_results_dictionary': {'id': 'pKZQ3Go', 'type': 'REGULAR', 'author': 'KC72812', 'settings': {'instrumentType': 'EQUITY', 'region': 'JPN', 'universe': 'TOP1600', 'delay': 1, 'decay': 4, 'neutralization': 'NONE', 'truncation': 0.08, 'pasteurization': 'ON', 'unitHandling': 'VERIFY', 'nanHandling': 'OFF', 'language': 'FASTEXPR', 'visualization': False, 'testPeriod': 'P6Y0M0D'}, 'regular': {'code': 'ts_rank((fnd17_awcappspr), 20)', 'description': None, 'operatorCount': 1}, 'dateCreated': '2024-11-25T08:46:44-05:00', 'dateSubmitted': None, 'dateModified': '2024-11-25T08:46:45-05:00', 'name': None, 'favorite': False, 'hidden': False, 'color': None, 'category': None, 'tags': [], 'classifications': [{'id': 'DATA_USAGE:SINGLE_DATA_SET', 'name': 'Single Data Set Alpha'}], 'grade': None, 'stage': 'IS', 'status': 'UNSUBMITTED', 'is': {'pnl': 17378772, 'bookSize': 20000000, 'longCount': 1463, 'shortCount': 0, 'turnover': 0.0152, 'returns': 0.1679, 'drawdown': 0.7887, 'margin': 0.02214, 'fitness': 0.54, 'sharpe': 0.47, 'startDate': '2012-07-15', 'checks': [{'name': 'LOW_SHARPE', 'result': 'FAIL', 'limit': 1.58, 'value': 0.47}, {'name': 'LOW_FITNESS', 'result': 'FAIL', 'limit': 1.0, 'value': 0.54}, {'name': 'LOW_TURNOVER', 'result': 'PASS', 'limit': 0.01, 'value': 0.0152}, {'name': 'HIGH_TURNOVER', 'result': 'PASS', 'limit': 0.7, 'value': 0.0152}, {'name': 'CONCENTRATED_WEIGHT', 'result': 'PASS'}, {'name': 'LOW_SUB_UNIVERSE_SHARPE', 'result': 'PASS', 'limit': 0.31, 'value': 0.86}, {'name': 'SELF_CORRELATION', 'result': 'PENDING'}, {'name': 'DATA_DIVERSITY', 'result': 'PENDING'}, {'name': 'PROD_CORRELATION', 'result': 'PENDING'}, {'name': 'REGULAR_SUBMISSION', 'result': 'PENDING'}, {'name': 'LOW_2Y_SHARPE', 'result': 'FAIL', 'value': -0.25, 'limit': 1.58}, {'result': 'PASS', 'name': 'MATCHES_PYRAMID', 'multiplier': 1.7, 'pyramids': [{'name': 'JPN/D1/Fundamental', 'multiplier': 1.7}]}]}, 'os': None, 'train': {'pnl': 10939793, 'bookSize': 20000000, 'longCount': 1422, 'shortCount': 0, 'turnover': 0.0149, 'returns': 0.262, 'drawdown': 0.3025, 'margin': 0.03527, 'fitness': 1.0, 'sharpe': 0.69, 'startDate': '2012-07-15'}, 'test': {'pnl': 6163443, 'bookSize': 20000000, 'longCount': 1490, 'shortCount': 0, 'turnover': 0.0154, 'returns': 0.0998, 'drawdown': 0.7887, 'margin': 0.012972, 'fitness': 0.27, 'sharpe': 0.3, 'startDate': '2016-07-15'}, 'prod': None, 'competitions': None, 'themes': None, 'pyramids': None, 'team': None}, 'submission_checks aka get_results_dictionary': {'is': {'checks': [{'name': 'LOW_SHARPE', 'result': 'FAIL', 'limit': 1.58, 'value': 0.47}, {'name': 'LOW_FITNESS', 'result': 'FAIL', 'limit': 1.0, 'value': 0.54}, {'name': 'LOW_TURNOVER', 'result': 'PASS', 'limit': 0.01, 'value': 0.0152}, {'name': 'HIGH_TURNOVER', 'result': 'PASS', 'limit': 0.7, 'value': 0.0152}, {'name': 'CONCENTRATED_WEIGHT', 'result': 'PASS'}, {'name': 'LOW_SUB_UNIVERSE_SHARPE', 'result': 'PASS', 'limit': 0.31, 'value': 0.86}, {'name': 'SELF_CORRELATION', 'result': 'PENDING'}, {'name': 'DATA_DIVERSITY', 'result': 'PASS'}, {'name': 'PROD_CORRELATION', 'result': 'PENDING'}, {'name': 'REGULAR_SUBMISSION', 'result': 'PASS', 'limit': 4, 'value': 0}, {'name': 'LOW_2Y_SHARPE', 'result': 'FAIL', 'value': -0.25, 'limit': 1.58}, {'result': 'PASS', 'name': 'MATCHES_PYRAMID', 'multiplier': 1.7, 'pyramids': [{'name': 'JPN/D1/Fundamental', 'multiplier': 1.7}]}]}}}\n",
      "\n",
      "\n",
      "2024-11-25 21:46:46,601 - Sharpe Ratio None is below threshold for alpha: fnd17_awcappspr\n"
     ]
    },
    {
     "name": "stdout",
     "output_type": "stream",
     "text": [
      "\n",
      "\n",
      "get_results: {\"is\":{\"checks\":[{\"name\":\"LOW_SHARPE\",\"result\":\"FAIL\",\"limit\":1.58,\"value\":0.47},{\"name\":\"LOW_FITNESS\",\"result\":\"FAIL\",\"limit\":1.0,\"value\":0.54},{\"name\":\"LOW_TURNOVER\",\"result\":\"PASS\",\"limit\":0.01,\"value\":0.0152},{\"name\":\"HIGH_TURNOVER\",\"result\":\"PASS\",\"limit\":0.7,\"value\":0.0152},{\"name\":\"CONCENTRATED_WEIGHT\",\"result\":\"PASS\"},{\"name\":\"LOW_SUB_UNIVERSE_SHARPE\",\"result\":\"PASS\",\"limit\":0.31,\"value\":0.86},{\"name\":\"SELF_CORRELATION\",\"result\":\"PENDING\"},{\"name\":\"DATA_DIVERSITY\",\"result\":\"PASS\"},{\"name\":\"PROD_CORRELATION\",\"result\":\"PENDING\"},{\"name\":\"REGULAR_SUBMISSION\",\"result\":\"PASS\",\"limit\":4,\"value\":0},{\"name\":\"LOW_2Y_SHARPE\",\"result\":\"FAIL\",\"value\":-0.25,\"limit\":1.58},{\"result\":\"PASS\",\"name\":\"MATCHES_PYRAMID\",\"multiplier\":1.7,\"pyramids\":[{\"name\":\"JPN/D1/Fundamental\",\"multiplier\":1.7}]}]}} \n",
      "\n",
      "\n",
      "\n",
      "\n"
     ]
    },
    {
     "name": "stderr",
     "output_type": "stream",
     "text": [
      "2024-11-25 21:46:47,781 - Processing expression: fnd17_beta\n"
     ]
    },
    {
     "name": "stdout",
     "output_type": "stream",
     "text": [
      "\n",
      "Location: https://api.worldquantbrain.com/simulations/13E7tHfVV4PLasu1a5BEWTkk\n",
      "No Retry-After header found; waiting 2 seconds by default.\n",
      "No Retry-After header found; waiting 2 seconds by default.\n",
      "No Retry-After header found; waiting 2 seconds by default.\n",
      "No Retry-After header found; waiting 2 seconds by default.\n",
      "No Retry-After header found; waiting 2 seconds by default.\n",
      "No Retry-After header found; waiting 2 seconds by default.\n",
      "No Retry-After header found; waiting 2 seconds by default.\n",
      "No Retry-After header found; waiting 2 seconds by default.\n",
      "No Retry-After header found; waiting 2 seconds by default.\n",
      "No Retry-After header found; waiting 2 seconds by default.\n",
      "No Retry-After header found; waiting 2 seconds by default.\n",
      "No Retry-After header found; waiting 2 seconds by default.\n",
      "No Retry-After header found; waiting 2 seconds by default.\n",
      "No Retry-After header found; waiting 2 seconds by default.\n",
      "No Retry-After header found; waiting 2 seconds by default.\n",
      "No Retry-After header found; waiting 2 seconds by default.\n",
      "No Retry-After header found; waiting 2 seconds by default.\n",
      "No Retry-After header found; waiting 2 seconds by default.\n",
      "No Retry-After header found; waiting 2 seconds by default.\n",
      "No Retry-After header found; waiting 2 seconds by default.\n",
      "No Retry-After header found; waiting 2 seconds by default.\n",
      "No Retry-After header found; waiting 2 seconds by default.\n",
      "No Retry-After header found; waiting 2 seconds by default.\n",
      "No Retry-After header found; waiting 2 seconds by default.\n",
      "No Retry-After header found; waiting 2 seconds by default.\n",
      "No Retry-After header found; waiting 2 seconds by default.\n",
      "No Retry-After header found; waiting 2 seconds by default.\n",
      "No Retry-After header found; waiting 2 seconds by default.\n",
      "No Retry-After header found; waiting 2 seconds by default.\n",
      "No Retry-After header found; waiting 2 seconds by default.\n",
      "No Retry-After header found; waiting 2 seconds by default.\n",
      "No Retry-After header found; waiting 2 seconds by default.\n",
      "No Retry-After header found; waiting 2 seconds by default.\n",
      "No Retry-After header found; waiting 2 seconds by default.\n",
      "No Retry-After header found; waiting 2 seconds by default.\n",
      "No Retry-After header found; waiting 2 seconds by default.\n",
      "No Retry-After header found; waiting 2 seconds by default.\n",
      "No Retry-After header found; waiting 2 seconds by default.\n",
      "No Retry-After header found; waiting 2 seconds by default.\n",
      "No Retry-After header found; waiting 2 seconds by default.\n",
      "No Retry-After header found; waiting 2 seconds by default.\n",
      "No Retry-After header found; waiting 2 seconds by default.\n",
      "No Retry-After header found; waiting 2 seconds by default.\n",
      "No Retry-After header found; waiting 2 seconds by default.\n",
      "No Retry-After header found; waiting 2 seconds by default.\n",
      "No Retry-After header found; waiting 2 seconds by default.\n",
      "No Retry-After header found; waiting 2 seconds by default.\n",
      "No Retry-After header found; waiting 2 seconds by default.\n",
      "No Retry-After header found; waiting 2 seconds by default.\n",
      "No Retry-After header found; waiting 2 seconds by default.\n",
      "No Retry-After header found; waiting 2 seconds by default.\n",
      "No Retry-After header found; waiting 2 seconds by default.\n",
      "No Retry-After header found; waiting 2 seconds by default.\n",
      "No Retry-After header found; waiting 2 seconds by default.\n",
      "No Retry-After header found; waiting 2 seconds by default.\n",
      "No Retry-After header found; waiting 2 seconds by default.\n",
      "No Retry-After header found; waiting 2 seconds by default.\n",
      "No Retry-After header found; waiting 2 seconds by default.\n",
      "No Retry-After header found; waiting 2 seconds by default.\n",
      "No Retry-After header found; waiting 2 seconds by default.\n",
      "No Retry-After header found; waiting 2 seconds by default.\n",
      "No Retry-After header found; waiting 2 seconds by default.\n",
      "No Retry-After header found; waiting 2 seconds by default.\n",
      "No Retry-After header found; waiting 2 seconds by default.\n",
      "No Retry-After header found; waiting 2 seconds by default.\n",
      "No Retry-After header found; waiting 2 seconds by default.\n",
      "No Retry-After header found; waiting 2 seconds by default.\n",
      "No Retry-After header found; waiting 2 seconds by default.\n",
      "No Retry-After header found; waiting 2 seconds by default.\n",
      "No Retry-After header found; waiting 2 seconds by default.\n",
      "No Retry-After header found; waiting 2 seconds by default.\n",
      "No Retry-After header found; waiting 2 seconds by default.\n",
      "No Retry-After header found; waiting 2 seconds by default.\n",
      "No Retry-After header found; waiting 2 seconds by default.\n",
      "No Retry-After header found; waiting 2 seconds by default.\n",
      "No Retry-After header found; waiting 2 seconds by default.\n",
      "No Retry-After header found; waiting 2 seconds by default.\n",
      "No Retry-After header found; waiting 2 seconds by default.\n",
      "No Retry-After header found; waiting 2 seconds by default.\n",
      "No Retry-After header found; waiting 2 seconds by default.\n",
      "No Retry-After header found; waiting 2 seconds by default.\n",
      "No Retry-After header found; waiting 2 seconds by default.\n",
      "No Retry-After header found; waiting 2 seconds by default.\n",
      "No Retry-After header found; waiting 2 seconds by default.\n",
      "No Retry-After header found; waiting 2 seconds by default.\n",
      "No Retry-After header found; waiting 2 seconds by default.\n",
      "No Retry-After header found; waiting 2 seconds by default.\n",
      "No Retry-After header found; waiting 2 seconds by default.\n",
      "No Retry-After header found; waiting 2 seconds by default.\n",
      "No Retry-After header found; waiting 2 seconds by default.\n",
      "No Retry-After header found; waiting 2 seconds by default.\n",
      "No Retry-After header found; waiting 2 seconds by default.\n",
      "No Retry-After header found; waiting 2 seconds by default.\n",
      "No Retry-After header found; waiting 2 seconds by default.\n",
      "No Retry-After header found; waiting 2 seconds by default.\n",
      "No Retry-After header found; waiting 2 seconds by default.\n",
      "No Retry-After header found; waiting 2 seconds by default.\n",
      "No Retry-After header found; waiting 2 seconds by default.\n",
      "No Retry-After header found; waiting 2 seconds by default.\n",
      "No Retry-After header found; waiting 2 seconds by default.\n",
      "No Retry-After header found; waiting 2 seconds by default.\n",
      "No Retry-After header found; waiting 2 seconds by default.\n",
      "No Retry-After header found; waiting 2 seconds by default.\n",
      "No Retry-After header found; waiting 2 seconds by default.\n",
      "No Retry-After header found; waiting 2 seconds by default.\n",
      "No Retry-After header found; waiting 2 seconds by default.\n",
      "No Retry-After header found; waiting 2 seconds by default.\n",
      "No Retry-After header found; waiting 2 seconds by default.\n",
      "No Retry-After header found; waiting 2 seconds by default.\n",
      "No Retry-After header found; waiting 2 seconds by default.\n",
      "No Retry-After header found; waiting 2 seconds by default.\n",
      "No Retry-After header found; waiting 2 seconds by default.\n",
      "No Retry-After header found; waiting 2 seconds by default.\n",
      "No Retry-After header found; waiting 2 seconds by default.\n",
      "No Retry-After header found; waiting 2 seconds by default.\n",
      "No Retry-After header found; waiting 2 seconds by default.\n",
      "No Retry-After header found; waiting 2 seconds by default.\n",
      "No Retry-After header found; waiting 2 seconds by default.\n",
      "No Retry-After header found; waiting 2 seconds by default.\n",
      "No Retry-After header found; waiting 2 seconds by default.\n",
      "No Retry-After header found; waiting 2 seconds by default.\n",
      "No Retry-After header found; waiting 2 seconds by default.\n",
      "No Retry-After header found; waiting 2 seconds by default.\n",
      "No Retry-After header found; waiting 2 seconds by default.\n",
      "No Retry-After header found; waiting 2 seconds by default.\n",
      "No Retry-After header found; waiting 2 seconds by default.\n",
      "No Retry-After header found; waiting 2 seconds by default.\n",
      "No Retry-After header found; waiting 2 seconds by default.\n",
      "No Retry-After header found; waiting 2 seconds by default.\n",
      "No Retry-After header found; waiting 2 seconds by default.\n",
      "No Retry-After header found; waiting 2 seconds by default.\n",
      "No Retry-After header found; waiting 2 seconds by default.\n",
      "No Retry-After header found; waiting 2 seconds by default.\n",
      "No Retry-After header found; waiting 2 seconds by default.\n",
      "No Retry-After header found; waiting 2 seconds by default.\n",
      "No Retry-After header found; waiting 2 seconds by default.\n",
      "No Retry-After header found; waiting 2 seconds by default.\n",
      "No Retry-After header found; waiting 2 seconds by default.\n",
      "No Retry-After header found; waiting 2 seconds by default.\n",
      "No Retry-After header found; waiting 2 seconds by default.\n",
      "No Retry-After header found; waiting 2 seconds by default.\n",
      "No Retry-After header found; waiting 2 seconds by default.\n",
      "No Retry-After header found; waiting 2 seconds by default.\n",
      "No Retry-After header found; waiting 2 seconds by default.\n",
      "No Retry-After header found; waiting 2 seconds by default.\n",
      "No Retry-After header found; waiting 2 seconds by default.\n",
      "No Retry-After header found; waiting 2 seconds by default.\n",
      "No Retry-After header found; waiting 2 seconds by default.\n",
      "No Retry-After header found; waiting 2 seconds by default.\n",
      "No Retry-After header found; waiting 2 seconds by default.\n",
      "No Retry-After header found; waiting 2 seconds by default.\n",
      "No Retry-After header found; waiting 2 seconds by default.\n",
      "No Retry-After header found; waiting 2 seconds by default.\n",
      "No Retry-After header found; waiting 2 seconds by default.\n",
      "No Retry-After header found; waiting 2 seconds by default.\n",
      "No Retry-After header found; waiting 2 seconds by default.\n",
      "No Retry-After header found; waiting 2 seconds by default.\n",
      "No Retry-After header found; waiting 2 seconds by default.\n",
      "No Retry-After header found; waiting 2 seconds by default.\n",
      "No Retry-After header found; waiting 2 seconds by default.\n",
      "No Retry-After header found; waiting 2 seconds by default.\n",
      "No Retry-After header found; waiting 2 seconds by default.\n",
      "No Retry-After header found; waiting 2 seconds by default.\n",
      "No Retry-After header found; waiting 2 seconds by default.\n",
      "No Retry-After header found; waiting 2 seconds by default.\n",
      "No Retry-After header found; waiting 2 seconds by default.\n",
      "No Retry-After header found; waiting 2 seconds by default.\n",
      "No Retry-After header found; waiting 2 seconds by default.\n",
      "No Retry-After header found; waiting 2 seconds by default.\n",
      "No Retry-After header found; waiting 2 seconds by default.\n",
      "No Retry-After header found; waiting 2 seconds by default.\n",
      "No Retry-After header found; waiting 2 seconds by default.\n",
      "No Retry-After header found; waiting 2 seconds by default.\n",
      "No Retry-After header found; waiting 2 seconds by default.\n",
      "No Retry-After header found; waiting 2 seconds by default.\n",
      "No Retry-After header found; waiting 2 seconds by default.\n",
      "No Retry-After header found; waiting 2 seconds by default.\n",
      "No Retry-After header found; waiting 2 seconds by default.\n",
      "No Retry-After header found; waiting 2 seconds by default.\n",
      "No Retry-After header found; waiting 2 seconds by default.\n",
      "No Retry-After header found; waiting 2 seconds by default.\n",
      "No Retry-After header found; waiting 2 seconds by default.\n",
      "No Retry-After header found; waiting 2 seconds by default.\n",
      "No Retry-After header found; waiting 2 seconds by default.\n",
      "No Retry-After header found; waiting 2 seconds by default.\n",
      "No Retry-After header found; waiting 2 seconds by default.\n",
      "No Retry-After header found; waiting 2 seconds by default.\n",
      "No Retry-After header found; waiting 2 seconds by default.\n",
      "No Retry-After header found; waiting 2 seconds by default.\n",
      "No Retry-After header found; waiting 2 seconds by default.\n",
      "No Retry-After header found; waiting 2 seconds by default.\n",
      "No Retry-After header found; waiting 2 seconds by default.\n",
      "No Retry-After header found; waiting 2 seconds by default.\n",
      "No Retry-After header found; waiting 2 seconds by default.\n",
      "No Retry-After header found; waiting 2 seconds by default.\n",
      "No Retry-After header found; waiting 2 seconds by default.\n",
      "No Retry-After header found; waiting 2 seconds by default.\n",
      "No Retry-After header found; waiting 2 seconds by default.\n",
      "No Retry-After header found; waiting 2 seconds by default.\n",
      "No Retry-After header found; waiting 2 seconds by default.\n",
      "No Retry-After header found; waiting 2 seconds by default.\n",
      "No Retry-After header found; waiting 2 seconds by default.\n",
      "No Retry-After header found; waiting 2 seconds by default.\n",
      "No Retry-After header found; waiting 2 seconds by default.\n",
      "No Retry-After header found; waiting 2 seconds by default.\n",
      "No Retry-After header found; waiting 2 seconds by default.\n",
      "No Retry-After header found; waiting 2 seconds by default.\n",
      "No Retry-After header found; waiting 2 seconds by default.\n",
      "No Retry-After header found; waiting 2 seconds by default.\n",
      "No Retry-After header found; waiting 2 seconds by default.\n",
      "No Retry-After header found; waiting 2 seconds by default.\n",
      "No Retry-After header found; waiting 2 seconds by default.\n",
      "No Retry-After header found; waiting 2 seconds by default.\n",
      "No Retry-After header found; waiting 2 seconds by default.\n",
      "No Retry-After header found; waiting 2 seconds by default.\n",
      "No Retry-After header found; waiting 2 seconds by default.\n",
      "No Retry-After header found; waiting 2 seconds by default.\n",
      "No Retry-After header found; waiting 2 seconds by default.\n",
      "No Retry-After header found; waiting 2 seconds by default.\n",
      "No Retry-After header found; waiting 2 seconds by default.\n",
      "No Retry-After header found; waiting 2 seconds by default.\n",
      "No Retry-After header found; waiting 2 seconds by default.\n",
      "No Retry-After header found; waiting 2 seconds by default.\n",
      "No Retry-After header found; waiting 2 seconds by default.\n",
      "No Retry-After header found; waiting 2 seconds by default.\n",
      "No Retry-After header found; waiting 2 seconds by default.\n",
      "No Retry-After header found; waiting 2 seconds by default.\n",
      "No Retry-After header found; waiting 2 seconds by default.\n",
      "No Retry-After header found; waiting 2 seconds by default.\n",
      "No Retry-After header found; waiting 2 seconds by default.\n",
      "No Retry-After header found; waiting 2 seconds by default.\n",
      "No Retry-After header found; waiting 2 seconds by default.\n",
      "No Retry-After header found; waiting 2 seconds by default.\n",
      "No Retry-After header found; waiting 2 seconds by default.\n",
      "No Retry-After header found; waiting 2 seconds by default.\n",
      "No Retry-After header found; waiting 2 seconds by default.\n",
      "No Retry-After header found; waiting 2 seconds by default.\n",
      "No Retry-After header found; waiting 2 seconds by default.\n",
      "No Retry-After header found; waiting 2 seconds by default.\n",
      "No Retry-After header found; waiting 2 seconds by default.\n",
      "No Retry-After header found; waiting 2 seconds by default.\n",
      "No Retry-After header found; waiting 2 seconds by default.\n",
      "No Retry-After header found; waiting 2 seconds by default.\n",
      "No Retry-After header found; waiting 2 seconds by default.\n",
      "No Retry-After header found; waiting 2 seconds by default.\n",
      "No Retry-After header found; waiting 2 seconds by default.\n",
      "No Retry-After header found; waiting 2 seconds by default.\n",
      "No Retry-After header found; waiting 2 seconds by default.\n",
      "No Retry-After header found; waiting 2 seconds by default.\n",
      "No Retry-After header found; waiting 2 seconds by default.\n",
      "No Retry-After header found; waiting 2 seconds by default.\n",
      "No Retry-After header found; waiting 2 seconds by default.\n",
      "No Retry-After header found; waiting 2 seconds by default.\n",
      "No Retry-After header found; waiting 2 seconds by default.\n",
      "No Retry-After header found; waiting 2 seconds by default.\n",
      "No Retry-After header found; waiting 2 seconds by default.\n",
      "No Retry-After header found; waiting 2 seconds by default.\n",
      "No Retry-After header found; waiting 2 seconds by default.\n",
      "No Retry-After header found; waiting 2 seconds by default.\n",
      "No Retry-After header found; waiting 2 seconds by default.\n",
      "No Retry-After header found; waiting 2 seconds by default.\n",
      "No Retry-After header found; waiting 2 seconds by default.\n",
      "No Retry-After header found; waiting 2 seconds by default.\n",
      "No Retry-After header found; waiting 2 seconds by default.\n",
      "No Retry-After header found; waiting 2 seconds by default.\n",
      "No Retry-After header found; waiting 2 seconds by default.\n",
      "No Retry-After header found; waiting 2 seconds by default.\n",
      "No Retry-After header found; waiting 2 seconds by default.\n",
      "No Retry-After header found; waiting 2 seconds by default.\n",
      "No Retry-After header found; waiting 2 seconds by default.\n",
      "No Retry-After header found; waiting 2 seconds by default.\n",
      "No Retry-After header found; waiting 2 seconds by default.\n",
      "No Retry-After header found; waiting 2 seconds by default.\n",
      "No Retry-After header found; waiting 2 seconds by default.\n",
      "No Retry-After header found; waiting 2 seconds by default.\n",
      "No Retry-After header found; waiting 2 seconds by default.\n",
      "No Retry-After header found; waiting 2 seconds by default.\n",
      "No Retry-After header found; waiting 2 seconds by default.\n",
      "No Retry-After header found; waiting 2 seconds by default.\n",
      "No Retry-After header found; waiting 2 seconds by default.\n",
      "No Retry-After header found; waiting 2 seconds by default.\n",
      "No Retry-After header found; waiting 2 seconds by default.\n",
      "No Retry-After header found; waiting 2 seconds by default.\n",
      "No Retry-After header found; waiting 2 seconds by default.\n",
      "No Retry-After header found; waiting 2 seconds by default.\n",
      "No Retry-After header found; waiting 2 seconds by default.\n",
      "No Retry-After header found; waiting 2 seconds by default.\n",
      "No Retry-After header found; waiting 2 seconds by default.\n",
      "No Retry-After header found; waiting 2 seconds by default.\n",
      "No Retry-After header found; waiting 2 seconds by default.\n",
      "No Retry-After header found; waiting 2 seconds by default.\n",
      "No Retry-After header found; waiting 2 seconds by default.\n",
      "No Retry-After header found; waiting 2 seconds by default.\n",
      "No Retry-After header found; waiting 2 seconds by default.\n",
      "No Retry-After header found; waiting 2 seconds by default.\n",
      "No Retry-After header found; waiting 2 seconds by default.\n",
      "No Retry-After header found; waiting 2 seconds by default.\n",
      "No Retry-After header found; waiting 2 seconds by default.\n",
      "No Retry-After header found; waiting 2 seconds by default.\n",
      "No Retry-After header found; waiting 2 seconds by default.\n",
      "No Retry-After header found; waiting 2 seconds by default.\n",
      "No Retry-After header found; waiting 2 seconds by default.\n",
      "No Retry-After header found; waiting 2 seconds by default.\n",
      "No Retry-After header found; waiting 2 seconds by default.\n",
      "No Retry-After header found; waiting 2 seconds by default.\n",
      "No Retry-After header found; waiting 2 seconds by default.\n",
      "No Retry-After header found; waiting 2 seconds by default.\n",
      "No Retry-After header found; waiting 2 seconds by default.\n",
      "No Retry-After header found; waiting 2 seconds by default.\n",
      "No Retry-After header found; waiting 2 seconds by default.\n",
      "No Retry-After header found; waiting 2 seconds by default.\n",
      "No Retry-After header found; waiting 2 seconds by default.\n",
      "No Retry-After header found; waiting 2 seconds by default.\n",
      "No Retry-After header found; waiting 2 seconds by default.\n",
      "No Retry-After header found; waiting 2 seconds by default.\n",
      "No Retry-After header found; waiting 2 seconds by default.\n",
      "No Retry-After header found; waiting 2 seconds by default.\n",
      "No Retry-After header found; waiting 2 seconds by default.\n",
      "No Retry-After header found; waiting 2 seconds by default.\n",
      "No Retry-After header found; waiting 2 seconds by default.\n",
      "No Retry-After header found; waiting 2 seconds by default.\n",
      "No Retry-After header found; waiting 2 seconds by default.\n",
      "No Retry-After header found; waiting 2 seconds by default.\n",
      "No Retry-After header found; waiting 2 seconds by default.\n",
      "No Retry-After header found; waiting 2 seconds by default.\n",
      "No Retry-After header found; waiting 2 seconds by default.\n",
      "No Retry-After header found; waiting 2 seconds by default.\n",
      "No Retry-After header found; waiting 2 seconds by default.\n",
      "No Retry-After header found; waiting 2 seconds by default.\n",
      "No Retry-After header found; waiting 2 seconds by default.\n",
      "No Retry-After header found; waiting 2 seconds by default.\n",
      "No Retry-After header found; waiting 2 seconds by default.\n",
      "No Retry-After header found; waiting 2 seconds by default.\n",
      "No Retry-After header found; waiting 2 seconds by default.\n",
      "No Retry-After header found; waiting 2 seconds by default.\n",
      "No Retry-After header found; waiting 2 seconds by default.\n",
      "No Retry-After header found; waiting 2 seconds by default.\n",
      "No Retry-After header found; waiting 2 seconds by default.\n",
      "No Retry-After header found; waiting 2 seconds by default.\n",
      "No Retry-After header found; waiting 2 seconds by default.\n",
      "No Retry-After header found; waiting 2 seconds by default.\n",
      "No Retry-After header found; waiting 2 seconds by default.\n",
      "No Retry-After header found; waiting 2 seconds by default.\n",
      "No Retry-After header found; waiting 2 seconds by default.\n",
      "No Retry-After header found; waiting 2 seconds by default.\n",
      "No Retry-After header found; waiting 2 seconds by default.\n",
      "No Retry-After header found; waiting 2 seconds by default.\n",
      "No Retry-After header found; waiting 2 seconds by default.\n",
      "No Retry-After header found; waiting 2 seconds by default.\n",
      "No Retry-After header found; waiting 2 seconds by default.\n",
      "No Retry-After header found; waiting 2 seconds by default.\n",
      "No Retry-After header found; waiting 2 seconds by default.\n",
      "No Retry-After header found; waiting 2 seconds by default.\n",
      "No Retry-After header found; waiting 2 seconds by default.\n",
      "No Retry-After header found; waiting 2 seconds by default.\n",
      "No Retry-After header found; waiting 2 seconds by default.\n",
      "No Retry-After header found; waiting 2 seconds by default.\n",
      "No Retry-After header found; waiting 2 seconds by default.\n",
      "No Retry-After header found; waiting 2 seconds by default.\n",
      "No Retry-After header found; waiting 2 seconds by default.\n",
      "No Retry-After header found; waiting 2 seconds by default.\n",
      "No Retry-After header found; waiting 2 seconds by default.\n",
      "No Retry-After header found; waiting 2 seconds by default.\n",
      "No Retry-After header found; waiting 2 seconds by default.\n",
      "No Retry-After header found; waiting 2 seconds by default.\n",
      "No Retry-After header found; waiting 2 seconds by default.\n",
      "No Retry-After header found; waiting 2 seconds by default.\n",
      "No Retry-After header found; waiting 2 seconds by default.\n",
      "No Retry-After header found; waiting 2 seconds by default.\n",
      "No Retry-After header found; waiting 2 seconds by default.\n",
      "No Retry-After header found; waiting 2 seconds by default.\n",
      "No Retry-After header found; waiting 2 seconds by default.\n",
      "No Retry-After header found; waiting 2 seconds by default.\n",
      "No Retry-After header found; waiting 2 seconds by default.\n",
      "No Retry-After header found; waiting 2 seconds by default.\n",
      "No Retry-After header found; waiting 2 seconds by default.\n",
      "No Retry-After header found; waiting 2 seconds by default.\n",
      "No Retry-After header found; waiting 2 seconds by default.\n",
      "No Retry-After header found; waiting 2 seconds by default.\n",
      "No Retry-After header found; waiting 2 seconds by default.\n",
      "No Retry-After header found; waiting 2 seconds by default.\n",
      "No Retry-After header found; waiting 2 seconds by default.\n",
      "No Retry-After header found; waiting 2 seconds by default.\n",
      "No Retry-After header found; waiting 2 seconds by default.\n",
      "No Retry-After header found; waiting 2 seconds by default.\n",
      "No Retry-After header found; waiting 2 seconds by default.\n",
      "No Retry-After header found; waiting 2 seconds by default.\n",
      "No Retry-After header found; waiting 2 seconds by default.\n",
      "No Retry-After header found; waiting 2 seconds by default.\n",
      "No Retry-After header found; waiting 2 seconds by default.\n",
      "No Retry-After header found; waiting 2 seconds by default.\n",
      "No Retry-After header found; waiting 2 seconds by default.\n",
      "No Retry-After header found; waiting 2 seconds by default.\n",
      "No Retry-After header found; waiting 2 seconds by default.\n",
      "No Retry-After header found; waiting 2 seconds by default.\n",
      "No Retry-After header found; waiting 2 seconds by default.\n",
      "No Retry-After header found; waiting 2 seconds by default.\n",
      "No Retry-After header found; waiting 2 seconds by default.\n",
      "No Retry-After header found; waiting 2 seconds by default.\n",
      "No Retry-After header found; waiting 2 seconds by default.\n",
      "No Retry-After header found; waiting 2 seconds by default.\n",
      "No Retry-After header found; waiting 2 seconds by default.\n",
      "No Retry-After header found; waiting 2 seconds by default.\n",
      "No Retry-After header found; waiting 2 seconds by default.\n",
      "No Retry-After header found; waiting 2 seconds by default.\n",
      "No Retry-After header found; waiting 2 seconds by default.\n",
      "No Retry-After header found; waiting 2 seconds by default.\n",
      "No Retry-After header found; waiting 2 seconds by default.\n",
      "No Retry-After header found; waiting 2 seconds by default.\n",
      "No Retry-After header found; waiting 2 seconds by default.\n",
      "No Retry-After header found; waiting 2 seconds by default.\n",
      "No Retry-After header found; waiting 2 seconds by default.\n",
      "No Retry-After header found; waiting 2 seconds by default.\n",
      "No Retry-After header found; waiting 2 seconds by default.\n",
      "No Retry-After header found; waiting 2 seconds by default.\n",
      "No Retry-After header found; waiting 2 seconds by default.\n",
      "No Retry-After header found; waiting 2 seconds by default.\n",
      "No Retry-After header found; waiting 2 seconds by default.\n",
      "No Retry-After header found; waiting 2 seconds by default.\n",
      "No Retry-After header found; waiting 2 seconds by default.\n",
      "No Retry-After header found; waiting 2 seconds by default.\n"
     ]
    },
    {
     "ename": "KeyboardInterrupt",
     "evalue": "",
     "output_type": "error",
     "traceback": [
      "\u001b[1;31m---------------------------------------------------------------------------\u001b[0m",
      "\u001b[1;31mKeyboardInterrupt\u001b[0m                         Traceback (most recent call last)",
      "Cell \u001b[1;32mIn[116], line 4\u001b[0m\n\u001b[0;32m      1\u001b[0m filename \u001b[38;5;241m=\u001b[39m \u001b[38;5;124m\"\u001b[39m\u001b[38;5;124mdatafields_EQUITY_JPN_TOP1600_SET6.csv\u001b[39m\u001b[38;5;124m\"\u001b[39m\n\u001b[0;32m      3\u001b[0m \u001b[38;5;66;03m# Call the function to process simulations in batches\u001b[39;00m\n\u001b[1;32m----> 4\u001b[0m \u001b[43mprocess_simulations_in_batches4\u001b[49m\u001b[43m(\u001b[49m\u001b[43mfilename\u001b[49m\u001b[43m,\u001b[49m\u001b[43m \u001b[49m\u001b[43mbatch_size\u001b[49m\u001b[38;5;241;43m=\u001b[39;49m\u001b[38;5;241;43m3\u001b[39;49m\u001b[43m)\u001b[49m  \u001b[38;5;66;03m# Adjust batch_size as needed\u001b[39;00m\n",
      "Cell \u001b[1;32mIn[115], line 31\u001b[0m, in \u001b[0;36mprocess_simulations_in_batches4\u001b[1;34m(filename, batch_size)\u001b[0m\n\u001b[0;32m     28\u001b[0m     logging\u001b[38;5;241m.\u001b[39mwarning(\u001b[38;5;124m\"\u001b[39m\u001b[38;5;124mSimulation initiation failed, skipping this expression.\u001b[39m\u001b[38;5;124m\"\u001b[39m)\n\u001b[0;32m     29\u001b[0m     \u001b[38;5;28;01mcontinue\u001b[39;00m\n\u001b[1;32m---> 31\u001b[0m alpha_id \u001b[38;5;241m=\u001b[39m \u001b[43ms\u001b[49m\u001b[38;5;241;43m.\u001b[39;49m\u001b[43mcheck_progress_return_alpha\u001b[49m\u001b[43m(\u001b[49m\u001b[43msimulation_location\u001b[49m\u001b[43m)\u001b[49m\n\u001b[0;32m     32\u001b[0m \u001b[38;5;28;01mif\u001b[39;00m alpha_id \u001b[38;5;129;01mis\u001b[39;00m \u001b[38;5;28;01mNone\u001b[39;00m:\n\u001b[0;32m     33\u001b[0m     logging\u001b[38;5;241m.\u001b[39mwarning(\u001b[38;5;124mf\u001b[39m\u001b[38;5;124m\"\u001b[39m\u001b[38;5;124mFailed to retrieve alpha_id for expression: \u001b[39m\u001b[38;5;132;01m{\u001b[39;00malpha\u001b[38;5;132;01m}\u001b[39;00m\u001b[38;5;124m.\u001b[39m\u001b[38;5;124m\"\u001b[39m)\n",
      "Cell \u001b[1;32mIn[111], line 29\u001b[0m, in \u001b[0;36mcheck_progress_return_alpha\u001b[1;34m(self, simulation_location_response)\u001b[0m\n\u001b[0;32m     27\u001b[0m \u001b[38;5;28;01melse\u001b[39;00m:\n\u001b[0;32m     28\u001b[0m     \u001b[38;5;28mprint\u001b[39m(\u001b[38;5;124m\"\u001b[39m\u001b[38;5;124mNo Retry-After header found; waiting 2 seconds by default.\u001b[39m\u001b[38;5;124m\"\u001b[39m)\n\u001b[1;32m---> 29\u001b[0m     sleep(\u001b[38;5;241m2\u001b[39m)\n",
      "\u001b[1;31mKeyboardInterrupt\u001b[0m: "
     ]
    }
   ],
   "source": [
    "filename = \"datafields_EQUITY_JPN_TOP1600_SET6.csv\"\n",
    "\n",
    "# Call the function to process simulations in batches\n",
    "process_simulations_in_batches4(filename, batch_size=3)  # Adjust batch_size as needed"
   ]
  },
  {
   "cell_type": "code",
   "execution_count": null,
   "id": "4902695e-0df5-4e36-b987-20ae8eebd270",
   "metadata": {
    "collapsed": true,
    "jupyter": {
     "outputs_hidden": true,
     "source_hidden": true
    }
   },
   "outputs": [],
   "source": [
    "# Prepare to store results\n",
    "alpha_ids = []  # List to store alpha IDs\n",
    "simulation_results_list = []  # List to store simulation results"
   ]
  },
  {
   "cell_type": "code",
   "execution_count": null,
   "id": "3a8ccb5d-af86-4e11-8fe8-ef27606581f2",
   "metadata": {
    "collapsed": true,
    "jupyter": {
     "outputs_hidden": true,
     "source_hidden": true
    }
   },
   "outputs": [],
   "source": []
  },
  {
   "cell_type": "code",
   "execution_count": null,
   "id": "e2a97730-2a87-44b1-a433-52bfe2289275",
   "metadata": {
    "collapsed": true,
    "jupyter": {
     "outputs_hidden": true,
     "source_hidden": true
    }
   },
   "outputs": [],
   "source": [
    "# Define the duration for the simulation (5 minutes)\n",
    "duration = 5 * 60  \n",
    "end_time = time.time() + duration  # Calculate the end time"
   ]
  },
  {
   "cell_type": "code",
   "execution_count": null,
   "id": "1a72d121-39f6-47fd-a5a3-5321d1e3c027",
   "metadata": {
    "collapsed": true,
    "jupyter": {
     "outputs_hidden": true,
     "source_hidden": true
    }
   },
   "outputs": [],
   "source": [
    "for index, row in .iterrows():\n",
    "    first_row = row[0]  # Get the first column value\n",
    "    simulation_data = create_simulation_data([first_row])  # Create simulation data for the current value\n",
    "    print(f\"Simulation data created for {first_row}:\")\n",
    "    print(simulation_data)\n",
    "\n",
    "    # Send simulation and check progress\n",
    "    simulation_location_response = s.send_simulation(simulation_data)\n",
    "    print(\"Location Response: \" + simulation_location_response)\n",
    "\n",
    "    alpha_response = s.check_progress_return_alpha(simulation_location_response)\n",
    "    print(\"Alpha Response: \" + str(alpha_response))\n",
    "\n",
    "    # Store the alpha ID in the list\n",
    "    alpha_ids.append(alpha_response)\n",
    "\n",
    "    # Simulate alpha and save results\n",
    "    while time.time() < end_time:\n",
    "        simulation_results = s.simulate_alpha(simulation_data)  # Assuming simulate_alpha is defined\n",
    "        simulation_results_list.append(simulation_results)  # Store results\n",
    "        s.save_results(simulation_results)  # Assuming save_results is defined\n",
    "        time.sleep(15)  # Adjust the sleep time as needed\n",
    "\n",
    "# Add the alpha IDs to the DataFrame\n",
    "first_column_df['alpha_id'] = alpha_ids\n",
    "\n",
    "# Save the updated DataFrame to a new CSV file\n",
    "output_filename = \"output_with_alpha_ids.csv\"\n",
    "first_column_df.to_csv(output_filename, index=False)\n",
    "print(f\"Alpha IDs saved to {output_filename}\")"
   ]
  },
  {
   "cell_type": "code",
   "execution_count": null,
   "id": "e87c386e-aa3f-481c-93b8-d3bfa3ce595d",
   "metadata": {
    "collapsed": true,
    "jupyter": {
     "outputs_hidden": true,
     "source_hidden": true
    }
   },
   "outputs": [],
   "source": [
    "truncated_alpha_list2 =  [{'type': 'REGULAR', 'settings': {'instrumentType': 'EQUITY', 'region': 'USA', 'universe': 'TOP1000', 'delay': 1, 'decay': 20, 'neutralization': 'NONE', 'truncation': 0.08, 'pasteurization': 'ON', 'testPeriod': 'P1Y6M', 'unitHandling': 'VERIFY', 'nanHandling': 'OFF', 'language': 'FASTEXPR', 'visualization': False}, 'regular': 'vec_avg(anl16_medianest_normal)'}, {'type': 'REGULAR', 'settings': {'instrumentType': 'EQUITY', 'region': 'USA', 'universe': 'TOP1000', 'delay': 1, 'decay': 20, 'neutralization': 'NONE', 'truncation': 0.08, 'pasteurization': 'ON', 'testPeriod': 'P1Y6M', 'unitHandling': 'VERIFY', 'nanHandling': 'OFF', 'language': 'FASTEXPR', 'visualization': False}, 'regular': 'vec_avg(anl16_medianrec)'}]"
   ]
  },
  {
   "cell_type": "code",
   "execution_count": null,
   "id": "c0d7a3b6-a61f-45bc-9cfc-120f6bf280e6",
   "metadata": {
    "collapsed": true,
    "jupyter": {
     "outputs_hidden": true,
     "source_hidden": true
    }
   },
   "outputs": [],
   "source": [
    "json1 = json_output = json.dumps(truncated_alpha_list2, indent=4)\n",
    "print (json1)"
   ]
  },
  {
   "cell_type": "code",
   "execution_count": null,
   "id": "7971fc5f-c6f8-400e-b230-4642acb2c630",
   "metadata": {
    "collapsed": true,
    "jupyter": {
     "outputs_hidden": true
    }
   },
   "outputs": [],
   "source": [
    "#simulate_alpha > send_simulation > check_progress_return_alpha > get_results_dictionary & save_results\n",
    "\n",
    "while time.time() < end_time:\n",
    "    for alpha1 in simulation_data2:\n",
    "        print(\"ALL:\" + str(alpha1))\n",
    "\n",
    "#        simulation_settings=json1\n",
    "        simulation_results = s.simulate_alpha(simulation_data2)\n",
    "        s.save_results(simulation_results)\n",
    "        time.sleep(15)  # Adjust the sleep time as needed"
   ]
  },
  {
   "cell_type": "code",
   "execution_count": null,
   "id": "7c31154b-8247-4aa7-acbd-2345f026c0be",
   "metadata": {
    "collapsed": true,
    "jupyter": {
     "outputs_hidden": true
    }
   },
   "outputs": [],
   "source": [
    "response1 = s.session.get(\"https://api.worldquantbrain.com/alphas/\" + alpha_response + \"/recordsets/pnl\").json()\n",
    "print(response1)\n",
    "response2 = s.session.get(\"https://api.worldquantbrain.com/alphas/\" + alpha_response + \"/recordsets/sharpe\").json()\n",
    "print(response2)"
   ]
  },
  {
   "cell_type": "code",
   "execution_count": null,
   "id": "d52d1f12-c5c6-41d7-81f5-8d8b72d5404a",
   "metadata": {
    "collapsed": true,
    "jupyter": {
     "outputs_hidden": true,
     "source_hidden": true
    }
   },
   "outputs": [],
   "source": [
    "def retrieve_datafields1(\n",
    "    self,\n",
    "    instrument_type: str = 'EQUITY',\n",
    "    region: str = 'JPN',\n",
    "    delay: int = 1,\n",
    "    universe: str = 'TOP1600',\n",
    "    dataset_id: str = '',\n",
    "    search: str = '',\n",
    "#    batch_size: int = 10  # Specify the batch size\n",
    "    batch_size: int = 10\n",
    "):\n",
    "    offset = 0\n",
    "    total_count = 0\n",
    "    all_results = []\n",
    "\n",
    "    while True:\n",
    "        # Construct the URL for the API request\n",
    "        url_template = brain_api_url + \"/data-fields?\" +\\\n",
    "            f\"&instrumentType={instrument_type}\" +\\\n",
    "            f\"&region={region}&delay={str(delay)}&universe={universe}&limit={batch_size}\" +\\\n",
    "            f\"&offset={offset}\"\n",
    "\n",
    "        # Attempt to retrieve data\n",
    "        for _ in range(5):  # Retry up to 5 times\n",
    "            response = self.session.get(url_template)\n",
    "            data = response.json()\n",
    "            if 'results' in data:\n",
    "                break\n",
    "            else:\n",
    "                time.sleep(5)\n",
    "\n",
    "        # Check if there are results\n",
    "        results = data.get('results', [])\n",
    "        if not results:\n",
    "            print (\"No results.\")\n",
    "            break  # Exit the loop if no more results\n",
    "\n",
    "        # Highlighted Change: Print the retrieved results for this batch\n",
    "        print(f\"Retrieved batch of {len(results)} datafields:\")  # New line added\n",
    "        for index, datafield in enumerate(results):  # New loop added\n",
    "            print(f\"Datafield {index + 1}: {datafield}\")  # New line added\n",
    "        \n",
    "        all_results.extend(results)  # Collect all results\n",
    "        offset += batch_size\n",
    "        total_count += len(results)\n",
    "\n",
    "        # Optional: Print progress\n",
    "        print(f'Retrieved {total_count} datafields so far...')\n",
    "\n",
    "    print(f'Total datafields retrieved: {total_count}')\n",
    "    return all_results  # Return all collected results\n",
    "\n",
    "BRAINAPIWRAPPER.retrieve_datafields1 = retrieve_datafields1\n"
   ]
  },
  {
   "cell_type": "code",
   "execution_count": null,
   "id": "47439f1b-44b8-413e-a311-1e6fe62b30db",
   "metadata": {
    "collapsed": true,
    "jupyter": {
     "outputs_hidden": true,
     "source_hidden": true
    }
   },
   "outputs": [],
   "source": []
  },
  {
   "cell_type": "code",
   "execution_count": null,
   "id": "9aced37c-fe53-4356-a2e6-4232ab58421d",
   "metadata": {
    "collapsed": true,
    "jupyter": {
     "outputs_hidden": true,
     "source_hidden": true
    }
   },
   "outputs": [],
   "source": [
    "datafields = s.retrieve_datafields1(batch_size=10)\n",
    "\n",
    "# Check if any data fields were retrieved\n",
    "if datafields:\n",
    "    # Print each retrieved data field\n",
    "    for index, datafield in enumerate(datafields):\n",
    "        print(f\"Datafield {index + 1}: {datafield}\")\n",
    "else:\n",
    "    print(\"No data fields retrieved.\")"
   ]
  },
  {
   "cell_type": "code",
   "execution_count": null,
   "id": "47bc7edb-f1e1-47f2-885d-2e130eff74c4",
   "metadata": {
    "collapsed": true,
    "jupyter": {
     "outputs_hidden": true,
     "source_hidden": true
    }
   },
   "outputs": [],
   "source": [
    "#separate method for get vector datafield, matrix datafields, others..."
   ]
  },
  {
   "cell_type": "code",
   "execution_count": null,
   "id": "e2bde91c-5417-446c-a7d0-33e9ecd1345f",
   "metadata": {
    "collapsed": true,
    "jupyter": {
     "outputs_hidden": true,
     "source_hidden": true
    }
   },
   "outputs": [],
   "source": [
    "def save_datafields_to_csv_file(datafields, output_file='datafields.csv'):\n",
    "    # Convert results to DataFrame\n",
    "    datafields_df = pd.DataFrame(datafields)\n",
    "\n",
    "    # Write the DataFrame to a CSV file\n",
    "    datafields_df.to_csv(output_file, mode='w', header=True, index=False)  # Write with header"
   ]
  },
  {
   "cell_type": "code",
   "execution_count": null,
   "id": "363de3f8-da54-4ba6-9dda-32bf7c7388be",
   "metadata": {
    "collapsed": true,
    "jupyter": {
     "outputs_hidden": true,
     "source_hidden": true
    }
   },
   "outputs": [],
   "source": [
    "def get_sharpe_ratio (self, alpha_response):\n",
    "\n",
    "    self.session.get(\"https://api.worldquantbrain.com/alphas/\" + alpha_response + \"/recordsets/pnl\").json()\n",
    "    response = self.session.get(\"https://api.worldquantbrain.com/alphas/\" + alpha_response + \"/recordsets/pnl\")\n",
    "    print(\"Status Code:\", response.status_code)\n",
    "    if response.text:\n",
    "        data = response.json()\n",
    "    else:\n",
    "        print(\"Error: Empty response body.\")\n",
    "    print(\"Response Headers:\", response.headers)\n",
    "\n",
    "    sharpe_ratio = None\n",
    "    for check in alpha_checks['is']['checks']:\n",
    "        if check['name'] == 'LOW_SHARPE':\n",
    "            sharpe_ratio = check['value']\n",
    "            break\n",
    "\n",
    "    # Output the Sharpe ratio\n",
    "    if sharpe_ratio is not None:\n",
    "        print(\"Sharpe Ratio (from LOW_SHARPE check):\", sharpe_ratio)\n",
    "    else:\n",
    "        print(\"Sharpe Ratio not found.\")\n",
    "\n",
    "    return sharpe_ratio\n",
    "\n",
    "BRAINAPIWRAPPER.get_sharpe_ratio = get_sharpe_ratio"
   ]
  },
  {
   "cell_type": "code",
   "execution_count": null,
   "id": "53af2b4f-d6a8-4096-8d17-bd0d4d52ebca",
   "metadata": {
    "collapsed": true,
    "jupyter": {
     "outputs_hidden": true,
     "source_hidden": true
    }
   },
   "outputs": [],
   "source": [
    "sharpe_ratio_response = s.get_sharpe_ratio(alpha_response)\n"
   ]
  },
  {
   "cell_type": "code",
   "execution_count": null,
   "id": "3a0950da-bc56-49d2-9f8a-4f454123b126",
   "metadata": {
    "collapsed": true,
    "jupyter": {
     "outputs_hidden": true,
     "source_hidden": true
    }
   },
   "outputs": [],
   "source": [
    "def get_datasets(self, instrument_type: str = 'EQUITY', region: str = 'USA', delay: int = 1, universe: str = 'TOP3000', file_path: str = None):\n",
    "    url = brain_api_url + \"/data-sets?\" +\\\n",
    "        f\"instrumentType={instrument_type}&region={region}&delay={str(delay)}&universe={universe}\"\n",
    "    result = self.session.get(url)\n",
    "    datasets_df = pd.DataFrame(result.json()['results'])\n",
    "    \n",
    "    # Save the DataFrame to a CSV file if a file path is provided\n",
    "    if file_path:\n",
    "        datasets_df.to_csv(file_path, index=False)\n",
    "    \n",
    "    return datasets_df\n",
    "\n",
    "# Add the new method to the BRAINAPIWRAPPER class\n",
    "BRAINAPIWRAPPER.get_datasets = get_datasets\n"
   ]
  },
  {
   "cell_type": "code",
   "execution_count": null,
   "id": "ce17a035-a42e-49b8-b57e-2678ab6722a5",
   "metadata": {
    "collapsed": true,
    "jupyter": {
     "outputs_hidden": true,
     "source_hidden": true
    }
   },
   "outputs": [],
   "source": []
  },
  {
   "cell_type": "code",
   "execution_count": null,
   "id": "87776e03-b2ce-49a4-9bb5-420fc4041e8f",
   "metadata": {
    "collapsed": true,
    "jupyter": {
     "outputs_hidden": true,
     "source_hidden": true
    }
   },
   "outputs": [],
   "source": [
    "\n"
   ]
  },
  {
   "cell_type": "code",
   "execution_count": null,
   "id": "65295e19-3d4e-4d90-9bde-c1ebb21867b8",
   "metadata": {
    "collapsed": true,
    "jupyter": {
     "outputs_hidden": true,
     "source_hidden": true
    }
   },
   "outputs": [],
   "source": []
  },
  {
   "cell_type": "code",
   "execution_count": null,
   "id": "1598b7b4-9030-4c47-96b6-8d22677890a1",
   "metadata": {
    "collapsed": true,
    "jupyter": {
     "outputs_hidden": true,
     "source_hidden": true
    }
   },
   "outputs": [],
   "source": []
  },
  {
   "cell_type": "code",
   "execution_count": null,
   "id": "e011f9e5-c4cc-426e-9d06-cbf98464b64f",
   "metadata": {
    "collapsed": true,
    "jupyter": {
     "outputs_hidden": true,
     "source_hidden": true
    }
   },
   "outputs": [],
   "source": []
  }
 ],
 "metadata": {
  "kernelspec": {
   "display_name": "Python 3 (ipykernel)",
   "language": "python",
   "name": "python3"
  },
  "language_info": {
   "codemirror_mode": {
    "name": "ipython",
    "version": 3
   },
   "file_extension": ".py",
   "mimetype": "text/x-python",
   "name": "python",
   "nbconvert_exporter": "python",
   "pygments_lexer": "ipython3",
   "version": "3.11.5"
  }
 },
 "nbformat": 4,
 "nbformat_minor": 5
}
